{
 "cells": [
  {
   "cell_type": "code",
   "execution_count": 1,
   "metadata": {},
   "outputs": [],
   "source": [
    "from pyvis.network import Network\n",
    "net = Network()"
   ]
  },
  {
   "cell_type": "markdown",
   "metadata": {},
   "source": [
    "# Use this for visualization 👌👌🦄🦄"
   ]
  },
  {
   "cell_type": "code",
   "execution_count": 2,
   "metadata": {},
   "outputs": [],
   "source": [
    "import pandas as pd\n",
    "from pyvis.network import Network\n",
    "import os\n",
    "\n",
    "import os\n",
    "if not os.path.exists('./Pyvis_Stuff'):\n",
    "    os.makedirs('./Pyvis_Stuff')\n",
    "\n",
    "data = pd.read_csv(\"TCA_target.csv\") # Make this file, ok :))))\n",
    "g = Network(height='900px', width='100%')\n",
    "\n",
    "featurex = \"MolLogP\"\n",
    "featurey = \"SMR_VSA1\"\n",
    "\n",
    "g.add_nodes(data[\"BiGG\"], \n",
    "            title = data[\"MNXM\"],\n",
    "            x = data[featurex],\n",
    "            y= data[featurey],\n",
    "            label = data[\"BiGG\"],                        \n",
    ")\n",
    "\n",
    "g.show(f\"./Pyvis_Stuff/{featurex}_{featurey}.html\")\n",
    "\n"
   ]
  },
  {
   "cell_type": "code",
   "execution_count": 15,
   "metadata": {},
   "outputs": [],
   "source": [
    "import pandas as pd\n",
    "from pyvis.network import Network\n",
    "\n",
    "data = pd.read_csv(\"1515_PCA.csv\") # Make this file, ok :))))\n",
    "g = Network(height='900px', width='100%')\n",
    "\n",
    "featurex = \"MolMR\"\n",
    "featurey = \"SMR_VSA1\"\n",
    "\n",
    "g.add_nodes(data[\"BiGG\"], \n",
    "            title = data[\"MNXM\"],\n",
    "            x = data[featurex],\n",
    "            y= data[featurey],\n",
    "            label = data[\"BiGG\"],                        \n",
    ")\n",
    "\n",
    "g.show(f\"{featurex}_{featurey}.html\")\n"
   ]
  },
  {
   "cell_type": "code",
   "execution_count": 5,
   "metadata": {},
   "outputs": [],
   "source": [
    "g = Network()\n",
    "\n",
    "g.add_nodes([1,2,3], value=[10, 100, 400],\n",
    "                         title=['I am node 1', 'node 2 here', 'and im node 3'],\n",
    "                         x=[21.4, 54.2, 11.2],\n",
    "                         y=[100.2, 23.54, 32.1],\n",
    "                         label=['NODE 1', 'NODE 2', 'NODE 3'],\n",
    "                         color=['#00ff1e', '#162347', '#dd4b39'])\n",
    "\n",
    "g.show(\"lol.html\")"
   ]
  },
  {
   "cell_type": "markdown",
   "metadata": {},
   "source": [
    "# Extracting the TCA metabolites from the model"
   ]
  },
  {
   "cell_type": "code",
   "execution_count": 48,
   "metadata": {},
   "outputs": [],
   "source": [
    "import pandas as pd\n",
    "\n",
    "data = pd.read_csv(\"PCA_test.csv\") # Make this file, ok :))))\n",
    "\n",
    "TCA_list =[\"pyr\",\"accoa\", \"akg\", \"oaa\", \"succ\", \"pep\", \"succoa\", \"fum\", \"mal__D\", \"cit\",\"icit\"]\n",
    "\n",
    "TCA_df = data[data[\"BiGG\"].isin(TCA_list)]\n",
    "\n",
    "TCA_targets = pd.read_csv(\"TCA_target.csv\")\n",
    "\n",
    "TCA_df.insert(9, \"target\",TCA_targets[\"target\"])\n",
    "\n",
    "TCA_df.to_csv(\"TCA_PCA.csv\")\n",
    "# print(y)"
   ]
  },
  {
   "cell_type": "code",
   "execution_count": 49,
   "metadata": {},
   "outputs": [
    {
     "ename": "ValueError",
     "evalue": "The truth value of a Series is ambiguous. Use a.empty, a.bool(), a.item(), a.any() or a.all().",
     "output_type": "error",
     "traceback": [
      "\u001b[1;31m---------------------------------------------------------------------------\u001b[0m",
      "\u001b[1;31mValueError\u001b[0m                                Traceback (most recent call last)",
      "\u001b[1;32m~\\AppData\\Local\\Temp/ipykernel_13788/3796184109.py\u001b[0m in \u001b[0;36m<module>\u001b[1;34m\u001b[0m\n\u001b[0;32m     18\u001b[0m )\n\u001b[0;32m     19\u001b[0m \u001b[1;33m\u001b[0m\u001b[0m\n\u001b[1;32m---> 20\u001b[1;33m \u001b[0mg\u001b[0m\u001b[1;33m.\u001b[0m\u001b[0madd_edge\u001b[0m\u001b[1;33m(\u001b[0m\u001b[0mdata\u001b[0m\u001b[1;33m[\u001b[0m\u001b[1;34m\"BiGG\"\u001b[0m\u001b[1;33m]\u001b[0m\u001b[1;33m,\u001b[0m \u001b[0mdata\u001b[0m\u001b[1;33m[\u001b[0m\u001b[1;34m\"target\"\u001b[0m\u001b[1;33m]\u001b[0m\u001b[1;33m)\u001b[0m\u001b[1;33m\u001b[0m\u001b[1;33m\u001b[0m\u001b[0m\n\u001b[0m\u001b[0;32m     21\u001b[0m \u001b[1;33m\u001b[0m\u001b[0m\n\u001b[0;32m     22\u001b[0m \u001b[0mg\u001b[0m\u001b[1;33m.\u001b[0m\u001b[0mshow\u001b[0m\u001b[1;33m(\u001b[0m\u001b[1;34mf\"{featurex}_{featurey}.html\"\u001b[0m\u001b[1;33m)\u001b[0m\u001b[1;33m\u001b[0m\u001b[1;33m\u001b[0m\u001b[0m\n",
      "\u001b[1;32m~\\.conda\\envs\\rdkit\\lib\\site-packages\\pyvis\\network.py\u001b[0m in \u001b[0;36madd_edge\u001b[1;34m(self, source, to, **options)\u001b[0m\n\u001b[0;32m    334\u001b[0m \u001b[1;33m\u001b[0m\u001b[0m\n\u001b[0;32m    335\u001b[0m         \u001b[1;31m# verify nodes exists\u001b[0m\u001b[1;33m\u001b[0m\u001b[1;33m\u001b[0m\u001b[0m\n\u001b[1;32m--> 336\u001b[1;33m         \u001b[1;32massert\u001b[0m \u001b[0msource\u001b[0m \u001b[1;32min\u001b[0m \u001b[0mself\u001b[0m\u001b[1;33m.\u001b[0m\u001b[0mget_nodes\u001b[0m\u001b[1;33m(\u001b[0m\u001b[1;33m)\u001b[0m\u001b[1;33m,\u001b[0m\u001b[0;31m \u001b[0m\u001b[0;31m\\\u001b[0m\u001b[1;33m\u001b[0m\u001b[1;33m\u001b[0m\u001b[0m\n\u001b[0m\u001b[0;32m    337\u001b[0m             \u001b[1;34m\"non existent node '\"\u001b[0m \u001b[1;33m+\u001b[0m \u001b[0mstr\u001b[0m\u001b[1;33m(\u001b[0m\u001b[0msource\u001b[0m\u001b[1;33m)\u001b[0m \u001b[1;33m+\u001b[0m \u001b[1;34m\"'\"\u001b[0m\u001b[1;33m\u001b[0m\u001b[1;33m\u001b[0m\u001b[0m\n\u001b[0;32m    338\u001b[0m \u001b[1;33m\u001b[0m\u001b[0m\n",
      "\u001b[1;32m~\\.conda\\envs\\rdkit\\lib\\site-packages\\pandas\\core\\generic.py\u001b[0m in \u001b[0;36m__nonzero__\u001b[1;34m(self)\u001b[0m\n\u001b[0;32m   1535\u001b[0m     \u001b[1;33m@\u001b[0m\u001b[0mfinal\u001b[0m\u001b[1;33m\u001b[0m\u001b[1;33m\u001b[0m\u001b[0m\n\u001b[0;32m   1536\u001b[0m     \u001b[1;32mdef\u001b[0m \u001b[0m__nonzero__\u001b[0m\u001b[1;33m(\u001b[0m\u001b[0mself\u001b[0m\u001b[1;33m)\u001b[0m\u001b[1;33m:\u001b[0m\u001b[1;33m\u001b[0m\u001b[1;33m\u001b[0m\u001b[0m\n\u001b[1;32m-> 1537\u001b[1;33m         raise ValueError(\n\u001b[0m\u001b[0;32m   1538\u001b[0m             \u001b[1;34mf\"The truth value of a {type(self).__name__} is ambiguous. \"\u001b[0m\u001b[1;33m\u001b[0m\u001b[1;33m\u001b[0m\u001b[0m\n\u001b[0;32m   1539\u001b[0m             \u001b[1;34m\"Use a.empty, a.bool(), a.item(), a.any() or a.all().\"\u001b[0m\u001b[1;33m\u001b[0m\u001b[1;33m\u001b[0m\u001b[0m\n",
      "\u001b[1;31mValueError\u001b[0m: The truth value of a Series is ambiguous. Use a.empty, a.bool(), a.item(), a.any() or a.all()."
     ]
    }
   ],
   "source": [
    "import pandas as pd\n",
    "from pyvis.network import Network\n",
    "\n",
    "data = pd.read_csv(\"TCA_PCA.csv\") # Make this file, ok :))))\n",
    "\n",
    "\n",
    "\n",
    "g = Network(height='900px', width='100%')\n",
    "\n",
    "featurex = \"PC5\"\n",
    "featurey = \"PC1\"\n",
    "\n",
    "g.add_nodes(data[\"BiGG\"], \n",
    "            title = data[\"MNXM\"],\n",
    "            x = data[featurex],\n",
    "            y= data[featurey],\n",
    "            label = data[\"Name\"],                        \n",
    ")\n",
    "\n",
    "g.add_edge(data[\"BiGG\"], data[\"target\"])\n",
    "\n",
    "g.show(f\"{featurex}_{featurey}.html\")"
   ]
  },
  {
   "cell_type": "code",
   "execution_count": 5,
   "metadata": {},
   "outputs": [],
   "source": [
    "from pyvis.network import Network\n",
    "import pandas as pd\n",
    "\n",
    "net2 = Network(height='750px', width='50%', bgcolor='#222222', font_color='white', directed = True)\n",
    "\n",
    "# set the physics layout of the network\n",
    "# net2.barnes_hut()\n",
    "data = pd.read_csv(\"TCA_target.csv\") # Make this file, ok :))))\n",
    "\n",
    "sources = data[\"BiGG\"]\n",
    "targets = data[\"target\"]\n",
    "x_coordinates = data[\"MinEStateIndex\"]  # Feature x as x coordinates\n",
    "y_coordinates = data[\"qed\"] # Feature y as y coordinates\n",
    "#labels = data[\"MNXM\"]\n",
    "edge_data = zip(sources, targets, x_coordinates, y_coordinates)\n",
    "\n",
    "for e in edge_data:\n",
    "    src = e[0]\n",
    "    dst = e[1]\n",
    "    x_c = e[2]\n",
    "    y_c = e[3]\n",
    "    #labels = e[4]\n",
    "\n",
    "    net2.add_node(src, src, x= x_c, y = y_c, title=src)\n",
    "    net2.add_node(dst, dst, x = x_c, y = y_c, title=dst)\n",
    "    net2.add_edge(src, dst)\n",
    "\n",
    "neighbor_map = net2.get_adj_list()\n",
    "\n",
    "# add neighbor data to node hover data\n",
    "for node in net2.nodes:\n",
    "    node['title'] += ' Neighbors:<br>' + '<br>'.join(neighbor_map[node['id']])\n",
    "    node['value'] = len(neighbor_map[node['id']])\n",
    "\n",
    "net2.show_buttons(filter_=['physics'])\n",
    "net2.set_edge_smooth(\"dynamic\")\n",
    "net2.show('TCA_cycle.html')"
   ]
  },
  {
   "cell_type": "code",
   "execution_count": 17,
   "metadata": {},
   "outputs": [],
   "source": []
  },
  {
   "cell_type": "markdown",
   "metadata": {},
   "source": []
  },
  {
   "cell_type": "code",
   "execution_count": 10,
   "metadata": {},
   "outputs": [],
   "source": [
    "from pyvis.network import Network\n",
    "import pandas as pd\n",
    "\n",
    "net2 = Network(height='750px', width='100%', bgcolor='#222222', font_color='white', directed = True)\n",
    "\n",
    "# set the physics layout of the network\n",
    "net2.barnes_hut()\n",
    "data = pd.read_csv(\"TCA_PCA.csv\") # Make this file, ok :))))\n",
    "\n",
    "sources = data[\"BiGG\"]\n",
    "targets = data[\"target\"]\n",
    "x_coordinates = data[\"PC1\"]  # Feature x as x coordinates\n",
    "y_coordinates = data[\"PC2\"] # Feature y as y coordinates\n",
    "#labels = data[\"MNXM\"]\n",
    "edge_data = zip(sources, targets, x_coordinates, y_coordinates)\n",
    "\n",
    "for e in edge_data:\n",
    "    src = e[0]\n",
    "    dst = e[1]\n",
    "    x_c = e[2]\n",
    "    y_c = e[3]\n",
    "    #labels = e[4]\n",
    "\n",
    "    net2.add_node(src, src, x= x_c, y = y_c, title=src)\n",
    "    net2.add_node(dst, dst, x = x_c, y = y_c, title=dst)\n",
    "    net2.add_edge(src, dst)\n",
    "\n",
    "neighbor_map = net2.get_adj_list()\n",
    "\n",
    "# add neighbor data to node hover data\n",
    "for node in net2.nodes:\n",
    "    node['title'] += ' Neighbors:<br>' + '<br>'.join(neighbor_map[node['id']])\n",
    "    node['value'] = len(neighbor_map[node['id']])\n",
    "\n",
    "# net2.show_buttons(filter_=['physics'])\n",
    "net2.set_edge_smooth(\"dynamic\")\n",
    "net2.show('TCA_cycle.html')"
   ]
  },
  {
   "cell_type": "code",
   "execution_count": 9,
   "metadata": {},
   "outputs": [],
   "source": [
    "from pyvis.network import Network\n",
    "import pandas as pd\n",
    "\n",
    "net2 = Network(height='750px', width='75%', bgcolor='#222222', font_color='white', directed = True)\n",
    "\n",
    "# set the physics layout of the network\n",
    "net2.barnes_hut()\n",
    "data = pd.read_csv(\"TCA_target.csv\") # Make this file, ok :))))\n",
    "\n",
    "sources = data[\"BiGG\"]\n",
    "targets = data['target']\n",
    "x_coordinates = data[\"FpDensityMorgan1\"]  # Feature x as x coordinates\n",
    "y_coordinates = data[\"MolLogP\"] # Feature y as y coordinates\n",
    "edge_data = zip(sources, targets, x_coordinates, y_coordinates)\n",
    "\n",
    "for e in edge_data:\n",
    "    src = e[0]\n",
    "    dst = e[1]\n",
    "    x_c = e[2]\n",
    "    y_c = e[3]\n",
    "\n",
    "    net2.add_node(src, src, x= x_c, y = y_c,  title=src )\n",
    "    net2.add_node(dst, dst, x = x_c, y = y_c, title=dst)\n",
    "    # net2.add_edge(src, dst)\n",
    "\n",
    "neighbor_map = net2.get_adj_list()\n",
    "\n",
    "# add neighbor data to node hover data\n",
    "for node in net2.nodes:\n",
    "    node['title'] += ' Neighbors:<br>' + '<br>'.join(neighbor_map[node['id']])\n",
    "    node['value'] = len(neighbor_map[node['id']])\n",
    "\n",
    "net2.show_buttons()\n",
    "net2.set_edge_smooth(\"dynamic\")\n",
    "net2.show('TCA_cycle_no_edges.html')"
   ]
  }
 ],
 "metadata": {
  "interpreter": {
   "hash": "478201df5069d2e6391cf65b23ce884d49c57ebe4f05640c641415e63946d634"
  },
  "kernelspec": {
   "display_name": "Python 3.9.7 ('rdkit')",
   "language": "python",
   "name": "python3"
  },
  "language_info": {
   "codemirror_mode": {
    "name": "ipython",
    "version": 3
   },
   "file_extension": ".py",
   "mimetype": "text/x-python",
   "name": "python",
   "nbconvert_exporter": "python",
   "pygments_lexer": "ipython3",
   "version": "3.9.7"
  },
  "orig_nbformat": 4
 },
 "nbformat": 4,
 "nbformat_minor": 2
}
