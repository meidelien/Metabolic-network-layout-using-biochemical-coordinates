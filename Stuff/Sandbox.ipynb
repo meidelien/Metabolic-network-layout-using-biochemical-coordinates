{
 "cells": [
  {
   "cell_type": "code",
   "execution_count": 1,
   "metadata": {},
   "outputs": [],
   "source": [
    "from pyvis.network import Network\n",
    "net = Network()"
   ]
  },
  {
   "cell_type": "code",
   "execution_count": null,
   "metadata": {},
   "outputs": [],
   "source": [
    "net = Network()\n",
    "\n",
    "\n",
    "\n"
   ]
  },
  {
   "cell_type": "code",
   "execution_count": 5,
   "metadata": {},
   "outputs": [],
   "source": [
    "g = Network()\n",
    "\n",
    "g.add_nodes([1,2,3], value=[10, 100, 400],\n",
    "                         title=['I am node 1', 'node 2 here', 'and im node 3'],\n",
    "                         x=[21.4, 54.2, 11.2],\n",
    "                         y=[100.2, 23.54, 32.1],\n",
    "                         label=['NODE 1', 'NODE 2', 'NODE 3'],\n",
    "                         color=['#00ff1e', '#162347', '#dd4b39'])\n",
    "\n",
    "g.show(\"lol.html\")"
   ]
  },
  {
   "cell_type": "code",
   "execution_count": 17,
   "metadata": {},
   "outputs": [],
   "source": []
  },
  {
   "cell_type": "code",
   "execution_count": null,
   "metadata": {},
   "outputs": [],
   "source": [
    "from pyvis.network import Network\n",
    "import pandas as pd\n",
    "\n",
    "net2 = Network(height='750px', width='100%', bgcolor='#222222', font_color='white', directed = True)\n",
    "\n",
    "# set the physics layout of the network\n",
    "# net2.barnes_hut()\n",
    "data = pd.read_csv(\"TCA_target.csv\") # Make this file, ok :))))\n",
    "\n",
    "sources = data[\"BiGG\"]\n",
    "targets = data['target']\n",
    "x_coordinates = data[\"qed\"]  # Feature x as x coordinates\n",
    "y_coordinates = data[\"MolLogP\"] # Feature y as y coordinates\n",
    "edge_data = zip(sources, targets, x_coordinates, y_coordinates)\n",
    "\n",
    "for e in edge_data:\n",
    "    src = e[0]\n",
    "    dst = e[1]\n",
    "    x_c = e[2]\n",
    "    y_c = e[3]\n",
    "\n",
    "    net2.add_node(src, src, x= x_c, y = y_c,  title=src )\n",
    "    net2.add_node(dst, dst, x = x_c, y = y_c, title=dst)\n",
    "    net2.add_edge(src, dst)\n",
    "\n",
    "neighbor_map = net2.get_adj_list()\n",
    "\n",
    "# add neighbor data to node hover data\n",
    "for node in net2.nodes:\n",
    "    node['title'] += ' Neighbors:<br>' + '<br>'.join(neighbor_map[node['id']])\n",
    "    node['value'] = len(neighbor_map[node['id']])\n",
    "\n",
    "# net2.show_buttons(filter_=['physics'])\n",
    "net2.set_edge_smooth(\"dynamic\")\n",
    "net2.show('TCA_cycle.html')"
   ]
  },
  {
   "cell_type": "code",
   "execution_count": 19,
   "metadata": {},
   "outputs": [],
   "source": [
    "from pyvis.network import Network\n",
    "import pandas as pd\n",
    "\n",
    "net2 = Network(height='750px', width='100%', bgcolor='#222222', font_color='white', directed = True)\n",
    "\n",
    "# set the physics layout of the network\n",
    "# net2.barnes_hut()\n",
    "data = pd.read_csv(\"TCA_target.csv\") # Make this file, ok :))))\n",
    "\n",
    "sources = data[\"BiGG\"]\n",
    "targets = data['target']\n",
    "x_coordinates = data[\"FpDensityMorgan1\"]  # Feature x as x coordinates\n",
    "y_coordinates = data[\"MolLogP\"] # Feature y as y coordinates\n",
    "edge_data = zip(sources, targets, x_coordinates, y_coordinates)\n",
    "\n",
    "for e in edge_data:\n",
    "    src = e[0]\n",
    "    dst = e[1]\n",
    "    x_c = e[2]\n",
    "    y_c = e[3]\n",
    "\n",
    "    net2.add_node(src, src, x= x_c, y = y_c,  title=src )\n",
    "    net2.add_node(dst, dst, x = x_c, y = y_c, title=dst)\n",
    "    # net2.add_edge(src, dst)\n",
    "\n",
    "neighbor_map = net2.get_adj_list()\n",
    "\n",
    "# add neighbor data to node hover data\n",
    "for node in net2.nodes:\n",
    "    node['title'] += ' Neighbors:<br>' + '<br>'.join(neighbor_map[node['id']])\n",
    "    node['value'] = len(neighbor_map[node['id']])\n",
    "\n",
    "# net2.show_buttons(filter_=['physics'])\n",
    "# net2.set_edge_smooth(\"dynamic\")\n",
    "net2.show('TCA_cycle_no_edges.html')"
   ]
  }
 ],
 "metadata": {
  "interpreter": {
   "hash": "478201df5069d2e6391cf65b23ce884d49c57ebe4f05640c641415e63946d634"
  },
  "kernelspec": {
   "display_name": "Python 3.9.7 ('rdkit')",
   "language": "python",
   "name": "python3"
  },
  "language_info": {
   "codemirror_mode": {
    "name": "ipython",
    "version": 3
   },
   "file_extension": ".py",
   "mimetype": "text/x-python",
   "name": "python",
   "nbconvert_exporter": "python",
   "pygments_lexer": "ipython3",
   "version": "3.9.7"
  },
  "orig_nbformat": 4
 },
 "nbformat": 4,
 "nbformat_minor": 2
}
