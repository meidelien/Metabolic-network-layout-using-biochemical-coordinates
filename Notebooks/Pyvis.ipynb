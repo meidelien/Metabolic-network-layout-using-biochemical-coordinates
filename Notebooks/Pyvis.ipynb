{
 "cells": [
  {
   "cell_type": "markdown",
   "metadata": {},
   "source": [
    "# Set data dir"
   ]
  },
  {
   "cell_type": "code",
   "execution_count": 1,
   "metadata": {},
   "outputs": [],
   "source": [
    "import sys\n",
    "import os\n",
    "\n",
    "# path = \"C:/Users/meide/Documents/GitHub/Master/data\"\n",
    "path = \"data/\"\n",
    "os.chdir(path)"
   ]
  },
  {
   "cell_type": "markdown",
   "metadata": {},
   "source": [
    "# Use this for visualization 👌👌🦄🦄"
   ]
  },
  {
   "cell_type": "code",
   "execution_count": 17,
   "metadata": {},
   "outputs": [],
   "source": [
    "import pandas as pd\n",
    "from pyvis.network import Network\n",
    "import os\n",
    "\n",
    "import os\n",
    "if not os.path.exists('./Pyvis_Stuff'):\n",
    "    os.makedirs('./Pyvis_Stuff')\n",
    "\n",
    "data = pd.read_csv(\"TCA_target_standardized.csv\") # Make this file, ok :))))\n",
    "g = Network(height='900px', width='100%')\n",
    "\n",
    "featurex = \"MolLogP\"\n",
    "featurey = \"SMR_VSA1\"\n",
    "\n",
    "g.add_nodes(data[\"BiGG\"], \n",
    "            title = data[\"MNXM\"],\n",
    "            x = data[featurex],\n",
    "            y= data[featurey],\n",
    "            label = data[\"BiGG\"],                        \n",
    ")\n",
    "\n",
    "g.show(f\"./Pyvis_Stuff/{featurex}_{featurey}HALLO.html\")\n",
    "\n"
   ]
  },
  {
   "cell_type": "markdown",
   "metadata": {},
   "source": [
    "# Extracting the TCA metabolites from the model"
   ]
  },
  {
   "cell_type": "code",
   "execution_count": 48,
   "metadata": {},
   "outputs": [],
   "source": [
    "import pandas as pd\n",
    "\n",
    "# File below can be raw computed features, PCA or standardized \n",
    "data = pd.read_csv(\"PCA_test.csv\")\n",
    "\n",
    "TCA_list =[\"pyr\",\"accoa\", \"akg\", \"oaa\", \"succ\", \"pep\", \"succoa\", \"fum\", \"mal__D\", \"cit\",\"icit\"]\n",
    "\n",
    "TCA_df = data[data[\"BiGG\"].isin(TCA_list)]\n",
    "\n",
    "TCA_targets = pd.read_csv(\"TCA_target.csv\")\n",
    "\n",
    "TCA_df.insert(9, \"target\",TCA_targets[\"target\"])\n",
    "\n",
    "TCA_df.to_csv(\"TCA_PCA.csv\")\n",
    "# print(y)"
   ]
  },
  {
   "cell_type": "markdown",
   "metadata": {},
   "source": [
    "### Pyvis TCA - PCA"
   ]
  },
  {
   "cell_type": "code",
   "execution_count": 10,
   "metadata": {},
   "outputs": [],
   "source": [
    "from pyvis.network import Network\n",
    "import pandas as pd\n",
    "\n",
    "net2 = Network(height='750px', width='50%', bgcolor='#222222', font_color='white')\n",
    "\n",
    "# set the physics layout of the network\n",
    "# net2.barnes_hut()\n",
    "data = pd.read_csv(\"TCA_PCA_standardized.csv\") # Make this file, ok :))))\n",
    "\n",
    "sources = data[\"BiGG\"]\n",
    "targets = data[\"target\"]\n",
    "x_coordinates = data[\"PC1\"]  # Feature x as x coordinates\n",
    "y_coordinates = data[\"PC2\"] # Feature y as y coordinates\n",
    "#labels = data[\"MNXM\"]\n",
    "edge_data = zip(sources, targets, x_coordinates, y_coordinates)\n",
    "\n",
    "\n",
    "featurex = \"PC1\"\n",
    "featurey = \"PC2\"\n",
    "for e in edge_data:\n",
    "    src = e[0]\n",
    "    dst = e[1]\n",
    "    x_c = e[2]\n",
    "    y_c = e[3]\n",
    "    #labels = e[4]\n",
    "\n",
    "    net2.add_node(src, src, x= x_c, y = y_c, title=src)\n",
    "    net2.add_node(dst, dst, x = x_c, y = y_c, title=dst)\n",
    "    # net2.add_edge(src, dst)\n",
    "\n",
    "neighbor_map = net2.get_adj_list()\n",
    "\n",
    "# add neighbor data to node hover data\n",
    "for node in net2.nodes:\n",
    "    node['title'] += ' Neighbors:<br>' + '<br>'.join(neighbor_map[node['id']])\n",
    "    node['value'] = len(neighbor_map[node['id']])\n",
    "\n",
    "net2.show_buttons(filter_=['physics'])\n",
    "net2.set_edge_smooth(\"dynamic\")\n",
    "# net2.show('TCA_cycle.html')\n",
    "net2.show(f\"./Pyvis_Stuff/TCA_cycle_PCA_{featurex}_{featurey}.html\")"
   ]
  },
  {
   "cell_type": "markdown",
   "metadata": {},
   "source": [
    "### TCA pyvis - not PCA"
   ]
  },
  {
   "cell_type": "code",
   "execution_count": 14,
   "metadata": {},
   "outputs": [],
   "source": [
    "from pyvis.network import Network\n",
    "import pandas as pd\n",
    "\n",
    "net2 = Network(height='750px', width='75%', bgcolor='#222222', font_color='white', directed = True)\n",
    "\n",
    "# set the physics layout of the network\n",
    "net2.barnes_hut(spring_length = 10000000)\n",
    "data = pd.read_csv(\"TCA_target_standardized.csv\") # Make this file, ok :))))\n",
    "\n",
    "sources = data[\"BiGG\"]\n",
    "targets = data['target']\n",
    "x_coordinates = data[\"FpDensityMorgan1\"]  # Feature x as x coordinates\n",
    "y_coordinates = data[\"MolLogP\"] # Feature y as y coordinates\n",
    "edge_data = zip(sources, targets, x_coordinates, y_coordinates)\n",
    "\n",
    "for e in edge_data:\n",
    "    src = e[0]\n",
    "    dst = e[1]\n",
    "    x_c = e[2]\n",
    "    y_c = e[3]\n",
    "\n",
    "    net2.add_node(src, src, x= x_c, y = y_c,  title=src )\n",
    "    net2.add_node(dst, dst, x = x_c, y = y_c, title=dst)\n",
    "    # net2.add_edge(src, dst)\n",
    "\n",
    "neighbor_map = net2.get_adj_list()\n",
    "\n",
    "# add neighbor data to node hover data\n",
    "for node in net2.nodes:\n",
    "    node['title'] += ' Neighbors:<br>' + '<br>'.join(neighbor_map[node['id']])\n",
    "    node['value'] = len(neighbor_map[node['id']])\n",
    "\n",
    "net2.show_buttons()\n",
    "net2.set_edge_smooth(\"dynamic\")\n",
    "net2.show(f\"./Pyvis_Stuff/TCA_cycle_PCA_{featurex}_{featurey}.html\")"
   ]
  }
 ],
 "metadata": {
  "interpreter": {
   "hash": "478201df5069d2e6391cf65b23ce884d49c57ebe4f05640c641415e63946d634"
  },
  "kernelspec": {
   "display_name": "Python 3.9.7 ('rdkit')",
   "language": "python",
   "name": "python3"
  },
  "language_info": {
   "codemirror_mode": {
    "name": "ipython",
    "version": 3
   },
   "file_extension": ".py",
   "mimetype": "text/x-python",
   "name": "python",
   "nbconvert_exporter": "python",
   "pygments_lexer": "ipython3",
   "version": "3.9.7"
  },
  "orig_nbformat": 4
 },
 "nbformat": 4,
 "nbformat_minor": 2
}
