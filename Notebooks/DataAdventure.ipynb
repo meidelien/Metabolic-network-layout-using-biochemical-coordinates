{
 "cells": [
  {
   "cell_type": "markdown",
   "metadata": {},
   "source": [
    "# ╰(*°▽°*)╯ Import stuff ╰(*°▽°*)╯"
   ]
  },
  {
   "cell_type": "code",
   "execution_count": 1,
   "metadata": {},
   "outputs": [],
   "source": [
    "import pandas as pd\n",
    "from pandas import DataFrame\n",
    "# from pandas.io.json import json_normalize\n",
    "# from lxml import objectify # for parsing e_coli_core\n",
    "# import xml.etree.ElementTree as ETS"
   ]
  },
  {
   "cell_type": "code",
   "execution_count": 1,
   "metadata": {},
   "outputs": [],
   "source": [
    "import sys\n",
    "import os\n",
    "\n",
    "# path = \"C:/Users/meide/Documents/GitHub/Master/data\"\n",
    "path = \"data/\"\n",
    "os.chdir(path)"
   ]
  },
  {
   "cell_type": "markdown",
   "metadata": {},
   "source": [
    "# Creating df's from the chem_xxxx.tsv & iML1515 GEM 🐱\n",
    "- Remember to unpack chem_prop.zip if chem_prop & chem_xref files are not found as these are too large to upload to github uncompressed"
   ]
  },
  {
   "cell_type": "markdown",
   "metadata": {},
   "source": []
  },
  {
   "cell_type": "code",
   "execution_count": 14,
   "metadata": {},
   "outputs": [],
   "source": [
    "dfProp = pd.read_csv('C:\\\\Users\\\\meide\\\\Documents\\\\GitHub\\\\Master\\\\data\\\\chem_prop.tsv', sep ='\\t', header = 0) # uni\n",
    "#dfProp = pd.read_csv(\"C:\\GitHub\\Metabolic-network-layout-using-biochemical-coordinates\\data\\chem_prop.tsv\", sep ='\\t', header = 0) # HOME)\n",
    "\n",
    "dfXref = pd.read_csv('C:\\\\Users\\\\meide\\\\Documents\\\\GitHub\\\\Master\\\\data\\\\chem_xref.tsv', sep ='\\t', header = 0) # uni\n",
    "#dfXref = pd.read_csv('C:\\GitHub\\Metabolic-network-layout-using-biochemical-coordinates\\data\\\\chem_xref.tsv', sep ='\\t', header = 0) # HOME\n",
    "\n",
    "df1515 = pd.read_csv(\"https://raw.githubusercontent.com/meidelien/Metabolic-network-layout-using-biochemical-coordinates/main/data/Chemical_descriptors1515.csv\")"
   ]
  },
  {
   "cell_type": "markdown",
   "metadata": {},
   "source": [
    "# Creating df with e_coli_core.xml \n"
   ]
  },
  {
   "cell_type": "code",
   "execution_count": 43,
   "metadata": {},
   "outputs": [],
   "source": [
    "BiGG_uniq = pd.read_csv(\"https://raw.githubusercontent.com/meidelien/Metabolic-network-layout-using-biochemical-coordinates/main/data/BiGG_from_xref.tsv\", sep =\"\\t\")\n",
    "\n",
    "BiGG = pd.read_csv(\"https://raw.githubusercontent.com/meidelien/Metabolic-network-layout-using-biochemical-coordinates/main/data/BiGG_mnxm2.csv\")\n",
    "\n"
   ]
  },
  {
   "cell_type": "markdown",
   "metadata": {},
   "source": [
    "# Merging BiGG IDs with the 1515 df"
   ]
  },
  {
   "cell_type": "code",
   "execution_count": 19,
   "metadata": {},
   "outputs": [
    {
     "data": {
      "text/plain": [
       "(963,)"
      ]
     },
     "execution_count": 19,
     "metadata": {},
     "output_type": "execute_result"
    }
   ],
   "source": [
    "# dfJSON = pd.read_json('C:\\\\Users\\\\meide\\\\Documents\\\\GitHub\\\\Master\\\\data\\\\e_coli_core.json')\n",
    "\n",
    "#df1515.MNXM.shape\n",
    "BiGG.BiGG.shape\n",
    "\n",
    "# Mnxm_list = df1515[\"#ID\"]'\n",
    "# df1515.MNXM.nunique()\n",
    "# BiGG.BiGG.nunique()\n",
    "# BiGG_uniq.BiGG.nunique()"
   ]
  },
  {
   "cell_type": "code",
   "execution_count": null,
   "metadata": {},
   "outputs": [],
   "source": [
    "print(\"unique entries of mnxm in df1515 {}\".format(df1515.MNXM.nunique))\n",
    "print(\"unique entries of mnxm in df1515 {}\".format(BiGG.BiGG.nunique))\n"
   ]
  },
  {
   "cell_type": "code",
   "execution_count": 46,
   "metadata": {},
   "outputs": [],
   "source": [
    "# Hope = pd.merge(df1515, BiGG, how = \"left\")\n",
    "Preamble = df1515.set_index(\"MNXM\")\n",
    "Skullbasher = BiGG.set_index(\"MNXM\")\n",
    "\n",
    "Hope = pd.merge(Preamble, Skullbasher, left_index = True, right_index = True)"
   ]
  },
  {
   "cell_type": "code",
   "execution_count": 37,
   "metadata": {},
   "outputs": [
    {
     "data": {
      "text/html": [
       "<div>\n",
       "<style scoped>\n",
       "    .dataframe tbody tr th:only-of-type {\n",
       "        vertical-align: middle;\n",
       "    }\n",
       "\n",
       "    .dataframe tbody tr th {\n",
       "        vertical-align: top;\n",
       "    }\n",
       "\n",
       "    .dataframe thead th {\n",
       "        text-align: right;\n",
       "    }\n",
       "</style>\n",
       "<table border=\"1\" class=\"dataframe\">\n",
       "  <thead>\n",
       "    <tr style=\"text-align: right;\">\n",
       "      <th></th>\n",
       "      <th>\\tLine 1:</th>\n",
       "      <th>Name</th>\n",
       "      <th>reference</th>\n",
       "      <th>formula</th>\n",
       "      <th>charge</th>\n",
       "      <th>mass</th>\n",
       "      <th>InChI</th>\n",
       "      <th>InChIKey</th>\n",
       "      <th>SMILES</th>\n",
       "      <th>MaxEStateIndex</th>\n",
       "      <th>...</th>\n",
       "      <th>fr_term_acetylene</th>\n",
       "      <th>fr_tetrazole</th>\n",
       "      <th>fr_thiazole</th>\n",
       "      <th>fr_thiocyan</th>\n",
       "      <th>fr_thiophene</th>\n",
       "      <th>fr_unbrch_alkane</th>\n",
       "      <th>fr_urea</th>\n",
       "      <th>BiGG</th>\n",
       "      <th>MNXM</th>\n",
       "      <th>description</th>\n",
       "    </tr>\n",
       "  </thead>\n",
       "  <tbody>\n",
       "  </tbody>\n",
       "</table>\n",
       "<p>0 rows × 220 columns</p>\n",
       "</div>"
      ],
      "text/plain": [
       "Empty DataFrame\n",
       "Columns: [\tLine 1: , Name, reference, formula, charge, mass, InChI, InChIKey, SMILES, MaxEStateIndex, MinEStateIndex, MaxAbsEStateIndex, MinAbsEStateIndex, qed, MolWt, HeavyAtomMolWt, ExactMolWt, NumValenceElectrons, NumRadicalElectrons, MaxPartialCharge, MinPartialCharge, MaxAbsPartialCharge, MinAbsPartialCharge, FpDensityMorgan1, FpDensityMorgan2, FpDensityMorgan3, BCUT2D_MWHI, BCUT2D_MWLOW, BCUT2D_CHGHI, BCUT2D_CHGLO, BCUT2D_LOGPHI, BCUT2D_LOGPLOW, BCUT2D_MRHI, BCUT2D_MRLOW, BalabanJ, BertzCT, Chi0, Chi0n, Chi0v, Chi1, Chi1n, Chi1v, Chi2n, Chi2v, Chi3n, Chi3v, Chi4n, Chi4v, HallKierAlpha, Ipc, Kappa1, Kappa2, Kappa3, LabuteASA, PEOE_VSA1, PEOE_VSA10, PEOE_VSA11, PEOE_VSA12, PEOE_VSA13, PEOE_VSA14, PEOE_VSA2, PEOE_VSA3, PEOE_VSA4, PEOE_VSA5, PEOE_VSA6, PEOE_VSA7, PEOE_VSA8, PEOE_VSA9, SMR_VSA1, SMR_VSA10, SMR_VSA2, SMR_VSA3, SMR_VSA4, SMR_VSA5, SMR_VSA6, SMR_VSA7, SMR_VSA8, SMR_VSA9, SlogP_VSA1, SlogP_VSA10, SlogP_VSA11, SlogP_VSA12, SlogP_VSA2, SlogP_VSA3, SlogP_VSA4, SlogP_VSA5, SlogP_VSA6, SlogP_VSA7, SlogP_VSA8, SlogP_VSA9, TPSA, EState_VSA1, EState_VSA10, EState_VSA11, EState_VSA2, EState_VSA3, EState_VSA4, EState_VSA5, EState_VSA6, EState_VSA7, ...]\n",
       "Index: []\n",
       "\n",
       "[0 rows x 220 columns]"
      ]
     },
     "execution_count": 37,
     "metadata": {},
     "output_type": "execute_result"
    }
   ],
   "source": [
    "Hope.head()"
   ]
  },
  {
   "cell_type": "markdown",
   "metadata": {},
   "source": [
    "# Extracting a row with a specific column value from chem_prop.tsv"
   ]
  },
  {
   "cell_type": "code",
   "execution_count": 3,
   "metadata": {},
   "outputs": [],
   "source": [
    "\n",
    "\n",
    "#Extracting a row with a specific column value\n",
    "test = dfProp.loc[dfProp[\"formula\"] == \"C21H38O\"]\n"
   ]
  },
  {
   "cell_type": "markdown",
   "metadata": {},
   "source": [
    "# Extracting rows with a specific column iterable\n",
    "## Metabolite formulas from e_coli_core.xml"
   ]
  },
  {
   "cell_type": "code",
   "execution_count": null,
   "metadata": {},
   "outputs": [],
   "source": [
    "# formulas = [\"6H12O6\",\"C5H10N2O3\",\"C5H10N2O3\", \"C5H8NO4\",\"C2H1O3\", \"H2O\",\"C6H5O7\",\"C3H5O3\",\"C4H4O5\",\"C21H26N7O14P2\",\"C21H27N7O14P2\",\"C21H25N7O17P3\",\"C21H26N7O17P3\", \"H4N\", \"C3H4O10P2\",\"O2\", \"C3H4O7P\", \"C4H2O5\", \"C3H2O6P\", \"C6H10O10P\",\"HO4P\", \"C6H9O9P\", \"C2H3O2\",  \"C3H3O3\", \"C49H74O4\", \"C5H9O8P\", \"C2H3O2\", \"C2H4O\", \"C7H13O10P\", \"C23H34N7O17P3S\",\"C4H4O4\",\"C25H35N7O19P3S\", \"C6H3O6\", \"C5H9O8P\",\"C2H3O5P\", \"C10H12N5O10P2\",\"C5H4O5\", \"C10H12N5O7P\",\"C10H12N5O13P3\", \"C6H5O7\", \"CO2\", \"C21H32N7O16P3S\", \"C3H5O6P\", \"C4H7O7P\", \"C2H6O\",\"C6H11O9P\",\"C6H10O12P2\", \"CH1O2\",\"C6H12O6\", \"C4H2O4\", \"C3H5O6P\", \"C6H11O9P\"]\n",
    "\n",
    "# Ecoli core\n",
    "# inchi_Key = [\"InChIKey=WQZGKKKJIJFFOK-GASJEMHNSA-N\",\"InChIKey=ZDXPYRJPNDTMRX-VKHMYHEASA-N\", \"InChIKey=ZDXPYRJPNDTMRX-VKHMYHEASA-N\",\"InChIKey=WHUUTDBJXJRKMK-VKHMYHEASA-M\", \"InChIKey=WHUUTDBJXJRKMK-VKHMYHEASA-M\", \"InChIKey=HHLFWLYXYJOTON-UHFFFAOYSA-M\", \"InChIKey=XLYOFNOQVPJJNP-UHFFFAOYSA-N\", \"InChIKey=XLYOFNOQVPJJNP-UHFFFAOYSA-N\",  \"InChIKey=GPRLSGONYQIRFK-UHFFFAOYSA-N\", \"InChIKey=GPRLSGONYQIRFK-UHFFFAOYSA-N\", \"InChIKey=ODBLHEXUDAPZAU-UHFFFAOYSA-K\", \"InChIKey=JVTAAEKCZFNVCJ-UWTATZPHSA-M\", \"InChIKey=JVTAAEKCZFNVCJ-UWTATZPHSA-M\", \"InChIKey=BJEPYKJPYRNKOW-REOHCLBHSA-L\", \"InChIKey=BJEPYKJPYRNKOW-REOHCLBHSA-L\", \"InChIKey=BAWFJGJZGIEFAR-NNYOXOHSSA-M\", \"InChIKey=BOPGDPNILDQYTO-NNYOXOHSSA-L\", \"InChIKey=XJLXINKUBYWONI-NNYOXOHSSA-K\", \"InChIKey=ACFIXJIJDZMPPO-NNYOXOHSSA-J\", \"InChIKey=QGZKDVFQNNGYKY-UHFFFAOYSA-O\", \"InChIKey=LJQLQCAXBUHEAZ-UWTATZPHSA-J\", \"InChIKey=QGZKDVFQNNGYKY-UHFFFAOYSA-O\", \"InChIKey=MYMOFIZGZYHOMD-UHFFFAOYSA-N\",\"InChIKey=GXIURPTVHJPJLF-UWTATZPHSA-K\",\"InChIKey=MYMOFIZGZYHOMD-UHFFFAOYSA-N\", \"InChIKey=OSJPPGNTCRNQQC-UWTATZPHSA-K\", \"InChIKey=KHPXUQMNIQBQEV-UHFFFAOYSA-L\", \"InChIKey=DTBNBXWJWCWCIK-UHFFFAOYSA-K\", \"InChIKey=BIRSGZKFKXLSJQ-SQOUGZDYSA-K\", \"InChIKey=NBIIXXVUZAFLBC-UHFFFAOYSA-L\", \"InChIKey=IJOJIVNDFQSGAB-SQOUGZDYSA-L\", \"InChIKey=NBIIXXVUZAFLBC-UHFFFAOYSA-L\", \"InChIKey=QTBSBXVTEAMEQO-UHFFFAOYSA-M\", \"InChIKey=LCTONWCANYUPML-UHFFFAOYSA-M\", \"InChIKey=LCTONWCANYUPML-UHFFFAOYSA-M\",\"InChIKey=ICFIZJQGJAJRSU-SGHXUWJISA-N\", \"InChIKey=LOJUQFSPYHMHEO-SGHXUWJISA-N\", \"InChIKey=KTVPXOYAKDPRHY-AIHAYLRMSA-L\", \"InChIKey=FNZLKVNUWIIPSJ-UHNVWZDZSA-L\", \"InChIKey=QTBSBXVTEAMEQO-UHFFFAOYSA-M\", \"InChIKey=IKHGUXGNUITLKF-UHFFFAOYSA-N\", \"InChIKey=JDTUMPKOJBQPKX-GBNDHIKLSA-L\", \"InChIKey=IKHGUXGNUITLKF-UHFFFAOYSA-N\", \"InChIKey=ZSLZBFCDCINBPY-ZSJPKINUSA-J\", \"InChIKey=KDYFGRWQOYBRFD-UHFFFAOYSA-L\" , \"InChIKey=KDYFGRWQOYBRFD-UHFFFAOYSA-L\", \"InChIKey=VNOYUJKHFWYWIR-ITIYDSSPSA-I\", \"InChIKey=GTZCVFVGUGFEME-IWQZZHSRSA-K\" , \"InChIKey=FNZLKVNUWIIPSJ-RFZPGFLSSA-L\", \"InChIKey=LIPOUNRJVLNBCD-UHFFFAOYSA-L\", \"InChIKey=XTWYTFMLZFPYCI-KQYNXXCUSA-K\", \"InChIKey=KPGXRSRHYNQIFN-UHFFFAOYSA-L\", \"InChIKey=KPGXRSRHYNQIFN-UHFFFAOYSA-L\", \"InChIKey=UDMBCSSLTHHNCD-KQYNXXCUSA-L\", \"InChIKey=ZKHQWZAMYRWXGA-KQYNXXCUSA-J\", \"InChIKey=KRKNYBCHXYNGOX-UHFFFAOYSA-K\", \"InChIKey=CURLTUGMZLYLDI-UHFFFAOYSA-N\", \"InChIKey=CURLTUGMZLYLDI-UHFFFAOYSA-N\", \"InChIKey=RGJOEKWQDUBAIZ-IBOSZNHHSA-J\", \"InChIKey=GNGACRATGGDKBX-UHFFFAOYSA-L\", \"InChIKey=NGHMDNPXVRFFGS-IUYQGCFVSA-L\", \"InChIKey=LFQSCWFLJHTTHZ-UHFFFAOYSA-N\", \"InChIKey=LFQSCWFLJHTTHZ-UHFFFAOYSA-N\", \"BGWGXPAPYGQALX-ARQDHWQXSA-L\", \"InChIKey=RNBGYGVWRKECFJ-VRPWFDPXSA-J\", \"InChIKey=BDAGIHXWWSANSR-UHFFFAOYSA-M\", \"InChIKey=BDAGIHXWWSANSR-UHFFFAOYSA-M\",\"InChIKey=RFSUNEUAIZKAJO-VRPWFDPXSA-N\", \"InChIKey=VZCYOOQTPOCHFL-OWOJBTEDSA-L\", \"InChIKey=VZCYOOQTPOCHFL-OWOJBTEDSA-L\", \"InChIKey=LXJXRIRHZLFYRP-VKHMYHEASA-L\", \"InChIKey=NBSCH\"  ]\n",
    "\n"
   ]
  },
  {
   "cell_type": "code",
   "execution_count": 6,
   "metadata": {},
   "outputs": [],
   "source": [
    "#MetabolitesFromInChIKey = dfProp.loc[dfProp[\"InChIKey\"].isin(inchi_Key)]\n",
    "# MetabolitesFromFormulas = dfProp.loc[dfProp[\"formula\"].isin(formulas)]\n",
    "\n",
    "# BiGG_Mnxm = dfXref.loc[dfXref[\"#source\"].isin(Mnxm_list)]\n",
    "\n",
    "import pandas as pd\n",
    "import numpy as np\n",
    "\n",
    "BiGG_1515 = pd.read_csv(\"1515_BiGG_metabolite_id_xref_formatted.csv\")\n",
    "\n",
    "\n",
    "TestList = dfXref.loc[dfXref[\"#source\"].isin(BiGG_list)]\n",
    "\n",
    "#Mnxm_list_filtered = BiGG_Mnxm[\"#ID\"]\n",
    "\n",
    "\n",
    "# Mnxm_filtered_list = BiGG_Mnxm[\"BiGG\"].to_list\n",
    "\n",
    "# BiGG = df1515.loc[df1515[\"#ID\"].isin(BiGG_Mnxm[\"BiGG\"]))]\n",
    "BiGG_xref_result= TestList.to_csv(\"BiGG_xref_result.csv\")\n",
    "\n",
    "\n",
    "\n",
    "mnxm_xref_list = TestList[\"ID\"].tolist()\n",
    "\n"
   ]
  },
  {
   "cell_type": "code",
   "execution_count": 7,
   "metadata": {},
   "outputs": [],
   "source": [
    "TestDf = dfProp.loc[dfProp[\"#ID\"].isin(mnxm_xref_list)]\n",
    "\n",
    "Inchi_mnxm_from_prop = TestDf.to_csv(\"HowManyInchi.csv\")\n",
    "\n"
   ]
  },
  {
   "cell_type": "code",
   "execution_count": 10,
   "metadata": {},
   "outputs": [],
   "source": [
    "Inchi_only = pd.read_csv(\"1515_inchi_only_Groomed.csv\")"
   ]
  },
  {
   "cell_type": "code",
   "execution_count": 15,
   "metadata": {},
   "outputs": [],
   "source": [
    "GetBiGG = pd.read_csv(\"Chemical_descriptors1515_BiGG.csv\")\n",
    "\n",
    "mnxm_xref_list_BiGG = Inchi_only[\"#ID\"].tolist()\n",
    "\n",
    "\n",
    "\n",
    "TestDf2 = TestList.loc[TestList[\"ID\"].isin(mnxm_xref_list_BiGG)]\n",
    "\n",
    "BiGG_list_from_mnxm = TestDf2[\"ID\"].tolist()"
   ]
  },
  {
   "cell_type": "code",
   "execution_count": null,
   "metadata": {},
   "outputs": [],
   "source": [
    "GetBiGG[\"BiGG\"] = BiGG_list_from_mnxm   \n",
    "\n",
    "# TestDf2.to_csv(\"NoBiGGie.csv\")\n",
    "\n",
    "GetBiGG.*\n",
    "\n"
   ]
  },
  {
   "cell_type": "code",
   "execution_count": 27,
   "metadata": {},
   "outputs": [],
   "source": [
    "LOL = TestDf2.loc[TestDf2[\"ID\"].isin(mnxm_xref_list_BiGG)]"
   ]
  },
  {
   "cell_type": "code",
   "execution_count": 21,
   "metadata": {},
   "outputs": [],
   "source": [
    "LOL2 = LOL[\"#source\"].tolist()"
   ]
  },
  {
   "cell_type": "markdown",
   "metadata": {},
   "source": [
    "###  OLD"
   ]
  },
  {
   "cell_type": "code",
   "execution_count": 8,
   "metadata": {},
   "outputs": [],
   "source": [
    "MetabolitesFromInChIKey.to_csv(\"MetabolitesInChIKeyiML1515.csv\")\n",
    "# MetabolitesFromFormulas.to_csv(\"MetabolitesFromFormula.csv\")"
   ]
  },
  {
   "cell_type": "code",
   "execution_count": 19,
   "metadata": {},
   "outputs": [],
   "source": [
    "\n",
    "metDf = pd.read_csv(\"MetabolitesFromInchIKey.csv\")"
   ]
  },
  {
   "cell_type": "code",
   "execution_count": null,
   "metadata": {},
   "outputs": [],
   "source": []
  },
  {
   "cell_type": "code",
   "execution_count": null,
   "metadata": {},
   "outputs": [],
   "source": [
    "formulaDf = pd.DataFrame(formulas, columns =[\"0\"])"
   ]
  },
  {
   "cell_type": "code",
   "execution_count": null,
   "metadata": {},
   "outputs": [],
   "source": [
    "formulaDf.to_csv(\"formulas.csv\")"
   ]
  },
  {
   "cell_type": "code",
   "execution_count": 4,
   "metadata": {},
   "outputs": [],
   "source": [
    "dfBiGG = pd.read_csv(\"https://raw.githubusercontent.com/meidelien/Metabolic-network-layout-using-biochemical-coordinates/main/data/BiGG_from_xref.tsv\", sep=\"\\t\")"
   ]
  },
  {
   "cell_type": "code",
   "execution_count": 7,
   "metadata": {},
   "outputs": [
    {
     "data": {
      "text/html": [
       "<div>\n",
       "<style scoped>\n",
       "    .dataframe tbody tr th:only-of-type {\n",
       "        vertical-align: middle;\n",
       "    }\n",
       "\n",
       "    .dataframe tbody tr th {\n",
       "        vertical-align: top;\n",
       "    }\n",
       "\n",
       "    .dataframe thead th {\n",
       "        text-align: right;\n",
       "    }\n",
       "</style>\n",
       "<table border=\"1\" class=\"dataframe\">\n",
       "  <thead>\n",
       "    <tr style=\"text-align: right;\">\n",
       "      <th></th>\n",
       "      <th>Source</th>\n",
       "      <th>BiGG</th>\n",
       "      <th>MNXM</th>\n",
       "      <th>Unnamed: 4</th>\n",
       "    </tr>\n",
       "  </thead>\n",
       "  <tbody>\n",
       "    <tr>\n",
       "      <th>0</th>\n",
       "      <td>bigg.metabolite:</td>\n",
       "      <td>oh1</td>\n",
       "      <td>MNXM02</td>\n",
       "      <td>NaN</td>\n",
       "    </tr>\n",
       "    <tr>\n",
       "      <th>1</th>\n",
       "      <td>bigg.metabolite:</td>\n",
       "      <td>h</td>\n",
       "      <td>MNXM1</td>\n",
       "      <td>NaN</td>\n",
       "    </tr>\n",
       "    <tr>\n",
       "      <th>2</th>\n",
       "      <td>bigg.metabolite:</td>\n",
       "      <td>nadh</td>\n",
       "      <td>MNXM10</td>\n",
       "      <td>NaN</td>\n",
       "    </tr>\n",
       "    <tr>\n",
       "      <th>3</th>\n",
       "      <td>bigg.metabolite:</td>\n",
       "      <td>grdp</td>\n",
       "      <td>MNXM100</td>\n",
       "      <td>NaN</td>\n",
       "    </tr>\n",
       "    <tr>\n",
       "      <th>4</th>\n",
       "      <td>bigg.metabolite:</td>\n",
       "      <td>mercplaccys</td>\n",
       "      <td>MNXM10053</td>\n",
       "      <td>NaN</td>\n",
       "    </tr>\n",
       "    <tr>\n",
       "      <th>...</th>\n",
       "      <td>...</td>\n",
       "      <td>...</td>\n",
       "      <td>...</td>\n",
       "      <td>...</td>\n",
       "    </tr>\n",
       "    <tr>\n",
       "      <th>9083</th>\n",
       "      <td>bigg.metabolite:</td>\n",
       "      <td>3htmelys</td>\n",
       "      <td>MNXM990</td>\n",
       "      <td>NaN</td>\n",
       "    </tr>\n",
       "    <tr>\n",
       "      <th>9084</th>\n",
       "      <td>bigg.metabolite:</td>\n",
       "      <td>4mptnl</td>\n",
       "      <td>MNXM992</td>\n",
       "      <td>NaN</td>\n",
       "    </tr>\n",
       "    <tr>\n",
       "      <th>9085</th>\n",
       "      <td>bigg.metabolite:</td>\n",
       "      <td>35cdamp</td>\n",
       "      <td>MNXM9931</td>\n",
       "      <td>NaN</td>\n",
       "    </tr>\n",
       "    <tr>\n",
       "      <th>9086</th>\n",
       "      <td>bigg.metabolite:</td>\n",
       "      <td>h2o</td>\n",
       "      <td>WATER</td>\n",
       "      <td>NaN</td>\n",
       "    </tr>\n",
       "    <tr>\n",
       "      <th>9087</th>\n",
       "      <td>Copy-paste code here to remove the line numbers.</td>\n",
       "      <td>NaN</td>\n",
       "      <td>NaN</td>\n",
       "      <td>NaN</td>\n",
       "    </tr>\n",
       "  </tbody>\n",
       "</table>\n",
       "<p>9088 rows × 4 columns</p>\n",
       "</div>"
      ],
      "text/plain": [
       "                                                Source         BiGG  \\\n",
       "0                                     bigg.metabolite:          oh1   \n",
       "1                                     bigg.metabolite:            h   \n",
       "2                                     bigg.metabolite:         nadh   \n",
       "3                                     bigg.metabolite:         grdp   \n",
       "4                                     bigg.metabolite:  mercplaccys   \n",
       "...                                                ...          ...   \n",
       "9083                                  bigg.metabolite:     3htmelys   \n",
       "9084                                  bigg.metabolite:       4mptnl   \n",
       "9085                                  bigg.metabolite:      35cdamp   \n",
       "9086                                  bigg.metabolite:          h2o   \n",
       "9087  Copy-paste code here to remove the line numbers.          NaN   \n",
       "\n",
       "           MNXM  Unnamed: 4  \n",
       "0        MNXM02         NaN  \n",
       "1         MNXM1         NaN  \n",
       "2        MNXM10         NaN  \n",
       "3       MNXM100         NaN  \n",
       "4     MNXM10053         NaN  \n",
       "...         ...         ...  \n",
       "9083    MNXM990         NaN  \n",
       "9084    MNXM992         NaN  \n",
       "9085   MNXM9931         NaN  \n",
       "9086      WATER         NaN  \n",
       "9087        NaN         NaN  \n",
       "\n",
       "[9088 rows x 4 columns]"
      ]
     },
     "execution_count": 7,
     "metadata": {},
     "output_type": "execute_result"
    }
   ],
   "source": [
    "dfBiGG.drop([\"Stuff\"], axis =1)"
   ]
  },
  {
   "cell_type": "code",
   "execution_count": 82,
   "metadata": {},
   "outputs": [],
   "source": [
    "BiGG_Mnxm = dfBiGG.loc[dfBiGG[\"MNXM\"].isin(Mnxm_list)]"
   ]
  },
  {
   "cell_type": "code",
   "execution_count": 13,
   "metadata": {},
   "outputs": [],
   "source": [
    "BiGG_Mnxm.to_csv(\"BiGG_id_from_mnxm.tsv\")"
   ]
  },
  {
   "cell_type": "code",
   "execution_count": null,
   "metadata": {},
   "outputs": [],
   "source": [
    "BiGG_Mnxm.to_dict(\"split\")"
   ]
  },
  {
   "cell_type": "code",
   "execution_count": null,
   "metadata": {},
   "outputs": [],
   "source": [
    "BiGG_Mnxm.drop(\"Source\", inplace = True, axis =1)"
   ]
  },
  {
   "cell_type": "code",
   "execution_count": null,
   "metadata": {},
   "outputs": [],
   "source": [
    "BiGG_Mnxm.drop(\"Stuff\", inplace = True, axis =1)"
   ]
  },
  {
   "cell_type": "code",
   "execution_count": 21,
   "metadata": {},
   "outputs": [],
   "source": [
    "BiGG_Mnxm.to_csv(\"BiGG_id_from_mnxm.tsv\")"
   ]
  },
  {
   "cell_type": "code",
   "execution_count": 85,
   "metadata": {},
   "outputs": [],
   "source": [
    "BiGG_Mnxm = pd.read_csv(\"BiGG_MNXM.csv\", header=0)"
   ]
  },
  {
   "cell_type": "code",
   "execution_count": 44,
   "metadata": {},
   "outputs": [],
   "source": [
    "BiGG_dic = pd.Series(BiGG_Mnxm.index, index = BiGG_Mnxm.BiGG).to_dict"
   ]
  },
  {
   "cell_type": "code",
   "execution_count": null,
   "metadata": {},
   "outputs": [],
   "source": [
    "BiGG_dic"
   ]
  },
  {
   "cell_type": "code",
   "execution_count": 49,
   "metadata": {},
   "outputs": [],
   "source": [
    "import numpy as np\n",
    "df1515[\"BiGG\"] = np.nan"
   ]
  },
  {
   "cell_type": "code",
   "execution_count": null,
   "metadata": {},
   "outputs": [],
   "source": [
    "# df1515[\"BiGG\"] = df1515.index.to_series().map(BiGG_Mnxm.set_index(\"BiGG\")[\"index\"])\n",
    "\n",
    "df1515[\"BiGG\"] = df1515.rename(index = BiGG_Mnxm.set_index(\"BiGG\")[\"index\"])"
   ]
  },
  {
   "cell_type": "code",
   "execution_count": 57,
   "metadata": {},
   "outputs": [],
   "source": [
    "# df3 = df1515.append(BiGG_Mnxm, ignore_index = False)"
   ]
  },
  {
   "cell_type": "code",
   "execution_count": 61,
   "metadata": {},
   "outputs": [],
   "source": [
    "df4 = pd.concat([df1515, BiGG_Mnxm], ignore_index = False)"
   ]
  },
  {
   "cell_type": "code",
   "execution_count": null,
   "metadata": {},
   "outputs": [],
   "source": [
    "df4[\"BiGG\"].map(BiGG_dic, na_action = \"ignore\", new_values = \"\") "
   ]
  },
  {
   "cell_type": "code",
   "execution_count": 68,
   "metadata": {},
   "outputs": [],
   "source": [
    "dfBM = df1515[[\"BiGG\", \"#ID\"]]"
   ]
  },
  {
   "cell_type": "code",
   "execution_count": null,
   "metadata": {},
   "outputs": [],
   "source": [
    "dfBM.pd.concat(BiGG_Mnxm())"
   ]
  },
  {
   "cell_type": "code",
   "execution_count": null,
   "metadata": {},
   "outputs": [],
   "source": [
    "dfLOL = pd.append([dfBM, BiGG_Mnxm])"
   ]
  },
  {
   "cell_type": "code",
   "execution_count": 75,
   "metadata": {},
   "outputs": [],
   "source": [
    "dfLOL = dfBM.append(BiGG_Mnxm)"
   ]
  },
  {
   "cell_type": "code",
   "execution_count": 97,
   "metadata": {},
   "outputs": [],
   "source": [
    "# Mnxm_list_filtered = BiGG_Mnxm[\"#ID\"]\n",
    "\n",
    "\n",
    "Mnxm_filtered_list = BiGG_Mnxm[\"BiGG\"].to_list()\n",
    "\n"
   ]
  },
  {
   "cell_type": "code",
   "execution_count": 98,
   "metadata": {},
   "outputs": [],
   "source": [
    "BiGG = df1515.loc[df1515[\"#ID\"].isin(Mnxm_filtered_list)]"
   ]
  },
  {
   "cell_type": "code",
   "execution_count": 99,
   "metadata": {},
   "outputs": [],
   "source": [
    "test = BiGG[\"#ID\"].tolist()"
   ]
  },
  {
   "cell_type": "code",
   "execution_count": 101,
   "metadata": {},
   "outputs": [],
   "source": [
    "BiGGLOL = BiGG_Mnxm.loc[BiGG_Mnxm[\"BiGG\"].isin(test)]"
   ]
  },
  {
   "cell_type": "code",
   "execution_count": 30,
   "metadata": {},
   "outputs": [],
   "source": [
    "LOLfinal = pd.read_csv(\"Chemical_descriptors1515_BiGG.csv\")"
   ]
  }
 ],
 "metadata": {
  "interpreter": {
   "hash": "8420ab189d00d083782919827e61e029726b7008cf5217a89172cbb7a6a52562"
  },
  "kernelspec": {
   "display_name": "Python 3.9.7 64-bit ('my-rdkit-env': conda)",
   "name": "python3"
  },
  "language_info": {
   "codemirror_mode": {
    "name": "ipython",
    "version": 3
   },
   "file_extension": ".py",
   "mimetype": "text/x-python",
   "name": "python",
   "nbconvert_exporter": "python",
   "pygments_lexer": "ipython3",
   "version": "3.9.7"
  }
 },
 "nbformat": 4,
 "nbformat_minor": 2
}
