{
 "cells": [
  {
   "cell_type": "code",
   "execution_count": 1,
   "metadata": {},
   "outputs": [],
   "source": [
    "import numpy as np\n",
    "import pandas as pd\n",
    "import rdkit\n",
    "from rdkit import Chem\n",
    "from rdkit.Chem import Descriptors\n",
    "from rdkit.ML.Descriptors import MoleculeDescriptors\n",
    "# from sklearn.ensembl import RandomForestClassifier\n",
    "import warnings\n",
    "import gc\n"
   ]
  },
  {
   "cell_type": "markdown",
   "metadata": {},
   "source": [
    "- import MetabolitesFromInChI.csv"
   ]
  },
  {
   "cell_type": "code",
   "execution_count": 7,
   "metadata": {},
   "outputs": [],
   "source": [
    "df = pd.read_csv(\"https://raw.githubusercontent.com/meidelien/Metabolic-network-layout-using-biochemical-coordinates/main/Notebooks/MetabolitesFromInChIKey.csv\")"
   ]
  },
  {
   "cell_type": "markdown",
   "metadata": {},
   "source": [
    "# Creating new df with descriptors\n",
    "- Iterating over InChI's from MetabolitesFromInChI df \n",
    "- Storing DescriptorCalculator output to descrs list\n",
    "- Creating molDes df & appending Descriptors to each column\n"
   ]
  },
  {
   "cell_type": "code",
   "execution_count": null,
   "metadata": {},
   "outputs": [],
   "source": [
    "mol_list = []\n",
    "\n",
    "for i in df.InChI:\n",
    "    mol = Chem.MolFromInchi(i)\n",
    "    mol_list.append(mol)\n",
    "\n",
    "\n",
    "desc_list=[i[0] for i in Descriptors._descList]\n",
    "descriptor = MoleculeDescriptors.MolecularDescriptorCalculator(desc_list)\n",
    "\n",
    "descrs =  []\n",
    "\n",
    "for i in range(len(mol_list)):\n",
    "    descrs.append(descriptor.CalcDescriptors(mol_list[i]))\n",
    "molDes = pd.DataFrame(descrs, columns= desc_list)\n",
    "molDes.head(5)"
   ]
  },
  {
   "cell_type": "markdown",
   "metadata": {},
   "source": [
    "- Make csv cus reasons"
   ]
  },
  {
   "cell_type": "code",
   "execution_count": 22,
   "metadata": {},
   "outputs": [],
   "source": [
    "molDes.to_csv(\"chemical_properties.csv\", index = False)"
   ]
  },
  {
   "cell_type": "code",
   "execution_count": 32,
   "metadata": {},
   "outputs": [],
   "source": [
    "data1 = pd.read_csv(\"MetabolitesFromInChIKeyWIP.csv\")\n",
    "data2 = pd.read_csv(\"chemical_properties.csv\")\n"
   ]
  },
  {
   "cell_type": "markdown",
   "metadata": {},
   "source": [
    "- Concatatenating MetabolitesFromInChIKey & chemical_properties.csv"
   ]
  },
  {
   "cell_type": "code",
   "execution_count": 39,
   "metadata": {},
   "outputs": [],
   "source": [
    "result = pd.concat([data1, data2], axis=1).reindex(data1.index)"
   ]
  },
  {
   "cell_type": "code",
   "execution_count": 40,
   "metadata": {},
   "outputs": [],
   "source": [
    "result.to_csv(\"Chemical_descriptors.csv\", index = False)"
   ]
  }
 ],
 "metadata": {
  "interpreter": {
   "hash": "8420ab189d00d083782919827e61e029726b7008cf5217a89172cbb7a6a52562"
  },
  "kernelspec": {
   "display_name": "Python 3.9.7 64-bit ('my-rdkit-env': conda)",
   "name": "python3"
  },
  "language_info": {
   "codemirror_mode": {
    "name": "ipython",
    "version": 3
   },
   "file_extension": ".py",
   "mimetype": "text/x-python",
   "name": "python",
   "nbconvert_exporter": "python",
   "pygments_lexer": "ipython3",
   "version": "3.9.7"
  },
  "orig_nbformat": 4
 },
 "nbformat": 4,
 "nbformat_minor": 2
}
