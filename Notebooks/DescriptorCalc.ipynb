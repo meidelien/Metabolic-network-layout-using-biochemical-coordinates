{
 "cells": [
  {
   "cell_type": "markdown",
   "metadata": {},
   "source": [
    "# ╰(*°▽°*)╯ Import stuff ╰(*°▽°*)╯"
   ]
  },
  {
   "cell_type": "code",
   "execution_count": 2,
   "metadata": {},
   "outputs": [],
   "source": [
    "import numpy as np\n",
    "import pandas as pd\n",
    "import rdkit\n",
    "from rdkit import Chem\n",
    "from rdkit.Chem import Descriptors\n",
    "from rdkit.ML.Descriptors import MoleculeDescriptors\n",
    "# import sklearn\n",
    "# from sklearn import ensemble\n",
    "# from sklearn.ensemble import RandomForestClassifier\n",
    "import warnings\n",
    "import gc\n"
   ]
  },
  {
   "cell_type": "markdown",
   "metadata": {},
   "source": [
    "- import MetabolitesFromInChI.csv"
   ]
  },
  {
   "cell_type": "code",
   "execution_count": 7,
   "metadata": {},
   "outputs": [],
   "source": [
    "df = pd.read_csv(\"https://raw.githubusercontent.com/meidelien/Metabolic-network-layout-using-biochemical-coordinates/main/Notebooks/MetabolitesFromInChIKey.csv\")"
   ]
  },
  {
   "cell_type": "markdown",
   "metadata": {},
   "source": [
    "# Creating new df with descriptors\n",
    "- Iterating over InChI's from MetabolitesFromInChI df \n",
    "- Storing DescriptorCalculator output to descrs list\n",
    "- Creating molDes df & appending Descriptors to each column\n"
   ]
  },
  {
   "cell_type": "code",
   "execution_count": null,
   "metadata": {},
   "outputs": [],
   "source": [
    "mol_list = []\n",
    "\n",
    "for i in df.InChI:\n",
    "    mol = Chem.MolFromInchi(i)\n",
    "    mol_list.append(mol)\n",
    "\n",
    "\n",
    "desc_list=[i[0] for i in Descriptors._descList]\n",
    "descriptor = MoleculeDescriptors.MolecularDescriptorCalculator(desc_list)\n",
    "\n",
    "descrs =  []\n",
    "\n",
    "for i in range(len(mol_list)):\n",
    "    descrs.append(descriptor.CalcDescriptors(mol_list[i]))\n",
    "molDes = pd.DataFrame(descrs, columns= desc_list)\n",
    "molDes.head(5)"
   ]
  },
  {
   "cell_type": "markdown",
   "metadata": {},
   "source": [
    "- Make csv cus reasons"
   ]
  },
  {
   "cell_type": "code",
   "execution_count": 22,
   "metadata": {},
   "outputs": [],
   "source": [
    "molDes.to_csv(\"chemical_properties.csv\", index = False)"
   ]
  },
  {
   "cell_type": "code",
   "execution_count": 3,
   "metadata": {},
   "outputs": [],
   "source": [
    "data1 = pd.read_csv(\"MetabolitesFromInChIKeyWIP.csv\")\n",
    "data2 = pd.read_csv(\"chemical_properties.csv\")\n"
   ]
  },
  {
   "cell_type": "markdown",
   "metadata": {},
   "source": [
    "- Concatatenating MetabolitesFromInChIKey & chemical_properties.csv"
   ]
  },
  {
   "cell_type": "code",
   "execution_count": 4,
   "metadata": {},
   "outputs": [],
   "source": [
    "result = pd.concat([data1, data2], axis=1).reindex(data1.index)"
   ]
  },
  {
   "cell_type": "code",
   "execution_count": 40,
   "metadata": {},
   "outputs": [],
   "source": [
    "result.to_csv(\"Chemical_descriptors.csv\", index = False)"
   ]
  },
  {
   "cell_type": "code",
   "execution_count": 5,
   "metadata": {},
   "outputs": [],
   "source": [
    "df = pd.read_csv(\"Chemical_descriptors.csv\")"
   ]
  },
  {
   "cell_type": "code",
   "execution_count": 6,
   "metadata": {},
   "outputs": [],
   "source": [
    "Species_iD = [\"M_h_c\", \"M_h_c\", \"M_nadh_c\",\"M_acon_C_c\",\"M_accoa_c\",\"M_6pgl_c\", \"M_succoa_c\", \"M_glc__D_e\",\"M_mal__L_c\", \"M_cit_c\", \"M_13dpg_c\", \"M_etoh_c\",\"M_co2_c\" ,\"M_ru5p__D_c\", \"M_xu5p__D_c\", \"M_q8h2_c\", \"M_akg_c\", \"M_pyr_c\", \"M_q8_c\", \"M_succ_c\", \"M_e4p_c\",\"M_ac_c\",\"M_2pg_c\", \"M_actp_c\",\"M_atp_c\", \"M_gln__L_c\", \"M_for_c\", \"M_adp_c\",\"M_oaa_c\",\"M_nadp_c\", \"M_glx_c\", \"M_coa_c\", \"M_3pg_c\", \"M_amp_c\",\"M_nh4_c\", \"M_fru_e\", \"M_pep_c\", \"M_pi_c\", \"M_lac__D_c\", \"M_s7p_c\", \"M_6pgc_c\", \"M_etoh_c\",\"M_o2_c\", \"M_o2_e\", \"M_acald_c\", \"M_fum_c\", \"M_nadph_c\", \"M_g3p_c\", \"M_glu__L_c\", \"M_acald_c\", \"M_dhap_c\", \"M_f6p_c\", \"M_icit_c\", \"M_pi_c\",\"M_h2o_c\"]"
   ]
  },
  {
   "cell_type": "code",
   "execution_count": null,
   "metadata": {},
   "outputs": [],
   "source": [
    "BiGG = [\"h\", \"h\", \"nadh\",\"acon_C\", \"accoa\", \"6pgl\", \"succoa\", \"glc__D\", \"mal__L\",\"cit\", \"13dpg\", \"etoh\", \"co2\", \"ru5p__D\", \"xu5p__D\", \"q8h2\", \"akg\", \"pyr\", \"q8\", \"succ\", \"e4p\", \"ac\", \"2pg\",\"actp\", \"atp\", \"gln__L\", \"for\", \"adp\", \"oaa\", \"nadp\", \"glx\", \"coa\"     ]"
   ]
  }
 ],
 "metadata": {
  "interpreter": {
   "hash": "8420ab189d00d083782919827e61e029726b7008cf5217a89172cbb7a6a52562"
  },
  "kernelspec": {
   "display_name": "Python 3.9.7 64-bit ('my-rdkit-env': conda)",
   "name": "python3"
  },
  "language_info": {
   "codemirror_mode": {
    "name": "ipython",
    "version": 3
   },
   "file_extension": ".py",
   "mimetype": "text/x-python",
   "name": "python",
   "nbconvert_exporter": "python",
   "pygments_lexer": "ipython3",
   "version": "3.9.7"
  },
  "orig_nbformat": 4
 },
 "nbformat": 4,
 "nbformat_minor": 2
}
