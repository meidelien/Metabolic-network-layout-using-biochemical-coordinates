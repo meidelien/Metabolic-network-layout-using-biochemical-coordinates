{
 "cells": [
  {
   "cell_type": "markdown",
   "metadata": {},
   "source": [
    "# ╰(*°▽°*)╯ Import stuff ╰(*°▽°*)╯"
   ]
  },
  {
   "cell_type": "code",
   "execution_count": 5,
   "metadata": {},
   "outputs": [],
   "source": [
    "import numpy as np\n",
    "import pandas as pd\n",
    "import rdkit\n",
    "from rdkit import Chem\n",
    "from rdkit.Chem import Descriptors\n",
    "from rdkit.ML.Descriptors import MoleculeDescriptors\n",
    "# import sklearn\n",
    "# from sklearn import ensemble\n",
    "# from sklearn.ensemble import RandomForestClassifier\n",
    "import warnings\n",
    "import gc\n"
   ]
  },
  {
   "cell_type": "markdown",
   "metadata": {},
   "source": [
    "- import MetabolitesFromInChI.csv"
   ]
  },
  {
   "cell_type": "code",
   "execution_count": 6,
   "metadata": {},
   "outputs": [],
   "source": [
    "#df = pd.read_csv(\"https://raw.githubusercontent.com/meidelien/Metabolic-network-layout-using-biochemical-coordinates/main/Notebooks/MetabolitesFromInChIKey.csv\")\n",
    "\n",
    "dfInchiBiGG = pd.read_csv(\"1515_inchi_only_Groomed.csv\")\n",
    "\n",
    "#df1515 = pd.read_csv(\"https://raw.githubusercontent.com/meidelien/Metabolic-network-layout-using-biochemical-coordinates/main/Notebooks/MetabolitesInChIKeyiML1515.csv\")"
   ]
  },
  {
   "cell_type": "markdown",
   "metadata": {},
   "source": [
    "# Creating new df with descriptors\n",
    "- Iterating over InChI's from MetabolitesFromInChI df \n",
    "- Storing DescriptorCalculator output to descrs list\n",
    "- Creating molDes df & appending Descriptors to each column\n"
   ]
  },
  {
   "cell_type": "code",
   "execution_count": 8,
   "metadata": {},
   "outputs": [
    {
     "data": {
      "text/html": [
       "<div>\n",
       "<style scoped>\n",
       "    .dataframe tbody tr th:only-of-type {\n",
       "        vertical-align: middle;\n",
       "    }\n",
       "\n",
       "    .dataframe tbody tr th {\n",
       "        vertical-align: top;\n",
       "    }\n",
       "\n",
       "    .dataframe thead th {\n",
       "        text-align: right;\n",
       "    }\n",
       "</style>\n",
       "<table border=\"1\" class=\"dataframe\">\n",
       "  <thead>\n",
       "    <tr style=\"text-align: right;\">\n",
       "      <th></th>\n",
       "      <th>MaxEStateIndex</th>\n",
       "      <th>MinEStateIndex</th>\n",
       "      <th>MaxAbsEStateIndex</th>\n",
       "      <th>MinAbsEStateIndex</th>\n",
       "      <th>qed</th>\n",
       "      <th>MolWt</th>\n",
       "      <th>HeavyAtomMolWt</th>\n",
       "      <th>ExactMolWt</th>\n",
       "      <th>NumValenceElectrons</th>\n",
       "      <th>NumRadicalElectrons</th>\n",
       "      <th>...</th>\n",
       "      <th>fr_sulfide</th>\n",
       "      <th>fr_sulfonamd</th>\n",
       "      <th>fr_sulfone</th>\n",
       "      <th>fr_term_acetylene</th>\n",
       "      <th>fr_tetrazole</th>\n",
       "      <th>fr_thiazole</th>\n",
       "      <th>fr_thiocyan</th>\n",
       "      <th>fr_thiophene</th>\n",
       "      <th>fr_unbrch_alkane</th>\n",
       "      <th>fr_urea</th>\n",
       "    </tr>\n",
       "  </thead>\n",
       "  <tbody>\n",
       "    <tr>\n",
       "      <th>0</th>\n",
       "      <td>0.000000</td>\n",
       "      <td>0.000000</td>\n",
       "      <td>0.000000</td>\n",
       "      <td>0.000000</td>\n",
       "      <td>0.342643</td>\n",
       "      <td>1.008</td>\n",
       "      <td>0.000</td>\n",
       "      <td>1.007276</td>\n",
       "      <td>0</td>\n",
       "      <td>0</td>\n",
       "      <td>...</td>\n",
       "      <td>0</td>\n",
       "      <td>0</td>\n",
       "      <td>0</td>\n",
       "      <td>0</td>\n",
       "      <td>0</td>\n",
       "      <td>0</td>\n",
       "      <td>0</td>\n",
       "      <td>0</td>\n",
       "      <td>0</td>\n",
       "      <td>0</td>\n",
       "    </tr>\n",
       "    <tr>\n",
       "      <th>1</th>\n",
       "      <td>12.382693</td>\n",
       "      <td>-5.621082</td>\n",
       "      <td>12.382693</td>\n",
       "      <td>0.043672</td>\n",
       "      <td>0.069723</td>\n",
       "      <td>663.430</td>\n",
       "      <td>636.214</td>\n",
       "      <td>663.110219</td>\n",
       "      <td>242</td>\n",
       "      <td>0</td>\n",
       "      <td>...</td>\n",
       "      <td>0</td>\n",
       "      <td>0</td>\n",
       "      <td>0</td>\n",
       "      <td>0</td>\n",
       "      <td>0</td>\n",
       "      <td>0</td>\n",
       "      <td>0</td>\n",
       "      <td>0</td>\n",
       "      <td>0</td>\n",
       "      <td>0</td>\n",
       "    </tr>\n",
       "    <tr>\n",
       "      <th>2</th>\n",
       "      <td>10.903369</td>\n",
       "      <td>-5.608866</td>\n",
       "      <td>10.903369</td>\n",
       "      <td>0.373579</td>\n",
       "      <td>0.483914</td>\n",
       "      <td>311.187</td>\n",
       "      <td>294.051</td>\n",
       "      <td>311.046597</td>\n",
       "      <td>112</td>\n",
       "      <td>0</td>\n",
       "      <td>...</td>\n",
       "      <td>0</td>\n",
       "      <td>0</td>\n",
       "      <td>0</td>\n",
       "      <td>0</td>\n",
       "      <td>0</td>\n",
       "      <td>0</td>\n",
       "      <td>0</td>\n",
       "      <td>0</td>\n",
       "      <td>0</td>\n",
       "      <td>0</td>\n",
       "    </tr>\n",
       "    <tr>\n",
       "      <th>3</th>\n",
       "      <td>9.404861</td>\n",
       "      <td>0.708333</td>\n",
       "      <td>9.404861</td>\n",
       "      <td>0.708333</td>\n",
       "      <td>0.444345</td>\n",
       "      <td>72.107</td>\n",
       "      <td>64.043</td>\n",
       "      <td>72.057515</td>\n",
       "      <td>30</td>\n",
       "      <td>0</td>\n",
       "      <td>...</td>\n",
       "      <td>0</td>\n",
       "      <td>0</td>\n",
       "      <td>0</td>\n",
       "      <td>0</td>\n",
       "      <td>0</td>\n",
       "      <td>0</td>\n",
       "      <td>0</td>\n",
       "      <td>0</td>\n",
       "      <td>0</td>\n",
       "      <td>0</td>\n",
       "    </tr>\n",
       "    <tr>\n",
       "      <th>4</th>\n",
       "      <td>10.138871</td>\n",
       "      <td>-0.983021</td>\n",
       "      <td>10.138871</td>\n",
       "      <td>0.015959</td>\n",
       "      <td>0.606252</td>\n",
       "      <td>213.257</td>\n",
       "      <td>196.121</td>\n",
       "      <td>213.124466</td>\n",
       "      <td>86</td>\n",
       "      <td>0</td>\n",
       "      <td>...</td>\n",
       "      <td>0</td>\n",
       "      <td>0</td>\n",
       "      <td>0</td>\n",
       "      <td>0</td>\n",
       "      <td>0</td>\n",
       "      <td>0</td>\n",
       "      <td>0</td>\n",
       "      <td>0</td>\n",
       "      <td>2</td>\n",
       "      <td>0</td>\n",
       "    </tr>\n",
       "  </tbody>\n",
       "</table>\n",
       "<p>5 rows × 208 columns</p>\n",
       "</div>"
      ],
      "text/plain": [
       "   MaxEStateIndex  MinEStateIndex  MaxAbsEStateIndex  MinAbsEStateIndex  \\\n",
       "0        0.000000        0.000000           0.000000           0.000000   \n",
       "1       12.382693       -5.621082          12.382693           0.043672   \n",
       "2       10.903369       -5.608866          10.903369           0.373579   \n",
       "3        9.404861        0.708333           9.404861           0.708333   \n",
       "4       10.138871       -0.983021          10.138871           0.015959   \n",
       "\n",
       "        qed    MolWt  HeavyAtomMolWt  ExactMolWt  NumValenceElectrons  \\\n",
       "0  0.342643    1.008           0.000    1.007276                    0   \n",
       "1  0.069723  663.430         636.214  663.110219                  242   \n",
       "2  0.483914  311.187         294.051  311.046597                  112   \n",
       "3  0.444345   72.107          64.043   72.057515                   30   \n",
       "4  0.606252  213.257         196.121  213.124466                   86   \n",
       "\n",
       "   NumRadicalElectrons  ...  fr_sulfide  fr_sulfonamd  fr_sulfone  \\\n",
       "0                    0  ...           0             0           0   \n",
       "1                    0  ...           0             0           0   \n",
       "2                    0  ...           0             0           0   \n",
       "3                    0  ...           0             0           0   \n",
       "4                    0  ...           0             0           0   \n",
       "\n",
       "   fr_term_acetylene  fr_tetrazole  fr_thiazole  fr_thiocyan  fr_thiophene  \\\n",
       "0                  0             0            0            0             0   \n",
       "1                  0             0            0            0             0   \n",
       "2                  0             0            0            0             0   \n",
       "3                  0             0            0            0             0   \n",
       "4                  0             0            0            0             0   \n",
       "\n",
       "   fr_unbrch_alkane  fr_urea  \n",
       "0                 0        0  \n",
       "1                 0        0  \n",
       "2                 0        0  \n",
       "3                 0        0  \n",
       "4                 2        0  \n",
       "\n",
       "[5 rows x 208 columns]"
      ]
     },
     "execution_count": 8,
     "metadata": {},
     "output_type": "execute_result"
    }
   ],
   "source": [
    "mol_list = []\n",
    "\n",
    "for i in dfInchiBiGG.InChI:\n",
    "    mol = Chem.MolFromInchi(i)\n",
    "    mol_list.append(mol)\n",
    "\n",
    "\n",
    "desc_list=[i[0] for i in Descriptors._descList]\n",
    "descriptor = MoleculeDescriptors.MolecularDescriptorCalculator(desc_list)\n",
    "\n",
    "descrs =  []\n",
    "\n",
    "for i in range(len(mol_list)):\n",
    "    descrs.append(descriptor.CalcDescriptors(mol_list[i]))\n",
    "molDes = pd.DataFrame(descrs, columns= desc_list)\n",
    "molDes.head(5)"
   ]
  },
  {
   "cell_type": "markdown",
   "metadata": {},
   "source": [
    "- Make csv cus reasons"
   ]
  },
  {
   "cell_type": "code",
   "execution_count": 5,
   "metadata": {},
   "outputs": [],
   "source": [
    "molDes.to_csv(\"chemical_properties1515.csv\", index = False)"
   ]
  },
  {
   "cell_type": "code",
   "execution_count": 4,
   "metadata": {},
   "outputs": [],
   "source": [
    "# data1 = pd.read_csv(\"MetabolitesInChIKeyiML1515.csv\")\n",
    "# data2 = pd.read_csv(\"chemical_properties1515.csv\")\n",
    "\n",
    "data1 = pd.read_csv(\"1515_inchi_only_Groomed.csv\")\n",
    "data2 = molDes"
   ]
  },
  {
   "cell_type": "markdown",
   "metadata": {},
   "source": [
    "- Concatatenating MetabolitesFromInChIKey & chemical_properties.csv"
   ]
  },
  {
   "cell_type": "code",
   "execution_count": 9,
   "metadata": {},
   "outputs": [],
   "source": [
    "result = pd.concat([data1, data2], axis=1).reindex(data1.index)"
   ]
  },
  {
   "cell_type": "code",
   "execution_count": 9,
   "metadata": {},
   "outputs": [],
   "source": [
    "result.to_csv(\"Chemical_descriptors1515_BiGG.csv\", index = False)"
   ]
  },
  {
   "cell_type": "code",
   "execution_count": 10,
   "metadata": {},
   "outputs": [],
   "source": [
    "df = pd.read_csv(\"Chemical_descriptors1515.csv\")"
   ]
  },
  {
   "cell_type": "code",
   "execution_count": 6,
   "metadata": {},
   "outputs": [],
   "source": [
    "Species_iD = [\"M_h_c\", \"M_h_c\", \"M_nadh_c\",\"M_acon_C_c\",\"M_accoa_c\",\"M_6pgl_c\", \"M_succoa_c\", \"M_glc__D_e\",\"M_mal__L_c\", \"M_cit_c\", \"M_13dpg_c\", \"M_etoh_c\",\"M_co2_c\" ,\"M_ru5p__D_c\", \"M_xu5p__D_c\", \"M_q8h2_c\", \"M_akg_c\", \"M_pyr_c\", \"M_q8_c\", \"M_succ_c\", \"M_e4p_c\",\"M_ac_c\",\"M_2pg_c\", \"M_actp_c\",\"M_atp_c\", \"M_gln__L_c\", \"M_for_c\", \"M_adp_c\",\"M_oaa_c\",\"M_nadp_c\", \"M_glx_c\", \"M_coa_c\", \"M_3pg_c\", \"M_amp_c\",\"M_nh4_c\", \"M_fru_e\", \"M_pep_c\", \"M_pi_c\", \"M_lac__D_c\", \"M_s7p_c\", \"M_6pgc_c\", \"M_etoh_c\",\"M_o2_c\", \"M_o2_e\", \"M_acald_c\", \"M_fum_c\", \"M_nadph_c\", \"M_g3p_c\", \"M_glu__L_c\", \"M_acald_c\", \"M_dhap_c\", \"M_f6p_c\", \"M_icit_c\", \"M_pi_c\",\"M_h2o_c\"]"
   ]
  },
  {
   "cell_type": "code",
   "execution_count": null,
   "metadata": {},
   "outputs": [],
   "source": [
    "BiGG = [\"h\", \"h\", \"nadh\",\"acon_C\", \"accoa\", \"6pgl\", \"succoa\", \"glc__D\", \"mal__L\",\"cit\", \"13dpg\", \"etoh\", \"co2\", \"ru5p__D\", \"xu5p__D\", \"q8h2\", \"akg\", \"pyr\", \"q8\", \"succ\", \"e4p\", \"ac\", \"2pg\",\"actp\", \"atp\", \"gln__L\", \"for\", \"adp\", \"oaa\", \"nadp\", \"glx\", \"coa\"     ]"
   ]
  }
 ],
 "metadata": {
  "interpreter": {
   "hash": "8420ab189d00d083782919827e61e029726b7008cf5217a89172cbb7a6a52562"
  },
  "kernelspec": {
   "display_name": "Python 3.9.7 64-bit ('my-rdkit-env': conda)",
   "name": "python3"
  },
  "language_info": {
   "codemirror_mode": {
    "name": "ipython",
    "version": 3
   },
   "file_extension": ".py",
   "mimetype": "text/x-python",
   "name": "python",
   "nbconvert_exporter": "python",
   "pygments_lexer": "ipython3",
   "version": "3.9.7"
  },
  "orig_nbformat": 4
 },
 "nbformat": 4,
 "nbformat_minor": 2
}
