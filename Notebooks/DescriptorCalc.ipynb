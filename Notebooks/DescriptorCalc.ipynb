{
 "cells": [
  {
   "cell_type": "markdown",
   "metadata": {},
   "source": [
    "# ╰(*°▽°*)╯ Import stuff ╰(*°▽°*)╯"
   ]
  },
  {
   "cell_type": "code",
   "execution_count": 1,
   "metadata": {},
   "outputs": [],
   "source": [
    "import numpy as np\n",
    "import pandas as pd\n",
    "import rdkit\n",
    "from rdkit import Chem\n",
    "from rdkit.Chem import Descriptors\n",
    "from rdkit.ML.Descriptors import MoleculeDescriptors\n",
    "from rdkit.Chem import AllChem\n",
    "from rdkit.Chem import rdMolDescriptors\n",
    "# import sklearn\n",
    "# from sklearn import ensemble\n",
    "# from sklearn.ensemble import RandomForestClassifier\n",
    "import warnings\n",
    "import gc\n",
    "\n",
    "\n"
   ]
  },
  {
   "cell_type": "code",
   "execution_count": 2,
   "metadata": {},
   "outputs": [
    {
     "name": "stdout",
     "output_type": "stream",
     "text": [
      "c:\\GitHub\\Metabolic-network-layout-using-biochemical-coordinates\\Notebooks\n"
     ]
    }
   ],
   "source": [
    "print(os.getcwd())\n"
   ]
  },
  {
   "cell_type": "markdown",
   "metadata": {},
   "source": [
    "#### Set data dir"
   ]
  },
  {
   "cell_type": "code",
   "execution_count": 3,
   "metadata": {},
   "outputs": [],
   "source": [
    "import sys\n",
    "import os\n",
    "\n",
    "path = \"data/\"\n",
    "os.chdir(path)\n"
   ]
  },
  {
   "cell_type": "code",
   "execution_count": 5,
   "metadata": {},
   "outputs": [
    {
     "name": "stdout",
     "output_type": "stream",
     "text": [
      "c:\\GitHub\\Metabolic-network-layout-using-biochemical-coordinates\\Notebooks\\data\n"
     ]
    }
   ],
   "source": [
    "print(os.getcwd())"
   ]
  },
  {
   "cell_type": "markdown",
   "metadata": {},
   "source": [
    "- import MetabolitesFromInChI.csv"
   ]
  },
  {
   "cell_type": "code",
   "execution_count": 20,
   "metadata": {},
   "outputs": [],
   "source": [
    "Calc = pd.read_csv(\"Calc.csv\")\n",
    "df = pd.read_csv(\"Chemical_descriptors1515.csv\")\n",
    "\n",
    "\n",
    "dfSMILES = pd.read_csv(\"LackingInChI copy.csv\")\n",
    "\n",
    "dfInChI = pd.read_csv(\"Calc.csv\")"
   ]
  },
  {
   "cell_type": "markdown",
   "metadata": {},
   "source": [
    "# Calculating features & creating new df with descriptors\n",
    "- Iterating over InChI's from MetabolitesFromInChI df \n",
    "- Storing DescriptorCalculator output to descrs list\n",
    "- Creating molDes df & appending Descriptors to each column\n"
   ]
  },
  {
   "cell_type": "code",
   "execution_count": 11,
   "metadata": {},
   "outputs": [
    {
     "name": "stderr",
     "output_type": "stream",
     "text": [
      "[11:37:03] WARNING:  Problems/mismatches: Mobile-H( Hydrogens: Locations or number, Number; Charge(s): Do not match)\n",
      "\n"
     ]
    },
    {
     "data": {
      "text/html": [
       "<div>\n",
       "<style scoped>\n",
       "    .dataframe tbody tr th:only-of-type {\n",
       "        vertical-align: middle;\n",
       "    }\n",
       "\n",
       "    .dataframe tbody tr th {\n",
       "        vertical-align: top;\n",
       "    }\n",
       "\n",
       "    .dataframe thead th {\n",
       "        text-align: right;\n",
       "    }\n",
       "</style>\n",
       "<table border=\"1\" class=\"dataframe\">\n",
       "  <thead>\n",
       "    <tr style=\"text-align: right;\">\n",
       "      <th></th>\n",
       "      <th>MaxEStateIndex</th>\n",
       "      <th>MinEStateIndex</th>\n",
       "      <th>MaxAbsEStateIndex</th>\n",
       "      <th>MinAbsEStateIndex</th>\n",
       "      <th>qed</th>\n",
       "      <th>MolWt</th>\n",
       "      <th>HeavyAtomMolWt</th>\n",
       "      <th>ExactMolWt</th>\n",
       "      <th>NumValenceElectrons</th>\n",
       "      <th>NumRadicalElectrons</th>\n",
       "      <th>...</th>\n",
       "      <th>fr_sulfide</th>\n",
       "      <th>fr_sulfonamd</th>\n",
       "      <th>fr_sulfone</th>\n",
       "      <th>fr_term_acetylene</th>\n",
       "      <th>fr_tetrazole</th>\n",
       "      <th>fr_thiazole</th>\n",
       "      <th>fr_thiocyan</th>\n",
       "      <th>fr_thiophene</th>\n",
       "      <th>fr_unbrch_alkane</th>\n",
       "      <th>fr_urea</th>\n",
       "    </tr>\n",
       "  </thead>\n",
       "  <tbody>\n",
       "    <tr>\n",
       "      <th>0</th>\n",
       "      <td>0.000000</td>\n",
       "      <td>0.000000</td>\n",
       "      <td>0.000000</td>\n",
       "      <td>0.000000</td>\n",
       "      <td>0.342643</td>\n",
       "      <td>1.008</td>\n",
       "      <td>0.000</td>\n",
       "      <td>1.007276</td>\n",
       "      <td>0</td>\n",
       "      <td>0</td>\n",
       "      <td>...</td>\n",
       "      <td>0</td>\n",
       "      <td>0</td>\n",
       "      <td>0</td>\n",
       "      <td>0</td>\n",
       "      <td>0</td>\n",
       "      <td>0</td>\n",
       "      <td>0</td>\n",
       "      <td>0</td>\n",
       "      <td>0</td>\n",
       "      <td>0</td>\n",
       "    </tr>\n",
       "    <tr>\n",
       "      <th>1</th>\n",
       "      <td>12.382693</td>\n",
       "      <td>-5.621082</td>\n",
       "      <td>12.382693</td>\n",
       "      <td>0.043672</td>\n",
       "      <td>0.069723</td>\n",
       "      <td>663.430</td>\n",
       "      <td>636.214</td>\n",
       "      <td>663.110219</td>\n",
       "      <td>242</td>\n",
       "      <td>0</td>\n",
       "      <td>...</td>\n",
       "      <td>0</td>\n",
       "      <td>0</td>\n",
       "      <td>0</td>\n",
       "      <td>0</td>\n",
       "      <td>0</td>\n",
       "      <td>0</td>\n",
       "      <td>0</td>\n",
       "      <td>0</td>\n",
       "      <td>0</td>\n",
       "      <td>0</td>\n",
       "    </tr>\n",
       "    <tr>\n",
       "      <th>2</th>\n",
       "      <td>10.903369</td>\n",
       "      <td>-5.608866</td>\n",
       "      <td>10.903369</td>\n",
       "      <td>0.373579</td>\n",
       "      <td>0.483914</td>\n",
       "      <td>311.187</td>\n",
       "      <td>294.051</td>\n",
       "      <td>311.046597</td>\n",
       "      <td>112</td>\n",
       "      <td>0</td>\n",
       "      <td>...</td>\n",
       "      <td>0</td>\n",
       "      <td>0</td>\n",
       "      <td>0</td>\n",
       "      <td>0</td>\n",
       "      <td>0</td>\n",
       "      <td>0</td>\n",
       "      <td>0</td>\n",
       "      <td>0</td>\n",
       "      <td>0</td>\n",
       "      <td>0</td>\n",
       "    </tr>\n",
       "    <tr>\n",
       "      <th>3</th>\n",
       "      <td>9.404861</td>\n",
       "      <td>0.708333</td>\n",
       "      <td>9.404861</td>\n",
       "      <td>0.708333</td>\n",
       "      <td>0.444345</td>\n",
       "      <td>72.107</td>\n",
       "      <td>64.043</td>\n",
       "      <td>72.057515</td>\n",
       "      <td>30</td>\n",
       "      <td>0</td>\n",
       "      <td>...</td>\n",
       "      <td>0</td>\n",
       "      <td>0</td>\n",
       "      <td>0</td>\n",
       "      <td>0</td>\n",
       "      <td>0</td>\n",
       "      <td>0</td>\n",
       "      <td>0</td>\n",
       "      <td>0</td>\n",
       "      <td>0</td>\n",
       "      <td>0</td>\n",
       "    </tr>\n",
       "    <tr>\n",
       "      <th>4</th>\n",
       "      <td>10.138871</td>\n",
       "      <td>-0.983021</td>\n",
       "      <td>10.138871</td>\n",
       "      <td>0.015959</td>\n",
       "      <td>0.606252</td>\n",
       "      <td>213.257</td>\n",
       "      <td>196.121</td>\n",
       "      <td>213.124466</td>\n",
       "      <td>86</td>\n",
       "      <td>0</td>\n",
       "      <td>...</td>\n",
       "      <td>0</td>\n",
       "      <td>0</td>\n",
       "      <td>0</td>\n",
       "      <td>0</td>\n",
       "      <td>0</td>\n",
       "      <td>0</td>\n",
       "      <td>0</td>\n",
       "      <td>0</td>\n",
       "      <td>2</td>\n",
       "      <td>0</td>\n",
       "    </tr>\n",
       "  </tbody>\n",
       "</table>\n",
       "<p>5 rows × 208 columns</p>\n",
       "</div>"
      ],
      "text/plain": [
       "   MaxEStateIndex  MinEStateIndex  MaxAbsEStateIndex  MinAbsEStateIndex  \\\n",
       "0        0.000000        0.000000           0.000000           0.000000   \n",
       "1       12.382693       -5.621082          12.382693           0.043672   \n",
       "2       10.903369       -5.608866          10.903369           0.373579   \n",
       "3        9.404861        0.708333           9.404861           0.708333   \n",
       "4       10.138871       -0.983021          10.138871           0.015959   \n",
       "\n",
       "        qed    MolWt  HeavyAtomMolWt  ExactMolWt  NumValenceElectrons  \\\n",
       "0  0.342643    1.008           0.000    1.007276                    0   \n",
       "1  0.069723  663.430         636.214  663.110219                  242   \n",
       "2  0.483914  311.187         294.051  311.046597                  112   \n",
       "3  0.444345   72.107          64.043   72.057515                   30   \n",
       "4  0.606252  213.257         196.121  213.124466                   86   \n",
       "\n",
       "   NumRadicalElectrons  ...  fr_sulfide  fr_sulfonamd  fr_sulfone  \\\n",
       "0                    0  ...           0             0           0   \n",
       "1                    0  ...           0             0           0   \n",
       "2                    0  ...           0             0           0   \n",
       "3                    0  ...           0             0           0   \n",
       "4                    0  ...           0             0           0   \n",
       "\n",
       "   fr_term_acetylene  fr_tetrazole  fr_thiazole  fr_thiocyan  fr_thiophene  \\\n",
       "0                  0             0            0            0             0   \n",
       "1                  0             0            0            0             0   \n",
       "2                  0             0            0            0             0   \n",
       "3                  0             0            0            0             0   \n",
       "4                  0             0            0            0             0   \n",
       "\n",
       "   fr_unbrch_alkane  fr_urea  \n",
       "0                 0        0  \n",
       "1                 0        0  \n",
       "2                 0        0  \n",
       "3                 0        0  \n",
       "4                 2        0  \n",
       "\n",
       "[5 rows x 208 columns]"
      ]
     },
     "execution_count": 11,
     "metadata": {},
     "output_type": "execute_result"
    }
   ],
   "source": [
    "mol_list = [] # Initialize the list\n",
    "\n",
    "for i in dfInChI.InChI: # Loop through the InChI column\n",
    "    mol = Chem.MolFromInchi(i) # Get the molecule from each InChI in the column\n",
    "    mol_list.append(mol)  # Append the molecule to the list\n",
    "\n",
    "\n",
    "desc_list=[i[0] for i in Descriptors._descList] # Get the list of descriptors\n",
    "descriptor = MoleculeDescriptors.MolecularDescriptorCalculator(desc_list) # Create the calculator\n",
    "\n",
    "descrs =  [] # Initialize the descriptor list\n",
    "\n",
    "for i in range(len(mol_list)): # Loop through each metabolite in the list\n",
    "    descrs.append(descriptor.CalcDescriptors(mol_list[i])) # Append the descriptors to the molecule list\n",
    "molDesInChI = pd.DataFrame(descrs, columns= desc_list) # Create the dataframe\n",
    "molDesInChI.head(5)  # Print the first 5 rows of the dataframe"
   ]
  },
  {
   "cell_type": "code",
   "execution_count": 29,
   "metadata": {},
   "outputs": [
    {
     "data": {
      "text/html": [
       "<div>\n",
       "<style scoped>\n",
       "    .dataframe tbody tr th:only-of-type {\n",
       "        vertical-align: middle;\n",
       "    }\n",
       "\n",
       "    .dataframe tbody tr th {\n",
       "        vertical-align: top;\n",
       "    }\n",
       "\n",
       "    .dataframe thead th {\n",
       "        text-align: right;\n",
       "    }\n",
       "</style>\n",
       "<table border=\"1\" class=\"dataframe\">\n",
       "  <thead>\n",
       "    <tr style=\"text-align: right;\">\n",
       "      <th></th>\n",
       "      <th>MaxEStateIndex</th>\n",
       "      <th>MinEStateIndex</th>\n",
       "      <th>MaxAbsEStateIndex</th>\n",
       "      <th>MinAbsEStateIndex</th>\n",
       "      <th>qed</th>\n",
       "      <th>MolWt</th>\n",
       "      <th>HeavyAtomMolWt</th>\n",
       "      <th>ExactMolWt</th>\n",
       "      <th>NumValenceElectrons</th>\n",
       "      <th>NumRadicalElectrons</th>\n",
       "      <th>...</th>\n",
       "      <th>fr_sulfide</th>\n",
       "      <th>fr_sulfonamd</th>\n",
       "      <th>fr_sulfone</th>\n",
       "      <th>fr_term_acetylene</th>\n",
       "      <th>fr_tetrazole</th>\n",
       "      <th>fr_thiazole</th>\n",
       "      <th>fr_thiocyan</th>\n",
       "      <th>fr_thiophene</th>\n",
       "      <th>fr_unbrch_alkane</th>\n",
       "      <th>fr_urea</th>\n",
       "    </tr>\n",
       "  </thead>\n",
       "  <tbody>\n",
       "    <tr>\n",
       "      <th>0</th>\n",
       "      <td>2.000000</td>\n",
       "      <td>1.333333</td>\n",
       "      <td>2.000000</td>\n",
       "      <td>1.333333</td>\n",
       "      <td>0.509536</td>\n",
       "      <td>175.824</td>\n",
       "      <td>175.824</td>\n",
       "      <td>175.812920</td>\n",
       "      <td>26</td>\n",
       "      <td>2</td>\n",
       "      <td>...</td>\n",
       "      <td>0</td>\n",
       "      <td>0</td>\n",
       "      <td>0</td>\n",
       "      <td>0</td>\n",
       "      <td>0</td>\n",
       "      <td>0</td>\n",
       "      <td>0</td>\n",
       "      <td>0</td>\n",
       "      <td>0</td>\n",
       "      <td>0</td>\n",
       "    </tr>\n",
       "    <tr>\n",
       "      <th>1</th>\n",
       "      <td>6.000000</td>\n",
       "      <td>6.000000</td>\n",
       "      <td>6.000000</td>\n",
       "      <td>6.000000</td>\n",
       "      <td>0.292487</td>\n",
       "      <td>34.014</td>\n",
       "      <td>31.998</td>\n",
       "      <td>34.005479</td>\n",
       "      <td>14</td>\n",
       "      <td>0</td>\n",
       "      <td>...</td>\n",
       "      <td>0</td>\n",
       "      <td>0</td>\n",
       "      <td>0</td>\n",
       "      <td>0</td>\n",
       "      <td>0</td>\n",
       "      <td>0</td>\n",
       "      <td>0</td>\n",
       "      <td>0</td>\n",
       "      <td>0</td>\n",
       "      <td>0</td>\n",
       "    </tr>\n",
       "    <tr>\n",
       "      <th>2</th>\n",
       "      <td>7.798611</td>\n",
       "      <td>0.183642</td>\n",
       "      <td>7.798611</td>\n",
       "      <td>0.183642</td>\n",
       "      <td>0.419854</td>\n",
       "      <td>78.136</td>\n",
       "      <td>72.088</td>\n",
       "      <td>78.013936</td>\n",
       "      <td>26</td>\n",
       "      <td>0</td>\n",
       "      <td>...</td>\n",
       "      <td>0</td>\n",
       "      <td>0</td>\n",
       "      <td>0</td>\n",
       "      <td>0</td>\n",
       "      <td>0</td>\n",
       "      <td>0</td>\n",
       "      <td>0</td>\n",
       "      <td>0</td>\n",
       "      <td>0</td>\n",
       "      <td>0</td>\n",
       "    </tr>\n",
       "    <tr>\n",
       "      <th>3</th>\n",
       "      <td>7.906250</td>\n",
       "      <td>0.093750</td>\n",
       "      <td>7.906250</td>\n",
       "      <td>0.093750</td>\n",
       "      <td>0.459049</td>\n",
       "      <td>76.095</td>\n",
       "      <td>68.031</td>\n",
       "      <td>76.052429</td>\n",
       "      <td>32</td>\n",
       "      <td>0</td>\n",
       "      <td>...</td>\n",
       "      <td>0</td>\n",
       "      <td>0</td>\n",
       "      <td>0</td>\n",
       "      <td>0</td>\n",
       "      <td>0</td>\n",
       "      <td>0</td>\n",
       "      <td>0</td>\n",
       "      <td>0</td>\n",
       "      <td>0</td>\n",
       "      <td>0</td>\n",
       "    </tr>\n",
       "    <tr>\n",
       "      <th>4</th>\n",
       "      <td>11.086299</td>\n",
       "      <td>-2.056545</td>\n",
       "      <td>11.086299</td>\n",
       "      <td>0.761005</td>\n",
       "      <td>0.102836</td>\n",
       "      <td>666.579</td>\n",
       "      <td>624.243</td>\n",
       "      <td>666.221858</td>\n",
       "      <td>264</td>\n",
       "      <td>0</td>\n",
       "      <td>...</td>\n",
       "      <td>0</td>\n",
       "      <td>0</td>\n",
       "      <td>0</td>\n",
       "      <td>0</td>\n",
       "      <td>0</td>\n",
       "      <td>0</td>\n",
       "      <td>0</td>\n",
       "      <td>0</td>\n",
       "      <td>0</td>\n",
       "      <td>0</td>\n",
       "    </tr>\n",
       "  </tbody>\n",
       "</table>\n",
       "<p>5 rows × 208 columns</p>\n",
       "</div>"
      ],
      "text/plain": [
       "   MaxEStateIndex  MinEStateIndex  MaxAbsEStateIndex  MinAbsEStateIndex  \\\n",
       "0        2.000000        1.333333           2.000000           1.333333   \n",
       "1        6.000000        6.000000           6.000000           6.000000   \n",
       "2        7.798611        0.183642           7.798611           0.183642   \n",
       "3        7.906250        0.093750           7.906250           0.093750   \n",
       "4       11.086299       -2.056545          11.086299           0.761005   \n",
       "\n",
       "        qed    MolWt  HeavyAtomMolWt  ExactMolWt  NumValenceElectrons  \\\n",
       "0  0.509536  175.824         175.824  175.812920                   26   \n",
       "1  0.292487   34.014          31.998   34.005479                   14   \n",
       "2  0.419854   78.136          72.088   78.013936                   26   \n",
       "3  0.459049   76.095          68.031   76.052429                   32   \n",
       "4  0.102836  666.579         624.243  666.221858                  264   \n",
       "\n",
       "   NumRadicalElectrons  ...  fr_sulfide  fr_sulfonamd  fr_sulfone  \\\n",
       "0                    2  ...           0             0           0   \n",
       "1                    0  ...           0             0           0   \n",
       "2                    0  ...           0             0           0   \n",
       "3                    0  ...           0             0           0   \n",
       "4                    0  ...           0             0           0   \n",
       "\n",
       "   fr_term_acetylene  fr_tetrazole  fr_thiazole  fr_thiocyan  fr_thiophene  \\\n",
       "0                  0             0            0            0             0   \n",
       "1                  0             0            0            0             0   \n",
       "2                  0             0            0            0             0   \n",
       "3                  0             0            0            0             0   \n",
       "4                  0             0            0            0             0   \n",
       "\n",
       "   fr_unbrch_alkane  fr_urea  \n",
       "0                 0        0  \n",
       "1                 0        0  \n",
       "2                 0        0  \n",
       "3                 0        0  \n",
       "4                 0        0  \n",
       "\n",
       "[5 rows x 208 columns]"
      ]
     },
     "execution_count": 29,
     "metadata": {},
     "output_type": "execute_result"
    }
   ],
   "source": [
    "mol_list = [] # Initialize the list\n",
    "\n",
    "for i in dfSMILES.SMILES: # Initialize the SMILES list\n",
    "    mol = Chem.MolFromSmiles(i) # Get the molecule from the SMILES column\n",
    "    mol_list.append(mol) # Add the molecule to the molecule list\n",
    "\n",
    "\n",
    "desc_list=[i[0] for i in Descriptors._descList] # Get the list of descriptors\n",
    "descriptor = MoleculeDescriptors.MolecularDescriptorCalculator(desc_list) # Create the calculator\n",
    "\n",
    "descrs =  [] # Initialize the descriptor list\n",
    "\n",
    "for i in range(len(mol_list)): # Loop through each metabolite in the list\n",
    "    descrs.append(descriptor.CalcDescriptors(mol_list[i])) # Append the descriptors to the molecule list\n",
    "molDesSMILES = pd.DataFrame(descrs, columns= desc_list) # Create the dataframe\n",
    "molDesSMILES.head(5) # Print the first 5 rows of the dataframe"
   ]
  },
  {
   "cell_type": "code",
   "execution_count": null,
   "metadata": {},
   "outputs": [],
   "source": [
    "# molDes.to_csv(\"Calc_results.csv\")"
   ]
  },
  {
   "cell_type": "markdown",
   "metadata": {},
   "source": [
    "# Archived stuff"
   ]
  },
  {
   "cell_type": "markdown",
   "metadata": {},
   "source": [
    "- Make csv cus reasons"
   ]
  },
  {
   "cell_type": "code",
   "execution_count": 5,
   "metadata": {},
   "outputs": [],
   "source": [
    "# molDes.to_csv(\"chemical_properties1515.csv\", index = False)"
   ]
  },
  {
   "cell_type": "code",
   "execution_count": 21,
   "metadata": {},
   "outputs": [],
   "source": [
    "# data1 = pd.read_csv(\"MetabolitesInChIKeyiML1515.csv\")\n",
    "# data2 = pd.read_csv(\"chemical_properties1515.csv\")\n",
    "\n",
    "# data1 = pd.read_csv(\"1515_inchi_only_Groomed.csv\")\n",
    "data1 = dfInChI\n",
    "data2 = molDesInChI"
   ]
  },
  {
   "cell_type": "code",
   "execution_count": 25,
   "metadata": {},
   "outputs": [],
   "source": [
    "Hope_slim = Hope.drop(columns = [\"\tLine 1: \",\"reference\", \"formula\", \"InChIKey\", \"SMILES\", \"description\",\"charge\",\"mass\" ])\n"
   ]
  },
  {
   "cell_type": "code",
   "execution_count": 26,
   "metadata": {},
   "outputs": [],
   "source": [
    "Hope_slim = Hope_slim[[\"BiGG\",\"name\",\"InChI\"]]"
   ]
  },
  {
   "cell_type": "code",
   "execution_count": 27,
   "metadata": {},
   "outputs": [],
   "source": [
    "Hope_slim.to_csv(\"Calc.csv\")"
   ]
  },
  {
   "cell_type": "code",
   "execution_count": 18,
   "metadata": {},
   "outputs": [],
   "source": [
    "BiGG_InChI = dfInChI[\"BiGG\"].tolist()\n",
    "MNXM_InChI = dfInChI[\"MNXM\"].tolist()\n",
    "# InChI = Calc[\"InChI\"].toList()\n",
    "# Name = Calc[\"Name\"].toList()"
   ]
  },
  {
   "cell_type": "code",
   "execution_count": 27,
   "metadata": {},
   "outputs": [],
   "source": [
    "molDesInChI.insert(0, \"BiGG\", BiGG_InChI)\n",
    "molDesInChI.insert(1, \"MNXM\", MNXM_InChI)"
   ]
  },
  {
   "cell_type": "code",
   "execution_count": 28,
   "metadata": {},
   "outputs": [],
   "source": [
    "molDesInChI.to_csv(\"iML1515_InChI_descriptors.csv\")"
   ]
  },
  {
   "cell_type": "markdown",
   "metadata": {},
   "source": [
    "- Concatatenating MetabolitesFromInChIKey & chemical_properties.csv"
   ]
  },
  {
   "cell_type": "code",
   "execution_count": null,
   "metadata": {},
   "outputs": [],
   "source": [
    "# result = pd.concat([data1, data2], axis=1).reindex(data2.index)\n",
    "\n",
    "# result = pd.concat([data1, data2], ignore_index=False, sort=False)\n",
    "\n",
    "\n",
    "result = pd.merge(data1, data2, on=\"index\")"
   ]
  },
  {
   "cell_type": "code",
   "execution_count": 40,
   "metadata": {},
   "outputs": [],
   "source": [
    "result = pd.concat([data1, data2], ignore_index=True, sort=False)"
   ]
  },
  {
   "cell_type": "code",
   "execution_count": 9,
   "metadata": {},
   "outputs": [],
   "source": [
    "result.to_csv(\"Chemical_descriptors1515_BiGG.csv\", index = False)"
   ]
  },
  {
   "cell_type": "code",
   "execution_count": 10,
   "metadata": {},
   "outputs": [],
   "source": [
    "df = pd.read_csv(\"Chemical_descriptors1515.csv\")"
   ]
  },
  {
   "cell_type": "code",
   "execution_count": 7,
   "metadata": {},
   "outputs": [],
   "source": [
    "molDes.to_csv(\"Calc_results.csv\")"
   ]
  },
  {
   "cell_type": "code",
   "execution_count": null,
   "metadata": {},
   "outputs": [],
   "source": []
  },
  {
   "cell_type": "code",
   "execution_count": 24,
   "metadata": {},
   "outputs": [],
   "source": [
    "Preamble = dfInChI.set_index(\"#ID\")\n",
    "Skullbasher = BiGG_InChI.set_index(\"MNXM\")\n",
    "\n",
    "Hope = pd.merge(Preamble, Skullbasher, left_index = True, right_index = True)\n",
    "\n",
    "\n"
   ]
  },
  {
   "cell_type": "code",
   "execution_count": 22,
   "metadata": {},
   "outputs": [],
   "source": [
    "data3 = dfSMILES\n",
    "data4 = molDesSMILES"
   ]
  },
  {
   "cell_type": "code",
   "execution_count": 30,
   "metadata": {},
   "outputs": [],
   "source": [
    "# BiGG_SMILES = dfSMILES[\"BiGG\"].tolist()\n",
    "MNXM_SMILES = dfSMILES[\"MNXM\"].tolist()"
   ]
  },
  {
   "cell_type": "code",
   "execution_count": 31,
   "metadata": {},
   "outputs": [],
   "source": [
    "molDesSMILES.insert(0, \"MNXM\", MNXM_SMILES)"
   ]
  },
  {
   "cell_type": "code",
   "execution_count": 32,
   "metadata": {},
   "outputs": [],
   "source": [
    "molDesSMILES.to_csv(\"iML1515_SMILES_descriptors.csv\")"
   ]
  },
  {
   "cell_type": "code",
   "execution_count": null,
   "metadata": {},
   "outputs": [],
   "source": []
  }
 ],
 "metadata": {
  "interpreter": {
   "hash": "79d1cfd305db38a14dc21f8b07679f01133b793e388454429e82c4a1d72d10d8"
  },
  "kernelspec": {
   "display_name": "Python 3.9.12 ('rdkit')",
   "language": "python",
   "name": "python3"
  },
  "language_info": {
   "codemirror_mode": {
    "name": "ipython",
    "version": 3
   },
   "file_extension": ".py",
   "mimetype": "text/x-python",
   "name": "python",
   "nbconvert_exporter": "python",
   "pygments_lexer": "ipython3",
   "version": "3.9.12"
  },
  "orig_nbformat": 4
 },
 "nbformat": 4,
 "nbformat_minor": 2
}
