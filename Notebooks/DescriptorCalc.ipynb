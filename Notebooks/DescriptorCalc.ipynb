{
 "cells": [
  {
   "cell_type": "markdown",
   "metadata": {},
   "source": [
    "# ╰(*°▽°*)╯ Import stuff ╰(*°▽°*)╯"
   ]
  },
  {
   "cell_type": "code",
   "execution_count": 1,
   "metadata": {},
   "outputs": [],
   "source": [
    "import numpy as np\n",
    "import pandas as pd\n",
    "import rdkit\n",
    "from rdkit import Chem\n",
    "from rdkit.Chem import Descriptors\n",
    "from rdkit.ML.Descriptors import MoleculeDescriptors\n",
    "# import sklearn\n",
    "# from sklearn import ensemble\n",
    "# from sklearn.ensemble import RandomForestClassifier\n",
    "import warnings\n",
    "import gc\n"
   ]
  },
  {
   "cell_type": "markdown",
   "metadata": {},
   "source": [
    "- import MetabolitesFromInChI.csv"
   ]
  },
  {
   "cell_type": "code",
   "execution_count": 2,
   "metadata": {},
   "outputs": [],
   "source": [
    "#df = pd.read_csv(\"https://raw.githubusercontent.com/meidelien/Metabolic-network-layout-using-biochemical-coordinates/main/Notebooks/MetabolitesFromInChIKey.csv\")\n",
    "\n",
    "dfInchi = pd.read_csv(\"https://raw.githubusercontent.com/meidelien/Metabolic-network-layout-using-biochemical-coordinates/main/data/1515_inchi_only_Groomed.csv\")\n",
    "BiGG = pd.read_csv(\"https://raw.githubusercontent.com/meidelien/Metabolic-network-layout-using-biochemical-coordinates/main/data/BiGG_mnxm2.csv\")\n",
    "\n",
    "Calc = pd.read_csv(\"Calc.csv\")\n",
    "\n",
    "#df1515 = pd.read_csv(\"https://raw.githubusercontent.com/meidelien/Metabolic-network-layout-using-biochemical-coordinates/main/Notebooks/MetabolitesInChIKeyiML1515.csv\")\n",
    "\n",
    "\n"
   ]
  },
  {
   "cell_type": "code",
   "execution_count": 24,
   "metadata": {},
   "outputs": [],
   "source": [
    "Preamble = dfInchi.set_index(\"#ID\")\n",
    "Skullbasher = BiGG.set_index(\"MNXM\")\n",
    "\n",
    "Hope = pd.merge(Preamble, Skullbasher, left_index = True, right_index = True)\n",
    "\n",
    "\n"
   ]
  },
  {
   "cell_type": "code",
   "execution_count": 25,
   "metadata": {},
   "outputs": [],
   "source": [
    "Hope_slim = Hope.drop(columns = [\"\tLine 1: \",\"reference\", \"formula\", \"InChIKey\", \"SMILES\", \"description\",\"charge\",\"mass\" ])\n"
   ]
  },
  {
   "cell_type": "code",
   "execution_count": 26,
   "metadata": {},
   "outputs": [],
   "source": [
    "Hope_slim = Hope_slim[[\"BiGG\",\"name\",\"InChI\"]]"
   ]
  },
  {
   "cell_type": "code",
   "execution_count": 27,
   "metadata": {},
   "outputs": [],
   "source": [
    "Hope_slim.to_csv(\"Calc.csv\")"
   ]
  },
  {
   "cell_type": "markdown",
   "metadata": {},
   "source": [
    "# Calculating features & creating new df with descriptors\n",
    "- Iterating over InChI's from MetabolitesFromInChI df \n",
    "- Storing DescriptorCalculator output to descrs list\n",
    "- Creating molDes df & appending Descriptors to each column\n"
   ]
  },
  {
   "cell_type": "code",
   "execution_count": 3,
   "metadata": {},
   "outputs": [
    {
     "name": "stderr",
     "output_type": "stream",
     "text": [
      "Traceback (most recent call last):\n",
      "  File \"C:\\Users\\meide\\.conda\\envs\\rdkit\\lib\\site-packages\\rdkit\\ML\\Descriptors\\MoleculeDescriptors.py\", line 88, in CalcDescriptors\n",
      "    res[i] = fn(mol)\n",
      "  File \"C:\\Users\\meide\\.conda\\envs\\rdkit\\lib\\site-packages\\rdkit\\Chem\\Descriptors.py\", line 208, in FpDensityMorgan1\n",
      "    return _FingerprintDensity(x, _rdMolDescriptors.GetMorganFingerprint, 1)\n",
      "  File \"C:\\Users\\meide\\.conda\\envs\\rdkit\\lib\\site-packages\\rdkit\\Chem\\Descriptors.py\", line 204, in _FingerprintDensity\n",
      "    return float(val) / mol.GetNumHeavyAtoms()\n",
      "ZeroDivisionError: float division by zero\n",
      "Traceback (most recent call last):\n",
      "  File \"C:\\Users\\meide\\.conda\\envs\\rdkit\\lib\\site-packages\\rdkit\\ML\\Descriptors\\MoleculeDescriptors.py\", line 88, in CalcDescriptors\n",
      "    res[i] = fn(mol)\n",
      "  File \"C:\\Users\\meide\\.conda\\envs\\rdkit\\lib\\site-packages\\rdkit\\Chem\\Descriptors.py\", line 212, in FpDensityMorgan2\n",
      "    return _FingerprintDensity(x, _rdMolDescriptors.GetMorganFingerprint, 2)\n",
      "  File \"C:\\Users\\meide\\.conda\\envs\\rdkit\\lib\\site-packages\\rdkit\\Chem\\Descriptors.py\", line 204, in _FingerprintDensity\n",
      "    return float(val) / mol.GetNumHeavyAtoms()\n",
      "ZeroDivisionError: float division by zero\n",
      "Traceback (most recent call last):\n",
      "  File \"C:\\Users\\meide\\.conda\\envs\\rdkit\\lib\\site-packages\\rdkit\\ML\\Descriptors\\MoleculeDescriptors.py\", line 88, in CalcDescriptors\n",
      "    res[i] = fn(mol)\n",
      "  File \"C:\\Users\\meide\\.conda\\envs\\rdkit\\lib\\site-packages\\rdkit\\Chem\\Descriptors.py\", line 216, in FpDensityMorgan3\n",
      "    return _FingerprintDensity(x, _rdMolDescriptors.GetMorganFingerprint, 3)\n",
      "  File \"C:\\Users\\meide\\.conda\\envs\\rdkit\\lib\\site-packages\\rdkit\\Chem\\Descriptors.py\", line 204, in _FingerprintDensity\n",
      "    return float(val) / mol.GetNumHeavyAtoms()\n",
      "ZeroDivisionError: float division by zero\n",
      "Traceback (most recent call last):\n",
      "  File \"C:\\Users\\meide\\.conda\\envs\\rdkit\\lib\\site-packages\\rdkit\\ML\\Descriptors\\MoleculeDescriptors.py\", line 88, in CalcDescriptors\n",
      "    res[i] = fn(mol)\n",
      "  File \"C:\\Users\\meide\\.conda\\envs\\rdkit\\lib\\site-packages\\rdkit\\Chem\\Descriptors.py\", line 208, in FpDensityMorgan1\n",
      "    return _FingerprintDensity(x, _rdMolDescriptors.GetMorganFingerprint, 1)\n",
      "  File \"C:\\Users\\meide\\.conda\\envs\\rdkit\\lib\\site-packages\\rdkit\\Chem\\Descriptors.py\", line 204, in _FingerprintDensity\n",
      "    return float(val) / mol.GetNumHeavyAtoms()\n",
      "ZeroDivisionError: float division by zero\n",
      "Traceback (most recent call last):\n",
      "  File \"C:\\Users\\meide\\.conda\\envs\\rdkit\\lib\\site-packages\\rdkit\\ML\\Descriptors\\MoleculeDescriptors.py\", line 88, in CalcDescriptors\n",
      "    res[i] = fn(mol)\n",
      "  File \"C:\\Users\\meide\\.conda\\envs\\rdkit\\lib\\site-packages\\rdkit\\Chem\\Descriptors.py\", line 212, in FpDensityMorgan2\n",
      "    return _FingerprintDensity(x, _rdMolDescriptors.GetMorganFingerprint, 2)\n",
      "  File \"C:\\Users\\meide\\.conda\\envs\\rdkit\\lib\\site-packages\\rdkit\\Chem\\Descriptors.py\", line 204, in _FingerprintDensity\n",
      "    return float(val) / mol.GetNumHeavyAtoms()\n",
      "ZeroDivisionError: float division by zero\n",
      "Traceback (most recent call last):\n",
      "  File \"C:\\Users\\meide\\.conda\\envs\\rdkit\\lib\\site-packages\\rdkit\\ML\\Descriptors\\MoleculeDescriptors.py\", line 88, in CalcDescriptors\n",
      "    res[i] = fn(mol)\n",
      "  File \"C:\\Users\\meide\\.conda\\envs\\rdkit\\lib\\site-packages\\rdkit\\Chem\\Descriptors.py\", line 216, in FpDensityMorgan3\n",
      "    return _FingerprintDensity(x, _rdMolDescriptors.GetMorganFingerprint, 3)\n",
      "  File \"C:\\Users\\meide\\.conda\\envs\\rdkit\\lib\\site-packages\\rdkit\\Chem\\Descriptors.py\", line 204, in _FingerprintDensity\n",
      "    return float(val) / mol.GetNumHeavyAtoms()\n",
      "ZeroDivisionError: float division by zero\n"
     ]
    },
    {
     "data": {
      "text/html": [
       "<div>\n",
       "<style scoped>\n",
       "    .dataframe tbody tr th:only-of-type {\n",
       "        vertical-align: middle;\n",
       "    }\n",
       "\n",
       "    .dataframe tbody tr th {\n",
       "        vertical-align: top;\n",
       "    }\n",
       "\n",
       "    .dataframe thead th {\n",
       "        text-align: right;\n",
       "    }\n",
       "</style>\n",
       "<table border=\"1\" class=\"dataframe\">\n",
       "  <thead>\n",
       "    <tr style=\"text-align: right;\">\n",
       "      <th></th>\n",
       "      <th>MaxEStateIndex</th>\n",
       "      <th>MinEStateIndex</th>\n",
       "      <th>MaxAbsEStateIndex</th>\n",
       "      <th>MinAbsEStateIndex</th>\n",
       "      <th>qed</th>\n",
       "      <th>MolWt</th>\n",
       "      <th>HeavyAtomMolWt</th>\n",
       "      <th>ExactMolWt</th>\n",
       "      <th>NumValenceElectrons</th>\n",
       "      <th>NumRadicalElectrons</th>\n",
       "      <th>...</th>\n",
       "      <th>fr_sulfide</th>\n",
       "      <th>fr_sulfonamd</th>\n",
       "      <th>fr_sulfone</th>\n",
       "      <th>fr_term_acetylene</th>\n",
       "      <th>fr_tetrazole</th>\n",
       "      <th>fr_thiazole</th>\n",
       "      <th>fr_thiocyan</th>\n",
       "      <th>fr_thiophene</th>\n",
       "      <th>fr_unbrch_alkane</th>\n",
       "      <th>fr_urea</th>\n",
       "    </tr>\n",
       "  </thead>\n",
       "  <tbody>\n",
       "    <tr>\n",
       "      <th>0</th>\n",
       "      <td>0.000000</td>\n",
       "      <td>0.000000</td>\n",
       "      <td>0.000000</td>\n",
       "      <td>0.000000</td>\n",
       "      <td>0.342643</td>\n",
       "      <td>1.008</td>\n",
       "      <td>0.000</td>\n",
       "      <td>1.007276</td>\n",
       "      <td>0</td>\n",
       "      <td>0</td>\n",
       "      <td>...</td>\n",
       "      <td>0</td>\n",
       "      <td>0</td>\n",
       "      <td>0</td>\n",
       "      <td>0</td>\n",
       "      <td>0</td>\n",
       "      <td>0</td>\n",
       "      <td>0</td>\n",
       "      <td>0</td>\n",
       "      <td>0</td>\n",
       "      <td>0</td>\n",
       "    </tr>\n",
       "    <tr>\n",
       "      <th>1</th>\n",
       "      <td>12.382693</td>\n",
       "      <td>-5.621082</td>\n",
       "      <td>12.382693</td>\n",
       "      <td>0.043672</td>\n",
       "      <td>0.069723</td>\n",
       "      <td>663.430</td>\n",
       "      <td>636.214</td>\n",
       "      <td>663.110219</td>\n",
       "      <td>242</td>\n",
       "      <td>0</td>\n",
       "      <td>...</td>\n",
       "      <td>0</td>\n",
       "      <td>0</td>\n",
       "      <td>0</td>\n",
       "      <td>0</td>\n",
       "      <td>0</td>\n",
       "      <td>0</td>\n",
       "      <td>0</td>\n",
       "      <td>0</td>\n",
       "      <td>0</td>\n",
       "      <td>0</td>\n",
       "    </tr>\n",
       "    <tr>\n",
       "      <th>2</th>\n",
       "      <td>10.903369</td>\n",
       "      <td>-5.608866</td>\n",
       "      <td>10.903369</td>\n",
       "      <td>0.373579</td>\n",
       "      <td>0.483914</td>\n",
       "      <td>311.187</td>\n",
       "      <td>294.051</td>\n",
       "      <td>311.046597</td>\n",
       "      <td>112</td>\n",
       "      <td>0</td>\n",
       "      <td>...</td>\n",
       "      <td>0</td>\n",
       "      <td>0</td>\n",
       "      <td>0</td>\n",
       "      <td>0</td>\n",
       "      <td>0</td>\n",
       "      <td>0</td>\n",
       "      <td>0</td>\n",
       "      <td>0</td>\n",
       "      <td>0</td>\n",
       "      <td>0</td>\n",
       "    </tr>\n",
       "    <tr>\n",
       "      <th>3</th>\n",
       "      <td>9.404861</td>\n",
       "      <td>0.708333</td>\n",
       "      <td>9.404861</td>\n",
       "      <td>0.708333</td>\n",
       "      <td>0.444345</td>\n",
       "      <td>72.107</td>\n",
       "      <td>64.043</td>\n",
       "      <td>72.057515</td>\n",
       "      <td>30</td>\n",
       "      <td>0</td>\n",
       "      <td>...</td>\n",
       "      <td>0</td>\n",
       "      <td>0</td>\n",
       "      <td>0</td>\n",
       "      <td>0</td>\n",
       "      <td>0</td>\n",
       "      <td>0</td>\n",
       "      <td>0</td>\n",
       "      <td>0</td>\n",
       "      <td>0</td>\n",
       "      <td>0</td>\n",
       "    </tr>\n",
       "    <tr>\n",
       "      <th>4</th>\n",
       "      <td>10.138871</td>\n",
       "      <td>-0.983021</td>\n",
       "      <td>10.138871</td>\n",
       "      <td>0.015959</td>\n",
       "      <td>0.606252</td>\n",
       "      <td>213.257</td>\n",
       "      <td>196.121</td>\n",
       "      <td>213.124466</td>\n",
       "      <td>86</td>\n",
       "      <td>0</td>\n",
       "      <td>...</td>\n",
       "      <td>0</td>\n",
       "      <td>0</td>\n",
       "      <td>0</td>\n",
       "      <td>0</td>\n",
       "      <td>0</td>\n",
       "      <td>0</td>\n",
       "      <td>0</td>\n",
       "      <td>0</td>\n",
       "      <td>2</td>\n",
       "      <td>0</td>\n",
       "    </tr>\n",
       "  </tbody>\n",
       "</table>\n",
       "<p>5 rows × 208 columns</p>\n",
       "</div>"
      ],
      "text/plain": [
       "   MaxEStateIndex  MinEStateIndex  MaxAbsEStateIndex  MinAbsEStateIndex  \\\n",
       "0        0.000000        0.000000           0.000000           0.000000   \n",
       "1       12.382693       -5.621082          12.382693           0.043672   \n",
       "2       10.903369       -5.608866          10.903369           0.373579   \n",
       "3        9.404861        0.708333           9.404861           0.708333   \n",
       "4       10.138871       -0.983021          10.138871           0.015959   \n",
       "\n",
       "        qed    MolWt  HeavyAtomMolWt  ExactMolWt  NumValenceElectrons  \\\n",
       "0  0.342643    1.008           0.000    1.007276                    0   \n",
       "1  0.069723  663.430         636.214  663.110219                  242   \n",
       "2  0.483914  311.187         294.051  311.046597                  112   \n",
       "3  0.444345   72.107          64.043   72.057515                   30   \n",
       "4  0.606252  213.257         196.121  213.124466                   86   \n",
       "\n",
       "   NumRadicalElectrons  ...  fr_sulfide  fr_sulfonamd  fr_sulfone  \\\n",
       "0                    0  ...           0             0           0   \n",
       "1                    0  ...           0             0           0   \n",
       "2                    0  ...           0             0           0   \n",
       "3                    0  ...           0             0           0   \n",
       "4                    0  ...           0             0           0   \n",
       "\n",
       "   fr_term_acetylene  fr_tetrazole  fr_thiazole  fr_thiocyan  fr_thiophene  \\\n",
       "0                  0             0            0            0             0   \n",
       "1                  0             0            0            0             0   \n",
       "2                  0             0            0            0             0   \n",
       "3                  0             0            0            0             0   \n",
       "4                  0             0            0            0             0   \n",
       "\n",
       "   fr_unbrch_alkane  fr_urea  \n",
       "0                 0        0  \n",
       "1                 0        0  \n",
       "2                 0        0  \n",
       "3                 0        0  \n",
       "4                 2        0  \n",
       "\n",
       "[5 rows x 208 columns]"
      ]
     },
     "execution_count": 3,
     "metadata": {},
     "output_type": "execute_result"
    }
   ],
   "source": [
    "mol_list = []\n",
    "\n",
    "for i in Calc.InChI:\n",
    "    mol = Chem.MolFromInchi(i)\n",
    "    mol_list.append(mol)\n",
    "\n",
    "\n",
    "desc_list=[i[0] for i in Descriptors._descList]\n",
    "descriptor = MoleculeDescriptors.MolecularDescriptorCalculator(desc_list)\n",
    "\n",
    "descrs =  []\n",
    "\n",
    "for i in range(len(mol_list)):\n",
    "    descrs.append(descriptor.CalcDescriptors(mol_list[i]))\n",
    "molDes = pd.DataFrame(descrs, columns= desc_list)\n",
    "molDes.head(5)"
   ]
  },
  {
   "cell_type": "markdown",
   "metadata": {},
   "source": [
    "- Make csv cus reasons"
   ]
  },
  {
   "cell_type": "code",
   "execution_count": 5,
   "metadata": {},
   "outputs": [],
   "source": [
    "molDes.to_csv(\"chemical_properties1515.csv\", index = False)"
   ]
  },
  {
   "cell_type": "code",
   "execution_count": 12,
   "metadata": {},
   "outputs": [],
   "source": [
    "# data1 = pd.read_csv(\"MetabolitesInChIKeyiML1515.csv\")\n",
    "# data2 = pd.read_csv(\"chemical_properties1515.csv\")\n",
    "\n",
    "# data1 = pd.read_csv(\"1515_inchi_only_Groomed.csv\")\n",
    "data1 = Calc\n",
    "data2 = molDes"
   ]
  },
  {
   "cell_type": "code",
   "execution_count": 4,
   "metadata": {},
   "outputs": [],
   "source": [
    "BiGG = Calc[\"BiGG\"].tolist()\n",
    "MNXM = Calc[\"MNXM\"].tolist()\n",
    "# InChI = Calc[\"InChI\"].toList()\n",
    "# Name = Calc[\"Name\"].toList()"
   ]
  },
  {
   "cell_type": "code",
   "execution_count": 6,
   "metadata": {},
   "outputs": [],
   "source": [
    "molDes.insert(0, \"BiGG\", BiGG)\n",
    "molDes.insert(1, \"MNXM\", MNXM)"
   ]
  },
  {
   "cell_type": "markdown",
   "metadata": {},
   "source": [
    "- Concatatenating MetabolitesFromInChIKey & chemical_properties.csv"
   ]
  },
  {
   "cell_type": "code",
   "execution_count": 39,
   "metadata": {},
   "outputs": [
    {
     "ename": "KeyError",
     "evalue": "'index'",
     "output_type": "error",
     "traceback": [
      "\u001b[1;31m---------------------------------------------------------------------------\u001b[0m",
      "\u001b[1;31mKeyError\u001b[0m                                  Traceback (most recent call last)",
      "\u001b[1;32m~\\AppData\\Local\\Temp/ipykernel_19268/988271212.py\u001b[0m in \u001b[0;36m<module>\u001b[1;34m\u001b[0m\n\u001b[0;32m      4\u001b[0m \u001b[1;33m\u001b[0m\u001b[0m\n\u001b[0;32m      5\u001b[0m \u001b[1;33m\u001b[0m\u001b[0m\n\u001b[1;32m----> 6\u001b[1;33m \u001b[0mresult\u001b[0m \u001b[1;33m=\u001b[0m \u001b[0mpd\u001b[0m\u001b[1;33m.\u001b[0m\u001b[0mmerge\u001b[0m\u001b[1;33m(\u001b[0m\u001b[0mdata1\u001b[0m\u001b[1;33m,\u001b[0m \u001b[0mdata2\u001b[0m\u001b[1;33m,\u001b[0m \u001b[0mon\u001b[0m\u001b[1;33m=\u001b[0m\u001b[1;34m\"index\"\u001b[0m\u001b[1;33m)\u001b[0m\u001b[1;33m\u001b[0m\u001b[1;33m\u001b[0m\u001b[0m\n\u001b[0m",
      "\u001b[1;32m~\\.conda\\envs\\rdkit\\lib\\site-packages\\pandas\\core\\reshape\\merge.py\u001b[0m in \u001b[0;36mmerge\u001b[1;34m(left, right, how, on, left_on, right_on, left_index, right_index, sort, suffixes, copy, indicator, validate)\u001b[0m\n\u001b[0;32m    105\u001b[0m     \u001b[0mvalidate\u001b[0m\u001b[1;33m:\u001b[0m \u001b[0mstr\u001b[0m \u001b[1;33m|\u001b[0m \u001b[1;32mNone\u001b[0m \u001b[1;33m=\u001b[0m \u001b[1;32mNone\u001b[0m\u001b[1;33m,\u001b[0m\u001b[1;33m\u001b[0m\u001b[1;33m\u001b[0m\u001b[0m\n\u001b[0;32m    106\u001b[0m ) -> DataFrame:\n\u001b[1;32m--> 107\u001b[1;33m     op = _MergeOperation(\n\u001b[0m\u001b[0;32m    108\u001b[0m         \u001b[0mleft\u001b[0m\u001b[1;33m,\u001b[0m\u001b[1;33m\u001b[0m\u001b[1;33m\u001b[0m\u001b[0m\n\u001b[0;32m    109\u001b[0m         \u001b[0mright\u001b[0m\u001b[1;33m,\u001b[0m\u001b[1;33m\u001b[0m\u001b[1;33m\u001b[0m\u001b[0m\n",
      "\u001b[1;32m~\\.conda\\envs\\rdkit\\lib\\site-packages\\pandas\\core\\reshape\\merge.py\u001b[0m in \u001b[0;36m__init__\u001b[1;34m(self, left, right, how, on, left_on, right_on, axis, left_index, right_index, sort, suffixes, copy, indicator, validate)\u001b[0m\n\u001b[0;32m    698\u001b[0m             \u001b[0mself\u001b[0m\u001b[1;33m.\u001b[0m\u001b[0mright_join_keys\u001b[0m\u001b[1;33m,\u001b[0m\u001b[1;33m\u001b[0m\u001b[1;33m\u001b[0m\u001b[0m\n\u001b[0;32m    699\u001b[0m             \u001b[0mself\u001b[0m\u001b[1;33m.\u001b[0m\u001b[0mjoin_names\u001b[0m\u001b[1;33m,\u001b[0m\u001b[1;33m\u001b[0m\u001b[1;33m\u001b[0m\u001b[0m\n\u001b[1;32m--> 700\u001b[1;33m         ) = self._get_merge_keys()\n\u001b[0m\u001b[0;32m    701\u001b[0m \u001b[1;33m\u001b[0m\u001b[0m\n\u001b[0;32m    702\u001b[0m         \u001b[1;31m# validate the merge keys dtypes. We may need to coerce\u001b[0m\u001b[1;33m\u001b[0m\u001b[1;33m\u001b[0m\u001b[0m\n",
      "\u001b[1;32m~\\.conda\\envs\\rdkit\\lib\\site-packages\\pandas\\core\\reshape\\merge.py\u001b[0m in \u001b[0;36m_get_merge_keys\u001b[1;34m(self)\u001b[0m\n\u001b[0;32m   1090\u001b[0m                     \u001b[1;32mif\u001b[0m \u001b[1;32mnot\u001b[0m \u001b[0mis_rkey\u001b[0m\u001b[1;33m(\u001b[0m\u001b[0mrk\u001b[0m\u001b[1;33m)\u001b[0m\u001b[1;33m:\u001b[0m\u001b[1;33m\u001b[0m\u001b[1;33m\u001b[0m\u001b[0m\n\u001b[0;32m   1091\u001b[0m                         \u001b[1;32mif\u001b[0m \u001b[0mrk\u001b[0m \u001b[1;32mis\u001b[0m \u001b[1;32mnot\u001b[0m \u001b[1;32mNone\u001b[0m\u001b[1;33m:\u001b[0m\u001b[1;33m\u001b[0m\u001b[1;33m\u001b[0m\u001b[0m\n\u001b[1;32m-> 1092\u001b[1;33m                             \u001b[0mright_keys\u001b[0m\u001b[1;33m.\u001b[0m\u001b[0mappend\u001b[0m\u001b[1;33m(\u001b[0m\u001b[0mright\u001b[0m\u001b[1;33m.\u001b[0m\u001b[0m_get_label_or_level_values\u001b[0m\u001b[1;33m(\u001b[0m\u001b[0mrk\u001b[0m\u001b[1;33m)\u001b[0m\u001b[1;33m)\u001b[0m\u001b[1;33m\u001b[0m\u001b[1;33m\u001b[0m\u001b[0m\n\u001b[0m\u001b[0;32m   1093\u001b[0m                         \u001b[1;32melse\u001b[0m\u001b[1;33m:\u001b[0m\u001b[1;33m\u001b[0m\u001b[1;33m\u001b[0m\u001b[0m\n\u001b[0;32m   1094\u001b[0m                             \u001b[1;31m# work-around for merge_asof(right_index=True)\u001b[0m\u001b[1;33m\u001b[0m\u001b[1;33m\u001b[0m\u001b[0m\n",
      "\u001b[1;32m~\\.conda\\envs\\rdkit\\lib\\site-packages\\pandas\\core\\generic.py\u001b[0m in \u001b[0;36m_get_label_or_level_values\u001b[1;34m(self, key, axis)\u001b[0m\n\u001b[0;32m   1777\u001b[0m             \u001b[0mvalues\u001b[0m \u001b[1;33m=\u001b[0m \u001b[0mself\u001b[0m\u001b[1;33m.\u001b[0m\u001b[0maxes\u001b[0m\u001b[1;33m[\u001b[0m\u001b[0maxis\u001b[0m\u001b[1;33m]\u001b[0m\u001b[1;33m.\u001b[0m\u001b[0mget_level_values\u001b[0m\u001b[1;33m(\u001b[0m\u001b[0mkey\u001b[0m\u001b[1;33m)\u001b[0m\u001b[1;33m.\u001b[0m\u001b[0m_values\u001b[0m\u001b[1;33m\u001b[0m\u001b[1;33m\u001b[0m\u001b[0m\n\u001b[0;32m   1778\u001b[0m         \u001b[1;32melse\u001b[0m\u001b[1;33m:\u001b[0m\u001b[1;33m\u001b[0m\u001b[1;33m\u001b[0m\u001b[0m\n\u001b[1;32m-> 1779\u001b[1;33m             \u001b[1;32mraise\u001b[0m \u001b[0mKeyError\u001b[0m\u001b[1;33m(\u001b[0m\u001b[0mkey\u001b[0m\u001b[1;33m)\u001b[0m\u001b[1;33m\u001b[0m\u001b[1;33m\u001b[0m\u001b[0m\n\u001b[0m\u001b[0;32m   1780\u001b[0m \u001b[1;33m\u001b[0m\u001b[0m\n\u001b[0;32m   1781\u001b[0m         \u001b[1;31m# Check for duplicates\u001b[0m\u001b[1;33m\u001b[0m\u001b[1;33m\u001b[0m\u001b[0m\n",
      "\u001b[1;31mKeyError\u001b[0m: 'index'"
     ]
    }
   ],
   "source": [
    "# result = pd.concat([data1, data2], axis=1).reindex(data2.index)\n",
    "\n",
    "# result = pd.concat([data1, data2], ignore_index=False, sort=False)\n",
    "\n",
    "\n",
    "result = pd.merge(data1, data2, on=\"index\")"
   ]
  },
  {
   "cell_type": "code",
   "execution_count": 40,
   "metadata": {},
   "outputs": [],
   "source": [
    "result = pd.concat([data1, data2], ignore_index=True, sort=False)"
   ]
  },
  {
   "cell_type": "code",
   "execution_count": 9,
   "metadata": {},
   "outputs": [],
   "source": [
    "result.to_csv(\"Chemical_descriptors1515_BiGG.csv\", index = False)"
   ]
  },
  {
   "cell_type": "code",
   "execution_count": 10,
   "metadata": {},
   "outputs": [],
   "source": [
    "df = pd.read_csv(\"Chemical_descriptors1515.csv\")"
   ]
  },
  {
   "cell_type": "code",
   "execution_count": 7,
   "metadata": {},
   "outputs": [],
   "source": [
    "molDes.to_csv(\"Calc_results.csv\")"
   ]
  },
  {
   "cell_type": "code",
   "execution_count": null,
   "metadata": {},
   "outputs": [],
   "source": []
  }
 ],
 "metadata": {
  "interpreter": {
   "hash": "8420ab189d00d083782919827e61e029726b7008cf5217a89172cbb7a6a52562"
  },
  "kernelspec": {
   "display_name": "Python 3.9.7 64-bit ('my-rdkit-env': conda)",
   "name": "python3"
  },
  "language_info": {
   "codemirror_mode": {
    "name": "ipython",
    "version": 3
   },
   "file_extension": ".py",
   "mimetype": "text/x-python",
   "name": "python",
   "nbconvert_exporter": "python",
   "pygments_lexer": "ipython3",
   "version": "3.9.7"
  },
  "orig_nbformat": 4
 },
 "nbformat": 4,
 "nbformat_minor": 2
}
