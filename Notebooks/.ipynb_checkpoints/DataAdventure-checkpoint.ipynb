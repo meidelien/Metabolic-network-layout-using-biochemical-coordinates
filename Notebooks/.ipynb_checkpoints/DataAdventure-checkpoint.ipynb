{
 "cells": [
  {
   "cell_type": "markdown",
   "metadata": {},
   "source": [
    "# ╰(*°▽°*)╯ Import stuff ╰(*°▽°*)╯"
   ]
  },
  {
   "cell_type": "code",
   "execution_count": 1,
   "metadata": {},
   "outputs": [],
   "source": [
    "import pandas as pd\n",
    "from pandas import DataFrame\n",
    "# from pandas.io.json import json_normalize\n",
    "# from lxml import objectify # for parsing e_coli_core\n",
    "# import xml.etree.ElementTree as ETS"
   ]
  },
  {
   "cell_type": "markdown",
   "metadata": {},
   "source": [
    "# Creating df from the chem_prop.tsv 🐱‍🏍🐱‍🏍🐱‍🏍\n",
    "### Remember to unpack chem_prop.zip if file not found"
   ]
  },
  {
   "cell_type": "code",
   "execution_count": 2,
   "metadata": {},
   "outputs": [
    {
     "ename": "FileNotFoundError",
     "evalue": "[Errno 2] No such file or directory: 'C:\\\\Users\\\\meide\\\\Documents\\\\GitHub\\\\Master\\\\data\\\\chem_prop.tsv'",
     "output_type": "error",
     "traceback": [
      "\u001b[1;31m---------------------------------------------------------------------------\u001b[0m",
      "\u001b[1;31mFileNotFoundError\u001b[0m                         Traceback (most recent call last)",
      "\u001b[1;32m~\\AppData\\Local\\Temp/ipykernel_26112/3786757129.py\u001b[0m in \u001b[0;36m<module>\u001b[1;34m\u001b[0m\n\u001b[1;32m----> 1\u001b[1;33m \u001b[0mdfProp\u001b[0m \u001b[1;33m=\u001b[0m \u001b[0mpd\u001b[0m\u001b[1;33m.\u001b[0m\u001b[0mread_csv\u001b[0m\u001b[1;33m(\u001b[0m\u001b[1;34m'C:\\\\Users\\\\meide\\\\Documents\\\\GitHub\\\\Master\\\\data\\\\chem_prop.tsv'\u001b[0m\u001b[1;33m,\u001b[0m \u001b[0msep\u001b[0m \u001b[1;33m=\u001b[0m\u001b[1;34m'\\t'\u001b[0m\u001b[1;33m,\u001b[0m \u001b[0mheader\u001b[0m \u001b[1;33m=\u001b[0m \u001b[1;36m0\u001b[0m\u001b[1;33m)\u001b[0m\u001b[1;33m\u001b[0m\u001b[1;33m\u001b[0m\u001b[0m\n\u001b[0m\u001b[0;32m      2\u001b[0m \u001b[1;33m\u001b[0m\u001b[0m\n\u001b[0;32m      3\u001b[0m \u001b[0mdfXref\u001b[0m \u001b[1;33m=\u001b[0m \u001b[0mpd\u001b[0m\u001b[1;33m.\u001b[0m\u001b[0mread_csv\u001b[0m\u001b[1;33m(\u001b[0m\u001b[1;34m'C:\\\\Users\\\\meide\\\\Documents\\\\GitHub\\\\Master\\\\data\\\\chem_xref.tsv'\u001b[0m\u001b[1;33m,\u001b[0m \u001b[0msep\u001b[0m \u001b[1;33m=\u001b[0m\u001b[1;34m'\\t'\u001b[0m\u001b[1;33m,\u001b[0m \u001b[0mheader\u001b[0m \u001b[1;33m=\u001b[0m \u001b[1;36m0\u001b[0m\u001b[1;33m)\u001b[0m\u001b[1;33m\u001b[0m\u001b[1;33m\u001b[0m\u001b[0m\n",
      "\u001b[1;32m~\\.conda\\envs\\my-rdkit-env\\lib\\site-packages\\pandas\\util\\_decorators.py\u001b[0m in \u001b[0;36mwrapper\u001b[1;34m(*args, **kwargs)\u001b[0m\n\u001b[0;32m    309\u001b[0m                     \u001b[0mstacklevel\u001b[0m\u001b[1;33m=\u001b[0m\u001b[0mstacklevel\u001b[0m\u001b[1;33m,\u001b[0m\u001b[1;33m\u001b[0m\u001b[1;33m\u001b[0m\u001b[0m\n\u001b[0;32m    310\u001b[0m                 )\n\u001b[1;32m--> 311\u001b[1;33m             \u001b[1;32mreturn\u001b[0m \u001b[0mfunc\u001b[0m\u001b[1;33m(\u001b[0m\u001b[1;33m*\u001b[0m\u001b[0margs\u001b[0m\u001b[1;33m,\u001b[0m \u001b[1;33m**\u001b[0m\u001b[0mkwargs\u001b[0m\u001b[1;33m)\u001b[0m\u001b[1;33m\u001b[0m\u001b[1;33m\u001b[0m\u001b[0m\n\u001b[0m\u001b[0;32m    312\u001b[0m \u001b[1;33m\u001b[0m\u001b[0m\n\u001b[0;32m    313\u001b[0m         \u001b[1;32mreturn\u001b[0m \u001b[0mwrapper\u001b[0m\u001b[1;33m\u001b[0m\u001b[1;33m\u001b[0m\u001b[0m\n",
      "\u001b[1;32m~\\.conda\\envs\\my-rdkit-env\\lib\\site-packages\\pandas\\io\\parsers\\readers.py\u001b[0m in \u001b[0;36mread_csv\u001b[1;34m(filepath_or_buffer, sep, delimiter, header, names, index_col, usecols, squeeze, prefix, mangle_dupe_cols, dtype, engine, converters, true_values, false_values, skipinitialspace, skiprows, skipfooter, nrows, na_values, keep_default_na, na_filter, verbose, skip_blank_lines, parse_dates, infer_datetime_format, keep_date_col, date_parser, dayfirst, cache_dates, iterator, chunksize, compression, thousands, decimal, lineterminator, quotechar, quoting, doublequote, escapechar, comment, encoding, encoding_errors, dialect, error_bad_lines, warn_bad_lines, on_bad_lines, delim_whitespace, low_memory, memory_map, float_precision, storage_options)\u001b[0m\n\u001b[0;32m    584\u001b[0m     \u001b[0mkwds\u001b[0m\u001b[1;33m.\u001b[0m\u001b[0mupdate\u001b[0m\u001b[1;33m(\u001b[0m\u001b[0mkwds_defaults\u001b[0m\u001b[1;33m)\u001b[0m\u001b[1;33m\u001b[0m\u001b[1;33m\u001b[0m\u001b[0m\n\u001b[0;32m    585\u001b[0m \u001b[1;33m\u001b[0m\u001b[0m\n\u001b[1;32m--> 586\u001b[1;33m     \u001b[1;32mreturn\u001b[0m \u001b[0m_read\u001b[0m\u001b[1;33m(\u001b[0m\u001b[0mfilepath_or_buffer\u001b[0m\u001b[1;33m,\u001b[0m \u001b[0mkwds\u001b[0m\u001b[1;33m)\u001b[0m\u001b[1;33m\u001b[0m\u001b[1;33m\u001b[0m\u001b[0m\n\u001b[0m\u001b[0;32m    587\u001b[0m \u001b[1;33m\u001b[0m\u001b[0m\n\u001b[0;32m    588\u001b[0m \u001b[1;33m\u001b[0m\u001b[0m\n",
      "\u001b[1;32m~\\.conda\\envs\\my-rdkit-env\\lib\\site-packages\\pandas\\io\\parsers\\readers.py\u001b[0m in \u001b[0;36m_read\u001b[1;34m(filepath_or_buffer, kwds)\u001b[0m\n\u001b[0;32m    480\u001b[0m \u001b[1;33m\u001b[0m\u001b[0m\n\u001b[0;32m    481\u001b[0m     \u001b[1;31m# Create the parser.\u001b[0m\u001b[1;33m\u001b[0m\u001b[1;33m\u001b[0m\u001b[0m\n\u001b[1;32m--> 482\u001b[1;33m     \u001b[0mparser\u001b[0m \u001b[1;33m=\u001b[0m \u001b[0mTextFileReader\u001b[0m\u001b[1;33m(\u001b[0m\u001b[0mfilepath_or_buffer\u001b[0m\u001b[1;33m,\u001b[0m \u001b[1;33m**\u001b[0m\u001b[0mkwds\u001b[0m\u001b[1;33m)\u001b[0m\u001b[1;33m\u001b[0m\u001b[1;33m\u001b[0m\u001b[0m\n\u001b[0m\u001b[0;32m    483\u001b[0m \u001b[1;33m\u001b[0m\u001b[0m\n\u001b[0;32m    484\u001b[0m     \u001b[1;32mif\u001b[0m \u001b[0mchunksize\u001b[0m \u001b[1;32mor\u001b[0m \u001b[0miterator\u001b[0m\u001b[1;33m:\u001b[0m\u001b[1;33m\u001b[0m\u001b[1;33m\u001b[0m\u001b[0m\n",
      "\u001b[1;32m~\\.conda\\envs\\my-rdkit-env\\lib\\site-packages\\pandas\\io\\parsers\\readers.py\u001b[0m in \u001b[0;36m__init__\u001b[1;34m(self, f, engine, **kwds)\u001b[0m\n\u001b[0;32m    809\u001b[0m             \u001b[0mself\u001b[0m\u001b[1;33m.\u001b[0m\u001b[0moptions\u001b[0m\u001b[1;33m[\u001b[0m\u001b[1;34m\"has_index_names\"\u001b[0m\u001b[1;33m]\u001b[0m \u001b[1;33m=\u001b[0m \u001b[0mkwds\u001b[0m\u001b[1;33m[\u001b[0m\u001b[1;34m\"has_index_names\"\u001b[0m\u001b[1;33m]\u001b[0m\u001b[1;33m\u001b[0m\u001b[1;33m\u001b[0m\u001b[0m\n\u001b[0;32m    810\u001b[0m \u001b[1;33m\u001b[0m\u001b[0m\n\u001b[1;32m--> 811\u001b[1;33m         \u001b[0mself\u001b[0m\u001b[1;33m.\u001b[0m\u001b[0m_engine\u001b[0m \u001b[1;33m=\u001b[0m \u001b[0mself\u001b[0m\u001b[1;33m.\u001b[0m\u001b[0m_make_engine\u001b[0m\u001b[1;33m(\u001b[0m\u001b[0mself\u001b[0m\u001b[1;33m.\u001b[0m\u001b[0mengine\u001b[0m\u001b[1;33m)\u001b[0m\u001b[1;33m\u001b[0m\u001b[1;33m\u001b[0m\u001b[0m\n\u001b[0m\u001b[0;32m    812\u001b[0m \u001b[1;33m\u001b[0m\u001b[0m\n\u001b[0;32m    813\u001b[0m     \u001b[1;32mdef\u001b[0m \u001b[0mclose\u001b[0m\u001b[1;33m(\u001b[0m\u001b[0mself\u001b[0m\u001b[1;33m)\u001b[0m\u001b[1;33m:\u001b[0m\u001b[1;33m\u001b[0m\u001b[1;33m\u001b[0m\u001b[0m\n",
      "\u001b[1;32m~\\.conda\\envs\\my-rdkit-env\\lib\\site-packages\\pandas\\io\\parsers\\readers.py\u001b[0m in \u001b[0;36m_make_engine\u001b[1;34m(self, engine)\u001b[0m\n\u001b[0;32m   1038\u001b[0m             )\n\u001b[0;32m   1039\u001b[0m         \u001b[1;31m# error: Too many arguments for \"ParserBase\"\u001b[0m\u001b[1;33m\u001b[0m\u001b[1;33m\u001b[0m\u001b[0m\n\u001b[1;32m-> 1040\u001b[1;33m         \u001b[1;32mreturn\u001b[0m \u001b[0mmapping\u001b[0m\u001b[1;33m[\u001b[0m\u001b[0mengine\u001b[0m\u001b[1;33m]\u001b[0m\u001b[1;33m(\u001b[0m\u001b[0mself\u001b[0m\u001b[1;33m.\u001b[0m\u001b[0mf\u001b[0m\u001b[1;33m,\u001b[0m \u001b[1;33m**\u001b[0m\u001b[0mself\u001b[0m\u001b[1;33m.\u001b[0m\u001b[0moptions\u001b[0m\u001b[1;33m)\u001b[0m  \u001b[1;31m# type: ignore[call-arg]\u001b[0m\u001b[1;33m\u001b[0m\u001b[1;33m\u001b[0m\u001b[0m\n\u001b[0m\u001b[0;32m   1041\u001b[0m \u001b[1;33m\u001b[0m\u001b[0m\n\u001b[0;32m   1042\u001b[0m     \u001b[1;32mdef\u001b[0m \u001b[0m_failover_to_python\u001b[0m\u001b[1;33m(\u001b[0m\u001b[0mself\u001b[0m\u001b[1;33m)\u001b[0m\u001b[1;33m:\u001b[0m\u001b[1;33m\u001b[0m\u001b[1;33m\u001b[0m\u001b[0m\n",
      "\u001b[1;32m~\\.conda\\envs\\my-rdkit-env\\lib\\site-packages\\pandas\\io\\parsers\\c_parser_wrapper.py\u001b[0m in \u001b[0;36m__init__\u001b[1;34m(self, src, **kwds)\u001b[0m\n\u001b[0;32m     49\u001b[0m \u001b[1;33m\u001b[0m\u001b[0m\n\u001b[0;32m     50\u001b[0m         \u001b[1;31m# open handles\u001b[0m\u001b[1;33m\u001b[0m\u001b[1;33m\u001b[0m\u001b[0m\n\u001b[1;32m---> 51\u001b[1;33m         \u001b[0mself\u001b[0m\u001b[1;33m.\u001b[0m\u001b[0m_open_handles\u001b[0m\u001b[1;33m(\u001b[0m\u001b[0msrc\u001b[0m\u001b[1;33m,\u001b[0m \u001b[0mkwds\u001b[0m\u001b[1;33m)\u001b[0m\u001b[1;33m\u001b[0m\u001b[1;33m\u001b[0m\u001b[0m\n\u001b[0m\u001b[0;32m     52\u001b[0m         \u001b[1;32massert\u001b[0m \u001b[0mself\u001b[0m\u001b[1;33m.\u001b[0m\u001b[0mhandles\u001b[0m \u001b[1;32mis\u001b[0m \u001b[1;32mnot\u001b[0m \u001b[1;32mNone\u001b[0m\u001b[1;33m\u001b[0m\u001b[1;33m\u001b[0m\u001b[0m\n\u001b[0;32m     53\u001b[0m \u001b[1;33m\u001b[0m\u001b[0m\n",
      "\u001b[1;32m~\\.conda\\envs\\my-rdkit-env\\lib\\site-packages\\pandas\\io\\parsers\\base_parser.py\u001b[0m in \u001b[0;36m_open_handles\u001b[1;34m(self, src, kwds)\u001b[0m\n\u001b[0;32m    220\u001b[0m         \u001b[0mLet\u001b[0m \u001b[0mthe\u001b[0m \u001b[0mreaders\u001b[0m \u001b[0mopen\u001b[0m \u001b[0mIOHandles\u001b[0m \u001b[0mafter\u001b[0m \u001b[0mthey\u001b[0m \u001b[0mare\u001b[0m \u001b[0mdone\u001b[0m \u001b[1;32mwith\u001b[0m \u001b[0mtheir\u001b[0m \u001b[0mpotential\u001b[0m \u001b[0mraises\u001b[0m\u001b[1;33m.\u001b[0m\u001b[1;33m\u001b[0m\u001b[1;33m\u001b[0m\u001b[0m\n\u001b[0;32m    221\u001b[0m         \"\"\"\n\u001b[1;32m--> 222\u001b[1;33m         self.handles = get_handle(\n\u001b[0m\u001b[0;32m    223\u001b[0m             \u001b[0msrc\u001b[0m\u001b[1;33m,\u001b[0m\u001b[1;33m\u001b[0m\u001b[1;33m\u001b[0m\u001b[0m\n\u001b[0;32m    224\u001b[0m             \u001b[1;34m\"r\"\u001b[0m\u001b[1;33m,\u001b[0m\u001b[1;33m\u001b[0m\u001b[1;33m\u001b[0m\u001b[0m\n",
      "\u001b[1;32m~\\.conda\\envs\\my-rdkit-env\\lib\\site-packages\\pandas\\io\\common.py\u001b[0m in \u001b[0;36mget_handle\u001b[1;34m(path_or_buf, mode, encoding, compression, memory_map, is_text, errors, storage_options)\u001b[0m\n\u001b[0;32m    700\u001b[0m         \u001b[1;32mif\u001b[0m \u001b[0mioargs\u001b[0m\u001b[1;33m.\u001b[0m\u001b[0mencoding\u001b[0m \u001b[1;32mand\u001b[0m \u001b[1;34m\"b\"\u001b[0m \u001b[1;32mnot\u001b[0m \u001b[1;32min\u001b[0m \u001b[0mioargs\u001b[0m\u001b[1;33m.\u001b[0m\u001b[0mmode\u001b[0m\u001b[1;33m:\u001b[0m\u001b[1;33m\u001b[0m\u001b[1;33m\u001b[0m\u001b[0m\n\u001b[0;32m    701\u001b[0m             \u001b[1;31m# Encoding\u001b[0m\u001b[1;33m\u001b[0m\u001b[1;33m\u001b[0m\u001b[0m\n\u001b[1;32m--> 702\u001b[1;33m             handle = open(\n\u001b[0m\u001b[0;32m    703\u001b[0m                 \u001b[0mhandle\u001b[0m\u001b[1;33m,\u001b[0m\u001b[1;33m\u001b[0m\u001b[1;33m\u001b[0m\u001b[0m\n\u001b[0;32m    704\u001b[0m                 \u001b[0mioargs\u001b[0m\u001b[1;33m.\u001b[0m\u001b[0mmode\u001b[0m\u001b[1;33m,\u001b[0m\u001b[1;33m\u001b[0m\u001b[1;33m\u001b[0m\u001b[0m\n",
      "\u001b[1;31mFileNotFoundError\u001b[0m: [Errno 2] No such file or directory: 'C:\\\\Users\\\\meide\\\\Documents\\\\GitHub\\\\Master\\\\data\\\\chem_prop.tsv'"
     ]
    }
   ],
   "source": [
    "dfProp = pd.read_csv('C:\\\\Users\\\\meide\\\\Documents\\\\GitHub\\\\Master\\\\data\\\\chem_prop.tsv', sep ='\\t', header = 0)\n",
    "\n",
    "dfXref = pd.read_csv('C:\\\\Users\\\\meide\\\\Documents\\\\GitHub\\\\Master\\\\data\\\\chem_xref.tsv', sep ='\\t', header = 0)\n"
   ]
  },
  {
   "cell_type": "markdown",
   "metadata": {},
   "source": [
    "# Creating df with e_coli_core.xml 👌🤣🤣🤣🤣🤣"
   ]
  },
  {
   "cell_type": "code",
   "execution_count": 3,
   "metadata": {},
   "outputs": [],
   "source": [
    "dfEcoliCore = pd.read_xml('C:\\\\Users\\\\meide\\\\Documents\\\\GitHub\\\\Master\\\\data\\\\e_coli_core.xml')"
   ]
  },
  {
   "cell_type": "markdown",
   "metadata": {},
   "source": [
    "# Creating a df with e_coli_core.json  🤦‍♀️🤦‍♂️😒"
   ]
  },
  {
   "cell_type": "code",
   "execution_count": null,
   "metadata": {},
   "outputs": [],
   "source": [
    "# dfJSON = pd.read_json('C:\\\\Users\\\\meide\\\\Documents\\\\GitHub\\\\Master\\\\data\\\\e_coli_core.json')"
   ]
  },
  {
   "cell_type": "markdown",
   "metadata": {},
   "source": [
    "# Extracting a row with a specific column value from chem_prop.tsv"
   ]
  },
  {
   "cell_type": "code",
   "execution_count": 3,
   "metadata": {},
   "outputs": [],
   "source": [
    "\n",
    "\n",
    "#Extracting a row with a specific column value\n",
    "test = dfProp.loc[dfProp[\"formula\"] == \"C21H38O\"]\n"
   ]
  },
  {
   "cell_type": "markdown",
   "metadata": {},
   "source": [
    "# Extracting rows with a specific column iterable\n",
    "## Metabolite formulas from e_coli_core.xml"
   ]
  },
  {
   "cell_type": "code",
   "execution_count": 22,
   "metadata": {},
   "outputs": [],
   "source": [
    "formulas = [\"6H12O6\",\"C5H10N2O3\",\"C5H10N2O3\", \"C5H8NO4\",\"C2H1O3\", \"H2O\",\"C6H5O7\",\"C3H5O3\",\"C4H4O5\",\"C21H26N7O14P2\",\"C21H27N7O14P2\",\"C21H25N7O17P3\",\"C21H26N7O17P3\", \"H4N\", \"C3H4O10P2\",\"O2\", \"C3H4O7P\", \"C4H2O5\", \"C3H2O6P\", \"C6H10O10P\",\"HO4P\", \"C6H9O9P\", \"C2H3O2\",  \"C3H3O3\", \"C49H74O4\", \"C5H9O8P\", \"C2H3O2\", \"C2H4O\", \"C7H13O10P\", \"C23H34N7O17P3S\",\"C4H4O4\",\"C25H35N7O19P3S\", \"C6H3O6\", \"C5H9O8P\",\"C2H3O5P\", \"C10H12N5O10P2\",\"C5H4O5\", \"C10H12N5O7P\",\"C10H12N5O13P3\", \"C6H5O7\", \"CO2\", \"C21H32N7O16P3S\", \"C3H5O6P\", \"C4H7O7P\", \"C2H6O\",\"C6H11O9P\",\"C6H10O12P2\", \"CH1O2\",\"C6H12O6\", \"C4H2O4\", \"C3H5O6P\", \"C6H11O9P\"]\n",
    "\n",
    "\n",
    "inchi_Key = [\"InChIKey=WQZGKKKJIJFFOK-GASJEMHNSA-N\",\"InChIKey=ZDXPYRJPNDTMRX-VKHMYHEASA-N\", \"InChIKey=ZDXPYRJPNDTMRX-VKHMYHEASA-N\",\"InChIKey=WHUUTDBJXJRKMK-VKHMYHEASA-M\", \"InChIKey=WHUUTDBJXJRKMK-VKHMYHEASA-M\", \"InChIKey=HHLFWLYXYJOTON-UHFFFAOYSA-M\", \"InChIKey=XLYOFNOQVPJJNP-UHFFFAOYSA-N\", \"InChIKey=XLYOFNOQVPJJNP-UHFFFAOYSA-N\",  \"InChIKey=GPRLSGONYQIRFK-UHFFFAOYSA-N\", \"InChIKey=GPRLSGONYQIRFK-UHFFFAOYSA-N\", \"InChIKey=ODBLHEXUDAPZAU-UHFFFAOYSA-K\", \"InChIKey=JVTAAEKCZFNVCJ-UWTATZPHSA-M\", \"InChIKey=JVTAAEKCZFNVCJ-UWTATZPHSA-M\", \"InChIKey=BJEPYKJPYRNKOW-REOHCLBHSA-L\", \"InChIKey=BJEPYKJPYRNKOW-REOHCLBHSA-L\", \"InChIKey=BAWFJGJZGIEFAR-NNYOXOHSSA-M\", \"InChIKey=BOPGDPNILDQYTO-NNYOXOHSSA-L\", \"InChIKey=XJLXINKUBYWONI-NNYOXOHSSA-K\", \"InChIKey=ACFIXJIJDZMPPO-NNYOXOHSSA-J\", \"InChIKey=QGZKDVFQNNGYKY-UHFFFAOYSA-O\", \"InChIKey=LJQLQCAXBUHEAZ-UWTATZPHSA-J\", \"InChIKey=QGZKDVFQNNGYKY-UHFFFAOYSA-O\", \"InChIKey=MYMOFIZGZYHOMD-UHFFFAOYSA-N\",\"InChIKey=GXIURPTVHJPJLF-UWTATZPHSA-K\",\"InChIKey=MYMOFIZGZYHOMD-UHFFFAOYSA-N\", \"InChIKey=OSJPPGNTCRNQQC-UWTATZPHSA-K\", \"InChIKey=KHPXUQMNIQBQEV-UHFFFAOYSA-L\", \"InChIKey=DTBNBXWJWCWCIK-UHFFFAOYSA-K\", \"InChIKey=BIRSGZKFKXLSJQ-SQOUGZDYSA-K\", \"InChIKey=NBIIXXVUZAFLBC-UHFFFAOYSA-L\", \"InChIKey=IJOJIVNDFQSGAB-SQOUGZDYSA-L\", \"InChIKey=NBIIXXVUZAFLBC-UHFFFAOYSA-L\", \"InChIKey=QTBSBXVTEAMEQO-UHFFFAOYSA-M\", \"InChIKey=LCTONWCANYUPML-UHFFFAOYSA-M\", \"InChIKey=LCTONWCANYUPML-UHFFFAOYSA-M\",\"InChIKey=ICFIZJQGJAJRSU-SGHXUWJISA-N\", \"InChIKey=LOJUQFSPYHMHEO-SGHXUWJISA-N\", \"InChIKey=KTVPXOYAKDPRHY-AIHAYLRMSA-L\", \"InChIKey=FNZLKVNUWIIPSJ-UHNVWZDZSA-L\", \"InChIKey=QTBSBXVTEAMEQO-UHFFFAOYSA-M\", \"InChIKey=IKHGUXGNUITLKF-UHFFFAOYSA-N\", \"InChIKey=JDTUMPKOJBQPKX-GBNDHIKLSA-L\", \"InChIKey=IKHGUXGNUITLKF-UHFFFAOYSA-N\", \"InChIKey=ZSLZBFCDCINBPY-ZSJPKINUSA-J\", \"InChIKey=KDYFGRWQOYBRFD-UHFFFAOYSA-L\" , \"InChIKey=KDYFGRWQOYBRFD-UHFFFAOYSA-L\", \"InChIKey=VNOYUJKHFWYWIR-ITIYDSSPSA-I\", \"InChIKey=GTZCVFVGUGFEME-IWQZZHSRSA-K\" , \"InChIKey=FNZLKVNUWIIPSJ-RFZPGFLSSA-L\", \"InChIKey=LIPOUNRJVLNBCD-UHFFFAOYSA-L\", \"InChIKey=XTWYTFMLZFPYCI-KQYNXXCUSA-K\", \"InChIKey=KPGXRSRHYNQIFN-UHFFFAOYSA-L\", \"InChIKey=KPGXRSRHYNQIFN-UHFFFAOYSA-L\", \"InChIKey=UDMBCSSLTHHNCD-KQYNXXCUSA-L\", \"InChIKey=ZKHQWZAMYRWXGA-KQYNXXCUSA-J\", \"InChIKey=KRKNYBCHXYNGOX-UHFFFAOYSA-K\", \"InChIKey=CURLTUGMZLYLDI-UHFFFAOYSA-N\", \"InChIKey=CURLTUGMZLYLDI-UHFFFAOYSA-N\", \"InChIKey=RGJOEKWQDUBAIZ-IBOSZNHHSA-J\", \"InChIKey=GNGACRATGGDKBX-UHFFFAOYSA-L\", \"InChIKey=NGHMDNPXVRFFGS-IUYQGCFVSA-L\", \"InChIKey=LFQSCWFLJHTTHZ-UHFFFAOYSA-N\", \"InChIKey=LFQSCWFLJHTTHZ-UHFFFAOYSA-N\", \"BGWGXPAPYGQALX-ARQDHWQXSA-L\", \"InChIKey=RNBGYGVWRKECFJ-VRPWFDPXSA-J\", \"InChIKey=BDAGIHXWWSANSR-UHFFFAOYSA-M\", \"InChIKey=BDAGIHXWWSANSR-UHFFFAOYSA-M\",\"InChIKey=RFSUNEUAIZKAJO-VRPWFDPXSA-N\", \"InChIKey=VZCYOOQTPOCHFL-OWOJBTEDSA-L\", \"InChIKey=VZCYOOQTPOCHFL-OWOJBTEDSA-L\", \"InChIKey=LXJXRIRHZLFYRP-VKHMYHEASA-L\", \"InChIKey=NBSCH\"  ]"
   ]
  },
  {
   "cell_type": "markdown",
   "metadata": {},
   "source": [
    "# 🐱‍👤🐱‍👤🐱‍👤🐱‍👤🐱‍👤🐱‍👤🐱‍👤🐱‍👤🐱‍👤🐱‍👤🐱‍👤🐱‍👤🐱‍👤🐱‍👤🐱‍👤🐱‍👤🐱‍👤🐱‍👤🐱‍👤🐱‍👤🐱‍👤🐱‍👤\n",
    "# Extracting rows from chem_prop.tsv to a df with matching formulas from e_coli_core.xml🐱‍👤🐱‍👤"
   ]
  },
  {
   "cell_type": "code",
   "execution_count": 23,
   "metadata": {},
   "outputs": [],
   "source": [
    "MetabolitesFromInChIKey = dfProp.loc[dfProp[\"InChIKey\"].isin(inchi_Key)]\n",
    "MetabolitesFromFormulas = dfProp.loc[dfProp[\"formula\"].isin(formulas)]"
   ]
  },
  {
   "cell_type": "markdown",
   "metadata": {},
   "source": []
  },
  {
   "cell_type": "code",
   "execution_count": null,
   "metadata": {},
   "outputs": [],
   "source": [
    "print(MetabolitesFromFormulas)"
   ]
  },
  {
   "cell_type": "code",
   "execution_count": 14,
   "metadata": {},
   "outputs": [],
   "source": [
    "MetabolitesFromInChIKey.to_csv(\"MetabolitesFromInChIKey.csv\")\n",
    "MetabolitesFromFormulas.to_csv(\"MetabolitesFromFormula.csv\")"
   ]
  },
  {
   "cell_type": "code",
   "execution_count": 19,
   "metadata": {},
   "outputs": [],
   "source": [
    "\n",
    "metDf = pd.read_csv(\"MetabolitesFromInchIKey.csv\")"
   ]
  },
  {
   "cell_type": "code",
   "execution_count": null,
   "metadata": {},
   "outputs": [],
   "source": [
    "formulaDf = pd.DataFrame(formulas, columns =[\"0\"])"
   ]
  },
  {
   "cell_type": "code",
   "execution_count": null,
   "metadata": {},
   "outputs": [],
   "source": [
    "formulaDf.to_csv(\"formulas.csv\")"
   ]
  },
  {
   "cell_type": "code",
   "execution_count": null,
   "metadata": {},
   "outputs": [],
   "source": []
  }
 ],
 "metadata": {
  "interpreter": {
   "hash": "8420ab189d00d083782919827e61e029726b7008cf5217a89172cbb7a6a52562"
  },
  "kernelspec": {
   "display_name": "Python 3 (ipykernel)",
   "language": "python",
   "name": "python3"
  },
  "language_info": {
   "codemirror_mode": {
    "name": "ipython",
    "version": 3
   },
   "file_extension": ".py",
   "mimetype": "text/x-python",
   "name": "python",
   "nbconvert_exporter": "python",
   "pygments_lexer": "ipython3",
   "version": "3.9.7"
  }
 },
 "nbformat": 4,
 "nbformat_minor": 2
}
