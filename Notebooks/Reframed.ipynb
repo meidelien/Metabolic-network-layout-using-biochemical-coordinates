{
 "cells": [
  {
   "cell_type": "code",
   "execution_count": 1,
   "metadata": {},
   "outputs": [],
   "source": [
    "import reframed\n",
    "from reframed import load_cbmodel\n",
    "import sys\n",
    "import os\n",
    "\n",
    "path = \"C:/Users/meide/Documents/GitHub/Master/data\"\n",
    "os.chdir(path)"
   ]
  },
  {
   "cell_type": "code",
   "execution_count": 2,
   "metadata": {},
   "outputs": [
    {
     "name": "stderr",
     "output_type": "stream",
     "text": [
      "C:\\Users\\meide\\.conda\\envs\\rdkit\\lib\\site-packages\\reframed\\io\\sbml.py:512: UserWarning: Gene association for reaction R_PFL is not DNF\n",
      "  warn(f\"Gene association for reaction {reaction_id} is not DNF\")\n",
      "C:\\Users\\meide\\.conda\\envs\\rdkit\\lib\\site-packages\\reframed\\io\\sbml.py:512: UserWarning: Gene association for reaction R_RNDR1 is not DNF\n",
      "  warn(f\"Gene association for reaction {reaction_id} is not DNF\")\n",
      "C:\\Users\\meide\\.conda\\envs\\rdkit\\lib\\site-packages\\reframed\\io\\sbml.py:512: UserWarning: Gene association for reaction R_RNDR3 is not DNF\n",
      "  warn(f\"Gene association for reaction {reaction_id} is not DNF\")\n",
      "C:\\Users\\meide\\.conda\\envs\\rdkit\\lib\\site-packages\\reframed\\io\\sbml.py:512: UserWarning: Gene association for reaction R_RNDR4 is not DNF\n",
      "  warn(f\"Gene association for reaction {reaction_id} is not DNF\")\n",
      "C:\\Users\\meide\\.conda\\envs\\rdkit\\lib\\site-packages\\reframed\\io\\sbml.py:512: UserWarning: Gene association for reaction R_CITL is not DNF\n",
      "  warn(f\"Gene association for reaction {reaction_id} is not DNF\")\n",
      "C:\\Users\\meide\\.conda\\envs\\rdkit\\lib\\site-packages\\reframed\\io\\sbml.py:512: UserWarning: Gene association for reaction R_NO3R1bpp is not DNF\n",
      "  warn(f\"Gene association for reaction {reaction_id} is not DNF\")\n",
      "C:\\Users\\meide\\.conda\\envs\\rdkit\\lib\\site-packages\\reframed\\io\\sbml.py:512: UserWarning: Gene association for reaction R_NO3R2bpp is not DNF\n",
      "  warn(f\"Gene association for reaction {reaction_id} is not DNF\")\n",
      "C:\\Users\\meide\\.conda\\envs\\rdkit\\lib\\site-packages\\reframed\\io\\sbml.py:512: UserWarning: Gene association for reaction R_ATPS4rpp is not DNF\n",
      "  warn(f\"Gene association for reaction {reaction_id} is not DNF\")\n",
      "C:\\Users\\meide\\.conda\\envs\\rdkit\\lib\\site-packages\\reframed\\io\\sbml.py:512: UserWarning: Gene association for reaction R_CPGNtonex is not DNF\n",
      "  warn(f\"Gene association for reaction {reaction_id} is not DNF\")\n",
      "C:\\Users\\meide\\.conda\\envs\\rdkit\\lib\\site-packages\\reframed\\io\\sbml.py:512: UserWarning: Gene association for reaction R_FE3DCITtonex is not DNF\n",
      "  warn(f\"Gene association for reaction {reaction_id} is not DNF\")\n",
      "C:\\Users\\meide\\.conda\\envs\\rdkit\\lib\\site-packages\\reframed\\io\\sbml.py:512: UserWarning: Gene association for reaction R_FEENTERtonex is not DNF\n",
      "  warn(f\"Gene association for reaction {reaction_id} is not DNF\")\n",
      "C:\\Users\\meide\\.conda\\envs\\rdkit\\lib\\site-packages\\reframed\\io\\sbml.py:512: UserWarning: Gene association for reaction R_RNDR3b is not DNF\n",
      "  warn(f\"Gene association for reaction {reaction_id} is not DNF\")\n",
      "C:\\Users\\meide\\.conda\\envs\\rdkit\\lib\\site-packages\\reframed\\io\\sbml.py:512: UserWarning: Gene association for reaction R_RNDR4b is not DNF\n",
      "  warn(f\"Gene association for reaction {reaction_id} is not DNF\")\n",
      "C:\\Users\\meide\\.conda\\envs\\rdkit\\lib\\site-packages\\reframed\\io\\sbml.py:512: UserWarning: Gene association for reaction R_RNDR1b is not DNF\n",
      "  warn(f\"Gene association for reaction {reaction_id} is not DNF\")\n",
      "C:\\Users\\meide\\.conda\\envs\\rdkit\\lib\\site-packages\\reframed\\io\\sbml.py:512: UserWarning: Gene association for reaction R_RNDR2b is not DNF\n",
      "  warn(f\"Gene association for reaction {reaction_id} is not DNF\")\n",
      "C:\\Users\\meide\\.conda\\envs\\rdkit\\lib\\site-packages\\reframed\\io\\sbml.py:512: UserWarning: Gene association for reaction R_INDOLEt2pp is not DNF\n",
      "  warn(f\"Gene association for reaction {reaction_id} is not DNF\")\n",
      "C:\\Users\\meide\\.conda\\envs\\rdkit\\lib\\site-packages\\reframed\\io\\sbml.py:512: UserWarning: Gene association for reaction R_FECRMtonex is not DNF\n",
      "  warn(f\"Gene association for reaction {reaction_id} is not DNF\")\n",
      "C:\\Users\\meide\\.conda\\envs\\rdkit\\lib\\site-packages\\reframed\\io\\sbml.py:512: UserWarning: Gene association for reaction R_FE3HOXtonex is not DNF\n",
      "  warn(f\"Gene association for reaction {reaction_id} is not DNF\")\n",
      "C:\\Users\\meide\\.conda\\envs\\rdkit\\lib\\site-packages\\reframed\\io\\sbml.py:512: UserWarning: Gene association for reaction R_FHL is not DNF\n",
      "  warn(f\"Gene association for reaction {reaction_id} is not DNF\")\n",
      "C:\\Users\\meide\\.conda\\envs\\rdkit\\lib\\site-packages\\reframed\\io\\sbml.py:512: UserWarning: Gene association for reaction R_RNDR2 is not DNF\n",
      "  warn(f\"Gene association for reaction {reaction_id} is not DNF\")\n",
      "C:\\Users\\meide\\.conda\\envs\\rdkit\\lib\\site-packages\\reframed\\io\\sbml.py:512: UserWarning: Gene association for reaction R_CELBpts is not DNF\n",
      "  warn(f\"Gene association for reaction {reaction_id} is not DNF\")\n",
      "C:\\Users\\meide\\.conda\\envs\\rdkit\\lib\\site-packages\\reframed\\io\\sbml.py:512: UserWarning: Gene association for reaction R_FE3DHBZStonex is not DNF\n",
      "  warn(f\"Gene association for reaction {reaction_id} is not DNF\")\n",
      "C:\\Users\\meide\\.conda\\envs\\rdkit\\lib\\site-packages\\reframed\\io\\sbml.py:512: UserWarning: Gene association for reaction R_FEOXAMtonex is not DNF\n",
      "  warn(f\"Gene association for reaction {reaction_id} is not DNF\")\n",
      "C:\\Users\\meide\\.conda\\envs\\rdkit\\lib\\site-packages\\reframed\\io\\sbml.py:512: UserWarning: Gene association for reaction R_OBTFL is not DNF\n",
      "  warn(f\"Gene association for reaction {reaction_id} is not DNF\")\n",
      "C:\\Users\\meide\\.conda\\envs\\rdkit\\lib\\site-packages\\reframed\\io\\sbml.py:512: UserWarning: Gene association for reaction R_CHTBSptspp is not DNF\n",
      "  warn(f\"Gene association for reaction {reaction_id} is not DNF\")\n",
      "C:\\Users\\meide\\.conda\\envs\\rdkit\\lib\\site-packages\\reframed\\io\\sbml.py:512: UserWarning: Gene association for reaction R_CBL1tonex is not DNF\n",
      "  warn(f\"Gene association for reaction {reaction_id} is not DNF\")\n",
      "C:\\Users\\meide\\.conda\\envs\\rdkit\\lib\\site-packages\\reframed\\io\\sbml.py:512: UserWarning: Gene association for reaction R_CBItonex is not DNF\n",
      "  warn(f\"Gene association for reaction {reaction_id} is not DNF\")\n",
      "C:\\Users\\meide\\.conda\\envs\\rdkit\\lib\\site-packages\\reframed\\io\\sbml.py:512: UserWarning: Gene association for reaction R_ADOCBLtonex is not DNF\n",
      "  warn(f\"Gene association for reaction {reaction_id} is not DNF\")\n"
     ]
    }
   ],
   "source": [
    "model = load_cbmodel(\"iML1515.xml\", flavor = \"fbc2\")"
   ]
  },
  {
   "cell_type": "code",
   "execution_count": 5,
   "metadata": {},
   "outputs": [
    {
     "name": "stdout",
     "output_type": "stream",
     "text": [
      "Metabolites:\n",
      "c 1071\n",
      "e 341\n",
      "p 465\n",
      "\n",
      "Reactions:\n",
      "enzymatic 1476\n",
      "transport 833\n",
      "exchange 337\n",
      "sink 0\n",
      "other 66\n"
     ]
    }
   ],
   "source": [
    "model.summary()"
   ]
  },
  {
   "cell_type": "code",
   "execution_count": null,
   "metadata": {},
   "outputs": [],
   "source": [
    "### Compiling a list of edges "
   ]
  },
  {
   "cell_type": "code",
   "execution_count": 6,
   "metadata": {},
   "outputs": [],
   "source": [
    "\n",
    "edges = [(s, p) for rxn in model.reactions.values() for s in rxn.get_substrates() for p in rxn.get_products()]"
   ]
  },
  {
   "cell_type": "markdown",
   "metadata": {},
   "source": [
    "#### Getting metabolites with more than 4 reactions"
   ]
  },
  {
   "cell_type": "code",
   "execution_count": 11,
   "metadata": {},
   "outputs": [],
   "source": [
    "N = 4\n",
    "\n",
    "hubs = [x for x in model.metabolites if len(model.get_metabolite_reactions(x)) > N]"
   ]
  },
  {
   "cell_type": "code",
   "execution_count": 12,
   "metadata": {},
   "outputs": [
    {
     "ename": "TypeError",
     "evalue": "'bool' object is not iterable",
     "output_type": "error",
     "traceback": [
      "\u001b[1;31m---------------------------------------------------------------------------\u001b[0m",
      "\u001b[1;31mTypeError\u001b[0m                                 Traceback (most recent call last)",
      "\u001b[1;32m~\\AppData\\Local\\Temp/ipykernel_17040/2263925477.py\u001b[0m in \u001b[0;36m<module>\u001b[1;34m\u001b[0m\n\u001b[1;32m----> 1\u001b[1;33m \u001b[0medges\u001b[0m \u001b[1;33m=\u001b[0m \u001b[1;33m[\u001b[0m\u001b[1;33m(\u001b[0m\u001b[0ms\u001b[0m\u001b[1;33m,\u001b[0m \u001b[0mp\u001b[0m\u001b[1;33m)\u001b[0m \u001b[1;32mfor\u001b[0m \u001b[0mrxn\u001b[0m \u001b[1;32min\u001b[0m \u001b[0mmodel\u001b[0m\u001b[1;33m.\u001b[0m\u001b[0mreactions\u001b[0m\u001b[1;33m.\u001b[0m\u001b[0mvalues\u001b[0m\u001b[1;33m(\u001b[0m\u001b[1;33m)\u001b[0m \u001b[1;32mfor\u001b[0m \u001b[0ms\u001b[0m \u001b[1;32min\u001b[0m \u001b[0mrxn\u001b[0m\u001b[1;33m.\u001b[0m\u001b[0mget_substrates\u001b[0m\u001b[1;33m(\u001b[0m\u001b[1;33m)\u001b[0m \u001b[1;32mfor\u001b[0m \u001b[0mp\u001b[0m \u001b[1;32min\u001b[0m \u001b[0mrxn\u001b[0m\u001b[1;33m.\u001b[0m\u001b[0mget_products\u001b[0m\u001b[1;33m(\u001b[0m\u001b[1;33m)\u001b[0m \u001b[1;32mis\u001b[0m \u001b[0ms\u001b[0m \u001b[1;32mnot\u001b[0m \u001b[1;32min\u001b[0m \u001b[0mhubs\u001b[0m \u001b[1;32mand\u001b[0m \u001b[0mp\u001b[0m \u001b[1;32mnot\u001b[0m \u001b[1;32min\u001b[0m \u001b[0mhubs\u001b[0m\u001b[1;33m]\u001b[0m\u001b[1;33m\u001b[0m\u001b[1;33m\u001b[0m\u001b[0m\n\u001b[0m",
      "\u001b[1;32m~\\AppData\\Local\\Temp/ipykernel_17040/2263925477.py\u001b[0m in \u001b[0;36m<listcomp>\u001b[1;34m(.0)\u001b[0m\n\u001b[1;32m----> 1\u001b[1;33m \u001b[0medges\u001b[0m \u001b[1;33m=\u001b[0m \u001b[1;33m[\u001b[0m\u001b[1;33m(\u001b[0m\u001b[0ms\u001b[0m\u001b[1;33m,\u001b[0m \u001b[0mp\u001b[0m\u001b[1;33m)\u001b[0m \u001b[1;32mfor\u001b[0m \u001b[0mrxn\u001b[0m \u001b[1;32min\u001b[0m \u001b[0mmodel\u001b[0m\u001b[1;33m.\u001b[0m\u001b[0mreactions\u001b[0m\u001b[1;33m.\u001b[0m\u001b[0mvalues\u001b[0m\u001b[1;33m(\u001b[0m\u001b[1;33m)\u001b[0m \u001b[1;32mfor\u001b[0m \u001b[0ms\u001b[0m \u001b[1;32min\u001b[0m \u001b[0mrxn\u001b[0m\u001b[1;33m.\u001b[0m\u001b[0mget_substrates\u001b[0m\u001b[1;33m(\u001b[0m\u001b[1;33m)\u001b[0m \u001b[1;32mfor\u001b[0m \u001b[0mp\u001b[0m \u001b[1;32min\u001b[0m \u001b[0mrxn\u001b[0m\u001b[1;33m.\u001b[0m\u001b[0mget_products\u001b[0m\u001b[1;33m(\u001b[0m\u001b[1;33m)\u001b[0m \u001b[1;32mis\u001b[0m \u001b[0ms\u001b[0m \u001b[1;32mnot\u001b[0m \u001b[1;32min\u001b[0m \u001b[0mhubs\u001b[0m \u001b[1;32mand\u001b[0m \u001b[0mp\u001b[0m \u001b[1;32mnot\u001b[0m \u001b[1;32min\u001b[0m \u001b[0mhubs\u001b[0m\u001b[1;33m]\u001b[0m\u001b[1;33m\u001b[0m\u001b[1;33m\u001b[0m\u001b[0m\n\u001b[0m",
      "\u001b[1;31mTypeError\u001b[0m: 'bool' object is not iterable"
     ]
    }
   ],
   "source": [
    "edges = [(s, p) for rxn in model.reactions.values() for s in rxn.get_substrates() for p in rxn.get_products() is s not in hubs and p not in hubs]"
   ]
  },
  {
   "cell_type": "code",
   "execution_count": 17,
   "metadata": {},
   "outputs": [],
   "source": [
    "import pandas as pd\n",
    "\n",
    "df = pd.read_csv(\"ProperModel.csv\")\n",
    "\n",
    "remove = df.pop(\"Unnamed: 0\")"
   ]
  },
  {
   "cell_type": "code",
   "execution_count": 22,
   "metadata": {},
   "outputs": [],
   "source": [
    "df2target = pd.DataFrame(edges)\n",
    "\n",
    "df2target.to_csv(\"targets.csv\")"
   ]
  },
  {
   "cell_type": "code",
   "execution_count": 23,
   "metadata": {},
   "outputs": [],
   "source": [
    "df2target = pd.read_csv(\"targets.csv\")"
   ]
  },
  {
   "cell_type": "code",
   "execution_count": 24,
   "metadata": {},
   "outputs": [],
   "source": [
    "Preamble = df.set_index(\"BiGG\")\n",
    "Skullbasher = df2target.set_index(\"BiGG_target\")\n",
    "\n"
   ]
  },
  {
   "cell_type": "code",
   "execution_count": 25,
   "metadata": {},
   "outputs": [],
   "source": [
    "Hope = pd.merge(Preamble, Skullbasher, left_index = True, right_index = True)"
   ]
  },
  {
   "cell_type": "code",
   "execution_count": 26,
   "metadata": {},
   "outputs": [],
   "source": [
    "Hope.to_csv(\"Metabolic_network_targets.csv\")"
   ]
  },
  {
   "cell_type": "code",
   "execution_count": null,
   "metadata": {},
   "outputs": [],
   "source": []
  }
 ],
 "metadata": {
  "interpreter": {
   "hash": "478201df5069d2e6391cf65b23ce884d49c57ebe4f05640c641415e63946d634"
  },
  "kernelspec": {
   "display_name": "Python 3.9.7 ('rdkit')",
   "language": "python",
   "name": "python3"
  },
  "language_info": {
   "codemirror_mode": {
    "name": "ipython",
    "version": 3
   },
   "file_extension": ".py",
   "mimetype": "text/x-python",
   "name": "python",
   "nbconvert_exporter": "python",
   "pygments_lexer": "ipython3",
   "version": "3.9.7"
  },
  "orig_nbformat": 4
 },
 "nbformat": 4,
 "nbformat_minor": 2
}
