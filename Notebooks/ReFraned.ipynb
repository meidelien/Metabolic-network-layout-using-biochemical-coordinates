{
 "cells": [
  {
   "cell_type": "code",
   "execution_count": 9,
   "metadata": {},
   "outputs": [
    {
     "ename": "FileNotFoundError",
     "evalue": "[WinError 2] The system cannot find the file specified: 'data/'",
     "output_type": "error",
     "traceback": [
      "\u001b[1;31m---------------------------------------------------------------------------\u001b[0m",
      "\u001b[1;31mFileNotFoundError\u001b[0m                         Traceback (most recent call last)",
      "\u001b[1;32mc:\\GitHub\\Metabolic-network-layout-using-biochemical-coordinates\\Notebooks\\ReFraned.ipynb Cell 1'\u001b[0m in \u001b[0;36m<cell line: 10>\u001b[1;34m()\u001b[0m\n\u001b[0;32m      <a href='vscode-notebook-cell:/c%3A/GitHub/Metabolic-network-layout-using-biochemical-coordinates/Notebooks/ReFraned.ipynb#ch0000000?line=7'>8</a>\u001b[0m \u001b[39m# path = \"C:/Users/meide/Documents/GitHub/Master/data\"\u001b[39;00m\n\u001b[0;32m      <a href='vscode-notebook-cell:/c%3A/GitHub/Metabolic-network-layout-using-biochemical-coordinates/Notebooks/ReFraned.ipynb#ch0000000?line=8'>9</a>\u001b[0m path \u001b[39m=\u001b[39m \u001b[39m\"\u001b[39m\u001b[39mdata/\u001b[39m\u001b[39m\"\u001b[39m\n\u001b[1;32m---> <a href='vscode-notebook-cell:/c%3A/GitHub/Metabolic-network-layout-using-biochemical-coordinates/Notebooks/ReFraned.ipynb#ch0000000?line=9'>10</a>\u001b[0m os\u001b[39m.\u001b[39;49mchdir(path)\n",
      "\u001b[1;31mFileNotFoundError\u001b[0m: [WinError 2] The system cannot find the file specified: 'data/'"
     ]
    }
   ],
   "source": [
    "import reframed\n",
    "from reframed import load_cbmodel\n",
    "import pandas as pd\n",
    "import sys\n",
    "import os\n",
    "\n",
    "\n",
    "# path = \"C:/Users/meide/Documents/GitHub/Master/data\"\n",
    "path = \"data/\"\n",
    "os.chdir(path)"
   ]
  },
  {
   "cell_type": "code",
   "execution_count": 10,
   "metadata": {},
   "outputs": [
    {
     "name": "stderr",
     "output_type": "stream",
     "text": [
      "c:\\Users\\meide\\.conda\\envs\\rdkit\\lib\\site-packages\\reframed\\io\\sbml.py:512: UserWarning: Gene association for reaction R_PFL is not DNF\n",
      "  warn(f\"Gene association for reaction {reaction_id} is not DNF\")\n",
      "c:\\Users\\meide\\.conda\\envs\\rdkit\\lib\\site-packages\\reframed\\io\\sbml.py:512: UserWarning: Gene association for reaction R_RNDR1 is not DNF\n",
      "  warn(f\"Gene association for reaction {reaction_id} is not DNF\")\n",
      "c:\\Users\\meide\\.conda\\envs\\rdkit\\lib\\site-packages\\reframed\\io\\sbml.py:512: UserWarning: Gene association for reaction R_RNDR3 is not DNF\n",
      "  warn(f\"Gene association for reaction {reaction_id} is not DNF\")\n",
      "c:\\Users\\meide\\.conda\\envs\\rdkit\\lib\\site-packages\\reframed\\io\\sbml.py:512: UserWarning: Gene association for reaction R_RNDR4 is not DNF\n",
      "  warn(f\"Gene association for reaction {reaction_id} is not DNF\")\n",
      "c:\\Users\\meide\\.conda\\envs\\rdkit\\lib\\site-packages\\reframed\\io\\sbml.py:512: UserWarning: Gene association for reaction R_CITL is not DNF\n",
      "  warn(f\"Gene association for reaction {reaction_id} is not DNF\")\n",
      "c:\\Users\\meide\\.conda\\envs\\rdkit\\lib\\site-packages\\reframed\\io\\sbml.py:512: UserWarning: Gene association for reaction R_NO3R1bpp is not DNF\n",
      "  warn(f\"Gene association for reaction {reaction_id} is not DNF\")\n",
      "c:\\Users\\meide\\.conda\\envs\\rdkit\\lib\\site-packages\\reframed\\io\\sbml.py:512: UserWarning: Gene association for reaction R_NO3R2bpp is not DNF\n",
      "  warn(f\"Gene association for reaction {reaction_id} is not DNF\")\n",
      "c:\\Users\\meide\\.conda\\envs\\rdkit\\lib\\site-packages\\reframed\\io\\sbml.py:512: UserWarning: Gene association for reaction R_ATPS4rpp is not DNF\n",
      "  warn(f\"Gene association for reaction {reaction_id} is not DNF\")\n",
      "c:\\Users\\meide\\.conda\\envs\\rdkit\\lib\\site-packages\\reframed\\io\\sbml.py:512: UserWarning: Gene association for reaction R_CPGNtonex is not DNF\n",
      "  warn(f\"Gene association for reaction {reaction_id} is not DNF\")\n",
      "c:\\Users\\meide\\.conda\\envs\\rdkit\\lib\\site-packages\\reframed\\io\\sbml.py:512: UserWarning: Gene association for reaction R_FE3DCITtonex is not DNF\n",
      "  warn(f\"Gene association for reaction {reaction_id} is not DNF\")\n",
      "c:\\Users\\meide\\.conda\\envs\\rdkit\\lib\\site-packages\\reframed\\io\\sbml.py:512: UserWarning: Gene association for reaction R_FEENTERtonex is not DNF\n",
      "  warn(f\"Gene association for reaction {reaction_id} is not DNF\")\n",
      "c:\\Users\\meide\\.conda\\envs\\rdkit\\lib\\site-packages\\reframed\\io\\sbml.py:512: UserWarning: Gene association for reaction R_RNDR3b is not DNF\n",
      "  warn(f\"Gene association for reaction {reaction_id} is not DNF\")\n",
      "c:\\Users\\meide\\.conda\\envs\\rdkit\\lib\\site-packages\\reframed\\io\\sbml.py:512: UserWarning: Gene association for reaction R_RNDR4b is not DNF\n",
      "  warn(f\"Gene association for reaction {reaction_id} is not DNF\")\n",
      "c:\\Users\\meide\\.conda\\envs\\rdkit\\lib\\site-packages\\reframed\\io\\sbml.py:512: UserWarning: Gene association for reaction R_RNDR1b is not DNF\n",
      "  warn(f\"Gene association for reaction {reaction_id} is not DNF\")\n",
      "c:\\Users\\meide\\.conda\\envs\\rdkit\\lib\\site-packages\\reframed\\io\\sbml.py:512: UserWarning: Gene association for reaction R_RNDR2b is not DNF\n",
      "  warn(f\"Gene association for reaction {reaction_id} is not DNF\")\n",
      "c:\\Users\\meide\\.conda\\envs\\rdkit\\lib\\site-packages\\reframed\\io\\sbml.py:512: UserWarning: Gene association for reaction R_INDOLEt2pp is not DNF\n",
      "  warn(f\"Gene association for reaction {reaction_id} is not DNF\")\n",
      "c:\\Users\\meide\\.conda\\envs\\rdkit\\lib\\site-packages\\reframed\\io\\sbml.py:512: UserWarning: Gene association for reaction R_FECRMtonex is not DNF\n",
      "  warn(f\"Gene association for reaction {reaction_id} is not DNF\")\n",
      "c:\\Users\\meide\\.conda\\envs\\rdkit\\lib\\site-packages\\reframed\\io\\sbml.py:512: UserWarning: Gene association for reaction R_FE3HOXtonex is not DNF\n",
      "  warn(f\"Gene association for reaction {reaction_id} is not DNF\")\n",
      "c:\\Users\\meide\\.conda\\envs\\rdkit\\lib\\site-packages\\reframed\\io\\sbml.py:512: UserWarning: Gene association for reaction R_FHL is not DNF\n",
      "  warn(f\"Gene association for reaction {reaction_id} is not DNF\")\n",
      "c:\\Users\\meide\\.conda\\envs\\rdkit\\lib\\site-packages\\reframed\\io\\sbml.py:512: UserWarning: Gene association for reaction R_RNDR2 is not DNF\n",
      "  warn(f\"Gene association for reaction {reaction_id} is not DNF\")\n",
      "c:\\Users\\meide\\.conda\\envs\\rdkit\\lib\\site-packages\\reframed\\io\\sbml.py:512: UserWarning: Gene association for reaction R_CELBpts is not DNF\n",
      "  warn(f\"Gene association for reaction {reaction_id} is not DNF\")\n",
      "c:\\Users\\meide\\.conda\\envs\\rdkit\\lib\\site-packages\\reframed\\io\\sbml.py:512: UserWarning: Gene association for reaction R_FE3DHBZStonex is not DNF\n",
      "  warn(f\"Gene association for reaction {reaction_id} is not DNF\")\n",
      "c:\\Users\\meide\\.conda\\envs\\rdkit\\lib\\site-packages\\reframed\\io\\sbml.py:512: UserWarning: Gene association for reaction R_FEOXAMtonex is not DNF\n",
      "  warn(f\"Gene association for reaction {reaction_id} is not DNF\")\n",
      "c:\\Users\\meide\\.conda\\envs\\rdkit\\lib\\site-packages\\reframed\\io\\sbml.py:512: UserWarning: Gene association for reaction R_OBTFL is not DNF\n",
      "  warn(f\"Gene association for reaction {reaction_id} is not DNF\")\n",
      "c:\\Users\\meide\\.conda\\envs\\rdkit\\lib\\site-packages\\reframed\\io\\sbml.py:512: UserWarning: Gene association for reaction R_CHTBSptspp is not DNF\n",
      "  warn(f\"Gene association for reaction {reaction_id} is not DNF\")\n",
      "c:\\Users\\meide\\.conda\\envs\\rdkit\\lib\\site-packages\\reframed\\io\\sbml.py:512: UserWarning: Gene association for reaction R_CBL1tonex is not DNF\n",
      "  warn(f\"Gene association for reaction {reaction_id} is not DNF\")\n",
      "c:\\Users\\meide\\.conda\\envs\\rdkit\\lib\\site-packages\\reframed\\io\\sbml.py:512: UserWarning: Gene association for reaction R_CBItonex is not DNF\n",
      "  warn(f\"Gene association for reaction {reaction_id} is not DNF\")\n",
      "c:\\Users\\meide\\.conda\\envs\\rdkit\\lib\\site-packages\\reframed\\io\\sbml.py:512: UserWarning: Gene association for reaction R_ADOCBLtonex is not DNF\n",
      "  warn(f\"Gene association for reaction {reaction_id} is not DNF\")\n"
     ]
    }
   ],
   "source": [
    "# model = load_cbmodel(\"e_coli_core.xml\", flavor = \"bigg\");\n",
    "\n",
    "model = load_cbmodel(\"iML1515.xml\", flavor = \"bigg\")"
   ]
  },
  {
   "cell_type": "code",
   "execution_count": 3,
   "metadata": {},
   "outputs": [
    {
     "name": "stdout",
     "output_type": "stream",
     "text": [
      "Metabolites:\n",
      "c 1071\n",
      "e 341\n",
      "p 465\n",
      "\n",
      "Reactions:\n",
      "enzymatic 1476\n",
      "transport 833\n",
      "exchange 331\n",
      "sink 6\n",
      "other 66\n"
     ]
    }
   ],
   "source": [
    "model.summary()"
   ]
  },
  {
   "cell_type": "markdown",
   "metadata": {},
   "source": [
    "### Compiling a list of edges "
   ]
  },
  {
   "cell_type": "code",
   "execution_count": 11,
   "metadata": {},
   "outputs": [],
   "source": [
    "\n",
    "edges = [(s, p) for rxn in model.reactions.values() for s in rxn.get_substrates() for p in rxn.get_products()]"
   ]
  },
  {
   "cell_type": "code",
   "execution_count": 7,
   "metadata": {},
   "outputs": [],
   "source": [
    "dfEdge = pd.DataFrame(edges, columns = [\"source\", \"target\"])"
   ]
  },
  {
   "cell_type": "code",
   "execution_count": 8,
   "metadata": {},
   "outputs": [],
   "source": [
    "dfEdge.to_csv(\"1515_edgelist.csv\", index = False)"
   ]
  },
  {
   "cell_type": "markdown",
   "metadata": {},
   "source": [
    "#### Getting metabolites with more than 4 reactions"
   ]
  },
  {
   "cell_type": "code",
   "execution_count": 35,
   "metadata": {},
   "outputs": [],
   "source": [
    "N = 20\n",
    "\n",
    "hubs = [x for x in model.metabolites if len(model.get_metabolite_reactions(x)) > N]"
   ]
  },
  {
   "cell_type": "code",
   "execution_count": 38,
   "metadata": {},
   "outputs": [
    {
     "ename": "TypeError",
     "evalue": "'bool' object is not iterable",
     "output_type": "error",
     "traceback": [
      "\u001b[1;31m---------------------------------------------------------------------------\u001b[0m",
      "\u001b[1;31mTypeError\u001b[0m                                 Traceback (most recent call last)",
      "\u001b[1;32mc:\\GitHub\\Metabolic-network-layout-using-biochemical-coordinates\\Notebooks\\ReFraned.ipynb Cell 10'\u001b[0m in \u001b[0;36m<cell line: 1>\u001b[1;34m()\u001b[0m\n\u001b[1;32m----> <a href='vscode-notebook-cell:/c%3A/GitHub/Metabolic-network-layout-using-biochemical-coordinates/Notebooks/ReFraned.ipynb#ch0000007?line=0'>1</a>\u001b[0m edges \u001b[39m=\u001b[39m [(s, p) \u001b[39mfor\u001b[39;00m rxn \u001b[39min\u001b[39;00m model\u001b[39m.\u001b[39mreactions\u001b[39m.\u001b[39mvalues() \u001b[39mfor\u001b[39;00m s \u001b[39min\u001b[39;00m rxn\u001b[39m.\u001b[39mget_substrates() \u001b[39mfor\u001b[39;00m p \u001b[39min\u001b[39;00m rxn\u001b[39m.\u001b[39mget_products() \u001b[39mis\u001b[39;00m s \u001b[39mnot\u001b[39;00m \u001b[39min\u001b[39;00m hubs \u001b[39mand\u001b[39;00m p \u001b[39mnot\u001b[39;00m \u001b[39min\u001b[39;00m hubs]\n",
      "\u001b[1;32mc:\\GitHub\\Metabolic-network-layout-using-biochemical-coordinates\\Notebooks\\ReFraned.ipynb Cell 10'\u001b[0m in \u001b[0;36m<listcomp>\u001b[1;34m(.0)\u001b[0m\n\u001b[1;32m----> <a href='vscode-notebook-cell:/c%3A/GitHub/Metabolic-network-layout-using-biochemical-coordinates/Notebooks/ReFraned.ipynb#ch0000007?line=0'>1</a>\u001b[0m edges \u001b[39m=\u001b[39m [(s, p) \u001b[39mfor\u001b[39;00m rxn \u001b[39min\u001b[39;00m model\u001b[39m.\u001b[39mreactions\u001b[39m.\u001b[39mvalues() \u001b[39mfor\u001b[39;00m s \u001b[39min\u001b[39;00m rxn\u001b[39m.\u001b[39mget_substrates() \u001b[39mfor\u001b[39;00m p \u001b[39min\u001b[39;00m rxn\u001b[39m.\u001b[39mget_products() \u001b[39mis\u001b[39;00m s \u001b[39mnot\u001b[39;00m \u001b[39min\u001b[39;00m hubs \u001b[39mand\u001b[39;00m p \u001b[39mnot\u001b[39;00m \u001b[39min\u001b[39;00m hubs]\n",
      "\u001b[1;31mTypeError\u001b[0m: 'bool' object is not iterable"
     ]
    }
   ],
   "source": [
    "edges = [(s, p) for rxn in model.reactions.values() for s in rxn.get_substrates() for p in rxn.get_products() is s not in hubs and p not in hubs]"
   ]
  },
  {
   "cell_type": "code",
   "execution_count": 14,
   "metadata": {},
   "outputs": [],
   "source": [
    "import pandas as pd\n",
    "\n",
    "# df = pd.read_csv(\"Pruned_chem_desc1515_for_PCA.csv\")\n",
    "# df_rank = pd.read_csv(\"Chemical_descriptors1515_mass_rank.csv\")\n",
    "\n",
    "# df_rank = pd.read_csv(\"Chemical_descriptors_e_coli_core_ranked.csv\")\n",
    "\n",
    "# df_rank = pd.read_csv(\"core.csv\", index_col= 0)\n",
    "\n",
    "\n",
    "df_rank = pd.read_csv(\"1515.csv\")\n",
    "\n",
    "# remove = df.pop(\"Unnamed: 0\")"
   ]
  },
  {
   "cell_type": "code",
   "execution_count": 12,
   "metadata": {},
   "outputs": [],
   "source": [
    "\n",
    "df2target = pd.DataFrame(edges)\n",
    "\n",
    "# df2target.to_csv(\"targets.csv\")"
   ]
  },
  {
   "cell_type": "code",
   "execution_count": 13,
   "metadata": {},
   "outputs": [],
   "source": [
    "df3target = df2target.rename(columns={0:\"BiGG\", 1:\"target\"})"
   ]
  },
  {
   "cell_type": "code",
   "execution_count": 23,
   "metadata": {},
   "outputs": [],
   "source": [
    "# df2target = pd.read_csv(\"targets.csv\")"
   ]
  },
  {
   "cell_type": "code",
   "execution_count": 40,
   "metadata": {},
   "outputs": [
    {
     "ename": "InvalidIndexError",
     "evalue": "Reindexing only valid with uniquely valued Index objects",
     "output_type": "error",
     "traceback": [
      "\u001b[1;31m---------------------------------------------------------------------------\u001b[0m",
      "\u001b[1;31mInvalidIndexError\u001b[0m                         Traceback (most recent call last)",
      "\u001b[1;32mc:\\GitHub\\Metabolic-network-layout-using-biochemical-coordinates\\Notebooks\\ReFraned.ipynb Cell 15'\u001b[0m in \u001b[0;36m<cell line: 1>\u001b[1;34m()\u001b[0m\n\u001b[1;32m----> <a href='vscode-notebook-cell:/c%3A/GitHub/Metabolic-network-layout-using-biochemical-coordinates/Notebooks/ReFraned.ipynb#ch0000021?line=0'>1</a>\u001b[0m result \u001b[39m=\u001b[39m pd\u001b[39m.\u001b[39;49mconcat([df_rank, df3target], axis \u001b[39m=\u001b[39;49m \u001b[39m1\u001b[39;49m, ignore_index \u001b[39m=\u001b[39;49m \u001b[39mTrue\u001b[39;49;00m)\n",
      "File \u001b[1;32mc:\\Users\\meide\\.conda\\envs\\rdkit\\lib\\site-packages\\pandas\\util\\_decorators.py:311\u001b[0m, in \u001b[0;36mdeprecate_nonkeyword_arguments.<locals>.decorate.<locals>.wrapper\u001b[1;34m(*args, **kwargs)\u001b[0m\n\u001b[0;32m    305\u001b[0m \u001b[39mif\u001b[39;00m \u001b[39mlen\u001b[39m(args) \u001b[39m>\u001b[39m num_allow_args:\n\u001b[0;32m    306\u001b[0m     warnings\u001b[39m.\u001b[39mwarn(\n\u001b[0;32m    307\u001b[0m         msg\u001b[39m.\u001b[39mformat(arguments\u001b[39m=\u001b[39marguments),\n\u001b[0;32m    308\u001b[0m         \u001b[39mFutureWarning\u001b[39;00m,\n\u001b[0;32m    309\u001b[0m         stacklevel\u001b[39m=\u001b[39mstacklevel,\n\u001b[0;32m    310\u001b[0m     )\n\u001b[1;32m--> 311\u001b[0m \u001b[39mreturn\u001b[39;00m func(\u001b[39m*\u001b[39margs, \u001b[39m*\u001b[39m\u001b[39m*\u001b[39mkwargs)\n",
      "File \u001b[1;32mc:\\Users\\meide\\.conda\\envs\\rdkit\\lib\\site-packages\\pandas\\core\\reshape\\concat.py:359\u001b[0m, in \u001b[0;36mconcat\u001b[1;34m(objs, axis, join, ignore_index, keys, levels, names, verify_integrity, sort, copy)\u001b[0m\n\u001b[0;32m    155\u001b[0m \u001b[39m\"\"\"\u001b[39;00m\n\u001b[0;32m    156\u001b[0m \u001b[39mConcatenate pandas objects along a particular axis with optional set logic\u001b[39;00m\n\u001b[0;32m    157\u001b[0m \u001b[39malong the other axes.\u001b[39;00m\n\u001b[1;32m   (...)\u001b[0m\n\u001b[0;32m    344\u001b[0m \u001b[39mValueError: Indexes have overlapping values: ['a']\u001b[39;00m\n\u001b[0;32m    345\u001b[0m \u001b[39m\"\"\"\u001b[39;00m\n\u001b[0;32m    346\u001b[0m op \u001b[39m=\u001b[39m _Concatenator(\n\u001b[0;32m    347\u001b[0m     objs,\n\u001b[0;32m    348\u001b[0m     axis\u001b[39m=\u001b[39maxis,\n\u001b[1;32m   (...)\u001b[0m\n\u001b[0;32m    356\u001b[0m     sort\u001b[39m=\u001b[39msort,\n\u001b[0;32m    357\u001b[0m )\n\u001b[1;32m--> 359\u001b[0m \u001b[39mreturn\u001b[39;00m op\u001b[39m.\u001b[39;49mget_result()\n",
      "File \u001b[1;32mc:\\Users\\meide\\.conda\\envs\\rdkit\\lib\\site-packages\\pandas\\core\\reshape\\concat.py:588\u001b[0m, in \u001b[0;36m_Concatenator.get_result\u001b[1;34m(self)\u001b[0m\n\u001b[0;32m    586\u001b[0m         obj_labels \u001b[39m=\u001b[39m obj\u001b[39m.\u001b[39maxes[\u001b[39m1\u001b[39m \u001b[39m-\u001b[39m ax]\n\u001b[0;32m    587\u001b[0m         \u001b[39mif\u001b[39;00m \u001b[39mnot\u001b[39;00m new_labels\u001b[39m.\u001b[39mequals(obj_labels):\n\u001b[1;32m--> 588\u001b[0m             indexers[ax] \u001b[39m=\u001b[39m obj_labels\u001b[39m.\u001b[39;49mget_indexer(new_labels)\n\u001b[0;32m    590\u001b[0m     mgrs_indexers\u001b[39m.\u001b[39mappend((obj\u001b[39m.\u001b[39m_mgr, indexers))\n\u001b[0;32m    592\u001b[0m new_data \u001b[39m=\u001b[39m concatenate_managers(\n\u001b[0;32m    593\u001b[0m     mgrs_indexers, \u001b[39mself\u001b[39m\u001b[39m.\u001b[39mnew_axes, concat_axis\u001b[39m=\u001b[39m\u001b[39mself\u001b[39m\u001b[39m.\u001b[39mbm_axis, copy\u001b[39m=\u001b[39m\u001b[39mself\u001b[39m\u001b[39m.\u001b[39mcopy\n\u001b[0;32m    594\u001b[0m )\n",
      "File \u001b[1;32mc:\\Users\\meide\\.conda\\envs\\rdkit\\lib\\site-packages\\pandas\\core\\indexes\\base.py:3721\u001b[0m, in \u001b[0;36mIndex.get_indexer\u001b[1;34m(self, target, method, limit, tolerance)\u001b[0m\n\u001b[0;32m   3718\u001b[0m \u001b[39mself\u001b[39m\u001b[39m.\u001b[39m_check_indexing_method(method, limit, tolerance)\n\u001b[0;32m   3720\u001b[0m \u001b[39mif\u001b[39;00m \u001b[39mnot\u001b[39;00m \u001b[39mself\u001b[39m\u001b[39m.\u001b[39m_index_as_unique:\n\u001b[1;32m-> 3721\u001b[0m     \u001b[39mraise\u001b[39;00m InvalidIndexError(\u001b[39mself\u001b[39m\u001b[39m.\u001b[39m_requires_unique_msg)\n\u001b[0;32m   3723\u001b[0m \u001b[39mif\u001b[39;00m \u001b[39mlen\u001b[39m(target) \u001b[39m==\u001b[39m \u001b[39m0\u001b[39m:\n\u001b[0;32m   3724\u001b[0m     \u001b[39mreturn\u001b[39;00m np\u001b[39m.\u001b[39marray([], dtype\u001b[39m=\u001b[39mnp\u001b[39m.\u001b[39mintp)\n",
      "\u001b[1;31mInvalidIndexError\u001b[0m: Reindexing only valid with uniquely valued Index objects"
     ]
    }
   ],
   "source": [
    "result = pd.concat([df_rank, df3target], axis = 1, ignore_index = True)"
   ]
  },
  {
   "cell_type": "code",
   "execution_count": 41,
   "metadata": {},
   "outputs": [
    {
     "name": "stderr",
     "output_type": "stream",
     "text": [
      "C:\\Users\\meide\\AppData\\Local\\Temp\\ipykernel_6392\\331533191.py:1: FutureWarning: In a future version of pandas all arguments of concat except for the argument 'objs' will be keyword-only.\n",
      "  result = pd.concat(df_rank, df3target, axis = 1, ignore_index = True)\n"
     ]
    },
    {
     "ename": "TypeError",
     "evalue": "concat() got multiple values for argument 'axis'",
     "output_type": "error",
     "traceback": [
      "\u001b[1;31m---------------------------------------------------------------------------\u001b[0m",
      "\u001b[1;31mTypeError\u001b[0m                                 Traceback (most recent call last)",
      "\u001b[1;32mc:\\GitHub\\Metabolic-network-layout-using-biochemical-coordinates\\Notebooks\\ReFraned.ipynb Cell 16'\u001b[0m in \u001b[0;36m<cell line: 1>\u001b[1;34m()\u001b[0m\n\u001b[1;32m----> <a href='vscode-notebook-cell:/c%3A/GitHub/Metabolic-network-layout-using-biochemical-coordinates/Notebooks/ReFraned.ipynb#ch0000023?line=0'>1</a>\u001b[0m result \u001b[39m=\u001b[39m pd\u001b[39m.\u001b[39;49mconcat(df_rank, df3target, axis \u001b[39m=\u001b[39;49m \u001b[39m1\u001b[39;49m, ignore_index \u001b[39m=\u001b[39;49m \u001b[39mTrue\u001b[39;49;00m)\n",
      "File \u001b[1;32mc:\\Users\\meide\\.conda\\envs\\rdkit\\lib\\site-packages\\pandas\\util\\_decorators.py:311\u001b[0m, in \u001b[0;36mdeprecate_nonkeyword_arguments.<locals>.decorate.<locals>.wrapper\u001b[1;34m(*args, **kwargs)\u001b[0m\n\u001b[0;32m    305\u001b[0m \u001b[39mif\u001b[39;00m \u001b[39mlen\u001b[39m(args) \u001b[39m>\u001b[39m num_allow_args:\n\u001b[0;32m    306\u001b[0m     warnings\u001b[39m.\u001b[39mwarn(\n\u001b[0;32m    307\u001b[0m         msg\u001b[39m.\u001b[39mformat(arguments\u001b[39m=\u001b[39marguments),\n\u001b[0;32m    308\u001b[0m         \u001b[39mFutureWarning\u001b[39;00m,\n\u001b[0;32m    309\u001b[0m         stacklevel\u001b[39m=\u001b[39mstacklevel,\n\u001b[0;32m    310\u001b[0m     )\n\u001b[1;32m--> 311\u001b[0m \u001b[39mreturn\u001b[39;00m func(\u001b[39m*\u001b[39margs, \u001b[39m*\u001b[39m\u001b[39m*\u001b[39mkwargs)\n",
      "\u001b[1;31mTypeError\u001b[0m: concat() got multiple values for argument 'axis'"
     ]
    }
   ],
   "source": [
    "result = pd.concat(df_rank, df3target, axis = 1, ignore_index = True)"
   ]
  },
  {
   "cell_type": "code",
   "execution_count": 45,
   "metadata": {},
   "outputs": [],
   "source": [
    "result = pd.merge(df_rank, df3target, on = \"BiGG\", how = \"outer\")\n",
    "\n",
    "result.to_csv(\"lasttry.csv\")\n"
   ]
  },
  {
   "cell_type": "code",
   "execution_count": null,
   "metadata": {},
   "outputs": [],
   "source": []
  },
  {
   "cell_type": "code",
   "execution_count": 23,
   "metadata": {},
   "outputs": [],
   "source": [
    "result.to_csv(\"core_lol.csv\")"
   ]
  },
  {
   "cell_type": "markdown",
   "metadata": {},
   "source": [
    "### Merging edges to BiGG ids with BiGG as index"
   ]
  },
  {
   "cell_type": "code",
   "execution_count": 18,
   "metadata": {},
   "outputs": [],
   "source": [
    "Index = df_rank.set_index(\"BiGG\")\n",
    "Edges = df3target.set_index(\"BiGG\")\n",
    "\n"
   ]
  },
  {
   "cell_type": "code",
   "execution_count": null,
   "metadata": {},
   "outputs": [],
   "source": [
    "DriedPeach = pd.merge(Index, Edges, left_index = True, right_index = False)"
   ]
  },
  {
   "cell_type": "code",
   "execution_count": 26,
   "metadata": {},
   "outputs": [],
   "source": [
    "DriedPeach = pd.merge(Edges, Index, left_index = True, right_index = True)"
   ]
  },
  {
   "cell_type": "code",
   "execution_count": 27,
   "metadata": {},
   "outputs": [],
   "source": [
    "# DriedPeach.to_csv(\"iML1515_Metabolic_network_targets_mass_rank.csv\")\n",
    "\n",
    "# DriedPeach.to_csv(\"TEST_1515_hubs.csv\")\n",
    "\n",
    "DriedPeach.to_csv(\"ActuallyLast.csv\")"
   ]
  },
  {
   "cell_type": "code",
   "execution_count": 5,
   "metadata": {},
   "outputs": [
    {
     "data": {
      "text/plain": [
       "<function __main__.degree(m_id)>"
      ]
     },
     "execution_count": 5,
     "metadata": {},
     "output_type": "execute_result"
    }
   ],
   "source": [
    "def degree(m_id):\n",
    "    return len(model.get_metabolite_reactions(m_id))\n",
    "\n",
    "degree"
   ]
  },
  {
   "cell_type": "code",
   "execution_count": 10,
   "metadata": {},
   "outputs": [
    {
     "ename": "NameError",
     "evalue": "name 'bigg' is not defined",
     "output_type": "error",
     "traceback": [
      "\u001b[1;31m---------------------------------------------------------------------------\u001b[0m",
      "\u001b[1;31mNameError\u001b[0m                                 Traceback (most recent call last)",
      "\u001b[1;32mc:\\GitHub\\Metabolic-network-layout-using-biochemical-coordinates\\Notebooks\\ReFraned.ipynb Cell 8'\u001b[0m in \u001b[0;36m<cell line: 1>\u001b[1;34m()\u001b[0m\n\u001b[1;32m----> <a href='vscode-notebook-cell:/c%3A/GitHub/Metabolic-network-layout-using-biochemical-coordinates/Notebooks/ReFraned.ipynb#ch0000007?line=0'>1</a>\u001b[0m degrees \u001b[39m=\u001b[39m degree(bigg)\n",
      "\u001b[1;31mNameError\u001b[0m: name 'bigg' is not defined"
     ]
    }
   ],
   "source": [
    "degrees = degree(bigg)"
   ]
  },
  {
   "cell_type": "code",
   "execution_count": 8,
   "metadata": {},
   "outputs": [
    {
     "ename": "NameError",
     "evalue": "name 'm_id' is not defined",
     "output_type": "error",
     "traceback": [
      "\u001b[1;31m---------------------------------------------------------------------------\u001b[0m",
      "\u001b[1;31mNameError\u001b[0m                                 Traceback (most recent call last)",
      "\u001b[1;32mc:\\GitHub\\Metabolic-network-layout-using-biochemical-coordinates\\Notebooks\\ReFraned.ipynb Cell 19'\u001b[0m in \u001b[0;36m<cell line: 1>\u001b[1;34m()\u001b[0m\n\u001b[1;32m----> <a href='vscode-notebook-cell:/c%3A/GitHub/Metabolic-network-layout-using-biochemical-coordinates/Notebooks/ReFraned.ipynb#ch0000018?line=0'>1</a>\u001b[0m \u001b[39mlen\u001b[39m(model\u001b[39m.\u001b[39mget_metabolite_reactions(m_id))\n",
      "\u001b[1;31mNameError\u001b[0m: name 'm_id' is not defined"
     ]
    }
   ],
   "source": [
    "len(model.get_metabolite_reactions(m_id))"
   ]
  }
 ],
 "metadata": {
  "interpreter": {
   "hash": "79d1cfd305db38a14dc21f8b07679f01133b793e388454429e82c4a1d72d10d8"
  },
  "kernelspec": {
   "display_name": "Python 3.9.12 ('rdkit')",
   "language": "python",
   "name": "python3"
  },
  "language_info": {
   "codemirror_mode": {
    "name": "ipython",
    "version": 3
   },
   "file_extension": ".py",
   "mimetype": "text/x-python",
   "name": "python",
   "nbconvert_exporter": "python",
   "pygments_lexer": "ipython3",
   "version": "3.9.12"
  },
  "orig_nbformat": 4
 },
 "nbformat": 4,
 "nbformat_minor": 2
}
