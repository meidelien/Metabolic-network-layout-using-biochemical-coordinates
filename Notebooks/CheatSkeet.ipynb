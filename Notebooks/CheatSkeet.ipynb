{
 "cells": [
  {
   "cell_type": "code",
   "execution_count": 37,
   "metadata": {},
   "outputs": [
    {
     "data": {
      "text/plain": [
       "'2021.09.2'"
      ]
     },
     "execution_count": 37,
     "metadata": {},
     "output_type": "execute_result"
    }
   ],
   "source": [
    "import rdkit\n",
    "from rdkit import Chem\n",
    "from rdkit.Chem import AllChem\n",
    "from rdkit.Chem import Draw\n",
    "from rdkit.Chem import Descriptors\n",
    "from rdkit.Chem.Draw import IPythonConsole\n",
    "from rdkit.Chem import AllChem as Chem\n",
    "import pandas as pd\n",
    "from rdkit.Chem import PandasTools\n",
    "rdkit.__version__\n",
    "\n"
   ]
  },
  {
   "cell_type": "code",
   "execution_count": 4,
   "metadata": {},
   "outputs": [],
   "source": [
    "smiles = \"OC(=O)CC(O)(C(=O)O)CC(=O)O\""
   ]
  },
  {
   "cell_type": "code",
   "execution_count": 6,
   "metadata": {},
   "outputs": [],
   "source": [
    "mol_1 = Chem.MolFromSmiles(smiles)"
   ]
  },
  {
   "cell_type": "code",
   "execution_count": 7,
   "metadata": {},
   "outputs": [
    {
     "name": "stdout",
     "output_type": "stream",
     "text": [
      "<rdkit.Chem.rdchem.Mol object at 0x0000028FE51130A0>\n"
     ]
    }
   ],
   "source": [
    "print(mol_1)"
   ]
  },
  {
   "cell_type": "code",
   "execution_count": 8,
   "metadata": {},
   "outputs": [
    {
     "data": {
      "image/png": "[encoded data removed]",
      "text/plain": [
       "<rdkit.Chem.rdchem.Mol at 0x28fe51130a0>"
      ]
     },
     "execution_count": 8,
     "metadata": {},
     "output_type": "execute_result"
    }
   ],
   "source": [
    "mol_1"
   ]
  },
  {
   "cell_type": "code",
   "execution_count": 12,
   "metadata": {},
   "outputs": [],
   "source": [
    "MolLogp = Descriptors.MolLogP(mol_1)"
   ]
  },
  {
   "cell_type": "code",
   "execution_count": 14,
   "metadata": {},
   "outputs": [
    {
     "data": {
      "text/plain": [
       "-1.2485"
      ]
     },
     "execution_count": 14,
     "metadata": {},
     "output_type": "execute_result"
    }
   ],
   "source": [
    "MolLogp"
   ]
  },
  {
   "cell_type": "code",
   "execution_count": 21,
   "metadata": {},
   "outputs": [],
   "source": [
    "TCA_smile_list = [\n",
    "\"OC(=O)CC(O)(C(=O)O)CC(=O)O\",\n",
    "\"C(C(=CC(=O)O)C(=O)O)C(=O)O\",\"C(C(C(C(=O)O)O)C(=O)O)C(=O)O\", \n",
    "\"O=C(O)C(=O)CCC(=O)O\",\n",
    "\"O=C(O)CCC(=O)SCCNC(=O)CCNC(=O)[C@H](O)C(C)(C)COP(=O)(O)OP(=O)(O)OC[C@H]3O[C@@H](n2cnc1c(ncnc12)N)[C@H](O)[C@@H]3OP(=O)(O)O\",\n",
    "\"C(CC(=O)O)C(=O)O\", \n",
    "\"C(=C/C(=O)O)\\C(=O)O\", \n",
    "\"O=C(O)CC(O)C(=O)O\", \n",
    "\"O=C(O)C(=O)CC(=O)O\"]\n",
    "\n",
    "\n",
    "inchi_Key = [\"InChIKey=WQZGKKKJIJFFOK-GASJEMHNSA-N\",\"InChIKey=ZDXPYRJPNDTMRX-VKHMYHEASA-N\", \"InChIKey=ZDXPYRJPNDTMRX-VKHMYHEASA-N\",\"InChIKey=WHUUTDBJXJRKMK-VKHMYHEASA-M\", \"InChIKey=WHUUTDBJXJRKMK-VKHMYHEASA-M\", \"InChIKey=HHLFWLYXYJOTON-UHFFFAOYSA-M\", \"InChIKey=XLYOFNOQVPJJNP-UHFFFAOYSA-N\", \"InChIKey=XLYOFNOQVPJJNP-UHFFFAOYSA-N\",  \"InChIKey=GPRLSGONYQIRFK-UHFFFAOYSA-N\", \"InChIKey=GPRLSGONYQIRFK-UHFFFAOYSA-N\", \"InChIKey=ODBLHEXUDAPZAU-UHFFFAOYSA-K\", \"InChIKey=JVTAAEKCZFNVCJ-UWTATZPHSA-M\", \"InChIKey=JVTAAEKCZFNVCJ-UWTATZPHSA-M\", \"InChIKey=BJEPYKJPYRNKOW-REOHCLBHSA-L\", \"InChIKey=BJEPYKJPYRNKOW-REOHCLBHSA-L\", \"InChIKey=BAWFJGJZGIEFAR-NNYOXOHSSA-M\", \"InChIKey=BOPGDPNILDQYTO-NNYOXOHSSA-L\", \"InChIKey=XJLXINKUBYWONI-NNYOXOHSSA-K\", \"InChIKey=ACFIXJIJDZMPPO-NNYOXOHSSA-J\", \"InChIKey=QGZKDVFQNNGYKY-UHFFFAOYSA-O\", \"InChIKey=LJQLQCAXBUHEAZ-UWTATZPHSA-J\", \"InChIKey=QGZKDVFQNNGYKY-UHFFFAOYSA-O\", \"InChIKey=MYMOFIZGZYHOMD-UHFFFAOYSA-N\",\"InChIKey=GXIURPTVHJPJLF-UWTATZPHSA-K\",\"InChIKey=MYMOFIZGZYHOMD-UHFFFAOYSA-N\", \"InChIKey=OSJPPGNTCRNQQC-UWTATZPHSA-K\", \"InChIKey=KHPXUQMNIQBQEV-UHFFFAOYSA-L\", \"InChIKey=DTBNBXWJWCWCIK-UHFFFAOYSA-K\", \"InChIKey=BIRSGZKFKXLSJQ-SQOUGZDYSA-K\", \"InChIKey=NBIIXXVUZAFLBC-UHFFFAOYSA-L\", \"InChIKey=IJOJIVNDFQSGAB-SQOUGZDYSA-L\", \"InChIKey=NBIIXXVUZAFLBC-UHFFFAOYSA-L\", \"InChIKey=QTBSBXVTEAMEQO-UHFFFAOYSA-M\", \"InChIKey=LCTONWCANYUPML-UHFFFAOYSA-M\", \"InChIKey=LCTONWCANYUPML-UHFFFAOYSA-M\",\"InChIKey=ICFIZJQGJAJRSU-SGHXUWJISA-N\", \"InChIKey=LOJUQFSPYHMHEO-SGHXUWJISA-N\", \"InChIKey=KTVPXOYAKDPRHY-AIHAYLRMSA-L\", \"InChIKey=FNZLKVNUWIIPSJ-UHNVWZDZSA-L\", \"InChIKey=QTBSBXVTEAMEQO-UHFFFAOYSA-M\", \"InChIKey=IKHGUXGNUITLKF-UHFFFAOYSA-N\", \"InChIKey=JDTUMPKOJBQPKX-GBNDHIKLSA-L\", \"InChIKey=IKHGUXGNUITLKF-UHFFFAOYSA-N\", \"InChIKey=ZSLZBFCDCINBPY-ZSJPKINUSA-J\", \"InChIKey=KDYFGRWQOYBRFD-UHFFFAOYSA-L\" , \"InChIKey=KDYFGRWQOYBRFD-UHFFFAOYSA-L\", \"InChIKey=VNOYUJKHFWYWIR-ITIYDSSPSA-I\", \"InChIKey=GTZCVFVGUGFEME-IWQZZHSRSA-K\" , \"InChIKey=FNZLKVNUWIIPSJ-RFZPGFLSSA-L\", \"InChIKey=LIPOUNRJVLNBCD-UHFFFAOYSA-L\", \"InChIKey=XTWYTFMLZFPYCI-KQYNXXCUSA-K\", \"InChIKey=KPGXRSRHYNQIFN-UHFFFAOYSA-L\", \"InChIKey=KPGXRSRHYNQIFN-UHFFFAOYSA-L\", \"InChIKey=UDMBCSSLTHHNCD-KQYNXXCUSA-L\", \"InChIKey=ZKHQWZAMYRWXGA-KQYNXXCUSA-J\", \"InChIKey=KRKNYBCHXYNGOX-UHFFFAOYSA-K\", \"InChIKey=CURLTUGMZLYLDI-UHFFFAOYSA-N\", \"InChIKey=CURLTUGMZLYLDI-UHFFFAOYSA-N\", \"InChIKey=RGJOEKWQDUBAIZ-IBOSZNHHSA-J\", \"InChIKey=GNGACRATGGDKBX-UHFFFAOYSA-L\", \"InChIKey=NGHMDNPXVRFFGS-IUYQGCFVSA-L\", \"InChIKey=LFQSCWFLJHTTHZ-UHFFFAOYSA-N\", \"InChIKey=LFQSCWFLJHTTHZ-UHFFFAOYSA-N\", \"BGWGXPAPYGQALX-ARQDHWQXSA-L\", \"InChIKey=RNBGYGVWRKECFJ-VRPWFDPXSA-J\", \"InChIKey=BDAGIHXWWSANSR-UHFFFAOYSA-M\", \"InChIKey=BDAGIHXWWSANSR-UHFFFAOYSA-M\",\"InChIKey=RFSUNEUAIZKAJO-VRPWFDPXSA-N\", \"InChIKey=VZCYOOQTPOCHFL-OWOJBTEDSA-L\", \"InChIKey=VZCYOOQTPOCHFL-OWOJBTEDSA-L\", \"InChIKey=LXJXRIRHZLFYRP-VKHMYHEASA-L\", \"InChIKey=NBSCH\"  ]"
   ]
  },
  {
   "cell_type": "markdown",
   "metadata": {},
   "source": [
    "# Creates a group of mol objs from list"
   ]
  },
  {
   "cell_type": "code",
   "execution_count": 16,
   "metadata": {},
   "outputs": [],
   "source": [
    "mols = [Chem.MolFromSmiles(TCA_smile_list) for TCA_smile_list in  TCA_smile_list]"
   ]
  },
  {
   "cell_type": "code",
   "execution_count": null,
   "metadata": {},
   "outputs": [],
   "source": [
    "Draw.MolsToGridImage(mols, molsPerRow=2, subImgSize=(800,800))"
   ]
  },
  {
   "cell_type": "code",
   "execution_count": 23,
   "metadata": {},
   "outputs": [],
   "source": [
    "\n",
    "\n",
    "InchIMols = [Chem.MolFromInchi(inchi_Key) for inchi_Key in  inchi_Key]"
   ]
  },
  {
   "cell_type": "code",
   "execution_count": 44,
   "metadata": {},
   "outputs": [],
   "source": [
    "Test = pd.read_csv(\"https://raw.githubusercontent.com/meidelien/Metabolic-network-layout-using-biochemical-coordinates/main/Notebooks/MetabolitesFromInChIKey.csv\")"
   ]
  },
  {
   "cell_type": "code",
   "execution_count": 50,
   "metadata": {},
   "outputs": [],
   "source": [
    "PandasTools.AddMoleculeColumnToFrame(Test, smilesCol=\"SMILES\")"
   ]
  },
  {
   "cell_type": "code",
   "execution_count": null,
   "metadata": {},
   "outputs": [],
   "source": [
    "Test.head(54)"
   ]
  },
  {
   "cell_type": "code",
   "execution_count": null,
   "metadata": {},
   "outputs": [],
   "source": [
    "PandasTools.FrameToGridImage(Test.head(54), maxMols=54, legendsCol=\"name\", molsPerRow=4)"
   ]
  },
  {
   "cell_type": "code",
   "execution_count": 71,
   "metadata": {},
   "outputs": [],
   "source": [
    "Test[\"n_Atoms\"] = Test[\"ROMol\"].map(lambda x: x.GetNumAtoms())\n"
   ]
  },
  {
   "cell_type": "code",
   "execution_count": null,
   "metadata": {},
   "outputs": [],
   "source": [
    "Test.head(54)"
   ]
  },
  {
   "cell_type": "code",
   "execution_count": 73,
   "metadata": {},
   "outputs": [],
   "source": [
    "Test_2 = pd.read_csv(\"https://raw.githubusercontent.com/meidelien/Metabolic-network-layout-using-biochemical-coordinates/main/Notebooks/MetabolitesFromInChIKey.csv\")"
   ]
  },
  {
   "cell_type": "code",
   "execution_count": 78,
   "metadata": {},
   "outputs": [],
   "source": [
    "Test[\"n_Atoms\"] = Test[\"ROMol\"].map(lambda x: x.GetNumAtoms())"
   ]
  },
  {
   "cell_type": "code",
   "execution_count": 81,
   "metadata": {},
   "outputs": [
    {
     "ename": "AttributeError",
     "evalue": "'str' object has no attribute 'Chem'",
     "output_type": "error",
     "traceback": [
      "\u001b[1;31m---------------------------------------------------------------------------\u001b[0m",
      "\u001b[1;31mAttributeError\u001b[0m                            Traceback (most recent call last)",
      "\u001b[1;32m~\\AppData\\Local\\Temp/ipykernel_34776/3217360357.py\u001b[0m in \u001b[0;36m<module>\u001b[1;34m\u001b[0m\n\u001b[1;32m----> 1\u001b[1;33m \u001b[0mTest_2\u001b[0m\u001b[1;33m[\u001b[0m\u001b[1;34m\"MolLogp\"\u001b[0m\u001b[1;33m]\u001b[0m \u001b[1;33m=\u001b[0m \u001b[0mTest_2\u001b[0m\u001b[1;33m[\u001b[0m\u001b[1;34m\"InChI\"\u001b[0m\u001b[1;33m]\u001b[0m\u001b[1;33m.\u001b[0m\u001b[0mmap\u001b[0m\u001b[1;33m(\u001b[0m\u001b[1;32mlambda\u001b[0m \u001b[0mx\u001b[0m\u001b[1;33m:\u001b[0m \u001b[0mx\u001b[0m\u001b[1;33m.\u001b[0m\u001b[0mChem\u001b[0m\u001b[1;33m.\u001b[0m\u001b[0mDescriptors\u001b[0m\u001b[1;33m.\u001b[0m\u001b[0mMolLogP\u001b[0m\u001b[1;33m(\u001b[0m\u001b[1;33m)\u001b[0m\u001b[1;33m)\u001b[0m\u001b[1;33m\u001b[0m\u001b[1;33m\u001b[0m\u001b[0m\n\u001b[0m",
      "\u001b[1;32m~\\.conda\\envs\\my-rdkit-env\\lib\\site-packages\\pandas\\core\\series.py\u001b[0m in \u001b[0;36mmap\u001b[1;34m(self, arg, na_action)\u001b[0m\n\u001b[0;32m   4159\u001b[0m         \u001b[0mdtype\u001b[0m\u001b[1;33m:\u001b[0m \u001b[0mobject\u001b[0m\u001b[1;33m\u001b[0m\u001b[1;33m\u001b[0m\u001b[0m\n\u001b[0;32m   4160\u001b[0m         \"\"\"\n\u001b[1;32m-> 4161\u001b[1;33m         \u001b[0mnew_values\u001b[0m \u001b[1;33m=\u001b[0m \u001b[0msuper\u001b[0m\u001b[1;33m(\u001b[0m\u001b[1;33m)\u001b[0m\u001b[1;33m.\u001b[0m\u001b[0m_map_values\u001b[0m\u001b[1;33m(\u001b[0m\u001b[0marg\u001b[0m\u001b[1;33m,\u001b[0m \u001b[0mna_action\u001b[0m\u001b[1;33m=\u001b[0m\u001b[0mna_action\u001b[0m\u001b[1;33m)\u001b[0m\u001b[1;33m\u001b[0m\u001b[1;33m\u001b[0m\u001b[0m\n\u001b[0m\u001b[0;32m   4162\u001b[0m         return self._constructor(new_values, index=self.index).__finalize__(\n\u001b[0;32m   4163\u001b[0m             \u001b[0mself\u001b[0m\u001b[1;33m,\u001b[0m \u001b[0mmethod\u001b[0m\u001b[1;33m=\u001b[0m\u001b[1;34m\"map\"\u001b[0m\u001b[1;33m\u001b[0m\u001b[1;33m\u001b[0m\u001b[0m\n",
      "\u001b[1;32m~\\.conda\\envs\\my-rdkit-env\\lib\\site-packages\\pandas\\core\\base.py\u001b[0m in \u001b[0;36m_map_values\u001b[1;34m(self, mapper, na_action)\u001b[0m\n\u001b[0;32m    868\u001b[0m \u001b[1;33m\u001b[0m\u001b[0m\n\u001b[0;32m    869\u001b[0m         \u001b[1;31m# mapper is a function\u001b[0m\u001b[1;33m\u001b[0m\u001b[1;33m\u001b[0m\u001b[0m\n\u001b[1;32m--> 870\u001b[1;33m         \u001b[0mnew_values\u001b[0m \u001b[1;33m=\u001b[0m \u001b[0mmap_f\u001b[0m\u001b[1;33m(\u001b[0m\u001b[0mvalues\u001b[0m\u001b[1;33m,\u001b[0m \u001b[0mmapper\u001b[0m\u001b[1;33m)\u001b[0m\u001b[1;33m\u001b[0m\u001b[1;33m\u001b[0m\u001b[0m\n\u001b[0m\u001b[0;32m    871\u001b[0m \u001b[1;33m\u001b[0m\u001b[0m\n\u001b[0;32m    872\u001b[0m         \u001b[1;32mreturn\u001b[0m \u001b[0mnew_values\u001b[0m\u001b[1;33m\u001b[0m\u001b[1;33m\u001b[0m\u001b[0m\n",
      "\u001b[1;32m~\\.conda\\envs\\my-rdkit-env\\lib\\site-packages\\pandas\\_libs\\lib.pyx\u001b[0m in \u001b[0;36mpandas._libs.lib.map_infer\u001b[1;34m()\u001b[0m\n",
      "\u001b[1;32m~\\AppData\\Local\\Temp/ipykernel_34776/3217360357.py\u001b[0m in \u001b[0;36m<lambda>\u001b[1;34m(x)\u001b[0m\n\u001b[1;32m----> 1\u001b[1;33m \u001b[0mTest_2\u001b[0m\u001b[1;33m[\u001b[0m\u001b[1;34m\"MolLogp\"\u001b[0m\u001b[1;33m]\u001b[0m \u001b[1;33m=\u001b[0m \u001b[0mTest_2\u001b[0m\u001b[1;33m[\u001b[0m\u001b[1;34m\"InChI\"\u001b[0m\u001b[1;33m]\u001b[0m\u001b[1;33m.\u001b[0m\u001b[0mmap\u001b[0m\u001b[1;33m(\u001b[0m\u001b[1;32mlambda\u001b[0m \u001b[0mx\u001b[0m\u001b[1;33m:\u001b[0m \u001b[0mx\u001b[0m\u001b[1;33m.\u001b[0m\u001b[0mChem\u001b[0m\u001b[1;33m.\u001b[0m\u001b[0mDescriptors\u001b[0m\u001b[1;33m.\u001b[0m\u001b[0mMolLogP\u001b[0m\u001b[1;33m(\u001b[0m\u001b[1;33m)\u001b[0m\u001b[1;33m)\u001b[0m\u001b[1;33m\u001b[0m\u001b[1;33m\u001b[0m\u001b[0m\n\u001b[0m",
      "\u001b[1;31mAttributeError\u001b[0m: 'str' object has no attribute 'Chem'"
     ]
    }
   ],
   "source": [
    "Test_2[\"MolLogp\"] = Test_2[\"InChI\"].map(lambda x: x.Chem.Descriptors.MolLogP())"
   ]
  },
  {
   "cell_type": "code",
   "execution_count": 100,
   "metadata": {},
   "outputs": [
    {
     "ename": "ArgumentError",
     "evalue": "Python argument types in\n    rdkit.Chem.rdMolDescriptors.CalcCrippenDescriptors(str)\ndid not match C++ signature:\n    CalcCrippenDescriptors(class RDKit::ROMol mol, bool includeHs=True, bool force=False)",
     "output_type": "error",
     "traceback": [
      "\u001b[1;31m---------------------------------------------------------------------------\u001b[0m",
      "\u001b[1;31mArgumentError\u001b[0m                             Traceback (most recent call last)",
      "\u001b[1;32m~\\AppData\\Local\\Temp/ipykernel_34776/626453099.py\u001b[0m in \u001b[0;36m<module>\u001b[1;34m\u001b[0m\n\u001b[1;32m----> 1\u001b[1;33m \u001b[0mDesc\u001b[0m \u001b[1;33m=\u001b[0m \u001b[0mDescriptors\u001b[0m\u001b[1;33m.\u001b[0m\u001b[0mMolLogP\u001b[0m\u001b[1;33m(\u001b[0m\u001b[1;33m(\u001b[0m\u001b[0mTest_2\u001b[0m\u001b[1;33m.\u001b[0m\u001b[0miat\u001b[0m\u001b[1;33m[\u001b[0m\u001b[1;36m3\u001b[0m\u001b[1;33m,\u001b[0m \u001b[1;36m7\u001b[0m\u001b[1;33m]\u001b[0m\u001b[1;33m)\u001b[0m\u001b[1;33m)\u001b[0m\u001b[1;33m\u001b[0m\u001b[1;33m\u001b[0m\u001b[0m\n\u001b[0m",
      "\u001b[1;32m~\\.conda\\envs\\my-rdkit-env\\lib\\site-packages\\rdkit\\Chem\\Crippen.py\u001b[0m in \u001b[0;36m<lambda>\u001b[1;34m(*x, **y)\u001b[0m\n\u001b[0;32m    168\u001b[0m \u001b[0m_pyMolMR\u001b[0m\u001b[1;33m.\u001b[0m\u001b[0mversion\u001b[0m \u001b[1;33m=\u001b[0m \u001b[1;34m\"1.1.0\"\u001b[0m\u001b[1;33m\u001b[0m\u001b[1;33m\u001b[0m\u001b[0m\n\u001b[0;32m    169\u001b[0m \u001b[1;33m\u001b[0m\u001b[0m\n\u001b[1;32m--> 170\u001b[1;33m \u001b[0mMolLogP\u001b[0m \u001b[1;33m=\u001b[0m \u001b[1;32mlambda\u001b[0m \u001b[1;33m*\u001b[0m\u001b[0mx\u001b[0m\u001b[1;33m,\u001b[0m \u001b[1;33m**\u001b[0m\u001b[0my\u001b[0m\u001b[1;33m:\u001b[0m \u001b[0mrdMolDescriptors\u001b[0m\u001b[1;33m.\u001b[0m\u001b[0mCalcCrippenDescriptors\u001b[0m\u001b[1;33m(\u001b[0m\u001b[1;33m*\u001b[0m\u001b[0mx\u001b[0m\u001b[1;33m,\u001b[0m \u001b[1;33m**\u001b[0m\u001b[0my\u001b[0m\u001b[1;33m)\u001b[0m\u001b[1;33m[\u001b[0m\u001b[1;36m0\u001b[0m\u001b[1;33m]\u001b[0m\u001b[1;33m\u001b[0m\u001b[1;33m\u001b[0m\u001b[0m\n\u001b[0m\u001b[0;32m    171\u001b[0m \u001b[0mMolLogP\u001b[0m\u001b[1;33m.\u001b[0m\u001b[0mversion\u001b[0m \u001b[1;33m=\u001b[0m \u001b[0mrdMolDescriptors\u001b[0m\u001b[1;33m.\u001b[0m\u001b[0m_CalcCrippenDescriptors_version\u001b[0m\u001b[1;33m\u001b[0m\u001b[1;33m\u001b[0m\u001b[0m\n\u001b[0;32m    172\u001b[0m MolLogP.__doc__ = \"\"\" Wildman-Crippen LogP value\n",
      "\u001b[1;31mArgumentError\u001b[0m: Python argument types in\n    rdkit.Chem.rdMolDescriptors.CalcCrippenDescriptors(str)\ndid not match C++ signature:\n    CalcCrippenDescriptors(class RDKit::ROMol mol, bool includeHs=True, bool force=False)"
     ]
    }
   ],
   "source": [
    "Desc = Descriptors.MolLogP((Test_2.iat[3, 7]))"
   ]
  },
  {
   "cell_type": "code",
   "execution_count": null,
   "metadata": {},
   "outputs": [],
   "source": [
    "Test_2"
   ]
  },
  {
   "cell_type": "code",
   "execution_count": 97,
   "metadata": {},
   "outputs": [
    {
     "data": {
      "text/plain": [
       "'InChI=1S/C6H6O6/c7-4(8)1-3(6(11)12)2-5(9)10/h1H,2H2,(H,7,8)(H,9,10)(H,11,12)/p-3/b3-1-'"
      ]
     },
     "execution_count": 97,
     "metadata": {},
     "output_type": "execute_result"
    }
   ],
   "source": [
    "Test_2.iat[3, 7]"
   ]
  }
 ],
 "metadata": {
  "interpreter": {
   "hash": "8420ab189d00d083782919827e61e029726b7008cf5217a89172cbb7a6a52562"
  },
  "kernelspec": {
   "display_name": "Python 3.9.7 64-bit ('my-rdkit-env': conda)",
   "name": "python3"
  },
  "language_info": {
   "codemirror_mode": {
    "name": "ipython",
    "version": 3
   },
   "file_extension": ".py",
   "mimetype": "text/x-python",
   "name": "python",
   "nbconvert_exporter": "python",
   "pygments_lexer": "ipython3",
   "version": "3.9.7"
  },
  "orig_nbformat": 4
 },
 "nbformat": 4,
 "nbformat_minor": 2
}
