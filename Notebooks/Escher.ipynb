{
 "cells": [
  {
   "cell_type": "code",
   "execution_count": 13,
   "metadata": {},
   "outputs": [
    {
     "ename": "FileNotFoundError",
     "evalue": "[WinError 2] The system cannot find the file specified: 'data/'",
     "output_type": "error",
     "traceback": [
      "\u001b[1;31m---------------------------------------------------------------------------\u001b[0m",
      "\u001b[1;31mFileNotFoundError\u001b[0m                         Traceback (most recent call last)",
      "\u001b[1;32mc:\\GitHub\\Metabolic-network-layout-using-biochemical-coordinates\\Notebooks\\Escher.ipynb Cell 1'\u001b[0m in \u001b[0;36m<cell line: 7>\u001b[1;34m()\u001b[0m\n\u001b[0;32m      <a href='vscode-notebook-cell:/c%3A/GitHub/Metabolic-network-layout-using-biochemical-coordinates/Notebooks/Escher.ipynb#ch0000000?line=4'>5</a>\u001b[0m \u001b[39m# path = \"C:/Users/meide/Documents/GitHub/Master/data\"\u001b[39;00m\n\u001b[0;32m      <a href='vscode-notebook-cell:/c%3A/GitHub/Metabolic-network-layout-using-biochemical-coordinates/Notebooks/Escher.ipynb#ch0000000?line=5'>6</a>\u001b[0m path \u001b[39m=\u001b[39m \u001b[39m\"\u001b[39m\u001b[39mdata/\u001b[39m\u001b[39m\"\u001b[39m\n\u001b[1;32m----> <a href='vscode-notebook-cell:/c%3A/GitHub/Metabolic-network-layout-using-biochemical-coordinates/Notebooks/Escher.ipynb#ch0000000?line=6'>7</a>\u001b[0m os\u001b[39m.\u001b[39;49mchdir(path)\n",
      "\u001b[1;31mFileNotFoundError\u001b[0m: [WinError 2] The system cannot find the file specified: 'data/'"
     ]
    }
   ],
   "source": [
    "import sys\n",
    "import os\n",
    "\n",
    "\n",
    "# path = \"C:/Users/meide/Documents/GitHub/Master/data\"\n",
    "path = \"data/\"\n",
    "os.chdir(path)\n"
   ]
  },
  {
   "cell_type": "code",
   "execution_count": 14,
   "metadata": {},
   "outputs": [],
   "source": [
    "import json\n",
    "import jsonschema\n",
    "import escher"
   ]
  },
  {
   "cell_type": "code",
   "execution_count": 63,
   "metadata": {},
   "outputs": [],
   "source": [
    "with open('Histidine_lol.json.cyjs') as elements_json:\n",
    "    abc_cytoscape = json.load(elements_json)\n",
    "    \n",
    "with open(\"escher_jsonschema.1-0-0.json\") as escher_schema:\n",
    "    escher_schema = json.load(escher_schema)\n",
    "\n",
    "with open('ABC_escher_map.json') as escher_json:\n",
    "    abc_escher = json.load(escher_json)\n",
    "\n",
    "jsonschema.validate(abc_escher, escher_schema)"
   ]
  },
  {
   "cell_type": "markdown",
   "metadata": {},
   "source": [
    "# Cytoscape Model"
   ]
  },
  {
   "cell_type": "code",
   "execution_count": 64,
   "metadata": {},
   "outputs": [],
   "source": [
    "class cytoscape_model:\n",
    "    def __init__(self, cyjson):\n",
    "        if type(cyjson) is str:\n",
    "            with open(cyjson) as cy:\n",
    "                self.cy = json.load(cy)\n",
    "        else:\n",
    "            self.cy = cyjson\n",
    "    def get_metabolites( self ):\n",
    "        return [cytoscape_node(self, node) for node in self.cy['elements']['nodes'] \n",
    "                if 'classes' in node and 'cpd' in node['classes']]\n",
    "    def get_node_ids( self ):\n",
    "        return [node['data']['id'] for node in self.cy['elements']['nodes']]\n",
    "\n",
    "    def get_edge_ids( self ):\n",
    "        return [edge['data']['id'] for edge in self.cy['elements']['edges']]\n",
    "    def get_node( self, node_id ):\n",
    "        try:\n",
    "            for node in self.cy['elements']['nodes']:\n",
    "                if 'data' in node and 'id' in node['data'] and node['data']['id'] == node_id:\n",
    "                    return cytoscape_node(self, node)\n",
    "            return cytoscape_node( self, dict(data=dict(id=node_id )))\n",
    "        except:\n",
    "            raise KeyError\n",
    "    def get_node_by_frame_id( self, frame_id ):\n",
    "        try:\n",
    "            for node in self.cy['elements']['nodes']:\n",
    "                if 'data' in node and 'SUID' in node['data'] and node['data']['SUID'] == frame_id:\n",
    "                    return cytoscape_node(self, node)\n",
    "        except:\n",
    "            raise KeyError\n",
    "    def get_map_id( self ):\n",
    "        return self.cy['elements']['nodes'][0]['data']\n",
    "    def get_reactions( self ):\n",
    "        \"\"\"Reactions are collections of edges with the same SUID\"\"\"\n",
    "        rxns = {}\n",
    "        for edge in self.cy['elements']['edges']:\n",
    "            if edge['data']['SUID'] in rxns:\n",
    "                rxns[edge['data']['SUID']].append(cytoscape_edge( self, edge) )\n",
    "            else:\n",
    "                rxns[edge['data']['SUID']] = [cytoscape_edge( self, edge ) ]\n",
    "        return [cytoscape_reaction(self, rxns[frame_id] ) for frame_id in rxns] \n",
    "    def get_knots( self ):\n",
    "        \"\"\"Knots are nodes that correspond to midmarkers and multimarkers\"\"\"\n",
    "        return [cytoscape_node(self, node) for node in self.cy['elements']['nodes'] \n",
    "                if 'classes' in node and 'knot' in node['classes']]"
   ]
  },
  {
   "cell_type": "code",
   "execution_count": 65,
   "metadata": {},
   "outputs": [],
   "source": [
    "cmodel = cytoscape_model(abc_cytoscape)"
   ]
  },
  {
   "cell_type": "code",
   "execution_count": 78,
   "metadata": {},
   "outputs": [],
   "source": [
    "class cytoscape_node:\n",
    "    def __init__(self, cytoscape, node):\n",
    "        \"\"\"A cytoscape node knows the model to which it belongs\n",
    "        \"\"\"\n",
    "        self.node = node\n",
    "        self.cy = cytoscape\n",
    "\n",
    "    def is_metabolite_node( self ):\n",
    "        return 'classes' in self.node and 'cpd' in  self.node['classes']\n",
    "    \n",
    "    def is_knot_node( self ):\n",
    "        return 'classes' in self.node and 'knot' in self.node['classes']\n",
    "    \n",
    "    def get_node_id( self ):\n",
    "        return self.node['data']['id']\n",
    "    \n",
    "    def get_frame_id( self ):\n",
    "        return self.node['data']['SUID']     \n",
    "    def get_label( self ):\n",
    "        return self.node['data']['label']\n",
    "    \n",
    "    def get_x(self ):\n",
    "        return self.node['position']['x']\n",
    "    \n",
    "    def get_y(self):\n",
    "        return self.node['position']['y']"
   ]
  },
  {
   "cell_type": "code",
   "execution_count": 25,
   "metadata": {},
   "outputs": [
    {
     "ename": "TypeError",
     "evalue": "__init__() missing 1 required positional argument: 'node'",
     "output_type": "error",
     "traceback": [
      "\u001b[1;31m---------------------------------------------------------------------------\u001b[0m",
      "\u001b[1;31mTypeError\u001b[0m                                 Traceback (most recent call last)",
      "\u001b[1;32mc:\\GitHub\\Metabolic-network-layout-using-biochemical-coordinates\\Notebooks\\Escher.ipynb Cell 8'\u001b[0m in \u001b[0;36m<cell line: 1>\u001b[1;34m()\u001b[0m\n\u001b[1;32m----> <a href='vscode-notebook-cell:/c%3A/GitHub/Metabolic-network-layout-using-biochemical-coordinates/Notebooks/Escher.ipynb#ch0000020?line=0'>1</a>\u001b[0m cmodel \u001b[39m=\u001b[39m cytoscape_node(abc_cytoscape)\n",
      "\u001b[1;31mTypeError\u001b[0m: __init__() missing 1 required positional argument: 'node'"
     ]
    }
   ],
   "source": [
    "cmodel = cytoscape_node(abc_cytoscape)"
   ]
  },
  {
   "cell_type": "code",
   "execution_count": 81,
   "metadata": {},
   "outputs": [],
   "source": [
    "import copy\n",
    "class cytoscape_reaction:\n",
    "\n",
    "    def __init__( self, cytoscape, edges ):\n",
    "        \"\"\"A cytoscape reaction knows the model to which it belongs, and the edges that belong to it\"\"\"\n",
    "        self.edges = edges\n",
    "        self.cy = cytoscape\n",
    "    def get_frame_id( self ):\n",
    "        return self.edges[0].get_frame_id()\n",
    "    def get_left( self ):\n",
    "        return self.edges[0].get_left()\n",
    "    def get_right( self ):\n",
    "        return self.edges[0].get_right()\n",
    "    def get_edges( self ):\n",
    "        return copy.deepcopy(self.edges)\n",
    "    def get_gene_reaction_rule( self ):\n",
    "        return ' or '.join( sorted( [gene['bigg_id'] for gene in self.get_genes() ] ) )\n",
    "    def get_name( self ):\n",
    "        return self.edges[0].get_name()\n",
    "    def get_rxn_reversibility( self ):\n",
    "        for edge in self.edges:\n",
    "            if edge.has_source_arrow():\n",
    "                return True\n",
    "        return False\n",
    "    def get_nodes_of_reaction( self ):\n",
    "        return [edge.get_target() for edge in self.edges] + [edge.get_source() for edge in self.edges]\n",
    "    def get_mid_x( self ):\n",
    "        \"\"\"Convenience function to compute the x midpoint of a reaction\"\"\"\n",
    "        min_x = min([node.get_x() for node in self.get_nodes_of_reaction()])\n",
    "        max_x = max([node.get_x() for node in self.get_nodes_of_reaction()])\n",
    "        return (max_x + min_x)/2.0\n",
    "    def get_mid_y( self ):\n",
    "        \"\"\"Convenience function to compute the y midpoint of a reaction\"\"\"\n",
    "\n",
    "        min_y = min([node.get_y() for node in self.get_nodes_of_reaction()])\n",
    "        max_y = max([node.get_y() for node in self.get_nodes_of_reaction()])\n",
    "        return (max_y + min_y)/2.0"
   ]
  },
  {
   "cell_type": "code",
   "execution_count": 82,
   "metadata": {},
   "outputs": [],
   "source": [
    "class cytoscape_edge:\n",
    "    def __init__( self, cytoscape, edge ):\n",
    "        \"\"\"A cytoscape edge knows the model to which it belongs\"\"\"\n",
    "        self.edge = edge\n",
    "        self.cy = cytoscape\n",
    "    def get_edge_id( self ):\n",
    "        return self.edge['data']['id']\n",
    "    def get_frame_id( self ):\n",
    "        return self.edge['data']['SUID']\n",
    "    def has_source_arrow( self ):\n",
    "        return self.edge['data']['srcArrow'] == 'triangle'\n",
    "    def has_target_arrow( self ):\n",
    "        return self.edge['data']['tgtArrow'] == 'triangle'\n",
    "    def get_source( self ):\n",
    "        return self.cy.get_node( self.edge['data']['source'])\n",
    "    def get_target( self ):\n",
    "        return self.cy.get_node( self.edge['data']['target'] )\n",
    "    def get_left( self ):\n",
    "        return [self.cy.get_node_by_frame_id( cpd['id'] ) for cpd in self.edge['data']['left']]\n",
    "    def get_right( self ):\n",
    "        return [self.cy.get_node_by_frame_id( cpd['id'] ) for cpd in self.edge['data']['right']]\n",
    "    def get_mid_x( self ):\n",
    "        min_x = min(self.get_source().get_x(), self.get_target().get_x())\n",
    "        max_x = max(self.get_source().get_x(), self.get_target().get_x())\n",
    "        return (min_x + max_x)/2.0\n",
    "    def get_mid_y( self ):\n",
    "        min_y = min(self.get_source().get_y(), self.get_target().get_y())\n",
    "        max_y = max(self.get_source().get_y(), self.get_target().get_y())\n",
    "        return (min_y + max_y)/2.0"
   ]
  },
  {
   "cell_type": "markdown",
   "metadata": {},
   "source": [
    "# Escher Model"
   ]
  },
  {
   "cell_type": "code",
   "execution_count": 83,
   "metadata": {},
   "outputs": [],
   "source": [
    "class escher_model:\n",
    "    def __init__( self, json_file=None):\n",
    "        if json_file:\n",
    "            with open(json_file) as escher_json:\n",
    "                self.escher = json.load(escher_json)\n",
    "        else:\n",
    "            self.escher = [{},{}]\n",
    "    def set_boilerplate( self, map_id,\n",
    "                        homepage='https://escher.github.io',\n",
    "                        map_description='',\n",
    "                        map_name='new_map',\n",
    "                        schema=\"https://escher.github.io/escher/jsonschema/1-0-0#\",\n",
    "                        canvas_width=3228,\n",
    "                       canvas_height=5406,\n",
    "                       canvas_x=-1076,\n",
    "                       canvas_y=-1802):\n",
    "        self.escher[0] = dict(map_id=map_id,\n",
    "                             homepage=homepage,\n",
    "                             map_description=map_description,\n",
    "                             map_name=map_name,\n",
    "                             schema=schema)\n",
    "        self.escher[1] = dict(canvas=dict(width=canvas_width,\n",
    "                                          height=canvas_height,\n",
    "                                          x=canvas_x,\n",
    "                                          y=canvas_y),\n",
    "                             nodes=dict(),\n",
    "                             reactions=dict(),\n",
    "                             text_labels= dict())\n",
    "    def add_node(self, escher_node):\n",
    "        self.escher[1]['nodes'].update(escher_node.to_dict())\n",
    "    def add_reaction( self, escher_rxn ):\n",
    "        self.escher[1]['reactions'].update(escher_rxn.to_dict())\n",
    "    def to_dict( self ):\n",
    "        return copy.deepcopy(self.escher)\n",
    "    "
   ]
  },
  {
   "cell_type": "code",
   "execution_count": 70,
   "metadata": {},
   "outputs": [],
   "source": [
    "class escher_model:\n",
    "    def __init__( self, json_file=None):\n",
    "        if json_file:\n",
    "            with open(json_file) as escher_json:\n",
    "                self.escher = json.load(escher_json)\n",
    "        else:\n",
    "            self.escher = [{},{}]\n",
    "    def set_boilerplate( self, map_id,\n",
    "                        homepage='https://escher.github.io',\n",
    "                        map_description='',\n",
    "                        map_name='new_map',\n",
    "                        schema=\"https://escher.github.io/escher/jsonschema/1-0-0#\",\n",
    "                        canvas_width=3228,\n",
    "                       canvas_height=5406,\n",
    "                       canvas_x=-1076,\n",
    "                       canvas_y=-1802):\n",
    "        self.escher[0] = dict(map_id=map_id,\n",
    "                             homepage=homepage,\n",
    "                             map_description=map_description,\n",
    "                             map_name=map_name,\n",
    "                             schema=schema)\n",
    "        self.escher[1] = dict(canvas=dict(width=canvas_width,\n",
    "                                          height=canvas_height,\n",
    "                                          x=canvas_x,\n",
    "                                          y=canvas_y),\n",
    "                             nodes=dict(),\n",
    "                             reactions=dict(),\n",
    "                             text_labels= dict())\n",
    "    def add_node(self, escher_node):\n",
    "        self.escher[1]['nodes'].update(escher_node.to_dict())\n",
    "    def add_reaction( self, escher_rxn ):\n",
    "        self.escher[1]['reactions'].update(escher_rxn.to_dict())\n",
    "    def to_dict( self ):\n",
    "        return copy.deepcopy(self.escher)\n",
    "    "
   ]
  },
  {
   "cell_type": "code",
   "execution_count": 71,
   "metadata": {},
   "outputs": [],
   "source": [
    "class escher_node:\n",
    "    def __init__( self, node_id, **args):\n",
    "        self.node = {node_id: args}\n",
    "    def to_dict( self ):\n",
    "        return copy.deepcopy(self.node)"
   ]
  },
  {
   "cell_type": "code",
   "execution_count": 72,
   "metadata": {},
   "outputs": [],
   "source": [
    "class escher_reaction:\n",
    "    def __init__( self, rxn_id, **args ):\n",
    "        self.rxn = {rxn_id: args}\n",
    "    def to_dict( self ):\n",
    "        return copy.deepcopy(self.rxn)\n",
    "  "
   ]
  },
  {
   "cell_type": "code",
   "execution_count": 73,
   "metadata": {},
   "outputs": [],
   "source": [
    "class escher_segment:\n",
    "    def __init__(self, segment_id, **args ):\n",
    "        self.segment = {segment_id: args }\n",
    "    def to_dict( self ):\n",
    "        return copy.deepcopy(self.segment)"
   ]
  },
  {
   "cell_type": "markdown",
   "metadata": {},
   "source": [
    "# Converter\n"
   ]
  },
  {
   "cell_type": "code",
   "execution_count": 80,
   "metadata": {},
   "outputs": [],
   "source": [
    "class cytoscape2escher:\n",
    "    def __init__(self, cytoscape ):\n",
    "        if type(cytoscape) is dict:\n",
    "            self.cy = cytoscape_model(cytoscape)\n",
    "        else:\n",
    "            self.cy = cytoscape\n",
    "            \n",
    "        self.c2e = {}\n",
    "        self.e2c = {}\n",
    "        self.eId = 1\n",
    "        for nodeId in self.cy.get_node_ids():\n",
    "            self.convert_id( nodeId )\n",
    "        for rxnId in self.cy.get_reactions():\n",
    "            self.convert_id( rxnId )\n",
    "        for edgeId in self.cy.get_edge_ids():\n",
    "            self.convert_id( edgeId )\n",
    "        self.escher = escher_model()\n",
    "        self.escher.set_boilerplate(self.cy.get_map_id())\n",
    "    def convert_id( self, cId ):\n",
    "        \"\"\"memoizes cytoscape id to escher_id mappings\"\"\"\n",
    "        if cId in self.c2e:\n",
    "            return self.c2e[cId]\n",
    "        self.c2e[cId] = str(self.eId)\n",
    "        self.e2c[str(self.eId)] = cId\n",
    "        self.eId += 1  \n",
    "        return self.c2e[cId]\n",
    "    def convert_cpd2cpd_edge( self, edge ):\n",
    "        \"\"\"Currently converts cpd->cpd edge to metabolite->midmarker->metabolite segments\n",
    "        with the side effect that a new midpoint escher node is created\"\"\"\n",
    "        return self.convert_knot2knot_edge( edge )\n",
    "    \n",
    "    def convert_knot2knot_edge( self, edge ):\n",
    "        \"\"\"Returns multi->midmarker segment and mid->multimarker segment with new segment id \n",
    "        that does not correspond to any edge id\n",
    "        Side effect: Creates new midmarker node with node_id of edge_id\"\"\"\n",
    "        self.escher.add_node(\n",
    "            escher_node( \n",
    "                self.convert_id(\n",
    "                    edge.get_edge_id()),\n",
    "                node_type='midmarker',\n",
    "                x=edge.get_mid_x(),\n",
    "                y=edge.get_mid_y()))\n",
    "        multi2mid = escher_segment( self.convert_id( edge.get_edge_id() + '_multi2mid' ),\n",
    "                                    from_node_id=self.convert_id( edge.get_source().get_node_id() ),\n",
    "                                    to_node_id = self.convert_id( edge.get_edge_id() ),\n",
    "                                    b1=None,\n",
    "                                    b2=None )\n",
    "\n",
    "        \n",
    "        mid2multi = escher_segment( self.convert_id( edge.get_edge_id() + \"_mid2multi\" ),\n",
    "                                    from_node_id=self.convert_id( edge.get_edge_id() ),\n",
    "                                    to_node_id=self.convert_id( edge.get_target().get_node_id() ),\n",
    "                                    b1=None,\n",
    "                                    b2=None)\n",
    "        segments = {}\n",
    "        segments.update( multi2mid.to_dict() )\n",
    "        segments.update( mid2multi.to_dict() )\n",
    "        return segments\n",
    "    \n",
    "    def convert_edge2segment( self, edge ):\n",
    "        return escher_segment( self.convert_id( edge.get_edge_id() ),\n",
    "                            from_node_id=self.convert_id( edge.get_source().get_node_id() ),\n",
    "                            to_node_id = self.convert_id(edge.get_target().get_node_id() ),\n",
    "                            b1=None,\n",
    "                            b2=None ).to_dict()                \n",
    "                \n",
    "    def convert_edges_to_segments( self, edges ):\n",
    "        segments = {}\n",
    "        for edge in edges:\n",
    "            if edge.get_source().is_metabolite_node() and edge.get_target().is_metabolite_node():\n",
    "                segments.update( self.convert_cpd2cpd_edge( edge ))\n",
    "            elif edge.get_source().is_knot_node() and edge.get_target().is_knot_node():\n",
    "                segments.update( self.convert_knot2knot_edge( edge ))\n",
    "            else:\n",
    "                segments.update( self.convert_edge2segment( edge ) )\n",
    "        return segments\n",
    "            \n",
    "    def convert_knot_node( self, cynode ):\n",
    "        if cynode.is_knot_node():\n",
    "            return escher_node(\n",
    "                node_id=self.convert_id( cynode.get_node_id()), \n",
    "                node_type='multimarker',\n",
    "                x=cynode.get_x(),\n",
    "                y=cynode.get_y()\n",
    "                )\n",
    "            \n",
    "    def convert_metabolite_node( self, cynode ):\n",
    "        if cynode.is_metabolite_node():\n",
    "            return escher_node( \n",
    "                    self.convert_id( cynode.get_node_id( )),\n",
    "                    bigg_id = cynode.get_frame_id(),\n",
    "                    label_x = cynode.get_x() ,\n",
    "                    label_y= cynode.get_y(),\n",
    "                    name = cynode.get_name(),\n",
    "                    node_is_primary= True,\n",
    "                    node_type='metabolite',\n",
    "                    x=cynode.get_x(),\n",
    "                    y=cynode.get_y())\n",
    "    \n",
    "    def convert_metabolites_of_reaction( self, cyrxn ):\n",
    "        metabolites = []\n",
    "        for cpd in cyrxn.get_left( ):\n",
    "            if cpd and cpd.is_metabolite_node():\n",
    "                metabolites.append( dict(bigg_id=cpd.get_frame_id(),\n",
    "                                     coefficient=-1))\n",
    "        for cpd in cyrxn.get_right( ):\n",
    "            if cpd and cpd.is_metabolite_node():\n",
    "                metabolites.append( dict( bigg_id=cpd.get_frame_id(),\n",
    "                                    coefficient=1))\n",
    "        return metabolites\n",
    "                                            \n",
    "\n",
    "    def convert_reaction( self, cyrxn ): \n",
    "            return escher_reaction( self.convert_id( cyrxn.get_frame_id() ),\n",
    "                      bigg_id= cyrxn.get_frame_id(),\n",
    "                      genes =  cyrxn.get_genes(),\n",
    "                      label_x =  cyrxn.get_mid_x(  ),\n",
    "                      label_y =  cyrxn.get_mid_y(  ),\n",
    "                      metabolites =  self.convert_metabolites_of_reaction(  cyrxn ),\n",
    "                      name =  cyrxn.get_name(  ),\n",
    "                      reversibility =  cyrxn.get_rxn_reversibility(  ),\n",
    "                      segments =  self.convert_edges_to_segments(cyrxn.get_edges() ) )\n",
    "\n",
    "    def convert(self ): \n",
    "        \n",
    "        \n",
    "        for cynode in self.cy.get_metabolites():\n",
    "                self.escher.add_node( self.convert_metabolite_node( cynode ))\n",
    "        for cynode in self.cy.get_knots():\n",
    "                self.escher.add_node( self.convert_knot_node( cynode ))\n",
    "        return self.escher.to_dict()"
   ]
  },
  {
   "cell_type": "code",
   "execution_count": 75,
   "metadata": {},
   "outputs": [],
   "source": [
    "c2e = cytoscape2escher(abc_cytoscape)"
   ]
  },
  {
   "cell_type": "code",
   "execution_count": 42,
   "metadata": {},
   "outputs": [
    {
     "name": "stdout",
     "output_type": "stream",
     "text": [
      "<__main__.cytoscape_model object at 0x000001BEDF7F9070>\n"
     ]
    }
   ],
   "source": [
    "print(cmodel)"
   ]
  },
  {
   "cell_type": "code",
   "execution_count": 47,
   "metadata": {},
   "outputs": [
    {
     "data": {
      "text/plain": [
       "<__main__.cytoscape2escher at 0x1bedf5b81f0>"
      ]
     },
     "execution_count": 47,
     "metadata": {},
     "output_type": "execute_result"
    }
   ],
   "source": [
    "c2e"
   ]
  },
  {
   "cell_type": "code",
   "execution_count": 48,
   "metadata": {},
   "outputs": [
    {
     "ename": "TypeError",
     "evalue": "Object of type cytoscape2escher is not JSON serializable",
     "output_type": "error",
     "traceback": [
      "\u001b[1;31m---------------------------------------------------------------------------\u001b[0m",
      "\u001b[1;31mTypeError\u001b[0m                                 Traceback (most recent call last)",
      "\u001b[1;32mc:\\GitHub\\Metabolic-network-layout-using-biochemical-coordinates\\Notebooks\\Escher.ipynb Cell 22'\u001b[0m in \u001b[0;36m<cell line: 1>\u001b[1;34m()\u001b[0m\n\u001b[1;32m----> <a href='vscode-notebook-cell:/c%3A/GitHub/Metabolic-network-layout-using-biochemical-coordinates/Notebooks/Escher.ipynb#ch0000022?line=0'>1</a>\u001b[0m b \u001b[39m=\u001b[39m escher\u001b[39m.\u001b[39mBuilder(map_json\u001b[39m=\u001b[39mjson\u001b[39m.\u001b[39;49mdumps(c2e),\n\u001b[0;32m      <a href='vscode-notebook-cell:/c%3A/GitHub/Metabolic-network-layout-using-biochemical-coordinates/Notebooks/Escher.ipynb#ch0000022?line=1'>2</a>\u001b[0m                   identifiers_on_map\u001b[39m=\u001b[39m\u001b[39m'\u001b[39m\u001b[39mname\u001b[39m\u001b[39m'\u001b[39m,\n\u001b[0;32m      <a href='vscode-notebook-cell:/c%3A/GitHub/Metabolic-network-layout-using-biochemical-coordinates/Notebooks/Escher.ipynb#ch0000022?line=2'>3</a>\u001b[0m                   show_gene_reaction_rules\u001b[39m=\u001b[39m\u001b[39mTrue\u001b[39;00m)\n\u001b[0;32m      <a href='vscode-notebook-cell:/c%3A/GitHub/Metabolic-network-layout-using-biochemical-coordinates/Notebooks/Escher.ipynb#ch0000022?line=3'>4</a>\u001b[0m b\u001b[39m.\u001b[39mdisplay_in_notebook()\n",
      "File \u001b[1;32mc:\\Users\\meide\\.conda\\envs\\rdkit\\lib\\json\\__init__.py:231\u001b[0m, in \u001b[0;36mdumps\u001b[1;34m(obj, skipkeys, ensure_ascii, check_circular, allow_nan, cls, indent, separators, default, sort_keys, **kw)\u001b[0m\n\u001b[0;32m    226\u001b[0m \u001b[39m# cached encoder\u001b[39;00m\n\u001b[0;32m    227\u001b[0m \u001b[39mif\u001b[39;00m (\u001b[39mnot\u001b[39;00m skipkeys \u001b[39mand\u001b[39;00m ensure_ascii \u001b[39mand\u001b[39;00m\n\u001b[0;32m    228\u001b[0m     check_circular \u001b[39mand\u001b[39;00m allow_nan \u001b[39mand\u001b[39;00m\n\u001b[0;32m    229\u001b[0m     \u001b[39mcls\u001b[39m \u001b[39mis\u001b[39;00m \u001b[39mNone\u001b[39;00m \u001b[39mand\u001b[39;00m indent \u001b[39mis\u001b[39;00m \u001b[39mNone\u001b[39;00m \u001b[39mand\u001b[39;00m separators \u001b[39mis\u001b[39;00m \u001b[39mNone\u001b[39;00m \u001b[39mand\u001b[39;00m\n\u001b[0;32m    230\u001b[0m     default \u001b[39mis\u001b[39;00m \u001b[39mNone\u001b[39;00m \u001b[39mand\u001b[39;00m \u001b[39mnot\u001b[39;00m sort_keys \u001b[39mand\u001b[39;00m \u001b[39mnot\u001b[39;00m kw):\n\u001b[1;32m--> 231\u001b[0m     \u001b[39mreturn\u001b[39;00m _default_encoder\u001b[39m.\u001b[39;49mencode(obj)\n\u001b[0;32m    232\u001b[0m \u001b[39mif\u001b[39;00m \u001b[39mcls\u001b[39m \u001b[39mis\u001b[39;00m \u001b[39mNone\u001b[39;00m:\n\u001b[0;32m    233\u001b[0m     \u001b[39mcls\u001b[39m \u001b[39m=\u001b[39m JSONEncoder\n",
      "File \u001b[1;32mc:\\Users\\meide\\.conda\\envs\\rdkit\\lib\\json\\encoder.py:199\u001b[0m, in \u001b[0;36mJSONEncoder.encode\u001b[1;34m(self, o)\u001b[0m\n\u001b[0;32m    195\u001b[0m         \u001b[39mreturn\u001b[39;00m encode_basestring(o)\n\u001b[0;32m    196\u001b[0m \u001b[39m# This doesn't pass the iterator directly to ''.join() because the\u001b[39;00m\n\u001b[0;32m    197\u001b[0m \u001b[39m# exceptions aren't as detailed.  The list call should be roughly\u001b[39;00m\n\u001b[0;32m    198\u001b[0m \u001b[39m# equivalent to the PySequence_Fast that ''.join() would do.\u001b[39;00m\n\u001b[1;32m--> 199\u001b[0m chunks \u001b[39m=\u001b[39m \u001b[39mself\u001b[39;49m\u001b[39m.\u001b[39;49miterencode(o, _one_shot\u001b[39m=\u001b[39;49m\u001b[39mTrue\u001b[39;49;00m)\n\u001b[0;32m    200\u001b[0m \u001b[39mif\u001b[39;00m \u001b[39mnot\u001b[39;00m \u001b[39misinstance\u001b[39m(chunks, (\u001b[39mlist\u001b[39m, \u001b[39mtuple\u001b[39m)):\n\u001b[0;32m    201\u001b[0m     chunks \u001b[39m=\u001b[39m \u001b[39mlist\u001b[39m(chunks)\n",
      "File \u001b[1;32mc:\\Users\\meide\\.conda\\envs\\rdkit\\lib\\json\\encoder.py:257\u001b[0m, in \u001b[0;36mJSONEncoder.iterencode\u001b[1;34m(self, o, _one_shot)\u001b[0m\n\u001b[0;32m    252\u001b[0m \u001b[39melse\u001b[39;00m:\n\u001b[0;32m    253\u001b[0m     _iterencode \u001b[39m=\u001b[39m _make_iterencode(\n\u001b[0;32m    254\u001b[0m         markers, \u001b[39mself\u001b[39m\u001b[39m.\u001b[39mdefault, _encoder, \u001b[39mself\u001b[39m\u001b[39m.\u001b[39mindent, floatstr,\n\u001b[0;32m    255\u001b[0m         \u001b[39mself\u001b[39m\u001b[39m.\u001b[39mkey_separator, \u001b[39mself\u001b[39m\u001b[39m.\u001b[39mitem_separator, \u001b[39mself\u001b[39m\u001b[39m.\u001b[39msort_keys,\n\u001b[0;32m    256\u001b[0m         \u001b[39mself\u001b[39m\u001b[39m.\u001b[39mskipkeys, _one_shot)\n\u001b[1;32m--> 257\u001b[0m \u001b[39mreturn\u001b[39;00m _iterencode(o, \u001b[39m0\u001b[39;49m)\n",
      "File \u001b[1;32mc:\\Users\\meide\\.conda\\envs\\rdkit\\lib\\json\\encoder.py:179\u001b[0m, in \u001b[0;36mJSONEncoder.default\u001b[1;34m(self, o)\u001b[0m\n\u001b[0;32m    160\u001b[0m \u001b[39mdef\u001b[39;00m \u001b[39mdefault\u001b[39m(\u001b[39mself\u001b[39m, o):\n\u001b[0;32m    161\u001b[0m     \u001b[39m\"\"\"Implement this method in a subclass such that it returns\u001b[39;00m\n\u001b[0;32m    162\u001b[0m \u001b[39m    a serializable object for ``o``, or calls the base implementation\u001b[39;00m\n\u001b[0;32m    163\u001b[0m \u001b[39m    (to raise a ``TypeError``).\u001b[39;00m\n\u001b[1;32m   (...)\u001b[0m\n\u001b[0;32m    177\u001b[0m \n\u001b[0;32m    178\u001b[0m \u001b[39m    \"\"\"\u001b[39;00m\n\u001b[1;32m--> 179\u001b[0m     \u001b[39mraise\u001b[39;00m \u001b[39mTypeError\u001b[39;00m(\u001b[39mf\u001b[39m\u001b[39m'\u001b[39m\u001b[39mObject of type \u001b[39m\u001b[39m{\u001b[39;00mo\u001b[39m.\u001b[39m\u001b[39m__class__\u001b[39m\u001b[39m.\u001b[39m\u001b[39m__name__\u001b[39m\u001b[39m}\u001b[39;00m\u001b[39m \u001b[39m\u001b[39m'\u001b[39m\n\u001b[0;32m    180\u001b[0m                     \u001b[39mf\u001b[39m\u001b[39m'\u001b[39m\u001b[39mis not JSON serializable\u001b[39m\u001b[39m'\u001b[39m)\n",
      "\u001b[1;31mTypeError\u001b[0m: Object of type cytoscape2escher is not JSON serializable"
     ]
    }
   ],
   "source": [
    "b = escher.Builder(map_json=json.dumps(c2e),\n",
    "                  identifiers_on_map='name',\n",
    "                  show_gene_reaction_rules=True)\n",
    "b.display_in_notebook()"
   ]
  },
  {
   "cell_type": "code",
   "execution_count": 84,
   "metadata": {},
   "outputs": [],
   "source": [
    "c2e = cytoscape2escher(abc_cytoscape)\n",
    "abc_c2e = c2e.convert()\n",
    "\n",
    "\n",
    "with open('ABC_c2e.json','w') as out:\n",
    "    json.dump( abc_c2e, out, indent=4, sort_keys=True )\n",
    "with open('ABC_map_pp.json','w') as out:\n",
    "    json.dump( abc_escher, out, indent=4, sort_keys=True)\n",
    "# jsonschema.validate(abc_c2e,escher_schema)\n",
    "# import escher.validate \n",
    "# escher.validate.validate_map(abc_c2e)"
   ]
  },
  {
   "cell_type": "code",
   "execution_count": null,
   "metadata": {},
   "outputs": [],
   "source": []
  }
 ],
 "metadata": {
  "kernelspec": {
   "display_name": "Python 3.9.12 ('rdkit')",
   "language": "python",
   "name": "python3"
  },
  "language_info": {
   "codemirror_mode": {
    "name": "ipython",
    "version": 3
   },
   "file_extension": ".py",
   "mimetype": "text/x-python",
   "name": "python",
   "nbconvert_exporter": "python",
   "pygments_lexer": "ipython3",
   "version": "3.9.12"
  },
  "orig_nbformat": 4,
  "vscode": {
   "interpreter": {
    "hash": "79d1cfd305db38a14dc21f8b07679f01133b793e388454429e82c4a1d72d10d8"
   }
  }
 },
 "nbformat": 4,
 "nbformat_minor": 2
}
