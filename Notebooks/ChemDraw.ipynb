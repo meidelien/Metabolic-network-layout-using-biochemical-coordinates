{
 "cells": [
  {
   "cell_type": "markdown",
   "metadata": {},
   "source": [
    "### Testing of visualization of molecules with respects to descriptors"
   ]
  },
  {
   "cell_type": "code",
   "execution_count": 1,
   "metadata": {},
   "outputs": [],
   "source": [
    "import pandas as pd\n",
    "import rdkit as rdkit\n",
    "from rdkit import Chem\n",
    "from rdkit.Chem import AllChem, Descriptors\n",
    "from rdkit.Chem import rdMolDescriptors\n",
    "from rdkit import *\n",
    "from rdkit.Chem import PandasTools\n",
    "import numpy as np\n",
    "import matplotlib\n",
    "import matplotlib.pyplot as plt\n",
    "import statsmodels.api as sm\n",
    "import plotly.graph_objects as go\n",
    "import plotly_express as px\n",
    "from rdkit.Chem import rdMolDescriptors\n",
    "from rdkit.Chem.Draw import SimilarityMaps\n",
    "\n",
    "\n",
    "import os\n",
    "path = \"data/\"\n",
    "os.chdir(path)"
   ]
  },
  {
   "cell_type": "code",
   "execution_count": 2,
   "metadata": {},
   "outputs": [
    {
     "name": "stderr",
     "output_type": "stream",
     "text": [
      "c:\\Users\\meide\\.conda\\envs\\rdkit\\lib\\site-packages\\rdkit\\Chem\\Draw\\__init__.py:413: RuntimeWarning: invalid value encountered in multiply\n",
      "  Z += Zp * weights[i]\n",
      "c:\\Users\\meide\\.conda\\envs\\rdkit\\lib\\site-packages\\matplotlib\\contour.py:1486: UserWarning: Warning: converting a masked element to nan.\n",
      "  self.zmax = float(z.max())\n",
      "c:\\Users\\meide\\.conda\\envs\\rdkit\\lib\\site-packages\\matplotlib\\contour.py:1487: UserWarning: Warning: converting a masked element to nan.\n",
      "  self.zmin = float(z.min())\n",
      "c:\\Users\\meide\\.conda\\envs\\rdkit\\lib\\site-packages\\rdkit\\Chem\\Draw\\SimilarityMaps.py:228: UserWarning: No contour levels were found within the data range.\n",
      "  contourset = fig.axes[0].contour(x, y, z, contourLines, colors=colors, alpha=alpha, **kwargs)\n",
      "c:\\Users\\meide\\.conda\\envs\\rdkit\\lib\\site-packages\\rdkit\\Chem\\Draw\\SimilarityMaps.py:228: UserWarning: The following kwargs were not used by contour: 'colormap'\n",
      "  contourset = fig.axes[0].contour(x, y, z, contourLines, colors=colors, alpha=alpha, **kwargs)\n"
     ]
    },
    {
     "data": {
      "image/png": "[encoded data removed]",
      "text/plain": [
       "<Figure size 180x180 with 1 Axes>"
      ]
     },
     "metadata": {
      "needs_background": "light"
     },
     "output_type": "display_data"
    }
   ],
   "source": [
    "mol = Chem.MolFromSmiles('CCCCCC/C=C\\CCC[C@@H](O)CC(=O)SCCNC(=O)CCNC(=O)[C@H](O)C(C)(C)COP(=O)([O-])OC[C@H](N[*])C([*])=O')\n",
    "\n",
    "AllChem.ComputeGasteigerCharges(mol)\n",
    "\n",
    "\n",
    "contribs = [mol.GetAtomWithIdx(i).GetDoubleProp('_GasteigerCharge') for i in range(mol.GetNumAtoms())]\n",
    "\n",
    "\n",
    "fig = SimilarityMaps.GetSimilarityMapFromWeights(mol, contribs, colormap=\"jet\", contourLines =10)"
   ]
  },
  {
   "cell_type": "code",
   "execution_count": 4,
   "metadata": {},
   "outputs": [],
   "source": [
    "# df = pd.read_csv(\"chemical_descriptors.csv\")\n",
    "df = pd.read_csv(\"Calc.csv\")"
   ]
  },
  {
   "cell_type": "code",
   "execution_count": 5,
   "metadata": {},
   "outputs": [
    {
     "name": "stderr",
     "output_type": "stream",
     "text": [
      "[12:09:24] WARNING:  Problems/mismatches: Mobile-H( Hydrogens: Locations or number, Number; Charge(s): Do not match)\n",
      "\n"
     ]
    }
   ],
   "source": [
    "mol_list = []\n",
    "\n",
    "for i in df.InChI:\n",
    "    mol = Chem.MolFromInchi(i)\n",
    "    mol_list.append(mol)"
   ]
  },
  {
   "cell_type": "code",
   "execution_count": 6,
   "metadata": {},
   "outputs": [],
   "source": [
    "mol2 = mol_list[7]\n",
    "AllChem.ComputeGasteigerCharges(mol2)\n",
    "\n"
   ]
  },
  {
   "cell_type": "code",
   "execution_count": 7,
   "metadata": {},
   "outputs": [],
   "source": [
    "contribs2 = [mol2.GetAtomWithIdx(i).GetDoubleProp('_GasteigerCharge') for i in range(mol2.GetNumAtoms())]"
   ]
  },
  {
   "cell_type": "code",
   "execution_count": null,
   "metadata": {},
   "outputs": [],
   "source": [
    "mol2 = mol_list[7]\n",
    "AllChem.ComputeGasteigerCharges(mol2)\n",
    "contribs2 = [mol2.GetAtomWithIdx(i).GetDoubleProp('_GasteigerCharge') for i in range(mol2.GetNumAtoms())]\n",
    "fig = SimilarityMaps.GetSimilarityMapFromWeights(mol2, contribs, colorMap='jet', contourLines=10)"
   ]
  },
  {
   "cell_type": "code",
   "execution_count": null,
   "metadata": {},
   "outputs": [],
   "source": [
    "from rdkit.Chem import rdMolDescriptors\n",
    "contribs2 = rdMolDescriptors._CalcCrippenContribs(mol2)\n",
    "fig = SimilarityMaps.GetSimilarityMapFromWeights(mol2,[x for x,y in contribs2], colorMap='jet', contourLines=10)"
   ]
  },
  {
   "cell_type": "code",
   "execution_count": null,
   "metadata": {},
   "outputs": [],
   "source": [
    "rdMolDescriptors.CalcCrippenDescriptors"
   ]
  },
  {
   "cell_type": "code",
   "execution_count": null,
   "metadata": {},
   "outputs": [],
   "source": []
  }
 ],
 "metadata": {
  "kernelspec": {
   "display_name": "Python 3.9.12 ('rdkit')",
   "language": "python",
   "name": "python3"
  },
  "language_info": {
   "codemirror_mode": {
    "name": "ipython",
    "version": 3
   },
   "file_extension": ".py",
   "mimetype": "text/x-python",
   "name": "python",
   "nbconvert_exporter": "python",
   "pygments_lexer": "ipython3",
   "version": "3.9.12"
  },
  "orig_nbformat": 4,
  "vscode": {
   "interpreter": {
    "hash": "79d1cfd305db38a14dc21f8b07679f01133b793e388454429e82c4a1d72d10d8"
   }
  }
 },
 "nbformat": 4,
 "nbformat_minor": 2
}
