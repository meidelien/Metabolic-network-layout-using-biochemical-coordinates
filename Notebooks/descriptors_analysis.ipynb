{
 "cells": [
  {
   "cell_type": "code",
   "execution_count": null,
   "id": "479b0e46-7c9f-4e53-9130-c81bd1f69e0b",
   "metadata": {},
   "outputs": [],
   "source": [
    "import pandas as pd"
   ]
  },
  {
   "cell_type": "markdown",
   "id": "b8a2b6fb-b47f-40d4-9182-a2d14da5b55d",
   "metadata": {},
   "source": [
    "#### Load data and filter columns with too many empty values"
   ]
  },
  {
   "cell_type": "code",
   "execution_count": null,
   "id": "bf61a793-bc05-48d1-8a5a-b8567de8ea5c",
   "metadata": {},
   "outputs": [],
   "source": [
    "dfCore = pd.read_csv('https://raw.githubusercontent.com/meidelien/Metabolic-network-layout-using-biochemical-coordinates/main/data/Chemical_descriptors.csv', usecols=[2,5,6] + list(range(10,218)), index_col=0)\n",
    "df1515 = pd.read_csv(\"https://raw.githubusercontent.com/meidelien/Metabolic-network-layout-using-biochemical-coordinates/main/data/Chemical_descriptors1515.csv\", usecols=[2,5,6] + list(range (10,218)), index_col=0)\n"
   ]
  },
  {
   "cell_type": "code",
   "execution_count": null,
   "id": "a6021f58-8af1-474e-9f7a-f8861ba4e298",
   "metadata": {},
   "outputs": [],
   "source": [
    "# remove all columns that have less than 90% of non-zero entries\n",
    "dfCore = dfCore.loc[:,((dfCore != 0).sum() > dfCore.shape[0] * 0.9)]\n",
    "df1515 = df1515.loc[:,((df1515 !=0).sum() >df1515.shape[0]*0.9 )]\n"
   ]
  },
  {
   "cell_type": "markdown",
   "id": "2a4f3649",
   "metadata": {},
   "source": [
    "## Remove NANs in df1515 with 0's "
   ]
  },
  {
   "cell_type": "code",
   "execution_count": null,
   "id": "879b6fb1",
   "metadata": {},
   "outputs": [],
   "source": [
    "import numpy as np\n",
    "\n",
    "# df1515.replace(np.nan, 0) # fml\n",
    "\n",
    "df1515[\"BCUT2D_MWHI\"] = df1515[\"BCUT2D_MWHI\"].replace(np.nan, 0)\n",
    "\n",
    "df1515[\"BCUT2D_MWLOW\"] = df1515[\"BCUT2D_MWLOW\"].replace(np.nan, 0)\n",
    "\n",
    "df1515[\"BCUT2D_CHGHI\"] = df1515[\"BCUT2D_CHGHI\"].replace(np.nan, 0)\n",
    "\n",
    "df1515[\"BCUT2D_LOGPHI\"] = df1515[\"BCUT2D_LOGPHI\"].replace(np.nan, 0)\n",
    "\n",
    "df1515[\"BCUT2D_LOGPLOW\"] = df1515[\"BCUT2D_LOGPLOW\"].replace(np.nan, 0)\n",
    "\n",
    "df1515[\"BCUT2D_CHGLO\"] = df1515[\"BCUT2D_CHGLO\"].replace(np.nan, 0)\n",
    "\n",
    "df1515[\"BCUT2D_MRHI\"] = df1515[\"BCUT2D_MRHI\"].replace(np.nan, 0)\n",
    "\n",
    "df1515[\"BCUT2D_MRLOW\"] = df1515[\"BCUT2D_MRLOW\"].replace(np.nan, 0)\n",
    "\n",
    "df1515[\"MaxPartialCharge\"] = df1515[\"MaxPartialCharge\"].replace(np.nan, 0)\n",
    "\n",
    "df1515[\"MinPartialCharge\"] = df1515[\"MinPartialCharge\"].replace(np.nan, 0)\n",
    "\n",
    "df1515[\"MaxAbsPartialCharge\"] = df1515[\"MaxAbsPartialCharge\"].replace(np.nan, 0)\n",
    "\n",
    "df1515[\"MinAbsPartialCharge\"] = df1515[\"MinAbsPartialCharge\"].replace(np.nan, 0)"
   ]
  },
  {
   "cell_type": "code",
   "execution_count": null,
   "id": "de5771ed-0977-445f-b2d6-1437ed10382c",
   "metadata": {},
   "outputs": [],
   "source": [
    "#df.sample(5)\n",
    "#df1515.sample(5)"
   ]
  },
  {
   "cell_type": "markdown",
   "id": "82258c0b-c532-4320-adfb-92d7d130779a",
   "metadata": {},
   "source": [
    "#### Analyse the distribution of values for each descriptor"
   ]
  },
  {
   "cell_type": "code",
   "execution_count": null,
   "id": "57587619-5088-422a-874e-216f40a82374",
   "metadata": {},
   "outputs": [],
   "source": [
    "import matplotlib.pyplot as plt"
   ]
  },
  {
   "cell_type": "markdown",
   "id": "e478bd1c",
   "metadata": {},
   "source": [
    "## Plot e.coli core metabolite feature distributions\n"
   ]
  },
  {
   "cell_type": "code",
   "execution_count": null,
   "id": "a5a3f706-4764-49fa-9a5c-d7fd96f771c6",
   "metadata": {},
   "outputs": [],
   "source": [
    "f, axs = plt.subplots(6, 8, figsize=(20, 12))\n",
    "axs = axs.flatten()\n",
    "\n",
    "for i in range(48):\n",
    "    dfCore.iloc[:,i].plot.hist(ax=axs[i], bins=20)\n",
    "    axs[i].set_xlabel(dfCore.columns[i])\n",
    "    axs[i].set_ylabel('')\n",
    "    \n",
    "f.tight_layout()"
   ]
  },
  {
   "cell_type": "markdown",
   "id": "a1f09002",
   "metadata": {},
   "source": [
    "## Plot e.coli iML1515 metabolite feature distributions"
   ]
  },
  {
   "cell_type": "code",
   "execution_count": null,
   "id": "b7579170",
   "metadata": {},
   "outputs": [],
   "source": [
    "f, axs = plt.subplots(6, 8, figsize=(20, 12))\n",
    "axs = axs.flatten()\n",
    "\n",
    "for i in range(48):\n",
    "    df1515.iloc[:,i].plot.hist(ax=axs[i], bins=20)\n",
    "    axs[i].set_xlabel(df1515.columns[i])\n",
    "    axs[i].set_ylabel('')\n",
    "    \n",
    "f.tight_layout()"
   ]
  },
  {
   "cell_type": "markdown",
   "id": "3fc3c2be",
   "metadata": {},
   "source": [
    "### Plot 1515 data with removed nan "
   ]
  },
  {
   "cell_type": "markdown",
   "id": "cf08ebc3-639b-427b-b46c-391526f37b6d",
   "metadata": {},
   "source": [
    "#### Estimate Spearman correlation between all pairs of descriptors"
   ]
  },
  {
   "cell_type": "code",
   "execution_count": null,
   "id": "62bb5bce-3980-4f86-87c4-4e41e92a316b",
   "metadata": {},
   "outputs": [],
   "source": [
    "from scipy.stats import spearmanr\n",
    "correlation = [(d1, d2, spearmanr(dfCore.loc[:,d1], dfCore.loc[:,d2])[0]) for d1 in dfCore.columns for d2 in dfCore.columns]\n",
    "correlation1515 = [(d1_1515, d2_1515, spearmanr(df1515.loc[:,d1_1515], df1515.loc[:,d2_1515])[0]) for d1_1515 in df1515.columns for d2_1515 in df1515.columns]\n"
   ]
  },
  {
   "cell_type": "code",
   "execution_count": null,
   "id": "2bf2a112-fafd-498e-ae00-1abc6507ee69",
   "metadata": {},
   "outputs": [],
   "source": [
    "dfCore_2 = pd.DataFrame(correlation, columns=['d1', 'd2', 'value'])\n",
    "df1515_2 = pd.DataFrame(correlation1515, columns =[\"d1_1515\", \"d2_1515\",\"value1515\"])\n"
   ]
  },
  {
   "cell_type": "code",
   "execution_count": null,
   "id": "a0276028-4228-4755-a08c-86cec1c23386",
   "metadata": {},
   "outputs": [],
   "source": [
    "dfCore_3 = dfCore_2.pivot_table(index='d1', columns='d2', values='value')\n",
    "df1515_3 = df1515_2.pivot_table(index =\"d1_1515\", columns = \"d2_1515\", values = \"value1515\")\n"
   ]
  },
  {
   "cell_type": "code",
   "execution_count": null,
   "id": "950a0f3d-e17f-4707-92cb-8494f60a494e",
   "metadata": {},
   "outputs": [],
   "source": [
    "import seaborn as sns"
   ]
  },
  {
   "cell_type": "code",
   "execution_count": null,
   "id": "8b9814df-2693-4144-ad4b-6547efbf0924",
   "metadata": {},
   "outputs": [],
   "source": [
    "sns.clustermap(dfCore_3, vmin=-1, vmax=1, cmap='PiYG', figsize=(16,16))"
   ]
  },
  {
   "cell_type": "code",
   "execution_count": null,
   "id": "15c0e1d7",
   "metadata": {},
   "outputs": [],
   "source": [
    "sns.clustermap(df1515_3, vmin=-1, vmax=1, cmap='PiYG', figsize=(16,16))"
   ]
  },
  {
   "cell_type": "markdown",
   "id": "5e871a89-8a2d-4357-87fa-ec69f8c2d8f6",
   "metadata": {},
   "source": [
    "#### Do scatter plots for pairs of features with low correlation"
   ]
  },
  {
   "cell_type": "code",
   "execution_count": null,
   "id": "f187dd01-9ee5-4638-9858-60683cc2986a",
   "metadata": {},
   "outputs": [],
   "source": [
    "lowest = dfCore_2.query(\"abs(value) < 0.1 and d1 < d2\")  # d1 < d2 is just to avoid plotting (a,b) and (b,a)\n",
    "lowest_1515 = df1515_2.query(\"abs(value1515) < 0.1 and d1_1515 < d2_1515\")  # d1 < d2 is just to avoid plotting (a,b) and (b,a)"
   ]
  },
  {
   "cell_type": "code",
   "execution_count": null,
   "id": "67037f34-f257-43c3-94c2-6973fae7107a",
   "metadata": {},
   "outputs": [],
   "source": [
    "f, axs = plt.subplots(6, 10, figsize=(20, 12))\n",
    "axs = axs.flatten()\n",
    "\n",
    "for i in range(60):\n",
    "    dfCore.plot.scatter(lowest.iloc[i,0], lowest.iloc[i,1], ax=axs[i])\n",
    "    axs[i].set_xticks([])\n",
    "    axs[i].set_yticks([])\n",
    "    \n",
    "f.tight_layout()"
   ]
  },
  {
   "cell_type": "code",
   "execution_count": null,
   "id": "6b38b5f8-297b-49d8-ab98-1b556b4d07b7",
   "metadata": {},
   "outputs": [],
   "source": [
    "f, axs = plt.subplots(6, 10, figsize=(20, 12))\n",
    "axs = axs.flatten()\n",
    "\n",
    "for i in range(60):\n",
    "    df1515.plot.scatter(lowest_1515.iloc[i,0], lowest_1515.iloc[i,1], ax=axs[i])\n",
    "    axs[i].set_xticks([])\n",
    "    axs[i].set_yticks([])\n",
    "    \n",
    "f.tight_layout()"
   ]
  }
 ],
 "metadata": {
  "interpreter": {
   "hash": "478201df5069d2e6391cf65b23ce884d49c57ebe4f05640c641415e63946d634"
  },
  "kernelspec": {
   "display_name": "Python 3.9.7 64-bit ('rdkit': conda)",
   "name": "python3"
  },
  "language_info": {
   "codemirror_mode": {
    "name": "ipython",
    "version": 3
   },
   "file_extension": ".py",
   "mimetype": "text/x-python",
   "name": "python",
   "nbconvert_exporter": "python",
   "pygments_lexer": "ipython3",
   "version": "3.9.7"
  }
 },
 "nbformat": 4,
 "nbformat_minor": 5
}
