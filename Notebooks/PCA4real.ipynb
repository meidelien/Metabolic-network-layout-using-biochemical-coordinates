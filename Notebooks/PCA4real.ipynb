{
 "cells": [
  {
   "cell_type": "code",
   "execution_count": 146,
   "metadata": {},
   "outputs": [
    {
     "ename": "FileNotFoundError",
     "evalue": "[WinError 2] The system cannot find the file specified: 'data/'",
     "output_type": "error",
     "traceback": [
      "\u001b[1;31m---------------------------------------------------------------------------\u001b[0m",
      "\u001b[1;31mFileNotFoundError\u001b[0m                         Traceback (most recent call last)",
      "\u001b[1;32mc:\\GitHub\\Metabolic-network-layout-using-biochemical-coordinates\\Notebooks\\PCA4real.ipynb Cell 1'\u001b[0m in \u001b[0;36m<cell line: 11>\u001b[1;34m()\u001b[0m\n\u001b[0;32m      <a href='vscode-notebook-cell:/c%3A/GitHub/Metabolic-network-layout-using-biochemical-coordinates/Notebooks/PCA4real.ipynb#ch0000000?line=8'>9</a>\u001b[0m \u001b[39m# path = \"C:/Users/meide/Documents/GitHub/Master/data\"\u001b[39;00m\n\u001b[0;32m     <a href='vscode-notebook-cell:/c%3A/GitHub/Metabolic-network-layout-using-biochemical-coordinates/Notebooks/PCA4real.ipynb#ch0000000?line=9'>10</a>\u001b[0m path \u001b[39m=\u001b[39m \u001b[39m\"\u001b[39m\u001b[39mdata/\u001b[39m\u001b[39m\"\u001b[39m\n\u001b[1;32m---> <a href='vscode-notebook-cell:/c%3A/GitHub/Metabolic-network-layout-using-biochemical-coordinates/Notebooks/PCA4real.ipynb#ch0000000?line=10'>11</a>\u001b[0m os\u001b[39m.\u001b[39;49mchdir(path)\n",
      "\u001b[1;31mFileNotFoundError\u001b[0m: [WinError 2] The system cannot find the file specified: 'data/'"
     ]
    }
   ],
   "source": [
    "import pandas as pd\n",
    "import numpy as np\n",
    "from sklearn.preprocessing import StandardScaler\n",
    "from sklearn.decomposition import PCA\n",
    "import sys\n",
    "import os\n",
    "\n",
    "\n",
    "# path = \"C:/Users/meide/Documents/GitHub/Master/data\"\n",
    "path = \"data/\"\n",
    "os.chdir(path)"
   ]
  },
  {
   "cell_type": "code",
   "execution_count": 162,
   "metadata": {},
   "outputs": [
    {
     "data": {
      "text/plain": [
       "(55, 204)"
      ]
     },
     "execution_count": 162,
     "metadata": {},
     "output_type": "execute_result"
    }
   ],
   "source": [
    "# CORE\n",
    "df = pd.read_csv(\"core_no_mass.csv\", index_col = 0, usecols =   list(range(22,227))) # [13,14,15] +\n",
    "\n",
    "\n",
    "# 1515 \n",
    "# df = pd.read_csv(\"1515_no_mass.csv\", index_col = 0, usecols = list(range(22,227)))#  usecols = [4,5,6] + list(range(22,227 for\n",
    "\n",
    "df.shape"
   ]
  },
  {
   "cell_type": "markdown",
   "metadata": {},
   "source": [
    "sanitize\n"
   ]
  },
  {
   "cell_type": "code",
   "execution_count": 159,
   "metadata": {},
   "outputs": [],
   "source": [
    "import numpy as np\n",
    "\n",
    "# df.replace(np.nan, 0) # fml\n",
    "\n",
    "df[\"BCUT2D_MWHI\"] = df[\"BCUT2D_MWHI\"].replace(np.nan, 0)\n",
    "\n",
    "df[\"BCUT2D_MWLOW\"] = df[\"BCUT2D_MWLOW\"].replace(np.nan, 0)\n",
    "\n",
    "df[\"BCUT2D_CHGHI\"] = df[\"BCUT2D_CHGHI\"].replace(np.nan, 0)\n",
    "\n",
    "df[\"BCUT2D_LOGPHI\"] = df[\"BCUT2D_LOGPHI\"].replace(np.nan, 0)\n",
    "\n",
    "df[\"BCUT2D_LOGPLOW\"] = df[\"BCUT2D_LOGPLOW\"].replace(np.nan, 0)\n",
    "\n",
    "df[\"BCUT2D_CHGLO\"] = df[\"BCUT2D_CHGLO\"].replace(np.nan, 0)\n",
    "\n",
    "df[\"BCUT2D_MRHI\"] = df[\"BCUT2D_MRHI\"].replace(np.nan, 0)\n",
    "\n",
    "df[\"BCUT2D_MRLOW\"] = df[\"BCUT2D_MRLOW\"].replace(np.nan, 0)\n",
    "\n",
    "df[\"MaxPartialCharge\"] = df[\"MaxPartialCharge\"].replace(np.nan, 0)\n",
    "\n",
    "df[\"MinPartialCharge\"] = df[\"MinPartialCharge\"].replace(np.nan, 0)\n",
    "\n",
    "df[\"MaxAbsPartialCharge\"] = df[\"MaxAbsPartialCharge\"].replace(np.nan, 0)\n",
    "\n",
    "df[\"MinAbsPartialCharge\"] = df[\"MinAbsPartialCharge\"].replace(np.nan, 0)"
   ]
  },
  {
   "cell_type": "markdown",
   "metadata": {},
   "source": [
    "#### Removes entries from df with missing or zero values"
   ]
  },
  {
   "cell_type": "code",
   "execution_count": 160,
   "metadata": {},
   "outputs": [
    {
     "name": "stdout",
     "output_type": "stream",
     "text": [
      "Explained variation per principal component: [67.46002948 25.16159366 11.34648634  7.66775008  5.4334277 ]\n"
     ]
    }
   ],
   "source": [
    "# df = df.loc[:,((df !=0).sum() >df.shape[0]*0.90 )]\n",
    "\n",
    "features = df.columns.values.tolist()\n",
    "\n",
    "x = df.loc[:, features].values\n",
    "\n",
    "x = StandardScaler().fit_transform(x)\n",
    "\n",
    "pca = PCA(n_components = 5)\n",
    "\n",
    "principalComponents = pca.fit_transform(x)\n",
    "\n",
    "print(\"Explained variation per principal component: {}\".format(pca.explained_variance_))"
   ]
  },
  {
   "cell_type": "code",
   "execution_count": 161,
   "metadata": {},
   "outputs": [
    {
     "data": {
      "text/plain": [
       "92.62162314"
      ]
     },
     "execution_count": 161,
     "metadata": {},
     "output_type": "execute_result"
    }
   ],
   "source": [
    "a = 67.46002948 + 25.16159366\n",
    "a"
   ]
  },
  {
   "cell_type": "code",
   "execution_count": 89,
   "metadata": {},
   "outputs": [],
   "source": [
    "df = df.loc[:,((df !=0).sum() >df.shape[0]*0.9 )]\n"
   ]
  },
  {
   "cell_type": "code",
   "execution_count": 57,
   "metadata": {},
   "outputs": [
    {
     "data": {
      "text/plain": [
       "(963, 53)"
      ]
     },
     "execution_count": 57,
     "metadata": {},
     "output_type": "execute_result"
    }
   ],
   "source": [
    "df.shape"
   ]
  },
  {
   "cell_type": "code",
   "execution_count": 75,
   "metadata": {},
   "outputs": [],
   "source": [
    "features = df.columns.values.tolist()"
   ]
  },
  {
   "cell_type": "code",
   "execution_count": 76,
   "metadata": {},
   "outputs": [],
   "source": [
    "x = df.loc[:, features].values\n",
    "\n",
    "# print(x)"
   ]
  },
  {
   "cell_type": "code",
   "execution_count": 77,
   "metadata": {},
   "outputs": [],
   "source": [
    "y  = df.loc[:, features].values\n",
    "\n",
    "# print(y)"
   ]
  },
  {
   "cell_type": "code",
   "execution_count": 81,
   "metadata": {},
   "outputs": [],
   "source": [
    "x = StandardScaler().fit_transform(x)\n",
    "y = StandardScaler().fit_transform(y)"
   ]
  },
  {
   "cell_type": "code",
   "execution_count": 84,
   "metadata": {},
   "outputs": [],
   "source": [
    "pca = PCA(n_components = 5)\n",
    "\n",
    "principalComponents = pca.fit_transform(x,y)"
   ]
  },
  {
   "cell_type": "code",
   "execution_count": 50,
   "metadata": {},
   "outputs": [],
   "source": [
    "PCA_df = pd.DataFrame(data = principalComponents, \n",
    "columns =[\"PC1\",\"PC2\", \"PC3\", \"PC4\", \"PC5\"])\n",
    "\n",
    "\n",
    "# PCA_df.head(5)"
   ]
  },
  {
   "cell_type": "code",
   "execution_count": 17,
   "metadata": {},
   "outputs": [],
   "source": [
    "PCA_df.insert(0, \"BiGG\", BiGG_list)\n",
    "PCA_df.insert(1, \"MNXM\", MNXM_list)\n",
    "\n",
    "dfName = pd.read_csv(\"Calc.csv\")\n",
    "PCA_df.insert(2, \"Name\", dfName[\"Name\"])"
   ]
  },
  {
   "cell_type": "code",
   "execution_count": 18,
   "metadata": {},
   "outputs": [
    {
     "data": {
      "text/html": [
       "<div>\n",
       "<style scoped>\n",
       "    .dataframe tbody tr th:only-of-type {\n",
       "        vertical-align: middle;\n",
       "    }\n",
       "\n",
       "    .dataframe tbody tr th {\n",
       "        vertical-align: top;\n",
       "    }\n",
       "\n",
       "    .dataframe thead th {\n",
       "        text-align: right;\n",
       "    }\n",
       "</style>\n",
       "<table border=\"1\" class=\"dataframe\">\n",
       "  <thead>\n",
       "    <tr style=\"text-align: right;\">\n",
       "      <th></th>\n",
       "      <th>BiGG</th>\n",
       "      <th>MNXM</th>\n",
       "      <th>Name</th>\n",
       "      <th>PC1</th>\n",
       "      <th>PC2</th>\n",
       "      <th>PC3</th>\n",
       "      <th>PC4</th>\n",
       "      <th>PC5</th>\n",
       "    </tr>\n",
       "  </thead>\n",
       "  <tbody>\n",
       "    <tr>\n",
       "      <th>0</th>\n",
       "      <td>M_h_c</td>\n",
       "      <td>MNXM1</td>\n",
       "      <td>H(+)</td>\n",
       "      <td>-7.474676</td>\n",
       "      <td>17.775655</td>\n",
       "      <td>33.581445</td>\n",
       "      <td>11.376593</td>\n",
       "      <td>-0.628991</td>\n",
       "    </tr>\n",
       "    <tr>\n",
       "      <th>1</th>\n",
       "      <td>M_nadh_c</td>\n",
       "      <td>MNXM10</td>\n",
       "      <td>NADH</td>\n",
       "      <td>2.449760</td>\n",
       "      <td>-0.822128</td>\n",
       "      <td>-0.358830</td>\n",
       "      <td>1.642180</td>\n",
       "      <td>-0.940625</td>\n",
       "    </tr>\n",
       "    <tr>\n",
       "      <th>2</th>\n",
       "      <td>M_grdp_c</td>\n",
       "      <td>MNXM100</td>\n",
       "      <td>(2E)-geranyl diphosphate</td>\n",
       "      <td>-1.685173</td>\n",
       "      <td>-1.714967</td>\n",
       "      <td>-0.050377</td>\n",
       "      <td>0.738661</td>\n",
       "      <td>0.495653</td>\n",
       "    </tr>\n",
       "    <tr>\n",
       "      <th>3</th>\n",
       "      <td>M_btal_c</td>\n",
       "      <td>MNXM1017</td>\n",
       "      <td>butanal</td>\n",
       "      <td>-4.473741</td>\n",
       "      <td>0.702321</td>\n",
       "      <td>0.211739</td>\n",
       "      <td>-1.544957</td>\n",
       "      <td>0.398221</td>\n",
       "    </tr>\n",
       "    <tr>\n",
       "      <th>4</th>\n",
       "      <td>M_dtbt_c</td>\n",
       "      <td>MNXM1020</td>\n",
       "      <td>(4R,5S)-dethiobiotin</td>\n",
       "      <td>-2.724062</td>\n",
       "      <td>-0.281604</td>\n",
       "      <td>-0.040466</td>\n",
       "      <td>-0.317529</td>\n",
       "      <td>-0.055734</td>\n",
       "    </tr>\n",
       "  </tbody>\n",
       "</table>\n",
       "</div>"
      ],
      "text/plain": [
       "       BiGG      MNXM                      Name       PC1        PC2  \\\n",
       "0     M_h_c     MNXM1                      H(+) -7.474676  17.775655   \n",
       "1  M_nadh_c    MNXM10                      NADH  2.449760  -0.822128   \n",
       "2  M_grdp_c   MNXM100  (2E)-geranyl diphosphate -1.685173  -1.714967   \n",
       "3  M_btal_c  MNXM1017                   butanal -4.473741   0.702321   \n",
       "4  M_dtbt_c  MNXM1020      (4R,5S)-dethiobiotin -2.724062  -0.281604   \n",
       "\n",
       "         PC3        PC4       PC5  \n",
       "0  33.581445  11.376593 -0.628991  \n",
       "1  -0.358830   1.642180 -0.940625  \n",
       "2  -0.050377   0.738661  0.495653  \n",
       "3   0.211739  -1.544957  0.398221  \n",
       "4  -0.040466  -0.317529 -0.055734  "
      ]
     },
     "execution_count": 18,
     "metadata": {},
     "output_type": "execute_result"
    }
   ],
   "source": [
    "PCA_df.head(5)"
   ]
  },
  {
   "cell_type": "code",
   "execution_count": 25,
   "metadata": {},
   "outputs": [],
   "source": [
    "# PCA_df.to_csv(\"PCA_test.csv\")"
   ]
  },
  {
   "cell_type": "code",
   "execution_count": 19,
   "metadata": {},
   "outputs": [],
   "source": [
    "dfName = pd.read_csv(\"Calc.csv\")"
   ]
  },
  {
   "cell_type": "code",
   "execution_count": null,
   "metadata": {},
   "outputs": [],
   "source": [
    "PCA_df.insert(2, \"Name\", dfName[\"Name\"])"
   ]
  },
  {
   "cell_type": "code",
   "execution_count": 54,
   "metadata": {},
   "outputs": [],
   "source": [
    "# PCA_df.to_csv(\"PCA_test.csv\")"
   ]
  },
  {
   "cell_type": "markdown",
   "metadata": {},
   "source": []
  },
  {
   "cell_type": "code",
   "execution_count": 85,
   "metadata": {},
   "outputs": [
    {
     "name": "stdout",
     "output_type": "stream",
     "text": [
      "Explained variation per principal component: [29.7603549   7.49441281  2.91348144  2.34923347  1.47414954]\n"
     ]
    }
   ],
   "source": [
    "print(\"Explained variation per principal component: {}\".format(pca.explained_variance_))"
   ]
  },
  {
   "cell_type": "code",
   "execution_count": 31,
   "metadata": {},
   "outputs": [
    {
     "data": {
      "text/plain": [
       "(-5.0, 15.0)"
      ]
     },
     "execution_count": 31,
     "metadata": {},
     "output_type": "execute_result"
    },
    {
     "data": {
      "image/png": "[encoded data removed]",
      "text/plain": [
       "<Figure size 432x288 with 1 Axes>"
      ]
     },
     "metadata": {
      "needs_background": "light"
     },
     "output_type": "display_data"
    }
   ],
   "source": [
    "ax  = PCA_df.plot.scatter(x = \"PC1\", y =\"PC3\")\n",
    "ax.set_ylim(-5, 15)"
   ]
  },
  {
   "cell_type": "code",
   "execution_count": 174,
   "metadata": {},
   "outputs": [],
   "source": [
    "# CORE\n",
    "# df = pd.read_csv(\"core_no_mass.csv\", index_col = 0, usecols = [13,14,15] +  list(range(22,227))) # [13,14,15] +\n",
    "\n",
    "\n",
    "# 1515 \n",
    "# df = pd.read_csv(\"1515_no_mass.csv\", index_col = 0, usecols = [4,5,6] + list(range(22,227)))#  usecols = [4,5,6] + list(range(22,227 for"
   ]
  },
  {
   "cell_type": "code",
   "execution_count": 186,
   "metadata": {},
   "outputs": [
    {
     "name": "stdout",
     "output_type": "stream",
     "text": [
      "Attempting to write html GLHF 4.793627023696899\n",
      "HTMl write successful 4.906209468841553\n"
     ]
    }
   ],
   "source": [
    "import plotly.express as px\n",
    "import kaleido as kd\n",
    "import os\n",
    "import numpy as np\n",
    "import pandas as pd\n",
    "import plotly.graph_objects as go\n",
    "import sklearn as sk\n",
    "import plotly.io as pio\n",
    "import time\n",
    "from sklearn.preprocessing import StandardScaler\n",
    "from sklearn.decomposition import PCA\n",
    "\n",
    "\n",
    "GEM = input(\"1515 or core? \")\n",
    "# CORE\n",
    "df = pd.read_csv(f\"{GEM}_no_mass.csv\", index_col = 0, usecols = [13,14,15] +  list(range(22,227))) # [13,14,15] +\n",
    "dfBiGG = pd.read_csv(f\"{GEM}_no_mass.csv\")\n",
    "\n",
    "\n",
    "# 1515 \n",
    "#df = pd.read_csv(\"1515_no_mass.csv\", index_col = 0, usecols = [4,5,6] + list(range(22,227)))#  usecols = [4,5,6] + list(range(22,227 for\n",
    "#dfBiGG = pd.read_csv(\"1515_no_mass.csv\")\n",
    "\n",
    "\n",
    "BiGG_list = dfBiGG[\"BiGG\"].tolist()\n",
    "\n",
    "df.replace(np.nan, 0) # fml\n",
    "df[\"BCUT2D_MWHI\"] = df[\"BCUT2D_MWHI\"].replace(np.nan, 0)\n",
    "\n",
    "df[\"BCUT2D_MWLOW\"] = df[\"BCUT2D_MWLOW\"].replace(np.nan, 0)\n",
    "\n",
    "df[\"BCUT2D_CHGHI\"] = df[\"BCUT2D_CHGHI\"].replace(np.nan, 0)\n",
    "\n",
    "df[\"BCUT2D_LOGPHI\"] = df[\"BCUT2D_LOGPHI\"].replace(np.nan, 0)\n",
    "\n",
    "df[\"BCUT2D_LOGPLOW\"] = df[\"BCUT2D_LOGPLOW\"].replace(np.nan, 0)\n",
    "\n",
    "df[\"BCUT2D_CHGLO\"] = df[\"BCUT2D_CHGLO\"].replace(np.nan, 0)\n",
    "\n",
    "df[\"BCUT2D_MRHI\"] = df[\"BCUT2D_MRHI\"].replace(np.nan, 0)\n",
    "\n",
    "df[\"BCUT2D_MRLOW\"] = df[\"BCUT2D_MRLOW\"].replace(np.nan, 0)\n",
    "\n",
    "df[\"MaxPartialCharge\"] = df[\"MaxPartialCharge\"].replace(np.nan, 0)\n",
    "\n",
    "df[\"MinPartialCharge\"] = df[\"MinPartialCharge\"].replace(np.nan, 0)\n",
    "\n",
    "df[\"MaxAbsPartialCharge\"] = df[\"MaxAbsPartialCharge\"].replace(np.nan, 0)\n",
    "\n",
    "df[\"MinAbsPartialCharge\"] = df[\"MinAbsPartialCharge\"].replace(np.nan, 0)\n",
    "\n",
    "df = df.loc[:,((df !=0).sum() >df.shape[0]*0.90 )]\n",
    "\n",
    "start_time = time.time()\n",
    "\n",
    "pio.kaleido.scope.default_format = \"svg\"\n",
    "\n",
    "\n",
    "# Lists RDkit computed features\n",
    "features = df.columns.values.tolist()\n",
    "\n",
    "# Remove the Name column from the feature list\n",
    "features.pop(0) \n",
    "\n",
    "\n",
    "\n",
    "xx = df.loc[:,df.columns].values # Get computed values from each feature\n",
    "xx = StandardScaler().fit_transform(df[features]) # Normalize data \n",
    "df = pd.DataFrame(xx, columns = features)  # Stitch it back together\n",
    "pca = PCA() # Instantiate PCA class,\n",
    "\n",
    "components = pca.fit_transform(df[features])    # \n",
    "labels = {\n",
    "    str(i): f\"PC {i+1} ({var:.1f}%)\"\n",
    "    for i, var in enumerate(pca.explained_variance_ratio_ * 100)\n",
    "}\n",
    "\n",
    "####### PARAMETERS ####### \n",
    "#  number_components \n",
    "#\n",
    "#  legend\n",
    "#  \n",
    "#######  #######   #######  \n",
    "number_components = 5\n",
    "legend = BiGG_list\n",
    "\n",
    "if GEM == \"core\":\n",
    "    GEM_string = \"E.coli core\" \n",
    "else:\n",
    "        GEM_string = \"iML1515\" \n",
    "\n",
    "fig = px.scatter_matrix(\n",
    "    components,\n",
    "    labels = labels,\n",
    "    dimensions = range(number_components),  # Number of component, for the PCA set, linear behavior comes on component 5 (for the GEM) and gives descriptive (~ 80 %)\n",
    "    color = legend,  # Sets what each metabolite is colored by (<numerical feature> for gradient  & \"Name\" for labelling each metabolite as a  )\n",
    "    title = f\"Principal component analysis for metabolites in the {GEM_string} GEM <br><sup>{number_components} components</sup>\", #  Sets title, allows some html formatting tags\n",
    " \n",
    ")\n",
    "\n",
    "# Centers title\n",
    "fig.update_layout(title_x=0.5)\n",
    "\n",
    "\n",
    "fig.update_traces(diagonal_visible=False)\n",
    "fig.update_layout (\n",
    "    width = 2560,\n",
    "    height = 1440\n",
    ")\n",
    "\n",
    "\n",
    "# Changes the legend string\n",
    "fig.update_layout( \n",
    "    legend=dict(\n",
    "        title = \"Metabolites\", \n",
    "    )\n",
    ")\n",
    "\n",
    "\n",
    "# fig.add_annotation( # add a text callout with arrow\n",
    "   # text= \"big boi!\", x=\"NADH\", arrowhead=1, showarrow=True\n",
    "# )\n",
    "\n",
    "# Write_png() requires kaleido\n",
    "\n",
    "print(\"Attempting to write html GLHF %s\" % (time.time() - start_time))\n",
    "\n",
    "fig.write_html(f\"Plotly images\\{GEM}_PCA_{number_components}_test_HAHAHAHA.html\")\n",
    "# fig.write_html(f\"Plotly images\\PCA_{number_components}_components_4K_MASS.html\")\n",
    "\n",
    "print(\"HTMl write successful %s\" % (time.time() - start_time))\n",
    "\n",
    "\n",
    "\n",
    "# fig.show()\n",
    "\n",
    "\n",
    "\n",
    "# print(\"Attempting to write image GLHF %s\" % (time.time() - start_time))\n",
    "\n",
    "# fig.write_image(f\"Plotly images\\PCA_{number_components}_components_5K.svg\", engine = \"kaleido\")\n",
    "\n",
    "# print(\"Image write successful %s\" % (time.time() - start_time))\n",
    "\n",
    "# print(\"Explained variation per principal component: {}\".format(pca.explained_variance_ * 100))"
   ]
  },
  {
   "cell_type": "code",
   "execution_count": null,
   "metadata": {},
   "outputs": [],
   "source": []
  }
 ],
 "metadata": {
  "interpreter": {
   "hash": "478201df5069d2e6391cf65b23ce884d49c57ebe4f05640c641415e63946d634"
  },
  "kernelspec": {
   "display_name": "Python 3.9.7 ('rdkit')",
   "language": "python",
   "name": "python3"
  },
  "language_info": {
   "codemirror_mode": {
    "name": "ipython",
    "version": 3
   },
   "file_extension": ".py",
   "mimetype": "text/x-python",
   "name": "python",
   "nbconvert_exporter": "python",
   "pygments_lexer": "ipython3",
   "version": "3.9.12"
  },
  "orig_nbformat": 4
 },
 "nbformat": 4,
 "nbformat_minor": 2
}
