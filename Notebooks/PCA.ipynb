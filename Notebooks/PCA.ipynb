{
 "cells": [
  {
   "cell_type": "code",
   "execution_count": 3,
   "metadata": {},
   "outputs": [],
   "source": [
    "import numpy as np\n",
    "import pandas as pd\n",
    "import sklearn\n",
    "from sklearn.decomposition import PCA\n",
    "from sklearn.preprocessing import StandardScaler\n",
    "import matplotlib.pyplot as plt"
   ]
  },
  {
   "cell_type": "code",
   "execution_count": 5,
   "metadata": {},
   "outputs": [],
   "source": [
    "df = pd.read_csv(\"Chemical_descriptors.csv\")"
   ]
  },
  {
   "cell_type": "code",
   "execution_count": 6,
   "metadata": {},
   "outputs": [
    {
     "data": {
      "text/html": [
       "<div>\n",
       "<style scoped>\n",
       "    .dataframe tbody tr th:only-of-type {\n",
       "        vertical-align: middle;\n",
       "    }\n",
       "\n",
       "    .dataframe tbody tr th {\n",
       "        vertical-align: top;\n",
       "    }\n",
       "\n",
       "    .dataframe thead th {\n",
       "        text-align: right;\n",
       "    }\n",
       "</style>\n",
       "<table border=\"1\" class=\"dataframe\">\n",
       "  <thead>\n",
       "    <tr style=\"text-align: right;\">\n",
       "      <th></th>\n",
       "      <th>Unnamed: 0</th>\n",
       "      <th>#ID</th>\n",
       "      <th>name</th>\n",
       "      <th>reference</th>\n",
       "      <th>formula</th>\n",
       "      <th>charge</th>\n",
       "      <th>mass</th>\n",
       "      <th>InChI</th>\n",
       "      <th>InChIKey</th>\n",
       "      <th>SMILES</th>\n",
       "      <th>...</th>\n",
       "      <th>fr_sulfone</th>\n",
       "      <th>fr_term_acetylene</th>\n",
       "      <th>fr_tetrazole</th>\n",
       "      <th>fr_thiazole</th>\n",
       "      <th>fr_thiocyan</th>\n",
       "      <th>fr_thiophene</th>\n",
       "      <th>fr_unbrch_alkane</th>\n",
       "      <th>fr_urea</th>\n",
       "      <th>BiGG</th>\n",
       "      <th>Species_ID</th>\n",
       "    </tr>\n",
       "  </thead>\n",
       "  <tbody>\n",
       "    <tr>\n",
       "      <th>50</th>\n",
       "      <td>826038</td>\n",
       "      <td>MNXM77</td>\n",
       "      <td>dihydroxyacetone phosphate</td>\n",
       "      <td>chebi:57642</td>\n",
       "      <td>C3H5O6P</td>\n",
       "      <td>-2.0</td>\n",
       "      <td>167.98347</td>\n",
       "      <td>InChI=1S/C3H7O6P/c4-1-3(5)2-9-10(6,7)8/h4H,1-2...</td>\n",
       "      <td>InChIKey=GNGACRATGGDKBX-UHFFFAOYSA-L</td>\n",
       "      <td>O=C(CO)COP(=O)([O-])[O-]</td>\n",
       "      <td>...</td>\n",
       "      <td>0</td>\n",
       "      <td>0</td>\n",
       "      <td>0</td>\n",
       "      <td>0</td>\n",
       "      <td>0</td>\n",
       "      <td>0</td>\n",
       "      <td>0</td>\n",
       "      <td>0</td>\n",
       "      <td>dhap</td>\n",
       "      <td>M_dhap_c</td>\n",
       "    </tr>\n",
       "    <tr>\n",
       "      <th>51</th>\n",
       "      <td>856684</td>\n",
       "      <td>MNXM8</td>\n",
       "      <td>NAD(+)</td>\n",
       "      <td>chebi:57540</td>\n",
       "      <td>C21H26N7O14P2</td>\n",
       "      <td>-1.0</td>\n",
       "      <td>662.10185</td>\n",
       "      <td>InChI=1S/C21H27N7O14P2/c22-17-12-19(25-7-24-17...</td>\n",
       "      <td>InChIKey=BAWFJGJZGIEFAR-NNYOXOHSSA-M</td>\n",
       "      <td>NC(=O)c1ccc[n+]([C@@H]2O[C@H](COP(=O)([O-])OP(...</td>\n",
       "      <td>...</td>\n",
       "      <td>0</td>\n",
       "      <td>0</td>\n",
       "      <td>0</td>\n",
       "      <td>0</td>\n",
       "      <td>0</td>\n",
       "      <td>0</td>\n",
       "      <td>0</td>\n",
       "      <td>0</td>\n",
       "      <td>f6p</td>\n",
       "      <td>M_f6p_c</td>\n",
       "    </tr>\n",
       "    <tr>\n",
       "      <th>52</th>\n",
       "      <td>961123</td>\n",
       "      <td>MNXM89661</td>\n",
       "      <td>isocitrate(3-)</td>\n",
       "      <td>chebi:16087</td>\n",
       "      <td>C6H5O7</td>\n",
       "      <td>-3.0</td>\n",
       "      <td>189.00517</td>\n",
       "      <td>InChI=1S/C6H8O7/c7-3(8)1-2(5(10)11)4(9)6(12)13...</td>\n",
       "      <td>InChIKey=ODBLHEXUDAPZAU-UHFFFAOYSA-K</td>\n",
       "      <td>O=C([O-])CC(C(=O)[O-])C(O)C(=O)[O-]</td>\n",
       "      <td>...</td>\n",
       "      <td>0</td>\n",
       "      <td>0</td>\n",
       "      <td>0</td>\n",
       "      <td>0</td>\n",
       "      <td>0</td>\n",
       "      <td>0</td>\n",
       "      <td>0</td>\n",
       "      <td>0</td>\n",
       "      <td>icit</td>\n",
       "      <td>M_icit_c</td>\n",
       "    </tr>\n",
       "    <tr>\n",
       "      <th>53</th>\n",
       "      <td>964543</td>\n",
       "      <td>MNXM9</td>\n",
       "      <td>phosphate</td>\n",
       "      <td>chebi:43474</td>\n",
       "      <td>HO4P</td>\n",
       "      <td>-2.0</td>\n",
       "      <td>95.96234</td>\n",
       "      <td>InChI=1S/H3O4P/c1-5(2,3)4/h(H3,1,2,3,4)/p-2</td>\n",
       "      <td>InChIKey=NBIIXXVUZAFLBC-UHFFFAOYSA-L</td>\n",
       "      <td>O=P([O-])([O-])O</td>\n",
       "      <td>...</td>\n",
       "      <td>0</td>\n",
       "      <td>0</td>\n",
       "      <td>0</td>\n",
       "      <td>0</td>\n",
       "      <td>0</td>\n",
       "      <td>0</td>\n",
       "      <td>0</td>\n",
       "      <td>0</td>\n",
       "      <td>pi</td>\n",
       "      <td>M_pi_c</td>\n",
       "    </tr>\n",
       "    <tr>\n",
       "      <th>54</th>\n",
       "      <td>1066989</td>\n",
       "      <td>WATER</td>\n",
       "      <td>H2O</td>\n",
       "      <td>mnx:WATER</td>\n",
       "      <td>H2O</td>\n",
       "      <td>0.0</td>\n",
       "      <td>18.01056</td>\n",
       "      <td>InChI=1S/H2O/h1H2</td>\n",
       "      <td>InChIKey=XLYOFNOQVPJJNP-UHFFFAOYSA-N</td>\n",
       "      <td>[H]O[H]</td>\n",
       "      <td>...</td>\n",
       "      <td>0</td>\n",
       "      <td>0</td>\n",
       "      <td>0</td>\n",
       "      <td>0</td>\n",
       "      <td>0</td>\n",
       "      <td>0</td>\n",
       "      <td>0</td>\n",
       "      <td>0</td>\n",
       "      <td>h20</td>\n",
       "      <td>M_h2o_c</td>\n",
       "    </tr>\n",
       "  </tbody>\n",
       "</table>\n",
       "<p>5 rows × 220 columns</p>\n",
       "</div>"
      ],
      "text/plain": [
       "    Unnamed: 0        #ID                        name    reference  \\\n",
       "50      826038     MNXM77  dihydroxyacetone phosphate  chebi:57642   \n",
       "51      856684      MNXM8                      NAD(+)  chebi:57540   \n",
       "52      961123  MNXM89661              isocitrate(3-)  chebi:16087   \n",
       "53      964543      MNXM9                   phosphate  chebi:43474   \n",
       "54     1066989      WATER                         H2O    mnx:WATER   \n",
       "\n",
       "          formula  charge       mass  \\\n",
       "50        C3H5O6P    -2.0  167.98347   \n",
       "51  C21H26N7O14P2    -1.0  662.10185   \n",
       "52         C6H5O7    -3.0  189.00517   \n",
       "53           HO4P    -2.0   95.96234   \n",
       "54            H2O     0.0   18.01056   \n",
       "\n",
       "                                                InChI  \\\n",
       "50  InChI=1S/C3H7O6P/c4-1-3(5)2-9-10(6,7)8/h4H,1-2...   \n",
       "51  InChI=1S/C21H27N7O14P2/c22-17-12-19(25-7-24-17...   \n",
       "52  InChI=1S/C6H8O7/c7-3(8)1-2(5(10)11)4(9)6(12)13...   \n",
       "53        InChI=1S/H3O4P/c1-5(2,3)4/h(H3,1,2,3,4)/p-2   \n",
       "54                                  InChI=1S/H2O/h1H2   \n",
       "\n",
       "                                InChIKey  \\\n",
       "50  InChIKey=GNGACRATGGDKBX-UHFFFAOYSA-L   \n",
       "51  InChIKey=BAWFJGJZGIEFAR-NNYOXOHSSA-M   \n",
       "52  InChIKey=ODBLHEXUDAPZAU-UHFFFAOYSA-K   \n",
       "53  InChIKey=NBIIXXVUZAFLBC-UHFFFAOYSA-L   \n",
       "54  InChIKey=XLYOFNOQVPJJNP-UHFFFAOYSA-N   \n",
       "\n",
       "                                               SMILES  ...  fr_sulfone  \\\n",
       "50                           O=C(CO)COP(=O)([O-])[O-]  ...           0   \n",
       "51  NC(=O)c1ccc[n+]([C@@H]2O[C@H](COP(=O)([O-])OP(...  ...           0   \n",
       "52                O=C([O-])CC(C(=O)[O-])C(O)C(=O)[O-]  ...           0   \n",
       "53                                   O=P([O-])([O-])O  ...           0   \n",
       "54                                            [H]O[H]  ...           0   \n",
       "\n",
       "    fr_term_acetylene  fr_tetrazole  fr_thiazole  fr_thiocyan  fr_thiophene  \\\n",
       "50                  0             0            0            0             0   \n",
       "51                  0             0            0            0             0   \n",
       "52                  0             0            0            0             0   \n",
       "53                  0             0            0            0             0   \n",
       "54                  0             0            0            0             0   \n",
       "\n",
       "    fr_unbrch_alkane  fr_urea  BiGG  Species_ID  \n",
       "50                 0        0  dhap    M_dhap_c  \n",
       "51                 0        0   f6p     M_f6p_c  \n",
       "52                 0        0  icit    M_icit_c  \n",
       "53                 0        0    pi      M_pi_c  \n",
       "54                 0        0   h20     M_h2o_c  \n",
       "\n",
       "[5 rows x 220 columns]"
      ]
     },
     "execution_count": 6,
     "metadata": {},
     "output_type": "execute_result"
    }
   ],
   "source": [
    "df.tail()"
   ]
  },
  {
   "cell_type": "code",
   "execution_count": 7,
   "metadata": {},
   "outputs": [
    {
     "data": {
      "text/plain": [
       "Index(['Unnamed: 0', '#ID', 'name', 'reference', 'formula', 'charge', 'mass',\n",
       "       'InChI', 'InChIKey', 'SMILES',\n",
       "       ...\n",
       "       'fr_sulfone', 'fr_term_acetylene', 'fr_tetrazole', 'fr_thiazole',\n",
       "       'fr_thiocyan', 'fr_thiophene', 'fr_unbrch_alkane', 'fr_urea', 'BiGG',\n",
       "       'Species_ID'],\n",
       "      dtype='object', length=220)"
      ]
     },
     "execution_count": 7,
     "metadata": {},
     "output_type": "execute_result"
    }
   ],
   "source": [
    "df.columns"
   ]
  },
  {
   "cell_type": "markdown",
   "metadata": {},
   "source": [
    "## For testing purposes: reading only the csv with RDKit numericals"
   ]
  },
  {
   "cell_type": "code",
   "execution_count": 8,
   "metadata": {},
   "outputs": [],
   "source": [
    "df2 = pd.read_csv(\"chemical_properties.csv\")\n",
    "xx = df.loc[:, df2.columns].values"
   ]
  },
  {
   "cell_type": "code",
   "execution_count": 9,
   "metadata": {},
   "outputs": [],
   "source": [
    "xx = StandardScaler().fit_transform(xx)"
   ]
  },
  {
   "cell_type": "code",
   "execution_count": 22,
   "metadata": {},
   "outputs": [
    {
     "data": {
      "text/plain": [
       "(55, 208)"
      ]
     },
     "execution_count": 22,
     "metadata": {},
     "output_type": "execute_result"
    }
   ],
   "source": [
    "xx.shape"
   ]
  },
  {
   "cell_type": "code",
   "execution_count": 23,
   "metadata": {},
   "outputs": [
    {
     "data": {
      "text/plain": [
       "2.7173290812503834e-19"
      ]
     },
     "execution_count": 23,
     "metadata": {},
     "output_type": "execute_result"
    }
   ],
   "source": [
    "np.mean(xx)"
   ]
  },
  {
   "cell_type": "code",
   "execution_count": 24,
   "metadata": {},
   "outputs": [
    {
     "data": {
      "text/plain": [
       "(2.7173290812503834e-19, 0.8492077756084468)"
      ]
     },
     "execution_count": 24,
     "metadata": {},
     "output_type": "execute_result"
    }
   ],
   "source": [
    "np.mean(xx), np.std(xx)"
   ]
  },
  {
   "cell_type": "code",
   "execution_count": 25,
   "metadata": {},
   "outputs": [],
   "source": [
    "feat_cols = [\"feature\" +str(i) for i in range(xx.shape[1])]"
   ]
  },
  {
   "cell_type": "code",
   "execution_count": 26,
   "metadata": {},
   "outputs": [],
   "source": [
    "normalized_descriptors = pd.DataFrame(xx, columns = feat_cols)"
   ]
  },
  {
   "cell_type": "code",
   "execution_count": 27,
   "metadata": {},
   "outputs": [
    {
     "data": {
      "text/html": [
       "<div>\n",
       "<style scoped>\n",
       "    .dataframe tbody tr th:only-of-type {\n",
       "        vertical-align: middle;\n",
       "    }\n",
       "\n",
       "    .dataframe tbody tr th {\n",
       "        vertical-align: top;\n",
       "    }\n",
       "\n",
       "    .dataframe thead th {\n",
       "        text-align: right;\n",
       "    }\n",
       "</style>\n",
       "<table border=\"1\" class=\"dataframe\">\n",
       "  <thead>\n",
       "    <tr style=\"text-align: right;\">\n",
       "      <th></th>\n",
       "      <th>feature0</th>\n",
       "      <th>feature1</th>\n",
       "      <th>feature2</th>\n",
       "      <th>feature3</th>\n",
       "      <th>feature4</th>\n",
       "      <th>feature5</th>\n",
       "      <th>feature6</th>\n",
       "      <th>feature7</th>\n",
       "      <th>feature8</th>\n",
       "      <th>feature9</th>\n",
       "      <th>...</th>\n",
       "      <th>feature198</th>\n",
       "      <th>feature199</th>\n",
       "      <th>feature200</th>\n",
       "      <th>feature201</th>\n",
       "      <th>feature202</th>\n",
       "      <th>feature203</th>\n",
       "      <th>feature204</th>\n",
       "      <th>feature205</th>\n",
       "      <th>feature206</th>\n",
       "      <th>feature207</th>\n",
       "    </tr>\n",
       "  </thead>\n",
       "  <tbody>\n",
       "    <tr>\n",
       "      <th>50</th>\n",
       "      <td>0.274190</td>\n",
       "      <td>-0.788322</td>\n",
       "      <td>0.274190</td>\n",
       "      <td>-0.046420</td>\n",
       "      <td>1.105405</td>\n",
       "      <td>-0.312463</td>\n",
       "      <td>-0.304509</td>\n",
       "      <td>-0.312384</td>\n",
       "      <td>-0.341493</td>\n",
       "      <td>0.0</td>\n",
       "      <td>...</td>\n",
       "      <td>-0.194257</td>\n",
       "      <td>0.0</td>\n",
       "      <td>0.0</td>\n",
       "      <td>0.0</td>\n",
       "      <td>0.0</td>\n",
       "      <td>0.0</td>\n",
       "      <td>0.0</td>\n",
       "      <td>0.0</td>\n",
       "      <td>-0.194257</td>\n",
       "      <td>0.0</td>\n",
       "    </tr>\n",
       "    <tr>\n",
       "      <th>51</th>\n",
       "      <td>1.045625</td>\n",
       "      <td>-0.975402</td>\n",
       "      <td>1.045625</td>\n",
       "      <td>-0.562720</td>\n",
       "      <td>-2.127937</td>\n",
       "      <td>1.722894</td>\n",
       "      <td>1.749879</td>\n",
       "      <td>1.723049</td>\n",
       "      <td>1.680505</td>\n",
       "      <td>0.0</td>\n",
       "      <td>...</td>\n",
       "      <td>-0.194257</td>\n",
       "      <td>0.0</td>\n",
       "      <td>0.0</td>\n",
       "      <td>0.0</td>\n",
       "      <td>0.0</td>\n",
       "      <td>0.0</td>\n",
       "      <td>0.0</td>\n",
       "      <td>0.0</td>\n",
       "      <td>-0.194257</td>\n",
       "      <td>0.0</td>\n",
       "    </tr>\n",
       "    <tr>\n",
       "      <th>52</th>\n",
       "      <td>0.288756</td>\n",
       "      <td>0.095961</td>\n",
       "      <td>0.288756</td>\n",
       "      <td>0.154111</td>\n",
       "      <td>1.059787</td>\n",
       "      <td>-0.225768</td>\n",
       "      <td>-0.213089</td>\n",
       "      <td>-0.225789</td>\n",
       "      <td>-0.184226</td>\n",
       "      <td>0.0</td>\n",
       "      <td>...</td>\n",
       "      <td>-0.194257</td>\n",
       "      <td>0.0</td>\n",
       "      <td>0.0</td>\n",
       "      <td>0.0</td>\n",
       "      <td>0.0</td>\n",
       "      <td>0.0</td>\n",
       "      <td>0.0</td>\n",
       "      <td>0.0</td>\n",
       "      <td>-0.194257</td>\n",
       "      <td>0.0</td>\n",
       "    </tr>\n",
       "    <tr>\n",
       "      <th>53</th>\n",
       "      <td>-0.208882</td>\n",
       "      <td>-0.813067</td>\n",
       "      <td>-0.208882</td>\n",
       "      <td>2.756306</td>\n",
       "      <td>0.223384</td>\n",
       "      <td>-0.609145</td>\n",
       "      <td>-0.599856</td>\n",
       "      <td>-0.609062</td>\n",
       "      <td>-0.656026</td>\n",
       "      <td>0.0</td>\n",
       "      <td>...</td>\n",
       "      <td>-0.194257</td>\n",
       "      <td>0.0</td>\n",
       "      <td>0.0</td>\n",
       "      <td>0.0</td>\n",
       "      <td>0.0</td>\n",
       "      <td>0.0</td>\n",
       "      <td>0.0</td>\n",
       "      <td>0.0</td>\n",
       "      <td>-0.194257</td>\n",
       "      <td>0.0</td>\n",
       "    </tr>\n",
       "    <tr>\n",
       "      <th>54</th>\n",
       "      <td>-3.144795</td>\n",
       "      <td>0.901265</td>\n",
       "      <td>-3.144795</td>\n",
       "      <td>-0.588883</td>\n",
       "      <td>0.074705</td>\n",
       "      <td>-0.930117</td>\n",
       "      <td>-0.942698</td>\n",
       "      <td>-0.930171</td>\n",
       "      <td>-0.925626</td>\n",
       "      <td>0.0</td>\n",
       "      <td>...</td>\n",
       "      <td>-0.194257</td>\n",
       "      <td>0.0</td>\n",
       "      <td>0.0</td>\n",
       "      <td>0.0</td>\n",
       "      <td>0.0</td>\n",
       "      <td>0.0</td>\n",
       "      <td>0.0</td>\n",
       "      <td>0.0</td>\n",
       "      <td>-0.194257</td>\n",
       "      <td>0.0</td>\n",
       "    </tr>\n",
       "  </tbody>\n",
       "</table>\n",
       "<p>5 rows × 208 columns</p>\n",
       "</div>"
      ],
      "text/plain": [
       "    feature0  feature1  feature2  feature3  feature4  feature5  feature6  \\\n",
       "50  0.274190 -0.788322  0.274190 -0.046420  1.105405 -0.312463 -0.304509   \n",
       "51  1.045625 -0.975402  1.045625 -0.562720 -2.127937  1.722894  1.749879   \n",
       "52  0.288756  0.095961  0.288756  0.154111  1.059787 -0.225768 -0.213089   \n",
       "53 -0.208882 -0.813067 -0.208882  2.756306  0.223384 -0.609145 -0.599856   \n",
       "54 -3.144795  0.901265 -3.144795 -0.588883  0.074705 -0.930117 -0.942698   \n",
       "\n",
       "    feature7  feature8  feature9  ...  feature198  feature199  feature200  \\\n",
       "50 -0.312384 -0.341493       0.0  ...   -0.194257         0.0         0.0   \n",
       "51  1.723049  1.680505       0.0  ...   -0.194257         0.0         0.0   \n",
       "52 -0.225789 -0.184226       0.0  ...   -0.194257         0.0         0.0   \n",
       "53 -0.609062 -0.656026       0.0  ...   -0.194257         0.0         0.0   \n",
       "54 -0.930171 -0.925626       0.0  ...   -0.194257         0.0         0.0   \n",
       "\n",
       "    feature201  feature202  feature203  feature204  feature205  feature206  \\\n",
       "50         0.0         0.0         0.0         0.0         0.0   -0.194257   \n",
       "51         0.0         0.0         0.0         0.0         0.0   -0.194257   \n",
       "52         0.0         0.0         0.0         0.0         0.0   -0.194257   \n",
       "53         0.0         0.0         0.0         0.0         0.0   -0.194257   \n",
       "54         0.0         0.0         0.0         0.0         0.0   -0.194257   \n",
       "\n",
       "    feature207  \n",
       "50         0.0  \n",
       "51         0.0  \n",
       "52         0.0  \n",
       "53         0.0  \n",
       "54         0.0  \n",
       "\n",
       "[5 rows x 208 columns]"
      ]
     },
     "execution_count": 27,
     "metadata": {},
     "output_type": "execute_result"
    }
   ],
   "source": [
    "normalized_descriptors.tail()"
   ]
  },
  {
   "cell_type": "code",
   "execution_count": 28,
   "metadata": {},
   "outputs": [
    {
     "data": {
      "text/html": [
       "<div>\n",
       "<style scoped>\n",
       "    .dataframe tbody tr th:only-of-type {\n",
       "        vertical-align: middle;\n",
       "    }\n",
       "\n",
       "    .dataframe tbody tr th {\n",
       "        vertical-align: top;\n",
       "    }\n",
       "\n",
       "    .dataframe thead th {\n",
       "        text-align: right;\n",
       "    }\n",
       "</style>\n",
       "<table border=\"1\" class=\"dataframe\">\n",
       "  <thead>\n",
       "    <tr style=\"text-align: right;\">\n",
       "      <th></th>\n",
       "      <th>feature0</th>\n",
       "      <th>feature1</th>\n",
       "      <th>feature2</th>\n",
       "      <th>feature3</th>\n",
       "      <th>feature4</th>\n",
       "      <th>feature5</th>\n",
       "      <th>feature6</th>\n",
       "      <th>feature7</th>\n",
       "      <th>feature8</th>\n",
       "      <th>feature9</th>\n",
       "      <th>...</th>\n",
       "      <th>feature198</th>\n",
       "      <th>feature199</th>\n",
       "      <th>feature200</th>\n",
       "      <th>feature201</th>\n",
       "      <th>feature202</th>\n",
       "      <th>feature203</th>\n",
       "      <th>feature204</th>\n",
       "      <th>feature205</th>\n",
       "      <th>feature206</th>\n",
       "      <th>feature207</th>\n",
       "    </tr>\n",
       "  </thead>\n",
       "  <tbody>\n",
       "    <tr>\n",
       "      <th>0</th>\n",
       "      <td>-3.144795</td>\n",
       "      <td>0.901265</td>\n",
       "      <td>-3.144795</td>\n",
       "      <td>-0.588883</td>\n",
       "      <td>0.190500</td>\n",
       "      <td>-1.000135</td>\n",
       "      <td>-1.012155</td>\n",
       "      <td>-1.000213</td>\n",
       "      <td>-1.015492</td>\n",
       "      <td>0.0</td>\n",
       "      <td>...</td>\n",
       "      <td>-0.194257</td>\n",
       "      <td>0.0</td>\n",
       "      <td>0.0</td>\n",
       "      <td>0.0</td>\n",
       "      <td>0.0</td>\n",
       "      <td>0.0</td>\n",
       "      <td>0.0</td>\n",
       "      <td>0.0</td>\n",
       "      <td>-0.194257</td>\n",
       "      <td>0.0</td>\n",
       "    </tr>\n",
       "    <tr>\n",
       "      <th>1</th>\n",
       "      <td>-3.144795</td>\n",
       "      <td>0.901265</td>\n",
       "      <td>-3.144795</td>\n",
       "      <td>-0.588883</td>\n",
       "      <td>0.190500</td>\n",
       "      <td>-1.000135</td>\n",
       "      <td>-1.012155</td>\n",
       "      <td>-1.000213</td>\n",
       "      <td>-1.015492</td>\n",
       "      <td>0.0</td>\n",
       "      <td>...</td>\n",
       "      <td>-0.194257</td>\n",
       "      <td>0.0</td>\n",
       "      <td>0.0</td>\n",
       "      <td>0.0</td>\n",
       "      <td>0.0</td>\n",
       "      <td>0.0</td>\n",
       "      <td>0.0</td>\n",
       "      <td>0.0</td>\n",
       "      <td>-0.194257</td>\n",
       "      <td>0.0</td>\n",
       "    </tr>\n",
       "    <tr>\n",
       "      <th>2</th>\n",
       "      <td>1.053320</td>\n",
       "      <td>-0.973926</td>\n",
       "      <td>1.053320</td>\n",
       "      <td>-0.560454</td>\n",
       "      <td>-1.931218</td>\n",
       "      <td>1.727044</td>\n",
       "      <td>1.749879</td>\n",
       "      <td>1.727203</td>\n",
       "      <td>1.702972</td>\n",
       "      <td>0.0</td>\n",
       "      <td>...</td>\n",
       "      <td>-0.194257</td>\n",
       "      <td>0.0</td>\n",
       "      <td>0.0</td>\n",
       "      <td>0.0</td>\n",
       "      <td>0.0</td>\n",
       "      <td>0.0</td>\n",
       "      <td>0.0</td>\n",
       "      <td>0.0</td>\n",
       "      <td>-0.194257</td>\n",
       "      <td>0.0</td>\n",
       "    </tr>\n",
       "    <tr>\n",
       "      <th>3</th>\n",
       "      <td>0.248512</td>\n",
       "      <td>0.276816</td>\n",
       "      <td>0.248512</td>\n",
       "      <td>-0.495157</td>\n",
       "      <td>0.583200</td>\n",
       "      <td>-0.299935</td>\n",
       "      <td>-0.282546</td>\n",
       "      <td>-0.299980</td>\n",
       "      <td>-0.274093</td>\n",
       "      <td>0.0</td>\n",
       "      <td>...</td>\n",
       "      <td>-0.194257</td>\n",
       "      <td>0.0</td>\n",
       "      <td>0.0</td>\n",
       "      <td>0.0</td>\n",
       "      <td>0.0</td>\n",
       "      <td>0.0</td>\n",
       "      <td>0.0</td>\n",
       "      <td>0.0</td>\n",
       "      <td>-0.194257</td>\n",
       "      <td>0.0</td>\n",
       "    </tr>\n",
       "    <tr>\n",
       "      <th>4</th>\n",
       "      <td>1.120455</td>\n",
       "      <td>-1.040375</td>\n",
       "      <td>1.120455</td>\n",
       "      <td>-0.586624</td>\n",
       "      <td>-2.160976</td>\n",
       "      <td>2.312133</td>\n",
       "      <td>2.336223</td>\n",
       "      <td>2.312091</td>\n",
       "      <td>2.219705</td>\n",
       "      <td>0.0</td>\n",
       "      <td>...</td>\n",
       "      <td>5.147815</td>\n",
       "      <td>0.0</td>\n",
       "      <td>0.0</td>\n",
       "      <td>0.0</td>\n",
       "      <td>0.0</td>\n",
       "      <td>0.0</td>\n",
       "      <td>0.0</td>\n",
       "      <td>0.0</td>\n",
       "      <td>5.147815</td>\n",
       "      <td>0.0</td>\n",
       "    </tr>\n",
       "  </tbody>\n",
       "</table>\n",
       "<p>5 rows × 208 columns</p>\n",
       "</div>"
      ],
      "text/plain": [
       "   feature0  feature1  feature2  feature3  feature4  feature5  feature6  \\\n",
       "0 -3.144795  0.901265 -3.144795 -0.588883  0.190500 -1.000135 -1.012155   \n",
       "1 -3.144795  0.901265 -3.144795 -0.588883  0.190500 -1.000135 -1.012155   \n",
       "2  1.053320 -0.973926  1.053320 -0.560454 -1.931218  1.727044  1.749879   \n",
       "3  0.248512  0.276816  0.248512 -0.495157  0.583200 -0.299935 -0.282546   \n",
       "4  1.120455 -1.040375  1.120455 -0.586624 -2.160976  2.312133  2.336223   \n",
       "\n",
       "   feature7  feature8  feature9  ...  feature198  feature199  feature200  \\\n",
       "0 -1.000213 -1.015492       0.0  ...   -0.194257         0.0         0.0   \n",
       "1 -1.000213 -1.015492       0.0  ...   -0.194257         0.0         0.0   \n",
       "2  1.727203  1.702972       0.0  ...   -0.194257         0.0         0.0   \n",
       "3 -0.299980 -0.274093       0.0  ...   -0.194257         0.0         0.0   \n",
       "4  2.312091  2.219705       0.0  ...    5.147815         0.0         0.0   \n",
       "\n",
       "   feature201  feature202  feature203  feature204  feature205  feature206  \\\n",
       "0         0.0         0.0         0.0         0.0         0.0   -0.194257   \n",
       "1         0.0         0.0         0.0         0.0         0.0   -0.194257   \n",
       "2         0.0         0.0         0.0         0.0         0.0   -0.194257   \n",
       "3         0.0         0.0         0.0         0.0         0.0   -0.194257   \n",
       "4         0.0         0.0         0.0         0.0         0.0    5.147815   \n",
       "\n",
       "   feature207  \n",
       "0         0.0  \n",
       "1         0.0  \n",
       "2         0.0  \n",
       "3         0.0  \n",
       "4         0.0  \n",
       "\n",
       "[5 rows x 208 columns]"
      ]
     },
     "execution_count": 28,
     "metadata": {},
     "output_type": "execute_result"
    }
   ],
   "source": [
    "normalized_descriptors.head()"
   ]
  },
  {
   "cell_type": "code",
   "execution_count": 39,
   "metadata": {},
   "outputs": [],
   "source": [
    "pca_descriptors = PCA(n_components= 2)\n",
    "principalComponents_descriptors = pca_descriptors.fit_transform(normalized_descriptors)"
   ]
  },
  {
   "cell_type": "code",
   "execution_count": 41,
   "metadata": {},
   "outputs": [
    {
     "data": {
      "text/plain": [
       "PCA(n_components=2)"
      ]
     },
     "execution_count": 41,
     "metadata": {},
     "output_type": "execute_result"
    }
   ],
   "source": [
    "pca_descriptors."
   ]
  },
  {
   "cell_type": "code",
   "execution_count": 18,
   "metadata": {},
   "outputs": [],
   "source": [
    "principal_descriptors_df = pd.DataFrame(data= principalComponents_descriptors, columns= [\"principal component 1\", \"principal comonent 2\"])"
   ]
  },
  {
   "cell_type": "code",
   "execution_count": 37,
   "metadata": {},
   "outputs": [
    {
     "data": {
      "text/plain": [
       "(-5.0, 5.0)"
      ]
     },
     "execution_count": 37,
     "metadata": {},
     "output_type": "execute_result"
    },
    {
     "data": {
      "image/png": "[encoded data removed]",
      "text/plain": [
       "<Figure size 432x288 with 1 Axes>"
      ]
     },
     "metadata": {
      "needs_background": "light"
     },
     "output_type": "display_data"
    }
   ],
   "source": [
    "#principal_descriptors_df.tail()\n",
    "ax  = principal_descriptors_df.plot.scatter(x = \"principal component 1\", y =\"principal comonent 2\")\n",
    "ax.set_ylim(-5, 5)"
   ]
  },
  {
   "cell_type": "code",
   "execution_count": 20,
   "metadata": {},
   "outputs": [
    {
     "name": "stdout",
     "output_type": "stream",
     "text": [
      "Explained variation per principal comonent: [70.8272724  25.24901201]\n"
     ]
    }
   ],
   "source": [
    "print(\"Explained variation per principal comonent: {}\".format(pca_descriptors.explained_variance_))"
   ]
  },
  {
   "cell_type": "code",
   "execution_count": 21,
   "metadata": {},
   "outputs": [
    {
     "data": {
      "text/plain": [
       "<matplotlib.collections.PathCollection at 0x190860099a0>"
      ]
     },
     "execution_count": 21,
     "metadata": {},
     "output_type": "execute_result"
    },
    {
     "data": {
      "text/plain": [
       "<Figure size 432x288 with 0 Axes>"
      ]
     },
     "metadata": {},
     "output_type": "display_data"
    },
    {
     "data": {
      "image/png": "[encoded data removed]",
      "text/plain": [
       "<Figure size 720x720 with 1 Axes>"
      ]
     },
     "metadata": {
      "needs_background": "light"
     },
     "output_type": "display_data"
    }
   ],
   "source": [
    "plt.figure()\n",
    "plt.figure(figsize=(10,10))\n",
    "plt.xticks(fontsize=12)\n",
    "plt.yticks(fontsize=14)\n",
    "plt.xlabel('Principal Component - 1',fontsize=20)\n",
    "plt.ylabel('Principal Component - 2',fontsize=20)\n",
    "plt.title(\"Principal Component RDkit generated chemical descriptors\",fontsize=20)\n",
    "\n",
    "colors = [\"r\", \"g\"]\n",
    "# target = # Something easy, like charge? inreplace = \"positive\" / \"negative\"\n",
    "plt.scatter(x =\"principal component 1\", y = \"principal component 2\")\n"
   ]
  },
  {
   "cell_type": "code",
   "execution_count": null,
   "metadata": {},
   "outputs": [],
   "source": []
  }
 ],
 "metadata": {
  "interpreter": {
   "hash": "478201df5069d2e6391cf65b23ce884d49c57ebe4f05640c641415e63946d634"
  },
  "kernelspec": {
   "display_name": "Python 3.9.7 64-bit ('rdkit': conda)",
   "language": "python",
   "name": "python3"
  },
  "language_info": {
   "codemirror_mode": {
    "name": "ipython",
    "version": 3
   },
   "file_extension": ".py",
   "mimetype": "text/x-python",
   "name": "python",
   "nbconvert_exporter": "python",
   "pygments_lexer": "ipython3",
   "version": "3.9.7"
  },
  "orig_nbformat": 4
 },
 "nbformat": 4,
 "nbformat_minor": 2
}
