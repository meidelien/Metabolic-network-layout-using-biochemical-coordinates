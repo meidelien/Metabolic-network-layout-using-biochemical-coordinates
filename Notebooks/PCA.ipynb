{
 "cells": [
  {
   "cell_type": "code",
   "execution_count": 1,
   "metadata": {},
   "outputs": [
    {
     "ename": "ModuleNotFoundError",
     "evalue": "No module named 'sklearn'",
     "output_type": "error",
     "traceback": [
      "\u001b[1;31m---------------------------------------------------------------------------\u001b[0m",
      "\u001b[1;31mModuleNotFoundError\u001b[0m                       Traceback (most recent call last)",
      "\u001b[1;32mc:\\GitHub\\Metabolic-network-layout-using-biochemical-coordinates\\Notebooks\\PCA.ipynb Cell 1'\u001b[0m in \u001b[0;36m<cell line: 3>\u001b[1;34m()\u001b[0m\n\u001b[0;32m      <a href='vscode-notebook-cell:/c%3A/GitHub/Metabolic-network-layout-using-biochemical-coordinates/Notebooks/PCA.ipynb#ch0000000?line=0'>1</a>\u001b[0m \u001b[39mimport\u001b[39;00m \u001b[39mnumpy\u001b[39;00m \u001b[39mas\u001b[39;00m \u001b[39mnp\u001b[39;00m\n\u001b[0;32m      <a href='vscode-notebook-cell:/c%3A/GitHub/Metabolic-network-layout-using-biochemical-coordinates/Notebooks/PCA.ipynb#ch0000000?line=1'>2</a>\u001b[0m \u001b[39mimport\u001b[39;00m \u001b[39mpandas\u001b[39;00m \u001b[39mas\u001b[39;00m \u001b[39mpd\u001b[39;00m\n\u001b[1;32m----> <a href='vscode-notebook-cell:/c%3A/GitHub/Metabolic-network-layout-using-biochemical-coordinates/Notebooks/PCA.ipynb#ch0000000?line=2'>3</a>\u001b[0m \u001b[39mimport\u001b[39;00m \u001b[39msklearn\u001b[39;00m\n\u001b[0;32m      <a href='vscode-notebook-cell:/c%3A/GitHub/Metabolic-network-layout-using-biochemical-coordinates/Notebooks/PCA.ipynb#ch0000000?line=3'>4</a>\u001b[0m \u001b[39mfrom\u001b[39;00m \u001b[39msklearn\u001b[39;00m\u001b[39m.\u001b[39;00m\u001b[39mdecomposition\u001b[39;00m \u001b[39mimport\u001b[39;00m PCA\n\u001b[0;32m      <a href='vscode-notebook-cell:/c%3A/GitHub/Metabolic-network-layout-using-biochemical-coordinates/Notebooks/PCA.ipynb#ch0000000?line=4'>5</a>\u001b[0m \u001b[39mfrom\u001b[39;00m \u001b[39msklearn\u001b[39;00m\u001b[39m.\u001b[39;00m\u001b[39mpreprocessing\u001b[39;00m \u001b[39mimport\u001b[39;00m StandardScaler\n",
      "\u001b[1;31mModuleNotFoundError\u001b[0m: No module named 'sklearn'"
     ]
    }
   ],
   "source": [
    "import numpy as np\n",
    "import pandas as pd\n",
    "import sklearn\n",
    "from sklearn.decomposition import PCA\n",
    "from sklearn.preprocessing import StandardScaler\n",
    "import matplotlib.pyplot as plt\n",
    "\n",
    "import sys\n",
    "import os\n",
    "\n",
    "# path = \"C:/Users/meide/Documents/GitHub/Master/data\"\n",
    "path = \"data/\"\n",
    "os.chdir(path)"
   ]
  },
  {
   "cell_type": "markdown",
   "metadata": {},
   "source": [
    "# Import your dataset of choice"
   ]
  },
  {
   "cell_type": "code",
   "execution_count": 3,
   "metadata": {},
   "outputs": [],
   "source": [
    "dfCore = pd.read_csv(\"chemical_properties_e_coli_core.csv\")\n",
    "# df1515_2 = pd.read_csv(\"Chemical_properties1515.csv\")\n",
    "# df1515_2 = pd.read_csv(\"https://raw.githubusercontent.com/meidelien/Metabolic-network-layout-using-biochemical-coordinates/main/data/Chemical_descriptors1515.csv\", usecols=[2,5,6] + list(range (10,218)), index_col=0)\n",
    "#df1515_2 = pd.read_csv(\"https://raw.githubusercontent.com/meidelien/Metabolic-network-layout-using-biochemical-coordinates/main/Notebooks/Chemical_descriptors1515.csv\")\n",
    "# dfID = pd.read_csv(\"https://raw.githubusercontent.com/meidelien/Metabolic-network-layout-using-biochemical-coordinates/main/data/Chemical_descriptors1515.csv\")\n",
    "# df1515 = pd.read_csv(\"https://raw.githubusercontent.com/meidelien/Metabolic-network-layout-using-biochemical-coordinates/main/data/1515_for_PCA.csv\")\n",
    "\n",
    "\n",
    "# df1515 = pd.read_csv(\"Calc_results.csv\")\n",
    "\n",
    "df1515 = pd.read_csv(\"Pruned_chem_desc1515_for_PCA.csv\")\n",
    "\n",
    "# BiGG = pd.read_csv(\"https://raw.githubusercontent.com/meidelien/Metabolic-network-layout-using-biochemical-coordinates/main/data/BiGG_mnxm2.csv\")\n"
   ]
  },
  {
   "cell_type": "code",
   "execution_count": 3,
   "metadata": {},
   "outputs": [],
   "source": [
    "import numpy as np\n",
    "\n",
    "# df1515.replace(np.nan, 0) # fml\n",
    "\n",
    "df1515[\"BCUT2D_MWHI\"] = df1515[\"BCUT2D_MWHI\"].replace(np.nan, 0)\n",
    "\n",
    "df1515[\"BCUT2D_MWLOW\"] = df1515[\"BCUT2D_MWLOW\"].replace(np.nan, 0)\n",
    "\n",
    "df1515[\"BCUT2D_CHGHI\"] = df1515[\"BCUT2D_CHGHI\"].replace(np.nan, 0)\n",
    "\n",
    "df1515[\"BCUT2D_LOGPHI\"] = df1515[\"BCUT2D_LOGPHI\"].replace(np.nan, 0)\n",
    "\n",
    "df1515[\"BCUT2D_LOGPLOW\"] = df1515[\"BCUT2D_LOGPLOW\"].replace(np.nan, 0)\n",
    "\n",
    "df1515[\"BCUT2D_CHGLO\"] = df1515[\"BCUT2D_CHGLO\"].replace(np.nan, 0)\n",
    "\n",
    "df1515[\"BCUT2D_MRHI\"] = df1515[\"BCUT2D_MRHI\"].replace(np.nan, 0)\n",
    "\n",
    "df1515[\"BCUT2D_MRLOW\"] = df1515[\"BCUT2D_MRLOW\"].replace(np.nan, 0)\n",
    "\n",
    "df1515[\"MaxPartialCharge\"] = df1515[\"MaxPartialCharge\"].replace(np.nan, 0)\n",
    "\n",
    "df1515[\"MinPartialCharge\"] = df1515[\"MinPartialCharge\"].replace(np.nan, 0)\n",
    "\n",
    "df1515[\"MaxAbsPartialCharge\"] = df1515[\"MaxAbsPartialCharge\"].replace(np.nan, 0)\n",
    "\n",
    "df1515[\"MinAbsPartialCharge\"] = df1515[\"MinAbsPartialCharge\"].replace(np.nan, 0)"
   ]
  },
  {
   "cell_type": "markdown",
   "metadata": {},
   "source": [
    "## Pop out the MNXM & BiGG columns before data transformation & plotting"
   ]
  },
  {
   "cell_type": "code",
   "execution_count": 4,
   "metadata": {},
   "outputs": [],
   "source": [
    "MNXM_list = df1515.pop(\"MNXM\")\n",
    "BiGG_list = df1515.pop(\"BiGG\")"
   ]
  },
  {
   "cell_type": "markdown",
   "metadata": {},
   "source": [
    "### Plotting components\n",
    "- `PCA plotting parameters`\n",
    "\n",
    " ```python:\n",
    "number_components = 20 # The number of components to plot. Cannot exceed the num of features in the imported dataset\n",
    "\n",
    "legend = variable # Changes which list or column feature to color data points as\n",
    "```\n",
    "- Legend variable examples \n",
    "- - BiGG_list\n",
    "  - df1515[\"mass\"]\n",
    "\n",
    "\n",
    "- Will save HTML plots in a folder called \"Plotly images\" "
   ]
  },
  {
   "cell_type": "code",
   "execution_count": 5,
   "metadata": {},
   "outputs": [
    {
     "name": "stdout",
     "output_type": "stream",
     "text": [
      "Attempting to write html GLHF 7.611066818237305\n",
      "HTMl write successful 8.157034873962402\n"
     ]
    }
   ],
   "source": [
    "import plotly.express as px\n",
    "import kaleido as kd\n",
    "import os\n",
    "import numpy as np\n",
    "import plotly.io as pio\n",
    "import time\n",
    "start_time = time.time()\n",
    "\n",
    "pio.kaleido.scope.default_format = \"svg\"\n",
    "\n",
    "\n",
    "# Lists RDkit computed features\n",
    "features = df1515.columns.values.tolist()\n",
    "\n",
    "# Remove the Name column from the feature list\n",
    "features.pop(0) \n",
    "\n",
    "\n",
    "\n",
    "xx = df1515.loc[:,df1515.columns].values # Get computed values from each feature\n",
    "xx = StandardScaler().fit_transform(df1515[features]) # Normalize data \n",
    "df = pd.DataFrame(xx, columns = features)  # Stitch it back together\n",
    "pca = PCA() # Instantiate PCA class,\n",
    "\n",
    "components = pca.fit_transform(df[features])    # \n",
    "labels = {\n",
    "    str(i): f\"PC {i+1} ({var:.1f}%)\"\n",
    "    for i, var in enumerate(pca.explained_variance_ratio_ * 100)\n",
    "}\n",
    "\n",
    "####### PARAMETERS ####### \n",
    "#  number_components \n",
    "#\n",
    "#  legend\n",
    "#  \n",
    "#######  #######   #######  \n",
    "number_components = 20\n",
    "legend = BiGG_list\n",
    "\n",
    "fig = px.scatter_matrix(\n",
    "    components,\n",
    "    labels = labels,\n",
    "    dimensions = range(number_components),  # Number of component, for the PCA set, linear behavior comes on component 5 (for the GEM) and gives descriptive (~ 80 %)\n",
    "    color = legend,  # Sets what each metabolite is colored by (<numerical feature> for gradient  & \"Name\" for labelling each metabolite as a  )\n",
    "    title = f\"Principal component analysis for metabolites in the iML1515 GEM <br><sup>{number_components} components</sup>\", #  Sets title, allows some html formatting tags\n",
    " \n",
    ")\n",
    "\n",
    "# Centers title\n",
    "fig.update_layout(title_x=0.5)\n",
    "\n",
    "\n",
    "fig.update_traces(diagonal_visible=False)\n",
    "fig.update_layout (\n",
    "    width = 2560,\n",
    "    height = 1440\n",
    ")\n",
    "\n",
    "\n",
    "# Changes the legend string\n",
    "fig.update_layout( \n",
    "    legend=dict(\n",
    "        title = \"Metabolites\", \n",
    "    )\n",
    ")\n",
    "\n",
    "\n",
    "# fig.add_annotation( # add a text callout with arrow\n",
    "   # text= \"big boi!\", x=\"NADH\", arrowhead=1, showarrow=True\n",
    "# )\n",
    "\n",
    "# Write_png() requires kaleido\n",
    "\n",
    "print(\"Attempting to write html GLHF %s\" % (time.time() - start_time))\n",
    "\n",
    "fig.write_html(f\"Plotly images\\PCA_{number_components}_test.html\")\n",
    "# fig.write_html(f\"Plotly images\\PCA_{number_components}_components_4K_MASS.html\")\n",
    "\n",
    "print(\"HTMl write successful %s\" % (time.time() - start_time))\n",
    "\n",
    "\n",
    "\n",
    "# fig.show()\n",
    "\n",
    "\n",
    "\n",
    "# print(\"Attempting to write image GLHF %s\" % (time.time() - start_time))\n",
    "\n",
    "# fig.write_image(f\"Plotly images\\PCA_{number_components}_components_5K.svg\", engine = \"kaleido\")\n",
    "\n",
    "# print(\"Image write successful %s\" % (time.time() - start_time))\n",
    "\n",
    "# print(\"Explained variation per principal component: {}\".format(pca.explained_variance_ * 100))"
   ]
  },
  {
   "cell_type": "code",
   "execution_count": 13,
   "metadata": {},
   "outputs": [
    {
     "name": "stdout",
     "output_type": "stream",
     "text": [
      "Attempting to write html GLHF 0.043993473052978516\n",
      "HTMl write successful 0.05699419975280762\n"
     ]
    }
   ],
   "source": [
    "import plotly.express as px\n",
    "import kaleido as kd\n",
    "import os\n",
    "import numpy as np\n",
    "import plotly.io as pio\n",
    "import time\n",
    "start_time = time.time()\n",
    "\n",
    "pio.kaleido.scope.default_format = \"svg\"\n",
    "\n",
    "\n",
    "# Lists RDkit computed features\n",
    "features = dfCore.columns.values.tolist()\n",
    "\n",
    "# Remove the Name column from the feature list\n",
    "# features.pop(0) \n",
    "\n",
    "\n",
    "\n",
    "xx = dfCore.loc[:,dfCore.columns].values # Get computed values from each feature\n",
    "xx = StandardScaler().fit_transform(dfCore[features]) # Normalize data \n",
    "df = pd.DataFrame(xx, columns = features)  # Stitch it back together\n",
    "pca = PCA() # Instantiate PCA class,\n",
    "\n",
    "components = pca.fit_transform(df[features])    # \n",
    "labels = {\n",
    "    str(i): f\"PC {i+1} ({var:.1f}%)\"\n",
    "    for i, var in enumerate(pca.explained_variance_ratio_ *100)\n",
    "}\n",
    "\n",
    "####### PARAMETERS ####### \n",
    "#  number_components \n",
    "#\n",
    "#  legend\n",
    "#  \n",
    "#######  #######   #######  \n",
    "number_components = 5\n",
    "legend = dfCore.ExactMolWt\n",
    "\n",
    "fig = px.scatter_matrix(\n",
    "    components,\n",
    "    labels = labels,\n",
    "    dimensions = range(number_components),  # Number of component, for the PCA set, linear behavior comes on component 5 (for the GEM) and gives descriptive (~ 80 %)\n",
    "    color = legend,  # Sets what each metabolite is colored by (<numerical feature> for gradient  & \"Name\" for labelling each metabolite as a  )\n",
    "    title = f\"Principal component analysis for metabolites in the E coli core GEM <br><sup>{number_components} components</sup>\", #  Sets title, allows some html formatting tags\n",
    " \n",
    ")\n",
    "\n",
    "# Centers title\n",
    "fig.update_layout(title_x=0.5)\n",
    "\n",
    "\n",
    "fig.update_traces(diagonal_visible=False)\n",
    "fig.update_layout (\n",
    "    width = 2560,\n",
    "    height = 1440\n",
    ")\n",
    "\n",
    "\n",
    "# Changes the legend string\n",
    "fig.update_layout( \n",
    "    legend=dict(\n",
    "        title = \"Metabolites\", \n",
    "    )\n",
    ")\n",
    "\n",
    "\n",
    "# fig.add_annotation( # add a text callout with arrow\n",
    "   # text= \"big boi!\", x=\"NADH\", arrowhead=1, showarrow=True\n",
    "# )\n",
    "\n",
    "# Write_png() requires kaleido\n",
    "\n",
    "print(\"Attempting to write html GLHF %s\" % (time.time() - start_time))\n",
    "\n",
    "fig.write_html(f\"Plotly images\\PCA_{number_components}_test.html\")\n",
    "# fig.write_html(f\"Plotly images\\PCA_{number_components}_components_4K_MASS.html\")\n",
    "\n",
    "print(\"HTMl write successful %s\" % (time.time() - start_time))\n",
    "\n",
    "\n",
    "\n",
    "# fig.show()\n",
    "\n",
    "\n",
    "\n",
    "# print(\"Attempting to write image GLHF %s\" % (time.time() - start_time))\n",
    "\n",
    "# fig.write_image(f\"Plotly images\\PCA_{number_components}_components_5K.svg\", engine = \"kaleido\")\n",
    "\n",
    "# print(\"Image write successful %s\" % (time.time() - start_time))\n",
    "\n",
    "# print(\"Explained variation per principal component: {}\".format(pca.explained_variance_ * 100))"
   ]
  },
  {
   "cell_type": "markdown",
   "metadata": {},
   "source": [
    "## For testing purposes: reading only the csv with RDKit numericals"
   ]
  },
  {
   "cell_type": "code",
   "execution_count": 6,
   "metadata": {},
   "outputs": [],
   "source": [
    "# df2 = pd.read_csv(\"chemical_properties.csv\")\n",
    "# xx = df.loc[:, df2.columns].values\n",
    "\n",
    "xx = df1515.loc[:,df1515.columns].values"
   ]
  },
  {
   "cell_type": "code",
   "execution_count": 7,
   "metadata": {},
   "outputs": [],
   "source": [
    "xx = StandardScaler().fit_transform(xx)"
   ]
  },
  {
   "cell_type": "markdown",
   "metadata": {},
   "source": []
  },
  {
   "cell_type": "code",
   "execution_count": 8,
   "metadata": {},
   "outputs": [
    {
     "data": {
      "text/plain": [
       "(963, 57)"
      ]
     },
     "execution_count": 8,
     "metadata": {},
     "output_type": "execute_result"
    }
   ],
   "source": [
    "xx.shape"
   ]
  },
  {
   "cell_type": "code",
   "execution_count": 9,
   "metadata": {},
   "outputs": [
    {
     "data": {
      "text/plain": [
       "-1.1261813049703725e-17"
      ]
     },
     "execution_count": 9,
     "metadata": {},
     "output_type": "execute_result"
    }
   ],
   "source": [
    "np.mean(xx)"
   ]
  },
  {
   "cell_type": "code",
   "execution_count": 10,
   "metadata": {},
   "outputs": [
    {
     "data": {
      "text/plain": [
       "(-1.1261813049703725e-17, 1.0)"
      ]
     },
     "execution_count": 10,
     "metadata": {},
     "output_type": "execute_result"
    }
   ],
   "source": [
    "np.mean(xx), np.std(xx)"
   ]
  },
  {
   "cell_type": "code",
   "execution_count": 11,
   "metadata": {},
   "outputs": [],
   "source": [
    "feat_cols = [\"feature\" +str(i) for i in range(xx.shape[1])]\n",
    "\n",
    "features = df1515.columns.values.tolist()\n",
    "feat_cols_name = [df1515.columns]"
   ]
  },
  {
   "cell_type": "code",
   "execution_count": 12,
   "metadata": {},
   "outputs": [],
   "source": [
    "feat_cols_name = [df1515.columns]\n",
    "# print(feat_cols_name)\n"
   ]
  },
  {
   "cell_type": "code",
   "execution_count": 13,
   "metadata": {},
   "outputs": [],
   "source": [
    "normalized_descriptors = pd.DataFrame(xx, columns = features)"
   ]
  },
  {
   "cell_type": "code",
   "execution_count": 14,
   "metadata": {},
   "outputs": [],
   "source": [
    "normalized_descriptors.insert(0, \"BiGG\", BiGG_list)"
   ]
  },
  {
   "cell_type": "code",
   "execution_count": 15,
   "metadata": {},
   "outputs": [],
   "source": [
    "normalized_descriptors.insert(1, \"MNXM\", MNXM_list)"
   ]
  },
  {
   "cell_type": "code",
   "execution_count": 16,
   "metadata": {},
   "outputs": [],
   "source": [
    "normalized_descriptors.to_csv(\"PyvisData_BiGG_MXNM.csv\", index = False)"
   ]
  },
  {
   "cell_type": "code",
   "execution_count": null,
   "metadata": {},
   "outputs": [],
   "source": [
    "# 2 components \n",
    "# pca_descriptors = PCA(n_components= 2)\n",
    "\n",
    "# 4 component\n",
    " \n",
    "\n",
    "\n",
    "# Pop out columns containing strings pls :))\n",
    "\n",
    "pca_descriptors = PCA(n_components= 4)\n",
    "\n",
    "PC_descriptors = pca_descriptors.fit_transform(normalized_descriptors)"
   ]
  },
  {
   "cell_type": "code",
   "execution_count": 22,
   "metadata": {},
   "outputs": [
    {
     "data": {
      "text/plain": [
       "PCA(n_components=4)"
      ]
     },
     "execution_count": 22,
     "metadata": {},
     "output_type": "execute_result"
    }
   ],
   "source": [
    "pca_descriptors"
   ]
  },
  {
   "cell_type": "code",
   "execution_count": 17,
   "metadata": {},
   "outputs": [],
   "source": [
    "# 2 Components\n",
    "PC_df = pd.DataFrame(data= PC_descriptors, columns= [\"PC1\", \"PC2\"])\n",
    "\n",
    "# 4 components\n",
    "# principal_descriptors_df = pd.DataFrame(data= PC_descriptors, columns= [\"PC1\", \"PC2\", \"PC3\", \"PC4\"])"
   ]
  },
  {
   "cell_type": "code",
   "execution_count": 18,
   "metadata": {},
   "outputs": [
    {
     "data": {
      "text/plain": [
       "(-5.0, 15.0)"
      ]
     },
     "execution_count": 18,
     "metadata": {},
     "output_type": "execute_result"
    },
    {
     "data": {
      "image/png": "[encoded data removed]",
      "text/plain": [
       "<Figure size 432x288 with 1 Axes>"
      ]
     },
     "metadata": {
      "needs_background": "light"
     },
     "output_type": "display_data"
    }
   ],
   "source": [
    "#principal_descriptors_df.tail()\n",
    "ax  = PC_df.plot.scatter(x = \"PC2\", y =\"PC1\")\n",
    "ax.set_ylim(-5, 15)\n"
   ]
  },
  {
   "cell_type": "code",
   "execution_count": 5,
   "metadata": {},
   "outputs": [
    {
     "ename": "NameError",
     "evalue": "name 'pca_descriptors' is not defined",
     "output_type": "error",
     "traceback": [
      "\u001b[1;31m---------------------------------------------------------------------------\u001b[0m",
      "\u001b[1;31mNameError\u001b[0m                                 Traceback (most recent call last)",
      "\u001b[1;32m~\\AppData\\Local\\Temp/ipykernel_2700/351338250.py\u001b[0m in \u001b[0;36m<module>\u001b[1;34m\u001b[0m\n\u001b[1;32m----> 1\u001b[1;33m \u001b[0mprint\u001b[0m\u001b[1;33m(\u001b[0m\u001b[1;34m\"Explained variation per principal component: {}\"\u001b[0m\u001b[1;33m.\u001b[0m\u001b[0mformat\u001b[0m\u001b[1;33m(\u001b[0m\u001b[0mpca_descriptors\u001b[0m\u001b[1;33m.\u001b[0m\u001b[0mexplained_variance_\u001b[0m\u001b[1;33m)\u001b[0m\u001b[1;33m)\u001b[0m\u001b[1;33m\u001b[0m\u001b[1;33m\u001b[0m\u001b[0m\n\u001b[0m",
      "\u001b[1;31mNameError\u001b[0m: name 'pca_descriptors' is not defined"
     ]
    }
   ],
   "source": [
    "print(\"Explained variation per principal component: {}\".format(pca_descriptors.explained_variance_))"
   ]
  },
  {
   "cell_type": "code",
   "execution_count": null,
   "metadata": {},
   "outputs": [
    {
     "data": {
      "text/plain": [
       "47.26876164"
      ]
     },
     "execution_count": 102,
     "metadata": {},
     "output_type": "execute_result"
    }
   ],
   "source": [
    "# a =  63.53175376 +  12.87115987 # + 10.33669742 + 9.44759513 #34.16290627 +  7.7769594\n",
    "a = 34.16290627 + 7.7769594 +  2.92142128 + 2.40747469\n",
    "a"
   ]
  },
  {
   "cell_type": "code",
   "execution_count": null,
   "metadata": {},
   "outputs": [],
   "source": [
    "import matplotlib.pyplot as plt\n",
    "import pandas as pd\n",
    "\n",
    "\n",
    "x  = PC_descriptors[\"PC1\"]\n",
    "y  = PC_descriptors[\"PC2\"]\n",
    "\n",
    "plt.scatter(x[:1], x[:,2], c=y)\n",
    "\n",
    "\n",
    "plt.show()"
   ]
  },
  {
   "cell_type": "code",
   "execution_count": null,
   "metadata": {},
   "outputs": [
    {
     "data": {
      "image/png": "[encoded data removed]",
      "text/plain": [
       "<Figure size 1008x648 with 1 Axes>"
      ]
     },
     "metadata": {
      "needs_background": "light"
     },
     "output_type": "display_data"
    }
   ],
   "source": [
    "import numpy as np\n",
    "import matplotlib.pyplot as plt\n",
    "from matplotlib import cm\n",
    "from matplotlib.ticker import LinearLocator, FormatStrFormatter\n",
    "from mpl_toolkits.mplot3d import Axes3D\n",
    "import plotly\n",
    "fig = plt.figure(figsize=(14, 9))\n",
    "ax = plt.axes(projection=\"3d\")\n",
    "\n",
    "ax.plot_trisurf(PC_descriptors.PC1, PC_descriptors, PC_descriptors, cmap=cm.jet, linewidth=0.2,antialiased = True)\n",
    "plt.show()"
   ]
  },
  {
   "cell_type": "code",
   "execution_count": null,
   "metadata": {},
   "outputs": [],
   "source": [
    "from sklearn.preprocessing import scale\n",
    "import matplotlib.pyplot as plt\n",
    "\n",
    "x = dfPCA.values\n",
    "\n",
    "# Scale large vals\n",
    "x = StandardScaler().fit_transform(x)\n",
    "\n",
    "pca_2 = PCA(n_components = 2)\n",
    "\n",
    "X_r = pca_2.fit_transform(scale(x)).T"
   ]
  }
 ],
 "metadata": {
  "interpreter": {
   "hash": "478201df5069d2e6391cf65b23ce884d49c57ebe4f05640c641415e63946d634"
  },
  "kernelspec": {
   "display_name": "Python 3.9.7 64-bit ('rdkit': conda)",
   "language": "python",
   "name": "python3"
  },
  "language_info": {
   "codemirror_mode": {
    "name": "ipython",
    "version": 3
   },
   "file_extension": ".py",
   "mimetype": "text/x-python",
   "name": "python",
   "nbconvert_exporter": "python",
   "pygments_lexer": "ipython3",
   "version": "3.9.12"
  },
  "orig_nbformat": 4
 },
 "nbformat": 4,
 "nbformat_minor": 2
}
