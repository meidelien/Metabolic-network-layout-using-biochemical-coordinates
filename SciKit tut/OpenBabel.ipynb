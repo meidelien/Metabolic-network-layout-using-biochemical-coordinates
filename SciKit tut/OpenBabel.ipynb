{
 "cells": [
  {
   "cell_type": "code",
   "execution_count": 2,
   "source": [
    "import imolecule\r\n",
    "import pybel\r\n",
    "# import pillow"
   ],
   "outputs": [],
   "metadata": {}
  },
  {
   "cell_type": "code",
   "execution_count": 3,
   "source": [
    "imolecule.draw(\"CC1(C(N2C(S1)C(C2=O)NC(=O)CC3=CC=CC=C3)C(=O)O)C\")"
   ],
   "outputs": [
    {
     "output_type": "display_data",
     "data": {
      "text/html": [
       "<div id=\"molecule_e0a004ca-311a-4baf-9b1f-a163cffc3043\"></div>\n",
       "           <script type=\"text/javascript\">\n",
       "           require.config({baseUrl: '/',\n",
       "                           paths: {\n",
       "                           jquery: 'https://cdnjs.cloudflare.com/ajax/libs/jquery/3.6.0/jquery.min',\n",
       "                           imolecule: ['nbextensions/imolecule.min', 'https://rawgit.com/patrickfuller/imolecule/master/imolecule/js/build/imolecule.min']}});\n",
       "           require(['imolecule'], function () {\n",
       "               var $d = $('#molecule_e0a004ca-311a-4baf-9b1f-a163cffc3043');\n",
       "               $d.width(400); $d.height(300);\n",
       "               $d.imolecule = jQuery.extend({}, imolecule);\n",
       "               $d.imolecule.create($d, {drawingType: 'ball and stick',\n",
       "                                        cameraType: 'perspective',\n",
       "                                        shader: 'lambert',\n",
       "                                        showSave: false});\n",
       "               $d.imolecule.addElements({});\n",
       "               $d.imolecule.draw({\"atoms\":[{\"charge\":-0.04838,\"element\":\"C\",\"location\":[-4.71846,-1.45204,0.15715]},{\"charge\":0.04172,\"element\":\"C\",\"location\":[-3.21653,-1.47694,0.08498]},{\"charge\":0.13794,\"element\":\"C\",\"location\":[-2.52809,-2.6503,-0.63594]},{\"charge\":-0.27081,\"element\":\"N\",\"location\":[-1.13655,-2.09993,-0.67086]},{\"charge\":0.10052,\"element\":\"C\",\"location\":[-1.00305,-0.59275,-0.62502]},{\"charge\":-0.12729,\"element\":\"S\",\"location\":[-2.67345,-0.05204,-0.99541]},{\"charge\":0.1277,\"element\":\"C\",\"location\":[0.17705,-0.77368,-1.55332]},{\"charge\":0.24021,\"element\":\"C\",\"location\":[-0.3088,-2.18949,-1.76553]},{\"charge\":-0.27341,\"element\":\"O\",\"location\":[0.02039,-3.04649,-2.52449]},{\"charge\":-0.30149,\"element\":\"N\",\"location\":[1.50188,-0.7686,-0.80671]},{\"charge\":0.218,\"element\":\"C\",\"location\":[1.89412,0.45037,-0.36183]},{\"charge\":-0.27544,\"element\":\"O\",\"location\":[1.14055,1.35735,-0.71326]},{\"charge\":0.0491,\"element\":\"C\",\"location\":[3.18119,0.5813,0.48521]},{\"charge\":-0.03863,\"element\":\"C\",\"location\":[3.54341,2.02547,0.8421]},{\"charge\":-0.05811,\"element\":\"C\",\"location\":[2.61795,3.0444,0.58354]},{\"charge\":-0.06149,\"element\":\"C\",\"location\":[2.88002,4.39304,0.64808]},{\"charge\":-0.06174,\"element\":\"C\",\"location\":[4.06833,4.79633,1.19285]},{\"charge\":-0.06149,\"element\":\"C\",\"location\":[4.98119,3.82661,1.62328]},{\"charge\":-0.05811,\"element\":\"C\",\"location\":[4.7455,2.44426,1.42398]},{\"charge\":0.32685,\"element\":\"C\",\"location\":[-3.09616,-3.04585,-2.05518]},{\"charge\":-0.24885,\"element\":\"O\",\"location\":[-2.40928,-3.35138,-3.01828]},{\"charge\":-0.47929,\"element\":\"O\",\"location\":[-4.42633,-3.16263,-2.2197]},{\"charge\":-0.04838,\"element\":\"C\",\"location\":[-2.6334,-1.34403,1.54009]},{\"charge\":0.02436,\"element\":\"H\",\"location\":[-5.17007,-1.37951,-0.83198]},{\"charge\":0.02436,\"element\":\"H\",\"location\":[-5.05906,-0.56261,0.69276]},{\"charge\":0.02436,\"element\":\"H\",\"location\":[-5.0865,-2.34403,0.67296]},{\"charge\":0.06306,\"element\":\"H\",\"location\":[-2.54707,-3.55332,-0.00717]},{\"charge\":0.06403,\"element\":\"H\",\"location\":[-0.7123,-0.0875,0.30317]},{\"charge\":0.06222,\"element\":\"H\",\"location\":[0.15701,-0.12363,-2.42915]},{\"charge\":0.14954,\"element\":\"H\",\"location\":[1.88623,-1.62659,-0.42873]},{\"charge\":0.04069,\"element\":\"H\",\"location\":[3.98214,0.13404,-0.12043]},{\"charge\":0.04069,\"element\":\"H\",\"location\":[3.07695,-0.01712,1.39989]},{\"charge\":0.06204,\"element\":\"H\",\"location\":[1.5918,2.86208,0.32729]},{\"charge\":0.06177,\"element\":\"H\",\"location\":[2.10479,5.06695,0.29917]},{\"charge\":0.06176,\"element\":\"H\",\"location\":[4.24116,5.85911,1.3125]},{\"charge\":0.06177,\"element\":\"H\",\"location\":[5.88648,4.168,2.1176]},{\"charge\":0.06204,\"element\":\"H\",\"location\":[5.5075,1.73947,1.75413]},{\"charge\":0.29511,\"element\":\"H\",\"location\":[-5.04394,-3.08729,-1.48123]},{\"charge\":0.02436,\"element\":\"H\",\"location\":[-2.94982,-2.18175,2.16867]},{\"charge\":0.02436,\"element\":\"H\",\"location\":[-2.93044,-0.39911,2.00278]},{\"charge\":0.02436,\"element\":\"H\",\"location\":[-1.53632,-1.38016,1.61205]}],\"bonds\":[{\"atoms\":[0,1],\"order\":1},{\"atoms\":[1,2],\"order\":1},{\"atoms\":[2,3],\"order\":1},{\"atoms\":[3,4],\"order\":1},{\"atoms\":[4,5],\"order\":1},{\"atoms\":[1,5],\"order\":1},{\"atoms\":[4,6],\"order\":1},{\"atoms\":[6,7],\"order\":1},{\"atoms\":[3,7],\"order\":1},{\"atoms\":[7,8],\"order\":2},{\"atoms\":[6,9],\"order\":1},{\"atoms\":[9,10],\"order\":1},{\"atoms\":[10,11],\"order\":2},{\"atoms\":[10,12],\"order\":1},{\"atoms\":[12,13],\"order\":1},{\"atoms\":[13,14],\"order\":2},{\"atoms\":[14,15],\"order\":1},{\"atoms\":[15,16],\"order\":2},{\"atoms\":[16,17],\"order\":1},{\"atoms\":[17,18],\"order\":2},{\"atoms\":[13,18],\"order\":1},{\"atoms\":[2,19],\"order\":1},{\"atoms\":[19,20],\"order\":2},{\"atoms\":[19,21],\"order\":1},{\"atoms\":[1,22],\"order\":1},{\"atoms\":[0,23],\"order\":1},{\"atoms\":[0,24],\"order\":1},{\"atoms\":[0,25],\"order\":1},{\"atoms\":[2,26],\"order\":1},{\"atoms\":[4,27],\"order\":1},{\"atoms\":[6,28],\"order\":1},{\"atoms\":[9,29],\"order\":1},{\"atoms\":[12,30],\"order\":1},{\"atoms\":[12,31],\"order\":1},{\"atoms\":[14,32],\"order\":1},{\"atoms\":[15,33],\"order\":1},{\"atoms\":[16,34],\"order\":1},{\"atoms\":[17,35],\"order\":1},{\"atoms\":[18,36],\"order\":1},{\"atoms\":[21,37],\"order\":1},{\"atoms\":[22,38],\"order\":1},{\"atoms\":[22,39],\"order\":1},{\"atoms\":[22,40],\"order\":1}],\"formula\":\"C16H18N2O4S\",\"molecular_weight\":334.39012,\"units\":{\"molecular_weight\":\"g / mol\"}});\n",
       "\n",
       "               $d.resizable({\n",
       "                   aspectRatio: 400 / 300,\n",
       "                   resize: function (evt, ui) {\n",
       "                       $d.imolecule.renderer.setSize(ui.size.width,\n",
       "                                                     ui.size.height);\n",
       "                   }\n",
       "               });\n",
       "           });\n",
       "           </script>"
      ],
      "text/plain": [
       "<IPython.core.display.HTML object>"
      ]
     },
     "metadata": {}
    }
   ],
   "metadata": {}
  },
  {
   "cell_type": "code",
   "execution_count": 4,
   "source": [
    "import openbabel"
   ],
   "outputs": [],
   "metadata": {}
  },
  {
   "cell_type": "code",
   "execution_count": 5,
   "source": [
    "imolecule.draw(\"OC(=O)CC(O)(C(=O)O)CC(=O)O\")"
   ],
   "outputs": [
    {
     "output_type": "display_data",
     "data": {
      "text/html": [
       "<div id=\"molecule_6b1d8203-36c7-4cbe-a89b-05d8df28a18b\"></div>\n",
       "           <script type=\"text/javascript\">\n",
       "           require.config({baseUrl: '/',\n",
       "                           paths: {\n",
       "                           jquery: 'https://cdnjs.cloudflare.com/ajax/libs/jquery/3.6.0/jquery.min',\n",
       "                           imolecule: ['nbextensions/imolecule.min', 'https://rawgit.com/patrickfuller/imolecule/master/imolecule/js/build/imolecule.min']}});\n",
       "           require(['imolecule'], function () {\n",
       "               var $d = $('#molecule_6b1d8203-36c7-4cbe-a89b-05d8df28a18b');\n",
       "               $d.width(400); $d.height(300);\n",
       "               $d.imolecule = jQuery.extend({}, imolecule);\n",
       "               $d.imolecule.create($d, {drawingType: 'ball and stick',\n",
       "                                        cameraType: 'perspective',\n",
       "                                        shader: 'lambert',\n",
       "                                        showSave: false});\n",
       "               $d.imolecule.addElements({});\n",
       "               $d.imolecule.draw({\"atoms\":[{\"charge\":-0.48053,\"element\":\"O\",\"location\":[-3.5072,-0.90457,0.37664]},{\"charge\":0.30804,\"element\":\"C\",\"location\":[-2.17199,-1.00869,0.4588]},{\"charge\":-0.2509,\"element\":\"O\",\"location\":[-1.64028,-2.05548,0.82023]},{\"charge\":0.08448,\"element\":\"C\",\"location\":[-1.37889,0.22765,0.08299]},{\"charge\":0.18195,\"element\":\"C\",\"location\":[0.14971,-0.06821,0.14716]},{\"charge\":-0.3765,\"element\":\"O\",\"location\":[0.42149,-0.44054,1.49818]},{\"charge\":0.33787,\"element\":\"C\",\"location\":[0.55541,-1.06447,-0.99971]},{\"charge\":-0.24773,\"element\":\"O\",\"location\":[1.18708,-0.72039,-1.99348]},{\"charge\":-0.4786,\"element\":\"O\",\"location\":[0.09749,-2.32875,-0.89506]},{\"charge\":0.08448,\"element\":\"C\",\"location\":[0.96462,1.24253,-0.10335]},{\"charge\":0.30804,\"element\":\"C\",\"location\":[2.46414,0.97953,-0.01896]},{\"charge\":-0.2509,\"element\":\"O\",\"location\":[2.97349,-0.09617,0.27805]},{\"charge\":-0.48053,\"element\":\"O\",\"location\":[3.23711,2.05881,-0.27603]},{\"charge\":0.29505,\"element\":\"H\",\"location\":[-3.8752,-0.03623,0.13127]},{\"charge\":0.04116,\"element\":\"H\",\"location\":[-1.63712,0.99669,0.82266]},{\"charge\":0.04116,\"element\":\"H\",\"location\":[-1.67283,0.56316,-0.91605]},{\"charge\":0.21093,\"element\":\"H\",\"location\":[0.07978,-1.34208,1.65472]},{\"charge\":0.29515,\"element\":\"H\",\"location\":[-0.47877,-2.53875,-0.12276]},{\"charge\":0.04116,\"element\":\"H\",\"location\":[0.71894,1.99771,0.65335]},{\"charge\":0.04116,\"element\":\"H\",\"location\":[0.73588,1.65241,-1.09591]},{\"charge\":0.29505,\"element\":\"H\",\"location\":[2.77716,2.88583,-0.50276]}],\"bonds\":[{\"atoms\":[0,1],\"order\":1},{\"atoms\":[1,2],\"order\":2},{\"atoms\":[1,3],\"order\":1},{\"atoms\":[3,4],\"order\":1},{\"atoms\":[4,5],\"order\":1},{\"atoms\":[4,6],\"order\":1},{\"atoms\":[6,7],\"order\":2},{\"atoms\":[6,8],\"order\":1},{\"atoms\":[4,9],\"order\":1},{\"atoms\":[9,10],\"order\":1},{\"atoms\":[10,11],\"order\":2},{\"atoms\":[10,12],\"order\":1},{\"atoms\":[0,13],\"order\":1},{\"atoms\":[3,14],\"order\":1},{\"atoms\":[3,15],\"order\":1},{\"atoms\":[5,16],\"order\":1},{\"atoms\":[8,17],\"order\":1},{\"atoms\":[9,18],\"order\":1},{\"atoms\":[9,19],\"order\":1},{\"atoms\":[12,20],\"order\":1}],\"formula\":\"C6H8O7\",\"molecular_weight\":192.12352,\"units\":{\"molecular_weight\":\"g / mol\"}});\n",
       "\n",
       "               $d.resizable({\n",
       "                   aspectRatio: 400 / 300,\n",
       "                   resize: function (evt, ui) {\n",
       "                       $d.imolecule.renderer.setSize(ui.size.width,\n",
       "                                                     ui.size.height);\n",
       "                   }\n",
       "               });\n",
       "           });\n",
       "           </script>"
      ],
      "text/plain": [
       "<IPython.core.display.HTML object>"
      ]
     },
     "metadata": {}
    }
   ],
   "metadata": {}
  },
  {
   "cell_type": "code",
   "execution_count": null,
   "source": [],
   "outputs": [],
   "metadata": {}
  }
 ],
 "metadata": {
  "orig_nbformat": 4,
  "language_info": {
   "name": "python",
   "version": "3.8.8",
   "mimetype": "text/x-python",
   "codemirror_mode": {
    "name": "ipython",
    "version": 3
   },
   "pygments_lexer": "ipython3",
   "nbconvert_exporter": "python",
   "file_extension": ".py"
  },
  "kernelspec": {
   "name": "python3",
   "display_name": "Python 3.8.8 64-bit ('base': conda)"
  },
  "interpreter": {
   "hash": "b3ba2566441a7c06988d0923437866b63cedc61552a5af99d1f4fb67d367b25f"
  }
 },
 "nbformat": 4,
 "nbformat_minor": 2
}