{
 "cells": [
  {
   "cell_type": "markdown",
   "source": [
    "# ╰(*°▽°*)╯ Import stuff ╰(*°▽°*)╯"
   ],
   "metadata": {}
  },
  {
   "cell_type": "code",
   "execution_count": null,
   "source": [
    "import pandas as pd\r\n",
    "from pandas.io.json import json_normalize\r\n",
    "from lxml import objectify # for parsing e_coli_core\r\n",
    "import xml.etree.ElementTree as ETS"
   ],
   "outputs": [],
   "metadata": {}
  },
  {
   "cell_type": "markdown",
   "source": [
    "# Creating df from the chem_prop.tsv 🐱‍🏍🐱‍🏍🐱‍🏍"
   ],
   "metadata": {}
  },
  {
   "cell_type": "code",
   "execution_count": null,
   "source": [
    "df = pd.read_csv('C:\\\\Users\\\\meide\\\\Documents\\\\GitHub\\\\Master\\\\data\\\\chem_prop.tsv', sep ='\\t', header = 0)\r\n"
   ],
   "outputs": [],
   "metadata": {}
  },
  {
   "cell_type": "markdown",
   "source": [
    "# Creating df with e_coli_core.xml 👌🤣🤣🤣🤣🤣"
   ],
   "metadata": {}
  },
  {
   "cell_type": "code",
   "execution_count": null,
   "source": [
    "dfXML = pd.read_xml('C:\\\\Users\\\\meide\\\\Documents\\\\GitHub\\\\Master\\\\data\\\\e_coli_core.xml')"
   ],
   "outputs": [],
   "metadata": {}
  },
  {
   "cell_type": "markdown",
   "source": [
    "# Creating a df with e_coli_core.json  🤦‍♀️🤦‍♂️😒"
   ],
   "metadata": {}
  },
  {
   "cell_type": "code",
   "execution_count": null,
   "source": [
    "# dfJSON = pd.read_json('C:\\\\Users\\\\meide\\\\Documents\\\\GitHub\\\\Master\\\\data\\\\e_coli_core.json')"
   ],
   "outputs": [],
   "metadata": {}
  },
  {
   "cell_type": "markdown",
   "source": [
    "# Extracting a row with a specific column value from chem_prop.tsv"
   ],
   "metadata": {}
  },
  {
   "cell_type": "code",
   "execution_count": null,
   "source": [
    "\r\n",
    "\r\n",
    "#Extracting a row with a specific column value\r\n",
    "test = df.loc[df[\"formula\"] == \"C21H38O\"]\r\n"
   ],
   "outputs": [],
   "metadata": {}
  },
  {
   "cell_type": "markdown",
   "source": [
    "# Extracting rows with a specific column iterable\r\n",
    "## Formulas from e_coli_core.xml"
   ],
   "metadata": {}
  },
  {
   "cell_type": "code",
   "execution_count": 17,
   "source": [
    "formulas = [\"6H12O6\",\"C5H10N2O3\",\"C5H10N2O3\", \"C5H8NO4\",\"C2H1O3\", \"H2O\",\"C6H5O7\",\"C3H5O3\",\"C4H4O5\",\"C21H26N7O14P2\",\"C21H27N7O14P2\",\"C21H25N7O17P3\",\"C21H26N7O17P3\", \"H4N\", \"C3H4O10P2\",\"O2\", \"C3H4O7P\", \"C4H2O5\", \"C3H2O6P\", \"C6H10O10P\",\"HO4P\", \"C6H9O9P\", \"C2H3O2\",  \"C3H3O3\", \"C49H74O4\", \"C5H9O8P\", \"C2H3O2\", \"C2H4O\", \"C7H13O10P\", \"C23H34N7O17P3S\",\"C4H4O4\",\"C25H35N7O19P3S\", \"C6H3O6\", \"C5H9O8P\",\"C2H3O5P\", \"C10H12N5O10P2\",\"C5H4O5\", \"C10H12N5O7P\",\"C10H12N5O13P3\", \"C6H5O7\", \"CO2\", \"C21H32N7O16P3S\", \"C3H5O6P\", \"C4H7O7P\", \"C2H6O\",\"C6H11O9P\",\"C6H10O12P2\", \"CH1O2\",\"C6H12O6\", \"C4H2O4\", \"C3H5O6P\", \"C6H11O9P\"]"
   ],
   "outputs": [],
   "metadata": {}
  },
  {
   "cell_type": "markdown",
   "source": [
    "# 🐱‍👤🐱‍👤🐱‍👤🐱‍👤🐱‍👤🐱‍👤🐱‍👤🐱‍👤🐱‍👤🐱‍👤🐱‍👤🐱‍👤🐱‍👤🐱‍👤🐱‍👤🐱‍👤🐱‍👤🐱‍👤🐱‍👤🐱‍👤🐱‍👤🐱‍👤\r\n",
    "# Extracting rows from chem_prop.tsv to a df with matching formulas from e_coli_core.xml🐱‍👤🐱‍👤"
   ],
   "metadata": {}
  },
  {
   "cell_type": "code",
   "execution_count": 18,
   "source": [
    "test2 = df.loc[df[\"formula\"].isin(formulas)]"
   ],
   "outputs": [],
   "metadata": {}
  },
  {
   "cell_type": "markdown",
   "source": [],
   "metadata": {}
  },
  {
   "cell_type": "code",
   "execution_count": null,
   "source": [
    "print(test2)"
   ],
   "outputs": [],
   "metadata": {}
  },
  {
   "cell_type": "code",
   "execution_count": 20,
   "source": [
    "test2.to_csv(\"Metabolites.csv\")"
   ],
   "outputs": [],
   "metadata": {}
  },
  {
   "cell_type": "code",
   "execution_count": null,
   "source": [],
   "outputs": [],
   "metadata": {}
  }
 ],
 "metadata": {
  "orig_nbformat": 4,
  "language_info": {
   "name": "python",
   "version": "3.9.7",
   "mimetype": "text/x-python",
   "codemirror_mode": {
    "name": "ipython",
    "version": 3
   },
   "pygments_lexer": "ipython3",
   "nbconvert_exporter": "python",
   "file_extension": ".py"
  },
  "kernelspec": {
   "name": "python3",
   "display_name": "Python 3.9.7 64-bit ('my-rdkit-env': conda)"
  },
  "interpreter": {
   "hash": "8420ab189d00d083782919827e61e029726b7008cf5217a89172cbb7a6a52562"
  }
 },
 "nbformat": 4,
 "nbformat_minor": 2
}