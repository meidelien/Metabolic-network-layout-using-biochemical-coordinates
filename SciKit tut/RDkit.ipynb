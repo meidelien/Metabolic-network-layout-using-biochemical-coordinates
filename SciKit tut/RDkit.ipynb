{
 "metadata": {
  "language_info": {
   "name": "python",
   "version": "3.9.7",
   "mimetype": "text/x-python",
   "codemirror_mode": {
    "name": "ipython",
    "version": 3
   },
   "pygments_lexer": "ipython3",
   "nbconvert_exporter": "python",
   "file_extension": ".py"
  },
  "orig_nbformat": 2,
  "kernelspec": {
   "name": "python3",
   "display_name": "Python 3.9.7 64-bit ('my-rdkit-env': conda)"
  },
  "interpreter": {
   "hash": "8420ab189d00d083782919827e61e029726b7008cf5217a89172cbb7a6a52562"
  }
 },
 "nbformat": 4,
 "nbformat_minor": 2,
 "cells": [
  {
   "cell_type": "code",
   "execution_count": 71,
   "source": [
    "print(\" Welcome to the chemical descriptor analysis script. Be careful not to break everything\")"
   ],
   "outputs": [
    {
     "output_type": "stream",
     "name": "stdout",
     "text": [
      " Welcome to the chemical descriptor analysis script. Be careful not to break everything\n"
     ]
    }
   ],
   "metadata": {}
  },
  {
   "cell_type": "code",
   "execution_count": 72,
   "source": [
    "val = (input(\"name: \"))\r\n",
    "print(f\" {val} hello my name is {val}\")"
   ],
   "outputs": [
    {
     "output_type": "stream",
     "name": "stdout",
     "text": [
      " Martin hello my name is Martin\n"
     ]
    }
   ],
   "metadata": {}
  },
  {
   "cell_type": "code",
   "execution_count": 73,
   "source": [
    "alder = (input(\"Alder: \"))\r\n",
    "print(f\"{val}'s age is {alder}\")"
   ],
   "outputs": [
    {
     "output_type": "stream",
     "name": "stdout",
     "text": [
      "Martin's age is 31\n"
     ]
    }
   ],
   "metadata": {}
  },
  {
   "cell_type": "code",
   "execution_count": 1,
   "source": [
    "\r\n",
    "import rdkit as rdkit\r\n",
    "print(\"rdkit imported successfully\")"
   ],
   "outputs": [
    {
     "output_type": "stream",
     "name": "stdout",
     "text": [
      "rdkit imported successfully\n"
     ]
    }
   ],
   "metadata": {}
  },
  {
   "cell_type": "code",
   "execution_count": 2,
   "source": [
    "from rdkit import Chem\r\n",
    "from rdkit.Chem import Draw\r\n",
    "from rdkit.Chem.Draw import IPythonConsole\r\n",
    "from rdkit.Chem import Descriptors\r\n",
    "from rdkit.Chem import AllChem\r\n",
    "from rdkit import DataStructs\r\n",
    "from rdkit import rdBase\r\n",
    "import numpy as np\r\n",
    "\r\n"
   ],
   "outputs": [],
   "metadata": {}
  },
  {
   "cell_type": "code",
   "execution_count": 3,
   "source": [
    "mol1 = Chem.MolFromSmiles(\"OC[C@H]1OC(O)[C@H](O)[C@@H](O)[C@@H]1O\") #Glucose   \r\n",
    "mol2 = Chem.MolFromInchi(\"1S/C6H12O6/c7-1-2-3(8)4(9)5(10)6(11)12-2/h2-11H,1H2/t2-,3-,4+,5-,6?/m1/s1\") #Glucose\r\n",
    "# mol2 = Chem.MolFromInchi(\"1S/C5H6O5/c6-3(5(9)10)1-2-4(7)8/h1-2H2,(H,7,8)(H,9,10)/p-2\") #alfa-KETOGLUTARATE\r\n",
    "\r\n",
    "# mol3 = Chem.Smiles"
   ],
   "outputs": [],
   "metadata": {}
  },
  {
   "cell_type": "markdown",
   "source": [
    "DRAWING MOLECULES"
   ],
   "metadata": {}
  },
  {
   "cell_type": "code",
   "execution_count": 11,
   "source": [
    "mol2"
   ],
   "outputs": [],
   "metadata": {}
  },
  {
   "cell_type": "code",
   "execution_count": 78,
   "source": [
    "smiles = Chem.MolToSmiles(mol)"
   ],
   "outputs": [],
   "metadata": {}
  },
  {
   "cell_type": "code",
   "execution_count": 79,
   "source": [
    "smiles"
   ],
   "outputs": [
    {
     "output_type": "execute_result",
     "data": {
      "text/plain": [
       "'OC[C@H]1OC(O)[C@H](O)[C@@H](O)[C@@H]1O'"
      ]
     },
     "metadata": {},
     "execution_count": 79
    }
   ],
   "metadata": {}
  },
  {
   "cell_type": "markdown",
   "source": [
    "EXTRACTING CHEMICAL DESCRIPTORS\r\n"
   ],
   "metadata": {}
  },
  {
   "cell_type": "code",
   "execution_count": 8,
   "source": [
    "# mw = Descriptors.MolWt(mol)\r\n",
    "\r\n",
    "mw2 = Descriptors.MolLogP(mol2)"
   ],
   "outputs": [
    {
     "output_type": "error",
     "ename": "ArgumentError",
     "evalue": "Python argument types in\n    rdkit.Chem.rdMolDescriptors.CalcCrippenDescriptors(NoneType)\ndid not match C++ signature:\n    CalcCrippenDescriptors(class RDKit::ROMol mol, bool includeHs=True, bool force=False)",
     "traceback": [
      "\u001b[1;31m---------------------------------------------------------------------------\u001b[0m",
      "\u001b[1;31mArgumentError\u001b[0m                             Traceback (most recent call last)",
      "\u001b[1;32m~\\AppData\\Local\\Temp/ipykernel_9344/1205538696.py\u001b[0m in \u001b[0;36m<module>\u001b[1;34m\u001b[0m\n\u001b[0;32m      1\u001b[0m \u001b[1;31m# mw = Descriptors.MolWt(mol)\u001b[0m\u001b[1;33m\u001b[0m\u001b[1;33m\u001b[0m\u001b[0m\n\u001b[0;32m      2\u001b[0m \u001b[1;33m\u001b[0m\u001b[0m\n\u001b[1;32m----> 3\u001b[1;33m \u001b[0mmw2\u001b[0m \u001b[1;33m=\u001b[0m \u001b[0mDescriptors\u001b[0m\u001b[1;33m.\u001b[0m\u001b[0mMolLogP\u001b[0m\u001b[1;33m(\u001b[0m\u001b[0mmol2\u001b[0m\u001b[1;33m)\u001b[0m\u001b[1;33m\u001b[0m\u001b[1;33m\u001b[0m\u001b[0m\n\u001b[0m",
      "\u001b[1;32m~\\.conda\\envs\\my-rdkit-env\\lib\\site-packages\\rdkit\\Chem\\Crippen.py\u001b[0m in \u001b[0;36m<lambda>\u001b[1;34m(*x, **y)\u001b[0m\n\u001b[0;32m    168\u001b[0m \u001b[0m_pyMolMR\u001b[0m\u001b[1;33m.\u001b[0m\u001b[0mversion\u001b[0m \u001b[1;33m=\u001b[0m \u001b[1;34m\"1.1.0\"\u001b[0m\u001b[1;33m\u001b[0m\u001b[1;33m\u001b[0m\u001b[0m\n\u001b[0;32m    169\u001b[0m \u001b[1;33m\u001b[0m\u001b[0m\n\u001b[1;32m--> 170\u001b[1;33m \u001b[0mMolLogP\u001b[0m \u001b[1;33m=\u001b[0m \u001b[1;32mlambda\u001b[0m \u001b[1;33m*\u001b[0m\u001b[0mx\u001b[0m\u001b[1;33m,\u001b[0m \u001b[1;33m**\u001b[0m\u001b[0my\u001b[0m\u001b[1;33m:\u001b[0m \u001b[0mrdMolDescriptors\u001b[0m\u001b[1;33m.\u001b[0m\u001b[0mCalcCrippenDescriptors\u001b[0m\u001b[1;33m(\u001b[0m\u001b[1;33m*\u001b[0m\u001b[0mx\u001b[0m\u001b[1;33m,\u001b[0m \u001b[1;33m**\u001b[0m\u001b[0my\u001b[0m\u001b[1;33m)\u001b[0m\u001b[1;33m[\u001b[0m\u001b[1;36m0\u001b[0m\u001b[1;33m]\u001b[0m\u001b[1;33m\u001b[0m\u001b[1;33m\u001b[0m\u001b[0m\n\u001b[0m\u001b[0;32m    171\u001b[0m \u001b[0mMolLogP\u001b[0m\u001b[1;33m.\u001b[0m\u001b[0mversion\u001b[0m \u001b[1;33m=\u001b[0m \u001b[0mrdMolDescriptors\u001b[0m\u001b[1;33m.\u001b[0m\u001b[0m_CalcCrippenDescriptors_version\u001b[0m\u001b[1;33m\u001b[0m\u001b[1;33m\u001b[0m\u001b[0m\n\u001b[0;32m    172\u001b[0m MolLogP.__doc__ = \"\"\" Wildman-Crippen LogP value\n",
      "\u001b[1;31mArgumentError\u001b[0m: Python argument types in\n    rdkit.Chem.rdMolDescriptors.CalcCrippenDescriptors(NoneType)\ndid not match C++ signature:\n    CalcCrippenDescriptors(class RDKit::ROMol mol, bool includeHs=True, bool force=False)"
     ]
    }
   ],
   "metadata": {}
  },
  {
   "cell_type": "code",
   "execution_count": 7,
   "source": [
    "mw2"
   ],
   "outputs": [
    {
     "output_type": "execute_result",
     "data": {
      "text/plain": [
       "-3.2214000000000005"
      ]
     },
     "metadata": {},
     "execution_count": 7
    }
   ],
   "metadata": {}
  },
  {
   "cell_type": "code",
   "execution_count": 82,
   "source": [
    "smiles_list = ['OC[C@H]1OC(O)[C@H](O)[C@@H](O)[C@@H]1O', \"CC(=O)[O-]\",\"O=P(O)(O)OP(=O)(O)OP(=O)(O)OC[C@H]3O[C@@H](n2cnc1c(ncnc12)N)[C@H](O)[C@@H]3O\", \"S\"]\r\n"
   ],
   "outputs": [],
   "metadata": {}
  },
  {
   "cell_type": "code",
   "execution_count": 83,
   "source": [
    "smiles_list\r\n"
   ],
   "outputs": [
    {
     "output_type": "execute_result",
     "data": {
      "text/plain": [
       "['OC[C@H]1OC(O)[C@H](O)[C@@H](O)[C@@H]1O',\n",
       " 'CC(=O)[O-]',\n",
       " 'O=P(O)(O)OP(=O)(O)OP(=O)(O)OC[C@H]3O[C@@H](n2cnc1c(ncnc12)N)[C@H](O)[C@@H]3O',\n",
       " 'S']"
      ]
     },
     "metadata": {},
     "execution_count": 83
    }
   ],
   "metadata": {}
  },
  {
   "cell_type": "code",
   "execution_count": 84,
   "source": [
    "mol_list = []\r\n",
    "for smiles in smiles_list:\r\n",
    "    mol = Chem.MolFromSmiles(smiles)\r\n",
    "    mol_list.append(mol)\r\n",
    "\r\n"
   ],
   "outputs": [],
   "metadata": {}
  },
  {
   "cell_type": "code",
   "execution_count": 85,
   "source": [
    "img = Draw.MolsToGridImage(mol_list, molsPerRow = 2, useSVG = True)\r\n",
    "\r\n",
    "#Calls img\r\n",
    "img"
   ],
   "outputs": [
    {
     "output_type": "execute_result",
     "data": {
      "image/svg+xml": "<svg xmlns=\"http://www.w3.org/2000/svg\" xmlns:rdkit=\"http://www.rdkit.org/xml\" xmlns:xlink=\"http://www.w3.org/1999/xlink\" version=\"1.1\" baseProfile=\"full\" xml:space=\"preserve\" width=\"400px\" height=\"400px\" viewBox=\"0 0 400 400\">\n<!-- END OF HEADER -->\n<rect style=\"opacity:1.0;fill:#FFFFFF;stroke:none\" width=\"400\" height=\"400\" x=\"0\" y=\"0\"> </rect>\n<rect style=\"opacity:1.0;fill:#FFFFFF;stroke:none\" width=\"400\" height=\"400\" x=\"0\" y=\"0\"> </rect>\n<rect style=\"opacity:1.0;fill:#FFFFFF;stroke:none\" width=\"400\" height=\"400\" x=\"0\" y=\"0\"> </rect>\n<rect style=\"opacity:1.0;fill:#FFFFFF;stroke:none\" width=\"400\" height=\"400\" x=\"0\" y=\"0\"> </rect>\n<rect style=\"opacity:1.0;fill:#FFFFFF;stroke:none\" width=\"400\" height=\"400\" x=\"0\" y=\"0\"> </rect>\n<path class=\"bond-0 atom-0 atom-1\" d=\"M 53.9594,88.8311 L 57.5922,94.1817\" style=\"fill:none;fill-rule:evenodd;stroke:#FF0000;stroke-width:2.0px;stroke-linecap:butt;stroke-linejoin:miter;stroke-opacity:1\"/>\n<path class=\"bond-0 atom-0 atom-1\" d=\"M 57.5922,94.1817 L 61.2251,99.5322\" style=\"fill:none;fill-rule:evenodd;stroke:#000000;stroke-width:2.0px;stroke-linecap:butt;stroke-linejoin:miter;stroke-opacity:1\"/>\n<path class=\"bond-1 atom-2 atom-1\" d=\"M 77.5261,98.3422 L 61.1061,97.9021 L 61.3441,101.162 Z\" style=\"fill:#000000;fill-rule:evenodd;fill-opacity:1;stroke:#000000;stroke-width:2.0px;stroke-linecap:butt;stroke-linejoin:miter;stroke-opacity:1;\"/>\n<path class=\"bond-2 atom-2 atom-3\" d=\"M 77.5261,98.3422 L 80.4035,92.3967\" style=\"fill:none;fill-rule:evenodd;stroke:#000000;stroke-width:2.0px;stroke-linecap:butt;stroke-linejoin:miter;stroke-opacity:1\"/>\n<path class=\"bond-2 atom-2 atom-3\" d=\"M 80.4035,92.3967 L 83.2808,86.4511\" style=\"fill:none;fill-rule:evenodd;stroke:#FF0000;stroke-width:2.0px;stroke-linecap:butt;stroke-linejoin:miter;stroke-opacity:1\"/>\n<path class=\"bond-11 atom-10 atom-2\" d=\"M 86.7072,111.864 L 77.5261,98.3422\" style=\"fill:none;fill-rule:evenodd;stroke:#000000;stroke-width:2.0px;stroke-linecap:butt;stroke-linejoin:miter;stroke-opacity:1\"/>\n<path class=\"bond-3 atom-3 atom-4\" d=\"M 87.1795,83.4451 L 94.0633,82.9426\" style=\"fill:none;fill-rule:evenodd;stroke:#FF0000;stroke-width:2.0px;stroke-linecap:butt;stroke-linejoin:miter;stroke-opacity:1\"/>\n<path class=\"bond-3 atom-3 atom-4\" d=\"M 94.0633,82.9426 L 100.947,82.4401\" style=\"fill:none;fill-rule:evenodd;stroke:#000000;stroke-width:2.0px;stroke-linecap:butt;stroke-linejoin:miter;stroke-opacity:1\"/>\n<path class=\"bond-4 atom-4 atom-5\" d=\"M 100.947,82.4401 L 103.824,76.4946\" style=\"fill:none;fill-rule:evenodd;stroke:#000000;stroke-width:2.0px;stroke-linecap:butt;stroke-linejoin:miter;stroke-opacity:1\"/>\n<path class=\"bond-4 atom-4 atom-5\" d=\"M 103.824,76.4946 L 106.702,70.549\" style=\"fill:none;fill-rule:evenodd;stroke:#FF0000;stroke-width:2.0px;stroke-linecap:butt;stroke-linejoin:miter;stroke-opacity:1\"/>\n<path class=\"bond-5 atom-4 atom-6\" d=\"M 100.947,82.4401 L 110.128,95.9622\" style=\"fill:none;fill-rule:evenodd;stroke:#000000;stroke-width:2.0px;stroke-linecap:butt;stroke-linejoin:miter;stroke-opacity:1\"/>\n<path class=\"bond-6 atom-6 atom-7\" d=\"M 114.757,96.1706 L 114.678,95.0838\" style=\"fill:none;fill-rule:evenodd;stroke:#000000;stroke-width:1.0px;stroke-linecap:butt;stroke-linejoin:miter;stroke-opacity:1\"/>\n<path class=\"bond-6 atom-6 atom-7\" d=\"M 119.386,96.3789 L 119.227,94.2054\" style=\"fill:none;fill-rule:evenodd;stroke:#FF0000;stroke-width:1.0px;stroke-linecap:butt;stroke-linejoin:miter;stroke-opacity:1\"/>\n<path class=\"bond-6 atom-6 atom-7\" d=\"M 124.015,96.5873 L 123.777,93.3271\" style=\"fill:none;fill-rule:evenodd;stroke:#FF0000;stroke-width:1.0px;stroke-linecap:butt;stroke-linejoin:miter;stroke-opacity:1\"/>\n<path class=\"bond-7 atom-6 atom-8\" d=\"M 110.128,95.9622 L 103.008,110.674\" style=\"fill:none;fill-rule:evenodd;stroke:#000000;stroke-width:2.0px;stroke-linecap:butt;stroke-linejoin:miter;stroke-opacity:1\"/>\n<path class=\"bond-8 atom-8 atom-9\" d=\"M 103.008,110.674 L 105.989,116.52 L 107.342,115.602 Z\" style=\"fill:#000000;fill-rule:evenodd;fill-opacity:1;stroke:#000000;stroke-width:2.0px;stroke-linecap:butt;stroke-linejoin:miter;stroke-opacity:1;\"/>\n<path class=\"bond-8 atom-8 atom-9\" d=\"M 105.989,116.52 L 111.675,120.529 L 108.971,122.365 Z\" style=\"fill:#FF0000;fill-rule:evenodd;fill-opacity:1;stroke:#FF0000;stroke-width:2.0px;stroke-linecap:butt;stroke-linejoin:miter;stroke-opacity:1;\"/>\n<path class=\"bond-8 atom-8 atom-9\" d=\"M 105.989,116.52 L 107.342,115.602 L 111.675,120.529 Z\" style=\"fill:#FF0000;fill-rule:evenodd;fill-opacity:1;stroke:#FF0000;stroke-width:2.0px;stroke-linecap:butt;stroke-linejoin:miter;stroke-opacity:1;\"/>\n<path class=\"bond-9 atom-8 atom-10\" d=\"M 103.008,110.674 L 86.7072,111.864\" style=\"fill:none;fill-rule:evenodd;stroke:#000000;stroke-width:2.0px;stroke-linecap:butt;stroke-linejoin:miter;stroke-opacity:1\"/>\n<path class=\"bond-10 atom-10 atom-11\" d=\"M 84.287,115.615 L 85.2678,116.089\" style=\"fill:none;fill-rule:evenodd;stroke:#000000;stroke-width:1.0px;stroke-linecap:butt;stroke-linejoin:miter;stroke-opacity:1\"/>\n<path class=\"bond-10 atom-10 atom-11\" d=\"M 81.8667,119.365 L 83.8283,120.314\" style=\"fill:none;fill-rule:evenodd;stroke:#FF0000;stroke-width:1.0px;stroke-linecap:butt;stroke-linejoin:miter;stroke-opacity:1\"/>\n<path class=\"bond-10 atom-10 atom-11\" d=\"M 79.4465,123.115 L 82.3889,124.539\" style=\"fill:none;fill-rule:evenodd;stroke:#FF0000;stroke-width:1.0px;stroke-linecap:butt;stroke-linejoin:miter;stroke-opacity:1\"/>\n<path class=\"atom-0\" d=\"M 45.9704 83.7219 L 46.598 83.7219 L 46.598 85.6897 L 48.9647 85.6897 L 48.9647 83.7219 L 49.5923 83.7219 L 49.5923 88.3506 L 48.9647 88.3506 L 48.9647 86.2127 L 46.598 86.2127 L 46.598 88.3506 L 45.9704 88.3506 L 45.9704 83.7219 \" fill=\"#FF0000\"/>\n<path class=\"atom-0\" d=\"M 49.9192 86.0231 Q 49.9192 84.9117, 50.4684 84.2906 Q 51.0176 83.6695, 52.044 83.6695 Q 53.0704 83.6695, 53.6196 84.2906 Q 54.1688 84.9117, 54.1688 86.0231 Q 54.1688 87.1476, 53.613 87.7883 Q 53.0573 88.4225, 52.044 88.4225 Q 51.0241 88.4225, 50.4684 87.7883 Q 49.9192 87.1542, 49.9192 86.0231 M 52.044 87.8995 Q 52.7501 87.8995, 53.1293 87.4288 Q 53.515 86.9515, 53.515 86.0231 Q 53.515 85.1144, 53.1293 84.6568 Q 52.7501 84.1926, 52.044 84.1926 Q 51.3379 84.1926, 50.9522 84.6502 Q 50.573 85.1079, 50.573 86.0231 Q 50.573 86.958, 50.9522 87.4288 Q 51.3379 87.8995, 52.044 87.8995 \" fill=\"#FF0000\"/>\n<path class=\"atom-3\" d=\"M 82.5213 83.6432 Q 82.5213 82.5317, 83.0705 81.9107 Q 83.6196 81.2896, 84.6461 81.2896 Q 85.6725 81.2896, 86.2217 81.9107 Q 86.7708 82.5317, 86.7708 83.6432 Q 86.7708 84.7677, 86.2151 85.4084 Q 85.6594 86.0425, 84.6461 86.0425 Q 83.6262 86.0425, 83.0705 85.4084 Q 82.5213 84.7742, 82.5213 83.6432 M 84.6461 85.5195 Q 85.3521 85.5195, 85.7313 85.0488 Q 86.1171 84.5715, 86.1171 83.6432 Q 86.1171 82.7344, 85.7313 82.2768 Q 85.3521 81.8126, 84.6461 81.8126 Q 83.94 81.8126, 83.5543 82.2702 Q 83.1751 82.7279, 83.1751 83.6432 Q 83.1751 84.5781, 83.5543 85.0488 Q 83.94 85.5195, 84.6461 85.5195 \" fill=\"#FF0000\"/>\n<path class=\"atom-5\" d=\"M 105.942 67.7411 Q 105.942 66.6296, 106.491 66.0086 Q 107.041 65.3875, 108.067 65.3875 Q 109.093 65.3875, 109.643 66.0086 Q 110.192 66.6296, 110.192 67.7411 Q 110.192 68.8656, 109.636 69.5063 Q 109.08 70.1404, 108.067 70.1404 Q 107.047 70.1404, 106.491 69.5063 Q 105.942 68.8721, 105.942 67.7411 M 108.067 69.6174 Q 108.773 69.6174, 109.152 69.1467 Q 109.538 68.6694, 109.538 67.7411 Q 109.538 66.8323, 109.152 66.3747 Q 108.773 65.9105, 108.067 65.9105 Q 107.361 65.9105, 106.975 66.3681 Q 106.596 66.8258, 106.596 67.7411 Q 106.596 68.676, 106.975 69.1467 Q 107.361 69.6174, 108.067 69.6174 \" fill=\"#FF0000\"/>\n<path class=\"atom-5\" d=\"M 110.748 65.4398 L 111.375 65.4398 L 111.375 67.4076 L 113.742 67.4076 L 113.742 65.4398 L 114.369 65.4398 L 114.369 70.0685 L 113.742 70.0685 L 113.742 67.9307 L 111.375 67.9307 L 111.375 70.0685 L 110.748 70.0685 L 110.748 65.4398 \" fill=\"#FF0000\"/>\n<path class=\"atom-7\" d=\"M 124.304 94.7853 Q 124.304 93.6739, 124.854 93.0528 Q 125.403 92.4317, 126.429 92.4317 Q 127.456 92.4317, 128.005 93.0528 Q 128.554 93.6739, 128.554 94.7853 Q 128.554 95.9098, 127.998 96.5505 Q 127.443 97.1847, 126.429 97.1847 Q 125.409 97.1847, 124.854 96.5505 Q 124.304 95.9163, 124.304 94.7853 M 126.429 96.6616 Q 127.135 96.6616, 127.515 96.1909 Q 127.9 95.7137, 127.9 94.7853 Q 127.9 93.8766, 127.515 93.4189 Q 127.135 92.9547, 126.429 92.9547 Q 125.723 92.9547, 125.337 93.4124 Q 124.958 93.87, 124.958 94.7853 Q 124.958 95.7202, 125.337 96.1909 Q 125.723 96.6616, 126.429 96.6616 \" fill=\"#FF0000\"/>\n<path class=\"atom-7\" d=\"M 129.11 92.484 L 129.737 92.484 L 129.737 94.4519 L 132.104 94.4519 L 132.104 92.484 L 132.732 92.484 L 132.732 97.1128 L 132.104 97.1128 L 132.104 94.9749 L 129.737 94.9749 L 129.737 97.1128 L 129.11 97.1128 L 129.11 92.484 \" fill=\"#FF0000\"/>\n<path class=\"atom-9\" d=\"M 110.065 124.21 Q 110.065 123.098, 110.614 122.477 Q 111.163 121.856, 112.189 121.856 Q 113.216 121.856, 113.765 122.477 Q 114.314 123.098, 114.314 124.21 Q 114.314 125.334, 113.758 125.975 Q 113.203 126.609, 112.189 126.609 Q 111.169 126.609, 110.614 125.975 Q 110.065 125.341, 110.065 124.21 M 112.189 126.086 Q 112.895 126.086, 113.275 125.615 Q 113.66 125.138, 113.66 124.21 Q 113.66 123.301, 113.275 122.843 Q 112.895 122.379, 112.189 122.379 Q 111.483 122.379, 111.098 122.837 Q 110.718 123.294, 110.718 124.21 Q 110.718 125.144, 111.098 125.615 Q 111.483 126.086, 112.189 126.086 \" fill=\"#FF0000\"/>\n<path class=\"atom-9\" d=\"M 114.87 121.908 L 115.497 121.908 L 115.497 123.876 L 117.864 123.876 L 117.864 121.908 L 118.492 121.908 L 118.492 126.537 L 117.864 126.537 L 117.864 124.399 L 115.497 124.399 L 115.497 126.537 L 114.87 126.537 L 114.87 121.908 \" fill=\"#FF0000\"/>\n<path class=\"atom-11\" d=\"M 73.5136 124.288 L 74.1413 124.288 L 74.1413 126.256 L 76.5079 126.256 L 76.5079 124.288 L 77.1356 124.288 L 77.1356 128.917 L 76.5079 128.917 L 76.5079 126.779 L 74.1413 126.779 L 74.1413 128.917 L 73.5136 128.917 L 73.5136 124.288 \" fill=\"#FF0000\"/>\n<path class=\"atom-11\" d=\"M 77.4625 126.59 Q 77.4625 125.478, 78.0116 124.857 Q 78.5608 124.236, 79.5872 124.236 Q 80.6137 124.236, 81.1628 124.857 Q 81.712 125.478, 81.712 126.59 Q 81.712 127.714, 81.1563 128.355 Q 80.6006 128.989, 79.5872 128.989 Q 78.5673 128.989, 78.0116 128.355 Q 77.4625 127.721, 77.4625 126.59 M 79.5872 128.466 Q 80.2933 128.466, 80.6725 127.995 Q 81.0582 127.518, 81.0582 126.59 Q 81.0582 125.681, 80.6725 125.223 Q 80.2933 124.759, 79.5872 124.759 Q 78.8812 124.759, 78.4954 125.217 Q 78.1162 125.674, 78.1162 126.59 Q 78.1162 127.524, 78.4954 127.995 Q 78.8812 128.466, 79.5872 128.466 \" fill=\"#FF0000\"/>\n<path class=\"bond-0 atom-0 atom-1\" d=\"M 277.721,106.65 L 291.875,98.4774\" style=\"fill:none;fill-rule:evenodd;stroke:#000000;stroke-width:2.0px;stroke-linecap:butt;stroke-linejoin:miter;stroke-opacity:1\"/>\n<path class=\"bond-1 atom-1 atom-2\" d=\"M 293.51,98.4774 L 293.51,91.7157\" style=\"fill:none;fill-rule:evenodd;stroke:#000000;stroke-width:2.0px;stroke-linecap:butt;stroke-linejoin:miter;stroke-opacity:1\"/>\n<path class=\"bond-1 atom-1 atom-2\" d=\"M 293.51,91.7157 L 293.51,84.954\" style=\"fill:none;fill-rule:evenodd;stroke:#FF0000;stroke-width:2.0px;stroke-linecap:butt;stroke-linejoin:miter;stroke-opacity:1\"/>\n<path class=\"bond-1 atom-1 atom-2\" d=\"M 290.241,98.4774 L 290.241,91.7157\" style=\"fill:none;fill-rule:evenodd;stroke:#000000;stroke-width:2.0px;stroke-linecap:butt;stroke-linejoin:miter;stroke-opacity:1\"/>\n<path class=\"bond-1 atom-1 atom-2\" d=\"M 290.241,91.7157 L 290.241,84.954\" style=\"fill:none;fill-rule:evenodd;stroke:#FF0000;stroke-width:2.0px;stroke-linecap:butt;stroke-linejoin:miter;stroke-opacity:1\"/>\n<path class=\"bond-2 atom-1 atom-3\" d=\"M 291.875,98.4774 L 297.686,101.832\" style=\"fill:none;fill-rule:evenodd;stroke:#000000;stroke-width:2.0px;stroke-linecap:butt;stroke-linejoin:miter;stroke-opacity:1\"/>\n<path class=\"bond-2 atom-1 atom-3\" d=\"M 297.686,101.832 L 303.497,105.187\" style=\"fill:none;fill-rule:evenodd;stroke:#FF0000;stroke-width:2.0px;stroke-linecap:butt;stroke-linejoin:miter;stroke-opacity:1\"/>\n<path class=\"atom-2\" d=\"M 289.751 82.146 Q 289.751 81.0346, 290.3 80.4135 Q 290.849 79.7924, 291.875 79.7924 Q 292.902 79.7924, 293.451 80.4135 Q 294 81.0346, 294 82.146 Q 294 83.2705, 293.444 83.9112 Q 292.889 84.5454, 291.875 84.5454 Q 290.856 84.5454, 290.3 83.9112 Q 289.751 83.2771, 289.751 82.146 M 291.875 84.0224 Q 292.581 84.0224, 292.961 83.5517 Q 293.346 83.0744, 293.346 82.146 Q 293.346 81.2373, 292.961 80.7796 Q 292.581 80.3155, 291.875 80.3155 Q 291.169 80.3155, 290.784 80.7731 Q 290.404 81.2308, 290.404 82.146 Q 290.404 83.0809, 290.784 83.5517 Q 291.169 84.0224, 291.875 84.0224 \" fill=\"#FF0000\"/>\n<path class=\"atom-3\" d=\"M 303.905 106.663 Q 303.905 105.551, 304.454 104.93 Q 305.004 104.309, 306.03 104.309 Q 307.057 104.309, 307.606 104.93 Q 308.155 105.551, 308.155 106.663 Q 308.155 107.787, 307.599 108.428 Q 307.043 109.062, 306.03 109.062 Q 305.01 109.062, 304.454 108.428 Q 303.905 107.794, 303.905 106.663 M 306.03 108.539 Q 306.736 108.539, 307.115 108.068 Q 307.501 107.591, 307.501 106.663 Q 307.501 105.754, 307.115 105.296 Q 306.736 104.832, 306.03 104.832 Q 305.324 104.832, 304.938 105.29 Q 304.559 105.747, 304.559 106.663 Q 304.559 107.598, 304.938 108.068 Q 305.324 108.539, 306.03 108.539 \" fill=\"#FF0000\"/>\n<path class=\"atom-3\" d=\"M 308.371 105.065 L 309.954 105.065 L 309.954 105.41 L 308.371 105.41 L 308.371 105.065 \" fill=\"#FF0000\"/>\n<path class=\"bond-0 atom-0 atom-1\" d=\"M 17.5022,332.603 L 22.1328,329.52\" style=\"fill:none;fill-rule:evenodd;stroke:#FF0000;stroke-width:2.0px;stroke-linecap:butt;stroke-linejoin:miter;stroke-opacity:1\"/>\n<path class=\"bond-0 atom-0 atom-1\" d=\"M 22.1328,329.52 L 26.7635,326.437\" style=\"fill:none;fill-rule:evenodd;stroke:#FF7F00;stroke-width:2.0px;stroke-linecap:butt;stroke-linejoin:miter;stroke-opacity:1\"/>\n<path class=\"bond-0 atom-0 atom-1\" d=\"M 15.6906,329.882 L 20.3212,326.799\" style=\"fill:none;fill-rule:evenodd;stroke:#FF0000;stroke-width:2.0px;stroke-linecap:butt;stroke-linejoin:miter;stroke-opacity:1\"/>\n<path class=\"bond-0 atom-0 atom-1\" d=\"M 20.3212,326.799 L 24.9519,323.716\" style=\"fill:none;fill-rule:evenodd;stroke:#FF7F00;stroke-width:2.0px;stroke-linecap:butt;stroke-linejoin:miter;stroke-opacity:1\"/>\n<path class=\"bond-1 atom-1 atom-2\" d=\"M 29.5539,322.616 L 34.1749,319.539\" style=\"fill:none;fill-rule:evenodd;stroke:#FF7F00;stroke-width:2.0px;stroke-linecap:butt;stroke-linejoin:miter;stroke-opacity:1\"/>\n<path class=\"bond-1 atom-1 atom-2\" d=\"M 34.1749,319.539 L 38.7958,316.462\" style=\"fill:none;fill-rule:evenodd;stroke:#FF0000;stroke-width:2.0px;stroke-linecap:butt;stroke-linejoin:miter;stroke-opacity:1\"/>\n<path class=\"bond-2 atom-1 atom-3\" d=\"M 29.4807,326.595 L 32.2154,330.702\" style=\"fill:none;fill-rule:evenodd;stroke:#FF7F00;stroke-width:2.0px;stroke-linecap:butt;stroke-linejoin:miter;stroke-opacity:1\"/>\n<path class=\"bond-2 atom-1 atom-3\" d=\"M 32.2154,330.702 L 34.95,334.809\" style=\"fill:none;fill-rule:evenodd;stroke:#FF0000;stroke-width:2.0px;stroke-linecap:butt;stroke-linejoin:miter;stroke-opacity:1\"/>\n<path class=\"bond-3 atom-1 atom-4\" d=\"M 25.8548,321.149 L 23.1441,317.077\" style=\"fill:none;fill-rule:evenodd;stroke:#FF7F00;stroke-width:2.0px;stroke-linecap:butt;stroke-linejoin:miter;stroke-opacity:1\"/>\n<path class=\"bond-3 atom-1 atom-4\" d=\"M 23.1441,317.077 L 20.4334,313.006\" style=\"fill:none;fill-rule:evenodd;stroke:#FF0000;stroke-width:2.0px;stroke-linecap:butt;stroke-linejoin:miter;stroke-opacity:1\"/>\n<path class=\"bond-4 atom-4 atom-5\" d=\"M 19.971,307.518 L 22.2616,302.892\" style=\"fill:none;fill-rule:evenodd;stroke:#FF0000;stroke-width:2.0px;stroke-linecap:butt;stroke-linejoin:miter;stroke-opacity:1\"/>\n<path class=\"bond-4 atom-4 atom-5\" d=\"M 22.2616,302.892 L 24.5522,298.266\" style=\"fill:none;fill-rule:evenodd;stroke:#FF7F00;stroke-width:2.0px;stroke-linecap:butt;stroke-linejoin:miter;stroke-opacity:1\"/>\n<path class=\"bond-5 atom-5 atom-6\" d=\"M 24.7018,293.221 L 19.5618,290.676\" style=\"fill:none;fill-rule:evenodd;stroke:#FF7F00;stroke-width:2.0px;stroke-linecap:butt;stroke-linejoin:miter;stroke-opacity:1\"/>\n<path class=\"bond-5 atom-5 atom-6\" d=\"M 19.5618,290.676 L 14.4218,288.131\" style=\"fill:none;fill-rule:evenodd;stroke:#FF0000;stroke-width:2.0px;stroke-linecap:butt;stroke-linejoin:miter;stroke-opacity:1\"/>\n<path class=\"bond-5 atom-5 atom-6\" d=\"M 23.2512,296.151 L 18.1112,293.605\" style=\"fill:none;fill-rule:evenodd;stroke:#FF7F00;stroke-width:2.0px;stroke-linecap:butt;stroke-linejoin:miter;stroke-opacity:1\"/>\n<path class=\"bond-5 atom-5 atom-6\" d=\"M 18.1112,293.605 L 12.9711,291.06\" style=\"fill:none;fill-rule:evenodd;stroke:#FF0000;stroke-width:2.0px;stroke-linecap:butt;stroke-linejoin:miter;stroke-opacity:1\"/>\n<path class=\"bond-6 atom-5 atom-7\" d=\"M 27.7488,296.554 L 32.8888,299.099\" style=\"fill:none;fill-rule:evenodd;stroke:#FF7F00;stroke-width:2.0px;stroke-linecap:butt;stroke-linejoin:miter;stroke-opacity:1\"/>\n<path class=\"bond-6 atom-5 atom-7\" d=\"M 32.8888,299.099 L 38.0289,301.644\" style=\"fill:none;fill-rule:evenodd;stroke:#FF0000;stroke-width:2.0px;stroke-linecap:butt;stroke-linejoin:miter;stroke-opacity:1\"/>\n<path class=\"bond-7 atom-5 atom-8\" d=\"M 27.211,292.897 L 29.4837,288.307\" style=\"fill:none;fill-rule:evenodd;stroke:#FF7F00;stroke-width:2.0px;stroke-linecap:butt;stroke-linejoin:miter;stroke-opacity:1\"/>\n<path class=\"bond-7 atom-5 atom-8\" d=\"M 29.4837,288.307 L 31.7563,283.718\" style=\"fill:none;fill-rule:evenodd;stroke:#FF0000;stroke-width:2.0px;stroke-linecap:butt;stroke-linejoin:miter;stroke-opacity:1\"/>\n<path class=\"bond-8 atom-8 atom-9\" d=\"M 35.6491,280.811 L 41.6266,280.429\" style=\"fill:none;fill-rule:evenodd;stroke:#FF0000;stroke-width:2.0px;stroke-linecap:butt;stroke-linejoin:miter;stroke-opacity:1\"/>\n<path class=\"bond-8 atom-8 atom-9\" d=\"M 41.6266,280.429 L 47.6042,280.047\" style=\"fill:none;fill-rule:evenodd;stroke:#FF7F00;stroke-width:2.0px;stroke-linecap:butt;stroke-linejoin:miter;stroke-opacity:1\"/>\n<path class=\"bond-9 atom-9 atom-10\" d=\"M 47.9697,282.758 L 48.3182,288.211\" style=\"fill:none;fill-rule:evenodd;stroke:#FF7F00;stroke-width:2.0px;stroke-linecap:butt;stroke-linejoin:miter;stroke-opacity:1\"/>\n<path class=\"bond-9 atom-9 atom-10\" d=\"M 48.3182,288.211 L 48.6666,293.665\" style=\"fill:none;fill-rule:evenodd;stroke:#FF0000;stroke-width:2.0px;stroke-linecap:butt;stroke-linejoin:miter;stroke-opacity:1\"/>\n<path class=\"bond-9 atom-9 atom-10\" d=\"M 51.2319,282.549 L 51.5804,288.003\" style=\"fill:none;fill-rule:evenodd;stroke:#FF7F00;stroke-width:2.0px;stroke-linecap:butt;stroke-linejoin:miter;stroke-opacity:1\"/>\n<path class=\"bond-9 atom-9 atom-10\" d=\"M 51.5804,288.003 L 51.9288,293.457\" style=\"fill:none;fill-rule:evenodd;stroke:#FF0000;stroke-width:2.0px;stroke-linecap:butt;stroke-linejoin:miter;stroke-opacity:1\"/>\n<path class=\"bond-10 atom-9 atom-11\" d=\"M 49.2529,277.208 L 48.9067,271.79\" style=\"fill:none;fill-rule:evenodd;stroke:#FF7F00;stroke-width:2.0px;stroke-linecap:butt;stroke-linejoin:miter;stroke-opacity:1\"/>\n<path class=\"bond-10 atom-9 atom-11\" d=\"M 48.9067,271.79 L 48.5605,266.372\" style=\"fill:none;fill-rule:evenodd;stroke:#FF0000;stroke-width:2.0px;stroke-linecap:butt;stroke-linejoin:miter;stroke-opacity:1\"/>\n<path class=\"bond-11 atom-9 atom-12\" d=\"M 51.313,279.81 L 57.2824,279.429\" style=\"fill:none;fill-rule:evenodd;stroke:#FF7F00;stroke-width:2.0px;stroke-linecap:butt;stroke-linejoin:miter;stroke-opacity:1\"/>\n<path class=\"bond-11 atom-9 atom-12\" d=\"M 57.2824,279.429 L 63.2519,279.047\" style=\"fill:none;fill-rule:evenodd;stroke:#FF0000;stroke-width:2.0px;stroke-linecap:butt;stroke-linejoin:miter;stroke-opacity:1\"/>\n<path class=\"bond-12 atom-12 atom-13\" d=\"M 67.6163,281.71 L 71.2062,287.101\" style=\"fill:none;fill-rule:evenodd;stroke:#FF0000;stroke-width:2.0px;stroke-linecap:butt;stroke-linejoin:miter;stroke-opacity:1\"/>\n<path class=\"bond-12 atom-12 atom-13\" d=\"M 71.2062,287.101 L 74.7961,292.493\" style=\"fill:none;fill-rule:evenodd;stroke:#000000;stroke-width:2.0px;stroke-linecap:butt;stroke-linejoin:miter;stroke-opacity:1\"/>\n<path class=\"bond-13 atom-14 atom-13\" d=\"M 87.0034,291.304 L 87.0555,292.119\" style=\"fill:none;fill-rule:evenodd;stroke:#000000;stroke-width:1.0px;stroke-linecap:butt;stroke-linejoin:miter;stroke-opacity:1\"/>\n<path class=\"bond-13 atom-14 atom-13\" d=\"M 82.8996,291.157 L 83.0038,292.788\" style=\"fill:none;fill-rule:evenodd;stroke:#000000;stroke-width:1.0px;stroke-linecap:butt;stroke-linejoin:miter;stroke-opacity:1\"/>\n<path class=\"bond-13 atom-14 atom-13\" d=\"M 78.7958,291.009 L 78.9521,293.456\" style=\"fill:none;fill-rule:evenodd;stroke:#000000;stroke-width:1.0px;stroke-linecap:butt;stroke-linejoin:miter;stroke-opacity:1\"/>\n<path class=\"bond-13 atom-14 atom-13\" d=\"M 74.6919,290.862 L 74.9003,294.124\" style=\"fill:none;fill-rule:evenodd;stroke:#000000;stroke-width:1.0px;stroke-linecap:butt;stroke-linejoin:miter;stroke-opacity:1\"/>\n<path class=\"bond-14 atom-14 atom-15\" d=\"M 91.1073,291.451 L 95.1832,296.368\" style=\"fill:none;fill-rule:evenodd;stroke:#000000;stroke-width:2.0px;stroke-linecap:butt;stroke-linejoin:miter;stroke-opacity:1\"/>\n<path class=\"bond-14 atom-14 atom-15\" d=\"M 95.1832,296.368 L 99.2591,301.285\" style=\"fill:none;fill-rule:evenodd;stroke:#FF0000;stroke-width:2.0px;stroke-linecap:butt;stroke-linejoin:miter;stroke-opacity:1\"/>\n<path class=\"bond-32 atom-29 atom-14\" d=\"M 99.8516,277.643 L 91.1073,291.451\" style=\"fill:none;fill-rule:evenodd;stroke:#000000;stroke-width:2.0px;stroke-linecap:butt;stroke-linejoin:miter;stroke-opacity:1\"/>\n<path class=\"bond-15 atom-15 atom-16\" d=\"M 104.071,303.029 L 110.4,300.516\" style=\"fill:none;fill-rule:evenodd;stroke:#FF0000;stroke-width:2.0px;stroke-linecap:butt;stroke-linejoin:miter;stroke-opacity:1\"/>\n<path class=\"bond-15 atom-15 atom-16\" d=\"M 110.4,300.516 L 116.729,298.003\" style=\"fill:none;fill-rule:evenodd;stroke:#000000;stroke-width:2.0px;stroke-linecap:butt;stroke-linejoin:miter;stroke-opacity:1\"/>\n<path class=\"bond-16 atom-16 atom-17\" d=\"M 120.319,300.921 L 120.902,300.001\" style=\"fill:none;fill-rule:evenodd;stroke:#000000;stroke-width:1.0px;stroke-linecap:butt;stroke-linejoin:miter;stroke-opacity:1\"/>\n<path class=\"bond-16 atom-16 atom-17\" d=\"M 123.909,303.839 L 125.075,301.998\" style=\"fill:none;fill-rule:evenodd;stroke:#0000FF;stroke-width:1.0px;stroke-linecap:butt;stroke-linejoin:miter;stroke-opacity:1\"/>\n<path class=\"bond-16 atom-16 atom-17\" d=\"M 127.499,306.758 L 129.248,303.996\" style=\"fill:none;fill-rule:evenodd;stroke:#0000FF;stroke-width:1.0px;stroke-linecap:butt;stroke-linejoin:miter;stroke-opacity:1\"/>\n<path class=\"bond-26 atom-16 atom-27\" d=\"M 116.729,298.003 L 115.686,281.692\" style=\"fill:none;fill-rule:evenodd;stroke:#000000;stroke-width:2.0px;stroke-linecap:butt;stroke-linejoin:miter;stroke-opacity:1\"/>\n<path class=\"bond-17 atom-17 atom-18\" d=\"M 130.711,309.47 L 131.145,316.264\" style=\"fill:none;fill-rule:evenodd;stroke:#0000FF;stroke-width:2.0px;stroke-linecap:butt;stroke-linejoin:miter;stroke-opacity:1\"/>\n<path class=\"bond-17 atom-17 atom-18\" d=\"M 131.145,316.264 L 131.579,323.058\" style=\"fill:none;fill-rule:evenodd;stroke:#000000;stroke-width:2.0px;stroke-linecap:butt;stroke-linejoin:miter;stroke-opacity:1\"/>\n<path class=\"bond-31 atom-25 atom-17\" d=\"M 145.728,300.716 L 139.215,303.302\" style=\"fill:none;fill-rule:evenodd;stroke:#000000;stroke-width:2.0px;stroke-linecap:butt;stroke-linejoin:miter;stroke-opacity:1\"/>\n<path class=\"bond-31 atom-25 atom-17\" d=\"M 139.215,303.302 L 132.701,305.888\" style=\"fill:none;fill-rule:evenodd;stroke:#0000FF;stroke-width:2.0px;stroke-linecap:butt;stroke-linejoin:miter;stroke-opacity:1\"/>\n<path class=\"bond-18 atom-18 atom-19\" d=\"M 131.579,323.058 L 138.415,324.806\" style=\"fill:none;fill-rule:evenodd;stroke:#000000;stroke-width:2.0px;stroke-linecap:butt;stroke-linejoin:miter;stroke-opacity:1\"/>\n<path class=\"bond-18 atom-18 atom-19\" d=\"M 138.415,324.806 L 145.25,326.554\" style=\"fill:none;fill-rule:evenodd;stroke:#0000FF;stroke-width:2.0px;stroke-linecap:butt;stroke-linejoin:miter;stroke-opacity:1\"/>\n<path class=\"bond-18 atom-18 atom-19\" d=\"M 134.44,320.416 L 139.225,321.639\" style=\"fill:none;fill-rule:evenodd;stroke:#000000;stroke-width:2.0px;stroke-linecap:butt;stroke-linejoin:miter;stroke-opacity:1\"/>\n<path class=\"bond-18 atom-18 atom-19\" d=\"M 139.225,321.639 L 144.01,322.863\" style=\"fill:none;fill-rule:evenodd;stroke:#0000FF;stroke-width:2.0px;stroke-linecap:butt;stroke-linejoin:miter;stroke-opacity:1\"/>\n<path class=\"bond-19 atom-19 atom-20\" d=\"M 149.139,324.385 L 152.649,318.842\" style=\"fill:none;fill-rule:evenodd;stroke:#0000FF;stroke-width:2.0px;stroke-linecap:butt;stroke-linejoin:miter;stroke-opacity:1\"/>\n<path class=\"bond-19 atom-19 atom-20\" d=\"M 152.649,318.842 L 156.159,313.299\" style=\"fill:none;fill-rule:evenodd;stroke:#000000;stroke-width:2.0px;stroke-linecap:butt;stroke-linejoin:miter;stroke-opacity:1\"/>\n<path class=\"bond-20 atom-20 atom-21\" d=\"M 156.159,313.299 L 172.271,310.558\" style=\"fill:none;fill-rule:evenodd;stroke:#000000;stroke-width:2.0px;stroke-linecap:butt;stroke-linejoin:miter;stroke-opacity:1\"/>\n<path class=\"bond-20 atom-20 atom-21\" d=\"M 158.027,309.665 L 169.306,307.746\" style=\"fill:none;fill-rule:evenodd;stroke:#000000;stroke-width:2.0px;stroke-linecap:butt;stroke-linejoin:miter;stroke-opacity:1\"/>\n<path class=\"bond-30 atom-25 atom-20\" d=\"M 145.728,300.716 L 156.159,313.299\" style=\"fill:none;fill-rule:evenodd;stroke:#000000;stroke-width:2.0px;stroke-linecap:butt;stroke-linejoin:miter;stroke-opacity:1\"/>\n<path class=\"bond-21 atom-21 atom-22\" d=\"M 172.271,310.558 L 174.608,304.257\" style=\"fill:none;fill-rule:evenodd;stroke:#000000;stroke-width:2.0px;stroke-linecap:butt;stroke-linejoin:miter;stroke-opacity:1\"/>\n<path class=\"bond-21 atom-21 atom-22\" d=\"M 174.608,304.257 L 176.944,297.956\" style=\"fill:none;fill-rule:evenodd;stroke:#0000FF;stroke-width:2.0px;stroke-linecap:butt;stroke-linejoin:miter;stroke-opacity:1\"/>\n<path class=\"bond-25 atom-21 atom-26\" d=\"M 172.271,310.558 L 176.405,315.544\" style=\"fill:none;fill-rule:evenodd;stroke:#000000;stroke-width:2.0px;stroke-linecap:butt;stroke-linejoin:miter;stroke-opacity:1\"/>\n<path class=\"bond-25 atom-21 atom-26\" d=\"M 176.405,315.544 L 180.538,320.53\" style=\"fill:none;fill-rule:evenodd;stroke:#0000FF;stroke-width:2.0px;stroke-linecap:butt;stroke-linejoin:miter;stroke-opacity:1\"/>\n<path class=\"bond-22 atom-22 atom-23\" d=\"M 175.79,292.622 L 171.656,287.636\" style=\"fill:none;fill-rule:evenodd;stroke:#0000FF;stroke-width:2.0px;stroke-linecap:butt;stroke-linejoin:miter;stroke-opacity:1\"/>\n<path class=\"bond-22 atom-22 atom-23\" d=\"M 171.656,287.636 L 167.523,282.649\" style=\"fill:none;fill-rule:evenodd;stroke:#000000;stroke-width:2.0px;stroke-linecap:butt;stroke-linejoin:miter;stroke-opacity:1\"/>\n<path class=\"bond-22 atom-22 atom-23\" d=\"M 172.033,293.212 L 169.14,289.722\" style=\"fill:none;fill-rule:evenodd;stroke:#0000FF;stroke-width:2.0px;stroke-linecap:butt;stroke-linejoin:miter;stroke-opacity:1\"/>\n<path class=\"bond-22 atom-22 atom-23\" d=\"M 169.14,289.722 L 166.246,286.231\" style=\"fill:none;fill-rule:evenodd;stroke:#000000;stroke-width:2.0px;stroke-linecap:butt;stroke-linejoin:miter;stroke-opacity:1\"/>\n<path class=\"bond-23 atom-23 atom-24\" d=\"M 167.523,282.649 L 160.549,283.836\" style=\"fill:none;fill-rule:evenodd;stroke:#000000;stroke-width:2.0px;stroke-linecap:butt;stroke-linejoin:miter;stroke-opacity:1\"/>\n<path class=\"bond-23 atom-23 atom-24\" d=\"M 160.549,283.836 L 153.574,285.023\" style=\"fill:none;fill-rule:evenodd;stroke:#0000FF;stroke-width:2.0px;stroke-linecap:butt;stroke-linejoin:miter;stroke-opacity:1\"/>\n<path class=\"bond-24 atom-24 atom-25\" d=\"M 150.401,288.114 L 148.064,294.415\" style=\"fill:none;fill-rule:evenodd;stroke:#0000FF;stroke-width:2.0px;stroke-linecap:butt;stroke-linejoin:miter;stroke-opacity:1\"/>\n<path class=\"bond-24 atom-24 atom-25\" d=\"M 148.064,294.415 L 145.728,300.716\" style=\"fill:none;fill-rule:evenodd;stroke:#000000;stroke-width:2.0px;stroke-linecap:butt;stroke-linejoin:miter;stroke-opacity:1\"/>\n<path class=\"bond-24 atom-24 atom-25\" d=\"M 152.765,291.14 L 151.129,295.551\" style=\"fill:none;fill-rule:evenodd;stroke:#0000FF;stroke-width:2.0px;stroke-linecap:butt;stroke-linejoin:miter;stroke-opacity:1\"/>\n<path class=\"bond-24 atom-24 atom-25\" d=\"M 151.129,295.551 L 149.494,299.962\" style=\"fill:none;fill-rule:evenodd;stroke:#000000;stroke-width:2.0px;stroke-linecap:butt;stroke-linejoin:miter;stroke-opacity:1\"/>\n<path class=\"bond-27 atom-27 atom-28\" d=\"M 115.686,281.692 L 121.233,278.156 L 120.19,276.897 Z\" style=\"fill:#000000;fill-rule:evenodd;fill-opacity:1;stroke:#000000;stroke-width:2.0px;stroke-linecap:butt;stroke-linejoin:miter;stroke-opacity:1;\"/>\n<path class=\"bond-27 atom-27 atom-28\" d=\"M 121.233,278.156 L 124.693,272.103 L 126.78,274.619 Z\" style=\"fill:#FF0000;fill-rule:evenodd;fill-opacity:1;stroke:#FF0000;stroke-width:2.0px;stroke-linecap:butt;stroke-linejoin:miter;stroke-opacity:1;\"/>\n<path class=\"bond-27 atom-27 atom-28\" d=\"M 121.233,278.156 L 120.19,276.897 L 124.693,272.103 Z\" style=\"fill:#FF0000;fill-rule:evenodd;fill-opacity:1;stroke:#FF0000;stroke-width:2.0px;stroke-linecap:butt;stroke-linejoin:miter;stroke-opacity:1;\"/>\n<path class=\"bond-28 atom-27 atom-29\" d=\"M 115.686,281.692 L 99.8516,277.643\" style=\"fill:none;fill-rule:evenodd;stroke:#000000;stroke-width:2.0px;stroke-linecap:butt;stroke-linejoin:miter;stroke-opacity:1\"/>\n<path class=\"bond-29 atom-29 atom-30\" d=\"M 99.8516,277.643 L 98.1554,271.156 L 96.6363,271.759 Z\" style=\"fill:#000000;fill-rule:evenodd;fill-opacity:1;stroke:#000000;stroke-width:2.0px;stroke-linecap:butt;stroke-linejoin:miter;stroke-opacity:1;\"/>\n<path class=\"bond-29 atom-29 atom-30\" d=\"M 98.1554,271.156 L 93.421,265.876 L 96.4592,264.67 Z\" style=\"fill:#FF0000;fill-rule:evenodd;fill-opacity:1;stroke:#FF0000;stroke-width:2.0px;stroke-linecap:butt;stroke-linejoin:miter;stroke-opacity:1;\"/>\n<path class=\"bond-29 atom-29 atom-30\" d=\"M 98.1554,271.156 L 96.6363,271.759 L 93.421,265.876 Z\" style=\"fill:#FF0000;fill-rule:evenodd;fill-opacity:1;stroke:#FF0000;stroke-width:2.0px;stroke-linecap:butt;stroke-linejoin:miter;stroke-opacity:1;\"/>\n<path class=\"atom-0\" d=\"M 11.9382 332.943 Q 11.9382 331.831, 12.4874 331.21 Q 13.0365 330.589, 14.063 330.589 Q 15.0894 330.589, 15.6386 331.21 Q 16.1878 331.831, 16.1878 332.943 Q 16.1878 334.067, 15.632 334.708 Q 15.0763 335.342, 14.063 335.342 Q 13.0431 335.342, 12.4874 334.708 Q 11.9382 334.074, 11.9382 332.943 M 14.063 334.819 Q 14.7691 334.819, 15.1482 334.348 Q 15.534 333.871, 15.534 332.943 Q 15.534 332.034, 15.1482 331.576 Q 14.7691 331.112, 14.063 331.112 Q 13.3569 331.112, 12.9712 331.57 Q 12.592 332.027, 12.592 332.943 Q 12.592 333.878, 12.9712 334.348 Q 13.3569 334.819, 14.063 334.819 \" fill=\"#FF0000\"/>\n<path class=\"atom-1\" d=\"M 27.5566 321.557 Q 28.3477 321.557, 28.7465 321.917 Q 29.1453 322.27, 29.1453 322.917 Q 29.1453 323.558, 28.7334 323.924 Q 28.3281 324.283, 27.5566 324.283 L 26.8179 324.283 L 26.8179 326.186 L 26.1902 326.186 L 26.1902 321.557 L 27.5566 321.557 M 27.5566 323.76 Q 28.0077 323.76, 28.2496 323.545 Q 28.4915 323.329, 28.4915 322.917 Q 28.4915 322.505, 28.2496 322.296 Q 28.0143 322.08, 27.5566 322.08 L 26.8179 322.08 L 26.8179 323.76 L 27.5566 323.76 \" fill=\"#FF7F00\"/>\n<path class=\"atom-2\" d=\"M 39.1478 314.827 Q 39.1478 313.715, 39.6969 313.094 Q 40.2461 312.473, 41.2726 312.473 Q 42.299 312.473, 42.8482 313.094 Q 43.3973 313.715, 43.3973 314.827 Q 43.3973 315.951, 42.8416 316.592 Q 42.2859 317.226, 41.2726 317.226 Q 40.2527 317.226, 39.6969 316.592 Q 39.1478 315.958, 39.1478 314.827 M 41.2726 316.703 Q 41.9786 316.703, 42.3578 316.232 Q 42.7435 315.755, 42.7435 314.827 Q 42.7435 313.918, 42.3578 313.46 Q 41.9786 312.996, 41.2726 312.996 Q 40.5665 312.996, 40.1807 313.454 Q 39.8016 313.911, 39.8016 314.827 Q 39.8016 315.761, 40.1807 316.232 Q 40.5665 316.703, 41.2726 316.703 \" fill=\"#FF0000\"/>\n<path class=\"atom-2\" d=\"M 43.953 312.525 L 44.5807 312.525 L 44.5807 314.493 L 46.9473 314.493 L 46.9473 312.525 L 47.575 312.525 L 47.575 317.154 L 46.9473 317.154 L 46.9473 315.016 L 44.5807 315.016 L 44.5807 317.154 L 43.953 317.154 L 43.953 312.525 \" fill=\"#FF0000\"/>\n<path class=\"atom-3\" d=\"M 34.6011 337.489 Q 34.6011 336.378, 35.1503 335.757 Q 35.6995 335.136, 36.7259 335.136 Q 37.7523 335.136, 38.3015 335.757 Q 38.8507 336.378, 38.8507 337.489 Q 38.8507 338.614, 38.295 339.255 Q 37.7393 339.889, 36.7259 339.889 Q 35.706 339.889, 35.1503 339.255 Q 34.6011 338.62, 34.6011 337.489 M 36.7259 339.366 Q 37.432 339.366, 37.8112 338.895 Q 38.1969 338.418, 38.1969 337.489 Q 38.1969 336.581, 37.8112 336.123 Q 37.432 335.659, 36.7259 335.659 Q 36.0198 335.659, 35.6341 336.117 Q 35.2549 336.574, 35.2549 337.489 Q 35.2549 338.424, 35.6341 338.895 Q 36.0198 339.366, 36.7259 339.366 \" fill=\"#FF0000\"/>\n<path class=\"atom-3\" d=\"M 39.4064 335.188 L 40.034 335.188 L 40.034 337.156 L 42.4007 337.156 L 42.4007 335.188 L 43.0283 335.188 L 43.0283 339.817 L 42.4007 339.817 L 42.4007 337.679 L 40.034 337.679 L 40.034 339.817 L 39.4064 339.817 L 39.4064 335.188 \" fill=\"#FF0000\"/>\n<path class=\"atom-4\" d=\"M 16.4849 310.28 Q 16.4849 309.168, 17.034 308.547 Q 17.5832 307.926, 18.6096 307.926 Q 19.6361 307.926, 20.1852 308.547 Q 20.7344 309.168, 20.7344 310.28 Q 20.7344 311.404, 20.1787 312.045 Q 19.623 312.679, 18.6096 312.679 Q 17.5897 312.679, 17.034 312.045 Q 16.4849 311.411, 16.4849 310.28 M 18.6096 312.156 Q 19.3157 312.156, 19.6949 311.685 Q 20.0806 311.208, 20.0806 310.28 Q 20.0806 309.371, 19.6949 308.913 Q 19.3157 308.449, 18.6096 308.449 Q 17.9036 308.449, 17.5178 308.907 Q 17.1386 309.365, 17.1386 310.28 Q 17.1386 311.215, 17.5178 311.685 Q 17.9036 312.156, 18.6096 312.156 \" fill=\"#FF0000\"/>\n<path class=\"atom-5\" d=\"M 25.7515 293.305 Q 26.5426 293.305, 26.9414 293.665 Q 27.3402 294.018, 27.3402 294.665 Q 27.3402 295.306, 26.9283 295.672 Q 26.523 296.032, 25.7515 296.032 L 25.0127 296.032 L 25.0127 297.934 L 24.3851 297.934 L 24.3851 293.305 L 25.7515 293.305 M 25.7515 295.509 Q 26.2026 295.509, 26.4445 295.293 Q 26.6864 295.077, 26.6864 294.665 Q 26.6864 294.253, 26.4445 294.044 Q 26.2092 293.828, 25.7515 293.828 L 25.0127 293.828 L 25.0127 295.509 L 25.7515 295.509 \" fill=\"#FF7F00\"/>\n<path class=\"atom-6\" d=\"M 9.09091 288.38 Q 9.09091 287.268, 9.64008 286.647 Q 10.1893 286.026, 11.2157 286.026 Q 12.2421 286.026, 12.7913 286.647 Q 13.3405 287.268, 13.3405 288.38 Q 13.3405 289.504, 12.7847 290.145 Q 12.229 290.779, 11.2157 290.779 Q 10.1958 290.779, 9.64008 290.145 Q 9.09091 289.511, 9.09091 288.38 M 11.2157 290.256 Q 11.9218 290.256, 12.301 289.785 Q 12.6867 289.308, 12.6867 288.38 Q 12.6867 287.471, 12.301 287.013 Q 11.9218 286.549, 11.2157 286.549 Q 10.5096 286.549, 10.1239 287.007 Q 9.74469 287.465, 9.74469 288.38 Q 9.74469 289.315, 10.1239 289.785 Q 10.5096 290.256, 11.2157 290.256 \" fill=\"#FF0000\"/>\n<path class=\"atom-7\" d=\"M 38.3848 302.886 Q 38.3848 301.774, 38.934 301.153 Q 39.4832 300.532, 40.5096 300.532 Q 41.5361 300.532, 42.0852 301.153 Q 42.6344 301.774, 42.6344 302.886 Q 42.6344 304.01, 42.0787 304.651 Q 41.523 305.285, 40.5096 305.285 Q 39.4897 305.285, 38.934 304.651 Q 38.3848 304.017, 38.3848 302.886 M 40.5096 304.762 Q 41.2157 304.762, 41.5949 304.292 Q 41.9806 303.814, 41.9806 302.886 Q 41.9806 301.977, 41.5949 301.52 Q 41.2157 301.055, 40.5096 301.055 Q 39.8035 301.055, 39.4178 301.513 Q 39.0386 301.971, 39.0386 302.886 Q 39.0386 303.821, 39.4178 304.292 Q 39.8035 304.762, 40.5096 304.762 \" fill=\"#FF0000\"/>\n<path class=\"atom-7\" d=\"M 43.1901 300.585 L 43.8177 300.585 L 43.8177 302.552 L 46.1844 302.552 L 46.1844 300.585 L 46.812 300.585 L 46.812 305.213 L 46.1844 305.213 L 46.1844 303.076 L 43.8177 303.076 L 43.8177 305.213 L 43.1901 305.213 L 43.1901 300.585 \" fill=\"#FF0000\"/>\n<path class=\"atom-8\" d=\"M 30.9909 280.986 Q 30.9909 279.875, 31.5401 279.253 Q 32.0892 278.632, 33.1157 278.632 Q 34.1421 278.632, 34.6913 279.253 Q 35.2404 279.875, 35.2404 280.986 Q 35.2404 282.11, 34.6847 282.751 Q 34.129 283.385, 33.1157 283.385 Q 32.0958 283.385, 31.5401 282.751 Q 30.9909 282.117, 30.9909 280.986 M 33.1157 282.862 Q 33.8218 282.862, 34.2009 282.392 Q 34.5867 281.914, 34.5867 280.986 Q 34.5867 280.077, 34.2009 279.62 Q 33.8218 279.155, 33.1157 279.155 Q 32.4096 279.155, 32.0239 279.613 Q 31.6447 280.071, 31.6447 280.986 Q 31.6447 281.921, 32.0239 282.392 Q 32.4096 282.862, 33.1157 282.862 \" fill=\"#FF0000\"/>\n<path class=\"atom-9\" d=\"M 49.3157 277.616 Q 50.1068 277.616, 50.5056 277.976 Q 50.9044 278.329, 50.9044 278.976 Q 50.9044 279.617, 50.4925 279.983 Q 50.0871 280.343, 49.3157 280.343 L 48.5769 280.343 L 48.5769 282.245 L 47.9493 282.245 L 47.9493 277.616 L 49.3157 277.616 M 49.3157 279.82 Q 49.7668 279.82, 50.0087 279.604 Q 50.2506 279.388, 50.2506 278.976 Q 50.2506 278.564, 50.0087 278.355 Q 49.7733 278.139, 49.3157 278.139 L 48.5769 278.139 L 48.5769 279.82 L 49.3157 279.82 \" fill=\"#FF7F00\"/>\n<path class=\"atom-10\" d=\"M 48.3442 296.255 Q 48.3442 295.143, 48.8934 294.522 Q 49.4426 293.901, 50.469 293.901 Q 51.4954 293.901, 52.0446 294.522 Q 52.5938 295.143, 52.5938 296.255 Q 52.5938 297.379, 52.0381 298.02 Q 51.4824 298.654, 50.469 298.654 Q 49.4491 298.654, 48.8934 298.02 Q 48.3442 297.386, 48.3442 296.255 M 50.469 298.131 Q 51.1751 298.131, 51.5543 297.661 Q 51.94 297.183, 51.94 296.255 Q 51.94 295.346, 51.5543 294.889 Q 51.1751 294.424, 50.469 294.424 Q 49.7629 294.424, 49.3772 294.882 Q 48.998 295.34, 48.998 296.255 Q 48.998 297.19, 49.3772 297.661 Q 49.7629 298.131, 50.469 298.131 \" fill=\"#FF0000\"/>\n<path class=\"atom-11\" d=\"M 46.2599 263.633 Q 46.2599 262.521, 46.809 261.9 Q 47.3582 261.279, 48.3846 261.279 Q 49.4111 261.279, 49.9603 261.9 Q 50.5094 262.521, 50.5094 263.633 Q 50.5094 264.757, 49.9537 265.398 Q 49.398 266.032, 48.3846 266.032 Q 47.3648 266.032, 46.809 265.398 Q 46.2599 264.764, 46.2599 263.633 M 48.3846 265.509 Q 49.0907 265.509, 49.4699 265.038 Q 49.8556 264.561, 49.8556 263.633 Q 49.8556 262.724, 49.4699 262.266 Q 49.0907 261.802, 48.3846 261.802 Q 47.6786 261.802, 47.2928 262.26 Q 46.9137 262.717, 46.9137 263.633 Q 46.9137 264.567, 47.2928 265.038 Q 47.6786 265.509, 48.3846 265.509 \" fill=\"#FF0000\"/>\n<path class=\"atom-11\" d=\"M 51.0651 261.331 L 51.6928 261.331 L 51.6928 263.299 L 54.0594 263.299 L 54.0594 261.331 L 54.6871 261.331 L 54.6871 265.96 L 54.0594 265.96 L 54.0594 263.822 L 51.6928 263.822 L 51.6928 265.96 L 51.0651 265.96 L 51.0651 261.331 \" fill=\"#FF0000\"/>\n<path class=\"atom-12\" d=\"M 63.6132 278.902 Q 63.6132 277.79, 64.1624 277.169 Q 64.7116 276.548, 65.738 276.548 Q 66.7644 276.548, 67.3136 277.169 Q 67.8628 277.79, 67.8628 278.902 Q 67.8628 280.026, 67.3071 280.667 Q 66.7513 281.301, 65.738 281.301 Q 64.7181 281.301, 64.1624 280.667 Q 63.6132 280.033, 63.6132 278.902 M 65.738 280.778 Q 66.4441 280.778, 66.8233 280.307 Q 67.209 279.83, 67.209 278.902 Q 67.209 277.993, 66.8233 277.535 Q 66.4441 277.071, 65.738 277.071 Q 65.0319 277.071, 64.6462 277.529 Q 64.267 277.986, 64.267 278.902 Q 64.267 279.836, 64.6462 280.307 Q 65.0319 280.778, 65.738 280.778 \" fill=\"#FF0000\"/>\n<path class=\"atom-15\" d=\"M 99.4131 304.048 Q 99.4131 302.936, 99.9623 302.315 Q 100.511 301.694, 101.538 301.694 Q 102.564 301.694, 103.113 302.315 Q 103.663 302.936, 103.663 304.048 Q 103.663 305.172, 103.107 305.813 Q 102.551 306.447, 101.538 306.447 Q 100.518 306.447, 99.9623 305.813 Q 99.4131 305.179, 99.4131 304.048 M 101.538 305.924 Q 102.244 305.924, 102.623 305.453 Q 103.009 304.976, 103.009 304.048 Q 103.009 303.139, 102.623 302.681 Q 102.244 302.217, 101.538 302.217 Q 100.832 302.217, 100.446 302.675 Q 100.067 303.132, 100.067 304.048 Q 100.067 304.982, 100.446 305.453 Q 100.832 305.924, 101.538 305.924 \" fill=\"#FF0000\"/>\n<path class=\"atom-17\" d=\"M 129.514 304.433 L 131.031 306.885 Q 131.181 307.126, 131.423 307.564 Q 131.665 308.002, 131.678 308.029 L 131.678 304.433 L 132.293 304.433 L 132.293 309.062 L 131.658 309.062 L 130.031 306.381 Q 129.841 306.067, 129.638 305.708 Q 129.442 305.348, 129.383 305.237 L 129.383 309.062 L 128.782 309.062 L 128.782 304.433 L 129.514 304.433 \" fill=\"#0000FF\"/>\n<path class=\"atom-19\" d=\"M 146.391 324.793 L 147.908 327.245 Q 148.058 327.487, 148.3 327.925 Q 148.542 328.363, 148.555 328.389 L 148.555 324.793 L 149.17 324.793 L 149.17 329.422 L 148.536 329.422 L 146.908 326.742 Q 146.718 326.428, 146.515 326.068 Q 146.319 325.709, 146.26 325.597 L 146.26 329.422 L 145.659 329.422 L 145.659 324.793 L 146.391 324.793 \" fill=\"#0000FF\"/>\n<path class=\"atom-22\" d=\"M 176.931 292.918 L 178.447 295.37 Q 178.598 295.612, 178.84 296.05 Q 179.082 296.488, 179.095 296.514 L 179.095 292.918 L 179.709 292.918 L 179.709 297.547 L 179.075 297.547 L 177.447 294.867 Q 177.257 294.553, 177.055 294.193 Q 176.859 293.834, 176.8 293.722 L 176.8 297.547 L 176.198 297.547 L 176.198 292.918 L 176.931 292.918 \" fill=\"#0000FF\"/>\n<path class=\"atom-24\" d=\"M 150.387 283.076 L 151.904 285.528 Q 152.054 285.77, 152.296 286.208 Q 152.538 286.646, 152.551 286.672 L 152.551 283.076 L 153.166 283.076 L 153.166 287.705 L 152.532 287.705 L 150.904 285.025 Q 150.714 284.711, 150.511 284.351 Q 150.315 283.992, 150.256 283.881 L 150.256 287.705 L 149.655 287.705 L 149.655 283.076 L 150.387 283.076 \" fill=\"#0000FF\"/>\n<path class=\"atom-26\" d=\"M 181.679 320.827 L 183.196 323.278 Q 183.346 323.52, 183.588 323.958 Q 183.83 324.396, 183.843 324.422 L 183.843 320.827 L 184.457 320.827 L 184.457 325.455 L 183.823 325.455 L 182.195 322.775 Q 182.006 322.461, 181.803 322.102 Q 181.607 321.742, 181.548 321.631 L 181.548 325.455 L 180.947 325.455 L 180.947 320.827 L 181.679 320.827 \" fill=\"#0000FF\"/>\n<path class=\"atom-26\" d=\"M 185.013 320.827 L 185.641 320.827 L 185.641 322.795 L 188.007 322.795 L 188.007 320.827 L 188.635 320.827 L 188.635 325.455 L 188.007 325.455 L 188.007 323.318 L 185.641 323.318 L 185.641 325.455 L 185.013 325.455 L 185.013 320.827 \" fill=\"#0000FF\"/>\n<path class=\"atom-26\" d=\"M 188.86 325.293 Q 188.972 325.004, 189.239 324.844 Q 189.507 324.68, 189.878 324.68 Q 190.34 324.68, 190.598 324.931 Q 190.857 325.181, 190.857 325.625 Q 190.857 326.078, 190.521 326.501 Q 190.188 326.924, 189.498 327.425 L 190.909 327.425 L 190.909 327.77 L 188.851 327.77 L 188.851 327.481 Q 189.42 327.075, 189.757 326.773 Q 190.098 326.471, 190.262 326.199 Q 190.426 325.927, 190.426 325.647 Q 190.426 325.353, 190.279 325.189 Q 190.132 325.025, 189.878 325.025 Q 189.632 325.025, 189.468 325.125 Q 189.304 325.224, 189.187 325.444 L 188.86 325.293 \" fill=\"#0000FF\"/>\n<path class=\"atom-28\" d=\"M 126.145 271.274 Q 126.145 270.163, 126.694 269.542 Q 127.243 268.921, 128.27 268.921 Q 129.296 268.921, 129.846 269.542 Q 130.395 270.163, 130.395 271.274 Q 130.395 272.399, 129.839 273.039 Q 129.283 273.674, 128.27 273.674 Q 127.25 273.674, 126.694 273.039 Q 126.145 272.405, 126.145 271.274 M 128.27 273.151 Q 128.976 273.151, 129.355 272.68 Q 129.741 272.203, 129.741 271.274 Q 129.741 270.365, 129.355 269.908 Q 128.976 269.444, 128.27 269.444 Q 127.564 269.444, 127.178 269.901 Q 126.799 270.359, 126.799 271.274 Q 126.799 272.209, 127.178 272.68 Q 127.564 273.151, 128.27 273.151 \" fill=\"#FF0000\"/>\n<path class=\"atom-28\" d=\"M 130.95 268.973 L 131.578 268.973 L 131.578 270.941 L 133.945 270.941 L 133.945 268.973 L 134.572 268.973 L 134.572 273.602 L 133.945 273.602 L 133.945 271.464 L 131.578 271.464 L 131.578 273.602 L 130.95 273.602 L 130.95 268.973 \" fill=\"#FF0000\"/>\n<path class=\"atom-30\" d=\"M 87.7464 260.164 L 88.374 260.164 L 88.374 262.131 L 90.7407 262.131 L 90.7407 260.164 L 91.3683 260.164 L 91.3683 264.792 L 90.7407 264.792 L 90.7407 262.654 L 88.374 262.654 L 88.374 264.792 L 87.7464 264.792 L 87.7464 260.164 \" fill=\"#FF0000\"/>\n<path class=\"atom-30\" d=\"M 91.6952 262.465 Q 91.6952 261.353, 92.2444 260.732 Q 92.7936 260.111, 93.82 260.111 Q 94.8464 260.111, 95.3956 260.732 Q 95.9448 261.353, 95.9448 262.465 Q 95.9448 263.589, 95.3891 264.23 Q 94.8334 264.864, 93.82 264.864 Q 92.8001 264.864, 92.2444 264.23 Q 91.6952 263.596, 91.6952 262.465 M 93.82 264.341 Q 94.5261 264.341, 94.9053 263.87 Q 95.291 263.393, 95.291 262.465 Q 95.291 261.556, 94.9053 261.098 Q 94.5261 260.634, 93.82 260.634 Q 93.1139 260.634, 92.7282 261.092 Q 92.349 261.55, 92.349 262.465 Q 92.349 263.4, 92.7282 263.87 Q 93.1139 264.341, 93.82 264.341 \" fill=\"#FF0000\"/>\n<path class=\"atom-0\" d=\"M 284.188 296.163 L 284.816 296.163 L 284.816 298.131 L 287.182 298.131 L 287.182 296.163 L 287.81 296.163 L 287.81 300.792 L 287.182 300.792 L 287.182 298.654 L 284.816 298.654 L 284.816 300.792 L 284.188 300.792 L 284.188 296.163 \" fill=\"#CCCC00\"/>\n<path class=\"atom-0\" d=\"M 288.034 300.629 Q 288.147 300.34, 288.414 300.181 Q 288.682 300.017, 289.053 300.017 Q 289.514 300.017, 289.773 300.267 Q 290.032 300.517, 290.032 300.962 Q 290.032 301.415, 289.696 301.838 Q 289.363 302.26, 288.673 302.761 L 290.084 302.761 L 290.084 303.106 L 288.026 303.106 L 288.026 302.817 Q 288.595 302.411, 288.932 302.109 Q 289.273 301.807, 289.437 301.535 Q 289.601 301.264, 289.601 300.983 Q 289.601 300.69, 289.454 300.526 Q 289.307 300.362, 289.053 300.362 Q 288.807 300.362, 288.643 300.461 Q 288.479 300.56, 288.362 300.78 L 288.034 300.629 \" fill=\"#CCCC00\"/>\n<path class=\"atom-0\" d=\"M 290.568 300.073 Q 290.62 300.092, 290.836 300.184 Q 291.052 300.275, 291.287 300.334 Q 291.529 300.386, 291.764 300.386 Q 292.202 300.386, 292.457 300.177 Q 292.712 299.961, 292.712 299.589 Q 292.712 299.334, 292.581 299.177 Q 292.457 299.02, 292.261 298.935 Q 292.065 298.85, 291.738 298.752 Q 291.326 298.628, 291.078 298.51 Q 290.836 298.392, 290.659 298.144 Q 290.489 297.896, 290.489 297.477 Q 290.489 296.895, 290.882 296.536 Q 291.28 296.176, 292.065 296.176 Q 292.601 296.176, 293.209 296.431 L 293.059 296.934 Q 292.503 296.706, 292.085 296.706 Q 291.634 296.706, 291.385 296.895 Q 291.137 297.078, 291.143 297.399 Q 291.143 297.647, 291.267 297.797 Q 291.398 297.948, 291.581 298.033 Q 291.771 298.118, 292.085 298.216 Q 292.503 298.347, 292.751 298.477 Q 293 298.608, 293.176 298.876 Q 293.359 299.138, 293.359 299.589 Q 293.359 300.23, 292.928 300.576 Q 292.503 300.916, 291.79 300.916 Q 291.379 300.916, 291.065 300.824 Q 290.757 300.739, 290.391 300.589 L 290.568 300.073 \" fill=\"#CCCC00\"/>\n</svg>",
      "text/plain": [
       "<IPython.core.display.SVG object>"
      ]
     },
     "metadata": {},
     "execution_count": 85
    }
   ],
   "metadata": {}
  },
  {
   "cell_type": "markdown",
   "source": [
    "List of Metabolites in the central TCA cycle"
   ],
   "metadata": {}
  },
  {
   "cell_type": "code",
   "execution_count": 86,
   "source": [
    "TCA_smile_list = [\r\n",
    "\"OC(=O)CC(O)(C(=O)O)CC(=O)O\",\r\n",
    "\"C(C(=CC(=O)O)C(=O)O)C(=O)O\",\"C(C(C(C(=O)O)O)C(=O)O)C(=O)O\", \r\n",
    "\"O=C(O)C(=O)CCC(=O)O\",\r\n",
    "\"O=C(O)CCC(=O)SCCNC(=O)CCNC(=O)[C@H](O)C(C)(C)COP(=O)(O)OP(=O)(O)OC[C@H]3O[C@@H](n2cnc1c(ncnc12)N)[C@H](O)[C@@H]3OP(=O)(O)O\",\r\n",
    "\"C(CC(=O)O)C(=O)O\", \r\n",
    "\"C(=C/C(=O)O)\\C(=O)O\", \r\n",
    "\"O=C(O)CC(O)C(=O)O\", \r\n",
    "\"O=C(O)C(=O)CC(=O)O\"]"
   ],
   "outputs": [],
   "metadata": {}
  },
  {
   "cell_type": "code",
   "execution_count": 87,
   "source": [
    "TCA_draw = []\r\n",
    "for smiles in TCA_smile_list:\r\n",
    "    mol = Chem.MolFromSmiles(smiles)\r\n",
    "    TCA_draw.append(mol)\r\n"
   ],
   "outputs": [],
   "metadata": {}
  },
  {
   "cell_type": "code",
   "execution_count": 88,
   "source": [
    "imgTCA = Draw.MolsToGridImage(TCA_draw, molsPerRow = 3, useSVG = True)"
   ],
   "outputs": [],
   "metadata": {}
  },
  {
   "cell_type": "code",
   "execution_count": null,
   "source": [
    "imgTCA"
   ],
   "outputs": [],
   "metadata": {}
  },
  {
   "cell_type": "code",
   "execution_count": null,
   "source": [
    "#pattern = Chem.MolFromSmiles(\"S\")\r\n",
    "#pattern = Chem.MolFromSmiles(\"C(=O)O\")\r\n",
    "#pattern = Chem.MolFromSmiles(\"CC(N)C\")\r\n",
    "\r\n",
    "pattern = Chem.MolFromSmarts(\"[r5]\")\r\n",
    "\r\n",
    "for mol in TCA_draw:\r\n",
    "    print(mol.HasSubstructMatch(pattern))"
   ],
   "outputs": [],
   "metadata": {}
  },
  {
   "cell_type": "markdown",
   "source": [
    "FINGERPRINTING\r\n"
   ],
   "metadata": {}
  },
  {
   "cell_type": "code",
   "execution_count": 91,
   "source": [
    "glucose = mol_list[0]"
   ],
   "outputs": [],
   "metadata": {}
  },
  {
   "cell_type": "code",
   "execution_count": null,
   "source": [
    "glucose"
   ],
   "outputs": [],
   "metadata": {}
  },
  {
   "cell_type": "code",
   "execution_count": null,
   "source": [
    "bi = {}\r\n",
    "fp = AllChem.GetMorganFingerprintAsBitVect(glucose,2, nBits = 1024, bitInfo = bi)\r\n",
    "fp_arr = np.zeros((1,))\r\n",
    "DataStructs.ConvertToNumpyArray(fp, fp_arr)\r\n",
    "fp_arr\r\n"
   ],
   "outputs": [],
   "metadata": {}
  },
  {
   "cell_type": "code",
   "execution_count": null,
   "source": [
    "np.nonzero(fp_arr)"
   ],
   "outputs": [],
   "metadata": {}
  },
  {
   "cell_type": "code",
   "execution_count": null,
   "source": [
    "bi"
   ],
   "outputs": [],
   "metadata": {}
  },
  {
   "cell_type": "code",
   "execution_count": 104,
   "source": [
    "prints = [(glucose, x, bi) for x in fp.GetOnBits()]"
   ],
   "outputs": [],
   "metadata": {}
  },
  {
   "cell_type": "code",
   "execution_count": null,
   "source": [
    "prints"
   ],
   "outputs": [],
   "metadata": {}
  },
  {
   "cell_type": "code",
   "execution_count": 110,
   "source": [
    "print(rdBase.rdkitVersion)\r\n",
    "import time\r\n",
    "print(time.asctime())"
   ],
   "outputs": [
    {
     "output_type": "stream",
     "name": "stdout",
     "text": [
      "2021.03.5\n",
      "Tue Sep 21 15:32:08 2021\n"
     ]
    }
   ],
   "metadata": {}
  },
  {
   "cell_type": "code",
   "execution_count": null,
   "source": [
    "Chem.innchi"
   ],
   "outputs": [],
   "metadata": {}
  }
 ]
}