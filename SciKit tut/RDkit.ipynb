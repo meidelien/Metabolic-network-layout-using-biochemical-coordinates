{
 "metadata": {
  "language_info": {
   "name": "python",
   "version": "3.9.7",
   "mimetype": "text/x-python",
   "codemirror_mode": {
    "name": "ipython",
    "version": 3
   },
   "pygments_lexer": "ipython3",
   "nbconvert_exporter": "python",
   "file_extension": ".py"
  },
  "orig_nbformat": 2,
  "kernelspec": {
   "name": "python3",
   "display_name": "Python 3.9.7 64-bit ('my-rdkit-env': conda)"
  },
  "interpreter": {
   "hash": "8420ab189d00d083782919827e61e029726b7008cf5217a89172cbb7a6a52562"
  }
 },
 "nbformat": 4,
 "nbformat_minor": 2,
 "cells": [
  {
   "cell_type": "code",
   "execution_count": null,
   "source": [
    "print(\" Welcome to the chemical descriptor analysis script. Be careful not to break everything\")"
   ],
   "outputs": [],
   "metadata": {}
  },
  {
   "cell_type": "code",
   "execution_count": null,
   "source": [
    "val = (input(\"name: \"))\r\n",
    "print(f\" {val} hello my name is {val}\")"
   ],
   "outputs": [],
   "metadata": {}
  },
  {
   "cell_type": "code",
   "execution_count": null,
   "source": [
    "alder = (input(\"Alder: \"))\r\n",
    "print(f\"{val}'s age is {alder}\")"
   ],
   "outputs": [],
   "metadata": {}
  },
  {
   "cell_type": "code",
   "execution_count": null,
   "source": [
    "\r\n",
    "import rdkit as rdkit\r\n",
    "print(\"rdkit imported successfully\")"
   ],
   "outputs": [],
   "metadata": {}
  },
  {
   "cell_type": "code",
   "execution_count": null,
   "source": [
    "from rdkit import *\r\n",
    "from rdkit.Chem import Draw\r\n",
    "from rdkit.Chem.Draw import IPythonConsole\r\n",
    "from rdkit.Chem import Descriptors\r\n",
    "from rdkit.Chem import MolFromSmiles\r\n",
    "from rdkit.Chem import AllChem\r\n",
    "from rdkit import DataStructs\r\n",
    "from rdkit import rdBase\r\n",
    "import numpy as np\r\n",
    "\r\n"
   ],
   "outputs": [],
   "metadata": {}
  },
  {
   "cell_type": "code",
   "execution_count": 46,
   "source": [
    "molGlucIso = Chem.MolFromSmiles(\"OC[C@H]1OC(O)[C@H](O)[C@@H](O)[C@@H]1O\") #Glucose  Isomeric Smiles\r\n",
    "molGlucCan = Chem.MolFromSmiles(\"C(C1C(C(C(C(O1)O)O)O)O)O\") # Glucose canonical smiles\r\n",
    "\r\n",
    "\r\n",
    "molInchi = Chem.MolFromInchi(\"InChI=1S/C6H12O6/c7-1-2-3(8)4(9)5(10)6(11)12-2/h2-11H,1H2/t2-,3-,4+,5-,6?/m1/s1\") # Glucose Lets do Inchi\r\n",
    "\r\n"
   ],
   "outputs": [],
   "metadata": {}
  },
  {
   "cell_type": "markdown",
   "source": [
    "DRAWING MOLECULES"
   ],
   "metadata": {}
  },
  {
   "cell_type": "code",
   "execution_count": 61,
   "source": [
    "molGlucCan"
   ],
   "outputs": [
    {
     "output_type": "execute_result",
     "data": {
      "image/png": "[encoded data removed]",
      "text/plain": [
       "<rdkit.Chem.rdchem.Mol at 0x1701d1c3280>"
      ]
     },
     "metadata": {},
     "execution_count": 61
    }
   ],
   "metadata": {}
  },
  {
   "cell_type": "code",
   "execution_count": 55,
   "source": [
    "smiles = Chem.MolToSmiles(molInchi)"
   ],
   "outputs": [],
   "metadata": {}
  },
  {
   "cell_type": "code",
   "execution_count": 56,
   "source": [
    "smiles"
   ],
   "outputs": [
    {
     "output_type": "execute_result",
     "data": {
      "text/plain": [
       "'OC[C@H]1OC(O)[C@H](O)[C@@H](O)[C@@H]1O'"
      ]
     },
     "metadata": {},
     "execution_count": 56
    }
   ],
   "metadata": {}
  },
  {
   "cell_type": "markdown",
   "source": [
    "EXTRACTING CHEMICAL DESCRIPTORS\r\n"
   ],
   "metadata": {}
  },
  {
   "cell_type": "code",
   "execution_count": 50,
   "source": [
    "mw = Descriptors.MolWt(molInchi)\r\n",
    "\r\n",
    "mw2 = Descriptors.MolLogP(molInchi)"
   ],
   "outputs": [],
   "metadata": {}
  },
  {
   "cell_type": "code",
   "execution_count": 59,
   "source": [
    "print(f\"The molecular weight is:\" ({mw}) )\r\n",
    "\r\n",
    "print(mw2)\r\n"
   ],
   "outputs": [
    {
     "output_type": "stream",
     "name": "stderr",
     "text": [
      "<>:1: SyntaxWarning: 'str' object is not callable; perhaps you missed a comma?\n",
      "<>:1: SyntaxWarning: 'str' object is not callable; perhaps you missed a comma?\n",
      "C:\\Users\\meide\\AppData\\Local\\Temp/ipykernel_6684/902978222.py:1: SyntaxWarning: 'str' object is not callable; perhaps you missed a comma?\n",
      "  print(f\"The molecular weight is:\" ({mw}) )\n"
     ]
    },
    {
     "output_type": "error",
     "ename": "TypeError",
     "evalue": "'str' object is not callable",
     "traceback": [
      "\u001b[1;31m---------------------------------------------------------------------------\u001b[0m",
      "\u001b[1;31mTypeError\u001b[0m                                 Traceback (most recent call last)",
      "\u001b[1;32m~\\AppData\\Local\\Temp/ipykernel_6684/902978222.py\u001b[0m in \u001b[0;36m<module>\u001b[1;34m\u001b[0m\n\u001b[1;32m----> 1\u001b[1;33m \u001b[0mprint\u001b[0m\u001b[1;33m(\u001b[0m\u001b[1;34mf\"The molecular weight is:\"\u001b[0m \u001b[1;33m(\u001b[0m\u001b[1;33m{\u001b[0m\u001b[0mmw\u001b[0m\u001b[1;33m}\u001b[0m\u001b[1;33m)\u001b[0m \u001b[1;33m)\u001b[0m\u001b[1;33m\u001b[0m\u001b[1;33m\u001b[0m\u001b[0m\n\u001b[0m\u001b[0;32m      2\u001b[0m \u001b[1;33m\u001b[0m\u001b[0m\n\u001b[0;32m      3\u001b[0m \u001b[0mprint\u001b[0m\u001b[1;33m(\u001b[0m\u001b[0mmw2\u001b[0m\u001b[1;33m)\u001b[0m\u001b[1;33m\u001b[0m\u001b[1;33m\u001b[0m\u001b[0m\n",
      "\u001b[1;31mTypeError\u001b[0m: 'str' object is not callable"
     ]
    }
   ],
   "metadata": {}
  },
  {
   "cell_type": "code",
   "execution_count": 42,
   "source": [
    "smiles_list = ['OC[C@H]1OC(O)[C@H](O)[C@@H](O)[C@@H]1O', \"CC(=O)[O-]\",\"O=P(O)(O)OP(=O)(O)OP(=O)(O)OC[C@H]3O[C@@H](n2cnc1c(ncnc12)N)[C@H](O)[C@@H]3O\", \"S\"]\r\n"
   ],
   "outputs": [],
   "metadata": {}
  },
  {
   "cell_type": "code",
   "execution_count": 43,
   "source": [
    "smiles_list\r\n"
   ],
   "outputs": [
    {
     "output_type": "execute_result",
     "data": {
      "text/plain": [
       "['OC[C@H]1OC(O)[C@H](O)[C@@H](O)[C@@H]1O',\n",
       " 'CC(=O)[O-]',\n",
       " 'O=P(O)(O)OP(=O)(O)OP(=O)(O)OC[C@H]3O[C@@H](n2cnc1c(ncnc12)N)[C@H](O)[C@@H]3O',\n",
       " 'S']"
      ]
     },
     "metadata": {},
     "execution_count": 43
    }
   ],
   "metadata": {}
  },
  {
   "cell_type": "code",
   "execution_count": null,
   "source": [
    "mol_list = []\r\n",
    "for smiles in smiles_list:\r\n",
    "    mol = Chem.MolFromSmiles(smiles)\r\n",
    "    mol_list.append(mol)\r\n",
    "\r\n"
   ],
   "outputs": [],
   "metadata": {}
  },
  {
   "cell_type": "code",
   "execution_count": null,
   "source": [
    "img = Draw.MolsToGridImage(mol_list, molsPerRow = 2, useSVG = True)\r\n",
    "\r\n",
    "#Calls img\r\n",
    "img"
   ],
   "outputs": [],
   "metadata": {}
  },
  {
   "cell_type": "markdown",
   "source": [
    "List of Metabolites in the central TCA cycle"
   ],
   "metadata": {}
  },
  {
   "cell_type": "code",
   "execution_count": null,
   "source": [
    "TCA_smile_list = [\r\n",
    "\"OC(=O)CC(O)(C(=O)O)CC(=O)O\",\r\n",
    "\"C(C(=CC(=O)O)C(=O)O)C(=O)O\",\"C(C(C(C(=O)O)O)C(=O)O)C(=O)O\", \r\n",
    "\"O=C(O)C(=O)CCC(=O)O\",\r\n",
    "\"O=C(O)CCC(=O)SCCNC(=O)CCNC(=O)[C@H](O)C(C)(C)COP(=O)(O)OP(=O)(O)OC[C@H]3O[C@@H](n2cnc1c(ncnc12)N)[C@H](O)[C@@H]3OP(=O)(O)O\",\r\n",
    "\"C(CC(=O)O)C(=O)O\", \r\n",
    "\"C(=C/C(=O)O)\\C(=O)O\", \r\n",
    "\"O=C(O)CC(O)C(=O)O\", \r\n",
    "\"O=C(O)C(=O)CC(=O)O\"]"
   ],
   "outputs": [],
   "metadata": {}
  },
  {
   "cell_type": "code",
   "execution_count": null,
   "source": [
    "TCA_draw = []\r\n",
    "for smiles in TCA_smile_list:\r\n",
    "    mol = Chem.MolFromSmiles(smiles)\r\n",
    "    TCA_draw.append(mol)\r\n"
   ],
   "outputs": [],
   "metadata": {}
  },
  {
   "cell_type": "code",
   "execution_count": null,
   "source": [
    "imgTCA = Draw.MolsToGridImage(TCA_draw, molsPerRow = 3, useSVG = True)"
   ],
   "outputs": [],
   "metadata": {}
  },
  {
   "cell_type": "code",
   "execution_count": null,
   "source": [
    "imgTCA"
   ],
   "outputs": [],
   "metadata": {}
  },
  {
   "cell_type": "code",
   "execution_count": null,
   "source": [
    "#pattern = Chem.MolFromSmiles(\"S\")\r\n",
    "#pattern = Chem.MolFromSmiles(\"C(=O)O\")\r\n",
    "#pattern = Chem.MolFromSmiles(\"CC(N)C\")\r\n",
    "\r\n",
    "pattern = Chem.MolFromSmarts(\"[r5]\")\r\n",
    "\r\n",
    "for mol in TCA_draw:\r\n",
    "    print(mol.HasSubstructMatch(pattern))"
   ],
   "outputs": [],
   "metadata": {}
  },
  {
   "cell_type": "markdown",
   "source": [
    "FINGERPRINTING\r\n"
   ],
   "metadata": {}
  },
  {
   "cell_type": "code",
   "execution_count": null,
   "source": [
    "glucose = mol_list[0]"
   ],
   "outputs": [],
   "metadata": {}
  },
  {
   "cell_type": "code",
   "execution_count": null,
   "source": [
    "glucose"
   ],
   "outputs": [],
   "metadata": {}
  },
  {
   "cell_type": "code",
   "execution_count": null,
   "source": [
    "bi = {}\r\n",
    "fp = AllChem.GetMorganFingerprintAsBitVect(glucose,2, nBits = 1024, bitInfo = bi)\r\n",
    "fp_arr = np.zeros((1,))\r\n",
    "DataStructs.ConvertToNumpyArray(fp, fp_arr)\r\n",
    "fp_arr\r\n"
   ],
   "outputs": [],
   "metadata": {}
  },
  {
   "cell_type": "code",
   "execution_count": null,
   "source": [
    "np.nonzero(fp_arr)"
   ],
   "outputs": [],
   "metadata": {}
  },
  {
   "cell_type": "code",
   "execution_count": null,
   "source": [
    "bi"
   ],
   "outputs": [],
   "metadata": {}
  },
  {
   "cell_type": "code",
   "execution_count": null,
   "source": [
    "prints = [(glucose, x, bi) for x in fp.GetOnBits()]"
   ],
   "outputs": [],
   "metadata": {}
  },
  {
   "cell_type": "code",
   "execution_count": null,
   "source": [
    "prints"
   ],
   "outputs": [],
   "metadata": {}
  },
  {
   "cell_type": "code",
   "execution_count": null,
   "source": [
    "print(rdBase.rdkitVersion)\r\n",
    "import time\r\n",
    "print(time.asctime())"
   ],
   "outputs": [],
   "metadata": {}
  },
  {
   "cell_type": "code",
   "execution_count": null,
   "source": [
    "Chem.innchi"
   ],
   "outputs": [],
   "metadata": {}
  }
 ]
}