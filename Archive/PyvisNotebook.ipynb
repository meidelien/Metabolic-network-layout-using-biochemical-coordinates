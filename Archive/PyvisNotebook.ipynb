{
 "cells": [
  {
   "cell_type": "code",
   "execution_count": 11,
   "metadata": {},
   "outputs": [
    {
     "ename": "TypeError",
     "evalue": "get_data() takes 0 positional arguments but 1 was given",
     "output_type": "error",
     "traceback": [
      "\u001b[1;31m---------------------------------------------------------------------------\u001b[0m",
      "\u001b[1;31mTypeError\u001b[0m                                 Traceback (most recent call last)",
      "\u001b[1;32m~\\AppData\\Local\\Temp/ipykernel_12388/3465588194.py\u001b[0m in \u001b[0;36m<module>\u001b[1;34m\u001b[0m\n\u001b[0;32m     29\u001b[0m \u001b[1;31m# print(epp_data)\u001b[0m\u001b[1;33m\u001b[0m\u001b[1;33m\u001b[0m\u001b[0m\n\u001b[0;32m     30\u001b[0m \u001b[1;33m\u001b[0m\u001b[0m\n\u001b[1;32m---> 31\u001b[1;33m \u001b[0mget_data\u001b[0m\u001b[1;33m(\u001b[0m\u001b[0mfile\u001b[0m\u001b[1;33m)\u001b[0m\u001b[1;33m\u001b[0m\u001b[1;33m\u001b[0m\u001b[0m\n\u001b[0m\u001b[0;32m     32\u001b[0m \u001b[1;33m\u001b[0m\u001b[0m\n\u001b[0;32m     33\u001b[0m \u001b[0mmap_data\u001b[0m\u001b[1;33m(\u001b[0m\u001b[0mepp_data\u001b[0m\u001b[1;33m)\u001b[0m\u001b[1;33m\u001b[0m\u001b[1;33m\u001b[0m\u001b[0m\n",
      "\u001b[1;31mTypeError\u001b[0m: get_data() takes 0 positional arguments but 1 was given"
     ]
    }
   ],
   "source": [
    "from pyvis.network import Network\n",
    "import json\n",
    "\n",
    "file = \"alcuin_letters.json\" \n",
    "\n",
    "\n",
    "def get_data():\n",
    "    with open (file) as json_file:\n",
    "        data = json.load(json_file)\n",
    "        return (data[\"alcuin_letters\"])\n",
    "\n",
    "\n",
    "\n",
    "\n",
    "def map_data(letter_data):\n",
    "    g = Network(height = \"1500px\", width = \"75%\", bgcolor = \"#2222222\", font_color =\"white\")\n",
    "    for letter in letter_data:\n",
    "        ep = (letter[\"ep_num\"])[0]\n",
    "        ms = (letter[\"mss\"])\n",
    "        g.add_node(ep)\n",
    "        for ms in mss:\n",
    "            g.add_node(ms)\n",
    "            g.add_edge(ep, ms)\n",
    "    g.show(\"letters.html\")\n",
    "\n",
    "\n",
    "epp_data = get_data()\n",
    "\n",
    "# print(epp_data)\n",
    "\n",
    "get_data(file)\n",
    "\n",
    "map_data(epp_data)"
   ]
  }
 ],
 "metadata": {
  "interpreter": {
   "hash": "478201df5069d2e6391cf65b23ce884d49c57ebe4f05640c641415e63946d634"
  },
  "kernelspec": {
   "display_name": "Python 3.9.7 ('rdkit')",
   "language": "python",
   "name": "python3"
  },
  "language_info": {
   "codemirror_mode": {
    "name": "ipython",
    "version": 3
   },
   "file_extension": ".py",
   "mimetype": "text/x-python",
   "name": "python",
   "nbconvert_exporter": "python",
   "pygments_lexer": "ipython3",
   "version": "3.9.7"
  },
  "orig_nbformat": 4
 },
 "nbformat": 4,
 "nbformat_minor": 2
}
