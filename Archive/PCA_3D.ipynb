{
 "cells": [
  {
   "cell_type": "code",
   "execution_count": 1,
   "metadata": {},
   "outputs": [],
   "source": [
    "import pandas as pd\n",
    "import numpy as np\n",
    "from sklearn.preprocessing import StandardScaler\n",
    "from sklearn.decomposition import PCA\n",
    "import sys\n",
    "import os\n",
    "\n",
    "path = \"C:/Users/meide/Documents/GitHub/Master/data\"\n",
    "os.chdir(path)"
   ]
  },
  {
   "cell_type": "code",
   "execution_count": 46,
   "metadata": {},
   "outputs": [],
   "source": [
    "# df = pd.read_csv(\"Pruned_chem_desc1515_for_PCA.csv\")\n",
    "\n",
    "df = pd.read_csv(\"Chemical_descriptors1515.csv\")\n",
    "# df = pd.read_csv(\"chemical_properties_e_coli_core.csv\")\n",
    "\n",
    "# print(df.head)"
   ]
  },
  {
   "cell_type": "code",
   "execution_count": 47,
   "metadata": {},
   "outputs": [],
   "source": [
    "MNXM_list = df.pop(\"MNXM\")\n",
    "BiGG_list = df.pop(\"BiGG\")\n",
    "# target_list = df.pop(\"target\")\n",
    "Name_list = df.pop(\"Name\")\n",
    "SMILES_list = df.pop(\"SMILES\")\n",
    "formula_list = df.pop(\"formula\")\n",
    "InChI_list = df.pop(\"InChI\")\n",
    "InChIKey_list = df.pop(\"InChIKey\")\n",
    "description_list = df.pop(\"description\")"
   ]
  },
  {
   "cell_type": "code",
   "execution_count": 48,
   "metadata": {},
   "outputs": [],
   "source": [
    "reference_list = df.pop(\"reference\")"
   ]
  },
  {
   "cell_type": "code",
   "execution_count": 49,
   "metadata": {},
   "outputs": [],
   "source": [
    "features = df.columns.values.tolist()"
   ]
  },
  {
   "cell_type": "code",
   "execution_count": 50,
   "metadata": {},
   "outputs": [],
   "source": [
    "import numpy as np\n",
    "\n",
    "# df.replace(np.nan, 0) # fml\n",
    "\n",
    "df[\"BCUT2D_MWHI\"] = df[\"BCUT2D_MWHI\"].replace(np.nan, 0)\n",
    "\n",
    "df[\"BCUT2D_MWLOW\"] = df[\"BCUT2D_MWLOW\"].replace(np.nan, 0)\n",
    "\n",
    "df[\"BCUT2D_CHGHI\"] = df[\"BCUT2D_CHGHI\"].replace(np.nan, 0)\n",
    "\n",
    "df[\"BCUT2D_LOGPHI\"] = df[\"BCUT2D_LOGPHI\"].replace(np.nan, 0)\n",
    "\n",
    "df[\"BCUT2D_LOGPLOW\"] = df[\"BCUT2D_LOGPLOW\"].replace(np.nan, 0)\n",
    "\n",
    "df[\"BCUT2D_CHGLO\"] = df[\"BCUT2D_CHGLO\"].replace(np.nan, 0)\n",
    "\n",
    "df[\"BCUT2D_MRHI\"] = df[\"BCUT2D_MRHI\"].replace(np.nan, 0)\n",
    "\n",
    "df[\"BCUT2D_MRLOW\"] = df[\"BCUT2D_MRLOW\"].replace(np.nan, 0)\n",
    "\n",
    "df[\"MaxPartialCharge\"] = df[\"MaxPartialCharge\"].replace(np.nan, 0)\n",
    "\n",
    "df[\"MinPartialCharge\"] = df[\"MinPartialCharge\"].replace(np.nan, 0)\n",
    "\n",
    "df[\"MaxAbsPartialCharge\"] = df[\"MaxAbsPartialCharge\"].replace(np.nan, 0)\n",
    "\n",
    "df[\"MinAbsPartialCharge\"] = df[\"MinAbsPartialCharge\"].replace(np.nan, 0)"
   ]
  },
  {
   "cell_type": "code",
   "execution_count": 51,
   "metadata": {},
   "outputs": [],
   "source": [
    "x = df.loc[:, features].values\n",
    "\n",
    "# print(x)"
   ]
  },
  {
   "cell_type": "code",
   "execution_count": 52,
   "metadata": {},
   "outputs": [],
   "source": [
    "y  = df.loc[:, features].values\n",
    "\n",
    "# print(y)"
   ]
  },
  {
   "cell_type": "code",
   "execution_count": 53,
   "metadata": {},
   "outputs": [],
   "source": [
    "x = StandardScaler().fit_transform(x)"
   ]
  },
  {
   "cell_type": "code",
   "execution_count": 54,
   "metadata": {},
   "outputs": [],
   "source": [
    "pca = PCA(n_components = 5)\n",
    "\n",
    "principalComponents = pca.fit_transform(x)"
   ]
  },
  {
   "cell_type": "code",
   "execution_count": 55,
   "metadata": {},
   "outputs": [],
   "source": [
    "PCA_df = pd.DataFrame(data = principalComponents, \n",
    "columns =[\"PC1\",\"PC2\", \"PC3\", \"PC4\", \"PC5\"])\n",
    "\n",
    "\n",
    "# PCA_df.head(5)"
   ]
  },
  {
   "cell_type": "code",
   "execution_count": null,
   "metadata": {},
   "outputs": [],
   "source": [
    "PCA_df.insert(0, \"BiGG\", BiGG_list)\n",
    "PCA_df.insert(1, \"MNXM\", MNXM_list)\n",
    "\n",
    "# dfName = pd.read_csv(\"Calc.csv\")\n",
    "PCA_df.insert(2, \"Name\", dfName[\"Name\"])"
   ]
  },
  {
   "cell_type": "code",
   "execution_count": null,
   "metadata": {},
   "outputs": [],
   "source": [
    "PCA_df.head(5)"
   ]
  },
  {
   "cell_type": "code",
   "execution_count": null,
   "metadata": {},
   "outputs": [],
   "source": [
    "dfName = pd.read_csv(\"Calc.csv\")"
   ]
  },
  {
   "cell_type": "code",
   "execution_count": null,
   "metadata": {},
   "outputs": [],
   "source": [
    "PCA_df.insert(2, \"Name\", dfName[\"Name\"])"
   ]
  },
  {
   "cell_type": "code",
   "execution_count": 56,
   "metadata": {},
   "outputs": [
    {
     "name": "stdout",
     "output_type": "stream",
     "text": [
      "Explained variation per principal component: [63.52595472 12.8706755  10.34297054  9.44908328  7.3076311 ]\n"
     ]
    }
   ],
   "source": [
    "print(\"Explained variation per principal component: {}\".format(pca.explained_variance_))"
   ]
  },
  {
   "cell_type": "code",
   "execution_count": null,
   "metadata": {},
   "outputs": [],
   "source": [
    "ax  = PCA_df.plot.scatter(x = \"PC1\", y =\"PC3\")\n",
    "ax.set_ylim(-5, 15)"
   ]
  },
  {
   "cell_type": "code",
   "execution_count": null,
   "metadata": {},
   "outputs": [],
   "source": [
    "import numpy as np\n",
    "import matplotlib.pyplot as plt\n",
    "from matplotlib import cm\n",
    "from matplotlib.ticker import LinearLocator, FormatStrFormatter\n",
    "from mpl_toolkits.mplot3d import Axes3D\n",
    "import plotly\n",
    "fig = plt.figure(figsize=(14, 9))\n",
    "ax = plt.axes(projection=\"3d\")\n",
    "\n",
    "ax.plot_trisurf(PCA_df.PC1, PCA_df.PC2, \n",
    "    PCA_df.PC3, \n",
    "    PCA_df.PC4, \n",
    "    PCA_df.PC5,cmap=cm.jet, linewidth=0.2,antialiased = True)\n",
    "plt.show()"
   ]
  }
 ],
 "metadata": {
  "interpreter": {
   "hash": "478201df5069d2e6391cf65b23ce884d49c57ebe4f05640c641415e63946d634"
  },
  "kernelspec": {
   "display_name": "Python 3.9.7 ('rdkit')",
   "language": "python",
   "name": "python3"
  },
  "language_info": {
   "codemirror_mode": {
    "name": "ipython",
    "version": 3
   },
   "file_extension": ".py",
   "mimetype": "text/x-python",
   "name": "python",
   "nbconvert_exporter": "python",
   "pygments_lexer": "ipython3",
   "version": "3.9.7"
  },
  "orig_nbformat": 4
 },
 "nbformat": 4,
 "nbformat_minor": 2
}
